{
 "cells": [
  {
   "cell_type": "markdown",
   "metadata": {},
   "source": [
    "# Predicting Airfare Prices"
   ]
  },
  {
   "cell_type": "code",
   "execution_count": null,
   "metadata": {},
   "outputs": [],
   "source": []
  },
  {
   "cell_type": "code",
   "execution_count": 1,
   "metadata": {},
   "outputs": [],
   "source": [
    "# Import Needed Libraries \n",
    "import pandas as pd\n",
    "import numpy as np\n",
    "import folium\n",
    "import seaborn as sns\n",
    "import matplotlib.pyplot as plt\n",
    "from sklearn.model_selection import GridSearchCV\n",
    "from sklearn.model_selection import train_test_split\n",
    "from sklearn.utils import resample\n",
    "from sklearn import metrics\n",
    "from sklearn.preprocessing import StandardScaler\n",
    "from sklearn.model_selection import cross_val_score\n",
    "from sklearn.linear_model import LogisticRegression\n",
    "from sklearn.metrics.pairwise import euclidean_distances\n",
    "from scipy.spatial import distance\n",
    "from sklearn.ensemble import RandomForestRegressor\n",
    "from sklearn.ensemble import GradientBoostingRegressor\n",
    "from sklearn.metrics import r2_score\n",
    "\n"
   ]
  },
  {
   "cell_type": "code",
   "execution_count": 2,
   "metadata": {},
   "outputs": [],
   "source": [
    "#import data\n",
    "df1 = pd.read_csv('pek-sha.csv')\n",
    "df2 = pd.read_csv('sha-pek.csv')"
   ]
  },
  {
   "cell_type": "code",
   "execution_count": 3,
   "metadata": {},
   "outputs": [
    {
     "data": {
      "text/html": [
       "<div>\n",
       "<style scoped>\n",
       "    .dataframe tbody tr th:only-of-type {\n",
       "        vertical-align: middle;\n",
       "    }\n",
       "\n",
       "    .dataframe tbody tr th {\n",
       "        vertical-align: top;\n",
       "    }\n",
       "\n",
       "    .dataframe thead th {\n",
       "        text-align: right;\n",
       "    }\n",
       "</style>\n",
       "<table border=\"1\" class=\"dataframe\">\n",
       "  <thead>\n",
       "    <tr style=\"text-align: right;\">\n",
       "      <th></th>\n",
       "      <th>ID</th>\n",
       "      <th>flightNumber</th>\n",
       "      <th>craftTypeCode</th>\n",
       "      <th>depAirport</th>\n",
       "      <th>traAirport</th>\n",
       "      <th>arrAirport</th>\n",
       "      <th>departureDate</th>\n",
       "      <th>arrivalDate</th>\n",
       "      <th>cabinClass</th>\n",
       "      <th>priceClass</th>\n",
       "      <th>price</th>\n",
       "      <th>rate</th>\n",
       "      <th>createDate</th>\n",
       "      <th>dateDifference</th>\n",
       "    </tr>\n",
       "  </thead>\n",
       "  <tbody>\n",
       "    <tr>\n",
       "      <th>0</th>\n",
       "      <td>14393</td>\n",
       "      <td>HO1252</td>\n",
       "      <td>320</td>\n",
       "      <td>PEK</td>\n",
       "      <td>NaN</td>\n",
       "      <td>SHA</td>\n",
       "      <td>2019-01-04 06:35:00</td>\n",
       "      <td>2019-01-04 08:55:00</td>\n",
       "      <td>C</td>\n",
       "      <td>C</td>\n",
       "      <td>1860</td>\n",
       "      <td>1.00</td>\n",
       "      <td>2019-01-03 14:26:15</td>\n",
       "      <td>1</td>\n",
       "    </tr>\n",
       "    <tr>\n",
       "      <th>1</th>\n",
       "      <td>14409</td>\n",
       "      <td>MU5138</td>\n",
       "      <td>33L</td>\n",
       "      <td>PEK</td>\n",
       "      <td>NaN</td>\n",
       "      <td>SHA</td>\n",
       "      <td>2019-01-04 07:00:00</td>\n",
       "      <td>2019-01-04 09:15:00</td>\n",
       "      <td>C</td>\n",
       "      <td>I</td>\n",
       "      <td>1640</td>\n",
       "      <td>0.31</td>\n",
       "      <td>2019-01-03 14:26:15</td>\n",
       "      <td>1</td>\n",
       "    </tr>\n",
       "    <tr>\n",
       "      <th>2</th>\n",
       "      <td>14415</td>\n",
       "      <td>MU5138</td>\n",
       "      <td>33L</td>\n",
       "      <td>PEK</td>\n",
       "      <td>NaN</td>\n",
       "      <td>SHA</td>\n",
       "      <td>2019-01-04 07:00:00</td>\n",
       "      <td>2019-01-04 09:15:00</td>\n",
       "      <td>C</td>\n",
       "      <td>J</td>\n",
       "      <td>5360</td>\n",
       "      <td>1.00</td>\n",
       "      <td>2019-01-03 14:26:15</td>\n",
       "      <td>1</td>\n",
       "    </tr>\n",
       "    <tr>\n",
       "      <th>3</th>\n",
       "      <td>14429</td>\n",
       "      <td>HU7605</td>\n",
       "      <td>350</td>\n",
       "      <td>PEK</td>\n",
       "      <td>NaN</td>\n",
       "      <td>SHA</td>\n",
       "      <td>2019-01-04 07:20:00</td>\n",
       "      <td>2019-01-04 09:35:00</td>\n",
       "      <td>C</td>\n",
       "      <td>I</td>\n",
       "      <td>1635</td>\n",
       "      <td>0.29</td>\n",
       "      <td>2019-01-03 14:26:15</td>\n",
       "      <td>1</td>\n",
       "    </tr>\n",
       "    <tr>\n",
       "      <th>4</th>\n",
       "      <td>14431</td>\n",
       "      <td>HU7605</td>\n",
       "      <td>350</td>\n",
       "      <td>PEK</td>\n",
       "      <td>NaN</td>\n",
       "      <td>SHA</td>\n",
       "      <td>2019-01-04 07:20:00</td>\n",
       "      <td>2019-01-04 09:35:00</td>\n",
       "      <td>C</td>\n",
       "      <td>I</td>\n",
       "      <td>1640</td>\n",
       "      <td>0.29</td>\n",
       "      <td>2019-01-03 14:26:15</td>\n",
       "      <td>1</td>\n",
       "    </tr>\n",
       "  </tbody>\n",
       "</table>\n",
       "</div>"
      ],
      "text/plain": [
       "      ID flightNumber craftTypeCode depAirport traAirport arrAirport  \\\n",
       "0  14393       HO1252           320        PEK        NaN        SHA   \n",
       "1  14409       MU5138           33L        PEK        NaN        SHA   \n",
       "2  14415       MU5138           33L        PEK        NaN        SHA   \n",
       "3  14429       HU7605           350        PEK        NaN        SHA   \n",
       "4  14431       HU7605           350        PEK        NaN        SHA   \n",
       "\n",
       "         departureDate          arrivalDate cabinClass priceClass  price  \\\n",
       "0  2019-01-04 06:35:00  2019-01-04 08:55:00          C          C   1860   \n",
       "1  2019-01-04 07:00:00  2019-01-04 09:15:00          C          I   1640   \n",
       "2  2019-01-04 07:00:00  2019-01-04 09:15:00          C          J   5360   \n",
       "3  2019-01-04 07:20:00  2019-01-04 09:35:00          C          I   1635   \n",
       "4  2019-01-04 07:20:00  2019-01-04 09:35:00          C          I   1640   \n",
       "\n",
       "   rate           createDate  dateDifference  \n",
       "0  1.00  2019-01-03 14:26:15               1  \n",
       "1  0.31  2019-01-03 14:26:15               1  \n",
       "2  1.00  2019-01-03 14:26:15               1  \n",
       "3  0.29  2019-01-03 14:26:15               1  \n",
       "4  0.29  2019-01-03 14:26:15               1  "
      ]
     },
     "execution_count": 3,
     "metadata": {},
     "output_type": "execute_result"
    }
   ],
   "source": [
    "#Check the head of the data\n",
    "df1.head()"
   ]
  },
  {
   "cell_type": "code",
   "execution_count": 4,
   "metadata": {},
   "outputs": [
    {
     "data": {
      "text/plain": [
       "(268581, 14)"
      ]
     },
     "execution_count": 4,
     "metadata": {},
     "output_type": "execute_result"
    }
   ],
   "source": [
    "# Check the shape of the data \n",
    "df2.shape"
   ]
  },
  {
   "cell_type": "code",
   "execution_count": 5,
   "metadata": {},
   "outputs": [
    {
     "data": {
      "text/plain": [
       "(300336, 14)"
      ]
     },
     "execution_count": 5,
     "metadata": {},
     "output_type": "execute_result"
    }
   ],
   "source": [
    "#Check the shape of the data\n",
    "df1.shape"
   ]
  },
  {
   "cell_type": "code",
   "execution_count": 6,
   "metadata": {},
   "outputs": [],
   "source": [
    "# put both dataframes together\n",
    "df = pd.concat([df1,df2]).reset_index()\n",
    "# I used concat because the 2 data frames have the same exact columns, so 1 dataframe gets stacked on top of another.\n",
    "# the .reset_index() method is used so df1 does not keep its indexes, but instead the index continues on from the df obj. "
   ]
  },
  {
   "cell_type": "code",
   "execution_count": 7,
   "metadata": {},
   "outputs": [
    {
     "data": {
      "text/plain": [
       "(568917, 15)"
      ]
     },
     "execution_count": 7,
     "metadata": {},
     "output_type": "execute_result"
    }
   ],
   "source": [
    "# Check the shape\n",
    "df.shape\n",
    "# we have the correct number of rows and columns"
   ]
  },
  {
   "cell_type": "code",
   "execution_count": 8,
   "metadata": {},
   "outputs": [
    {
     "data": {
      "text/html": [
       "<div>\n",
       "<style scoped>\n",
       "    .dataframe tbody tr th:only-of-type {\n",
       "        vertical-align: middle;\n",
       "    }\n",
       "\n",
       "    .dataframe tbody tr th {\n",
       "        vertical-align: top;\n",
       "    }\n",
       "\n",
       "    .dataframe thead th {\n",
       "        text-align: right;\n",
       "    }\n",
       "</style>\n",
       "<table border=\"1\" class=\"dataframe\">\n",
       "  <thead>\n",
       "    <tr style=\"text-align: right;\">\n",
       "      <th></th>\n",
       "      <th>index</th>\n",
       "      <th>ID</th>\n",
       "      <th>flightNumber</th>\n",
       "      <th>craftTypeCode</th>\n",
       "      <th>depAirport</th>\n",
       "      <th>traAirport</th>\n",
       "      <th>arrAirport</th>\n",
       "      <th>departureDate</th>\n",
       "      <th>arrivalDate</th>\n",
       "      <th>cabinClass</th>\n",
       "      <th>priceClass</th>\n",
       "      <th>price</th>\n",
       "      <th>rate</th>\n",
       "      <th>createDate</th>\n",
       "      <th>dateDifference</th>\n",
       "    </tr>\n",
       "  </thead>\n",
       "  <tbody>\n",
       "    <tr>\n",
       "      <th>568912</th>\n",
       "      <td>268576</td>\n",
       "      <td>77617774</td>\n",
       "      <td>MU5389</td>\n",
       "      <td>325</td>\n",
       "      <td>SHA</td>\n",
       "      <td>LYA</td>\n",
       "      <td>PEK</td>\n",
       "      <td>2019-07-21 07:20:00</td>\n",
       "      <td>2019-07-21 12:00:00</td>\n",
       "      <td>Y</td>\n",
       "      <td>R</td>\n",
       "      <td>830</td>\n",
       "      <td>0.56</td>\n",
       "      <td>2019-07-14 23:28:01</td>\n",
       "      <td>7</td>\n",
       "    </tr>\n",
       "    <tr>\n",
       "      <th>568913</th>\n",
       "      <td>268577</td>\n",
       "      <td>77617775</td>\n",
       "      <td>MU5389</td>\n",
       "      <td>325</td>\n",
       "      <td>SHA</td>\n",
       "      <td>LYA</td>\n",
       "      <td>PEK</td>\n",
       "      <td>2019-07-21 07:20:00</td>\n",
       "      <td>2019-07-21 12:00:00</td>\n",
       "      <td>Y</td>\n",
       "      <td>R</td>\n",
       "      <td>880</td>\n",
       "      <td>0.60</td>\n",
       "      <td>2019-07-14 23:28:01</td>\n",
       "      <td>7</td>\n",
       "    </tr>\n",
       "    <tr>\n",
       "      <th>568914</th>\n",
       "      <td>268578</td>\n",
       "      <td>77617776</td>\n",
       "      <td>MU5389</td>\n",
       "      <td>325</td>\n",
       "      <td>SHA</td>\n",
       "      <td>LYA</td>\n",
       "      <td>PEK</td>\n",
       "      <td>2019-07-21 07:20:00</td>\n",
       "      <td>2019-07-21 12:00:00</td>\n",
       "      <td>Y</td>\n",
       "      <td>R</td>\n",
       "      <td>920</td>\n",
       "      <td>0.62</td>\n",
       "      <td>2019-07-14 23:28:01</td>\n",
       "      <td>7</td>\n",
       "    </tr>\n",
       "    <tr>\n",
       "      <th>568915</th>\n",
       "      <td>268579</td>\n",
       "      <td>77617777</td>\n",
       "      <td>MU5389</td>\n",
       "      <td>325</td>\n",
       "      <td>SHA</td>\n",
       "      <td>LYA</td>\n",
       "      <td>PEK</td>\n",
       "      <td>2019-07-21 07:20:00</td>\n",
       "      <td>2019-07-21 12:00:00</td>\n",
       "      <td>Y</td>\n",
       "      <td>R</td>\n",
       "      <td>790</td>\n",
       "      <td>0.54</td>\n",
       "      <td>2019-07-14 23:28:01</td>\n",
       "      <td>7</td>\n",
       "    </tr>\n",
       "    <tr>\n",
       "      <th>568916</th>\n",
       "      <td>268580</td>\n",
       "      <td>77617779</td>\n",
       "      <td>MU5389</td>\n",
       "      <td>325</td>\n",
       "      <td>SHA</td>\n",
       "      <td>LYA</td>\n",
       "      <td>PEK</td>\n",
       "      <td>2019-07-21 07:20:00</td>\n",
       "      <td>2019-07-21 12:00:00</td>\n",
       "      <td>Y</td>\n",
       "      <td>Y</td>\n",
       "      <td>1490</td>\n",
       "      <td>1.00</td>\n",
       "      <td>2019-07-14 23:28:01</td>\n",
       "      <td>7</td>\n",
       "    </tr>\n",
       "  </tbody>\n",
       "</table>\n",
       "</div>"
      ],
      "text/plain": [
       "         index        ID flightNumber craftTypeCode depAirport traAirport  \\\n",
       "568912  268576  77617774       MU5389           325        SHA        LYA   \n",
       "568913  268577  77617775       MU5389           325        SHA        LYA   \n",
       "568914  268578  77617776       MU5389           325        SHA        LYA   \n",
       "568915  268579  77617777       MU5389           325        SHA        LYA   \n",
       "568916  268580  77617779       MU5389           325        SHA        LYA   \n",
       "\n",
       "       arrAirport        departureDate          arrivalDate cabinClass  \\\n",
       "568912        PEK  2019-07-21 07:20:00  2019-07-21 12:00:00          Y   \n",
       "568913        PEK  2019-07-21 07:20:00  2019-07-21 12:00:00          Y   \n",
       "568914        PEK  2019-07-21 07:20:00  2019-07-21 12:00:00          Y   \n",
       "568915        PEK  2019-07-21 07:20:00  2019-07-21 12:00:00          Y   \n",
       "568916        PEK  2019-07-21 07:20:00  2019-07-21 12:00:00          Y   \n",
       "\n",
       "       priceClass  price  rate           createDate  dateDifference  \n",
       "568912          R    830  0.56  2019-07-14 23:28:01               7  \n",
       "568913          R    880  0.60  2019-07-14 23:28:01               7  \n",
       "568914          R    920  0.62  2019-07-14 23:28:01               7  \n",
       "568915          R    790  0.54  2019-07-14 23:28:01               7  \n",
       "568916          Y   1490  1.00  2019-07-14 23:28:01               7  "
      ]
     },
     "execution_count": 8,
     "metadata": {},
     "output_type": "execute_result"
    }
   ],
   "source": [
    "# check to see if the index is correct\n",
    "df.tail()\n",
    "# the real index is in bold (and it's correct), now we just have to drop the index column"
   ]
  },
  {
   "cell_type": "code",
   "execution_count": 9,
   "metadata": {},
   "outputs": [],
   "source": [
    "# drop the index column, set inplace to True(so it saves the changes)\n",
    "df.drop('index',axis=1,inplace=True)"
   ]
  },
  {
   "cell_type": "code",
   "execution_count": 10,
   "metadata": {},
   "outputs": [
    {
     "data": {
      "text/plain": [
       "Index(['ID', 'flightNumber', 'craftTypeCode', 'depAirport', 'traAirport',\n",
       "       'arrAirport', 'departureDate', 'arrivalDate', 'cabinClass',\n",
       "       'priceClass', 'price', 'rate', 'createDate', 'dateDifference'],\n",
       "      dtype='object')"
      ]
     },
     "execution_count": 10,
     "metadata": {},
     "output_type": "execute_result"
    }
   ],
   "source": [
    "# Check the columns to see if it worked \n",
    "df.columns"
   ]
  },
  {
   "cell_type": "code",
   "execution_count": 11,
   "metadata": {},
   "outputs": [
    {
     "data": {
      "text/html": [
       "<div>\n",
       "<style scoped>\n",
       "    .dataframe tbody tr th:only-of-type {\n",
       "        vertical-align: middle;\n",
       "    }\n",
       "\n",
       "    .dataframe tbody tr th {\n",
       "        vertical-align: top;\n",
       "    }\n",
       "\n",
       "    .dataframe thead th {\n",
       "        text-align: right;\n",
       "    }\n",
       "</style>\n",
       "<table border=\"1\" class=\"dataframe\">\n",
       "  <thead>\n",
       "    <tr style=\"text-align: right;\">\n",
       "      <th></th>\n",
       "      <th>ID</th>\n",
       "      <th>flightNumber</th>\n",
       "      <th>craftTypeCode</th>\n",
       "      <th>depAirport</th>\n",
       "      <th>traAirport</th>\n",
       "      <th>arrAirport</th>\n",
       "      <th>departureDate</th>\n",
       "      <th>arrivalDate</th>\n",
       "      <th>cabinClass</th>\n",
       "      <th>priceClass</th>\n",
       "      <th>price</th>\n",
       "      <th>rate</th>\n",
       "      <th>createDate</th>\n",
       "      <th>dateDifference</th>\n",
       "    </tr>\n",
       "  </thead>\n",
       "  <tbody>\n",
       "    <tr>\n",
       "      <th>0</th>\n",
       "      <td>14393</td>\n",
       "      <td>HO1252</td>\n",
       "      <td>320</td>\n",
       "      <td>PEK</td>\n",
       "      <td>NaN</td>\n",
       "      <td>SHA</td>\n",
       "      <td>2019-01-04 06:35:00</td>\n",
       "      <td>2019-01-04 08:55:00</td>\n",
       "      <td>C</td>\n",
       "      <td>C</td>\n",
       "      <td>1860</td>\n",
       "      <td>1.00</td>\n",
       "      <td>2019-01-03 14:26:15</td>\n",
       "      <td>1</td>\n",
       "    </tr>\n",
       "    <tr>\n",
       "      <th>1</th>\n",
       "      <td>14409</td>\n",
       "      <td>MU5138</td>\n",
       "      <td>33L</td>\n",
       "      <td>PEK</td>\n",
       "      <td>NaN</td>\n",
       "      <td>SHA</td>\n",
       "      <td>2019-01-04 07:00:00</td>\n",
       "      <td>2019-01-04 09:15:00</td>\n",
       "      <td>C</td>\n",
       "      <td>I</td>\n",
       "      <td>1640</td>\n",
       "      <td>0.31</td>\n",
       "      <td>2019-01-03 14:26:15</td>\n",
       "      <td>1</td>\n",
       "    </tr>\n",
       "    <tr>\n",
       "      <th>2</th>\n",
       "      <td>14415</td>\n",
       "      <td>MU5138</td>\n",
       "      <td>33L</td>\n",
       "      <td>PEK</td>\n",
       "      <td>NaN</td>\n",
       "      <td>SHA</td>\n",
       "      <td>2019-01-04 07:00:00</td>\n",
       "      <td>2019-01-04 09:15:00</td>\n",
       "      <td>C</td>\n",
       "      <td>J</td>\n",
       "      <td>5360</td>\n",
       "      <td>1.00</td>\n",
       "      <td>2019-01-03 14:26:15</td>\n",
       "      <td>1</td>\n",
       "    </tr>\n",
       "    <tr>\n",
       "      <th>3</th>\n",
       "      <td>14429</td>\n",
       "      <td>HU7605</td>\n",
       "      <td>350</td>\n",
       "      <td>PEK</td>\n",
       "      <td>NaN</td>\n",
       "      <td>SHA</td>\n",
       "      <td>2019-01-04 07:20:00</td>\n",
       "      <td>2019-01-04 09:35:00</td>\n",
       "      <td>C</td>\n",
       "      <td>I</td>\n",
       "      <td>1635</td>\n",
       "      <td>0.29</td>\n",
       "      <td>2019-01-03 14:26:15</td>\n",
       "      <td>1</td>\n",
       "    </tr>\n",
       "    <tr>\n",
       "      <th>4</th>\n",
       "      <td>14431</td>\n",
       "      <td>HU7605</td>\n",
       "      <td>350</td>\n",
       "      <td>PEK</td>\n",
       "      <td>NaN</td>\n",
       "      <td>SHA</td>\n",
       "      <td>2019-01-04 07:20:00</td>\n",
       "      <td>2019-01-04 09:35:00</td>\n",
       "      <td>C</td>\n",
       "      <td>I</td>\n",
       "      <td>1640</td>\n",
       "      <td>0.29</td>\n",
       "      <td>2019-01-03 14:26:15</td>\n",
       "      <td>1</td>\n",
       "    </tr>\n",
       "  </tbody>\n",
       "</table>\n",
       "</div>"
      ],
      "text/plain": [
       "      ID flightNumber craftTypeCode depAirport traAirport arrAirport  \\\n",
       "0  14393       HO1252           320        PEK        NaN        SHA   \n",
       "1  14409       MU5138           33L        PEK        NaN        SHA   \n",
       "2  14415       MU5138           33L        PEK        NaN        SHA   \n",
       "3  14429       HU7605           350        PEK        NaN        SHA   \n",
       "4  14431       HU7605           350        PEK        NaN        SHA   \n",
       "\n",
       "         departureDate          arrivalDate cabinClass priceClass  price  \\\n",
       "0  2019-01-04 06:35:00  2019-01-04 08:55:00          C          C   1860   \n",
       "1  2019-01-04 07:00:00  2019-01-04 09:15:00          C          I   1640   \n",
       "2  2019-01-04 07:00:00  2019-01-04 09:15:00          C          J   5360   \n",
       "3  2019-01-04 07:20:00  2019-01-04 09:35:00          C          I   1635   \n",
       "4  2019-01-04 07:20:00  2019-01-04 09:35:00          C          I   1640   \n",
       "\n",
       "   rate           createDate  dateDifference  \n",
       "0  1.00  2019-01-03 14:26:15               1  \n",
       "1  0.31  2019-01-03 14:26:15               1  \n",
       "2  1.00  2019-01-03 14:26:15               1  \n",
       "3  0.29  2019-01-03 14:26:15               1  \n",
       "4  0.29  2019-01-03 14:26:15               1  "
      ]
     },
     "execution_count": 11,
     "metadata": {},
     "output_type": "execute_result"
    }
   ],
   "source": [
    "# Inspect the data to see what info we are getting.\n",
    "df.head()"
   ]
  },
  {
   "cell_type": "code",
   "execution_count": 12,
   "metadata": {},
   "outputs": [
    {
     "data": {
      "text/plain": [
       "ID                  int64\n",
       "flightNumber       object\n",
       "craftTypeCode      object\n",
       "depAirport         object\n",
       "traAirport         object\n",
       "arrAirport         object\n",
       "departureDate      object\n",
       "arrivalDate        object\n",
       "cabinClass         object\n",
       "priceClass         object\n",
       "price               int64\n",
       "rate              float64\n",
       "createDate         object\n",
       "dateDifference      int64\n",
       "dtype: object"
      ]
     },
     "execution_count": 12,
     "metadata": {},
     "output_type": "execute_result"
    }
   ],
   "source": [
    "# check the data types of each column\n",
    "df.dtypes"
   ]
  },
  {
   "cell_type": "code",
   "execution_count": 13,
   "metadata": {},
   "outputs": [],
   "source": [
    "# make a copy of the final df and set it as the original. We will NOT touch this specific dataset (df_orig)\n",
    "df_orig = df.copy()"
   ]
  },
  {
   "cell_type": "code",
   "execution_count": 14,
   "metadata": {},
   "outputs": [
    {
     "data": {
      "text/html": [
       "<div>\n",
       "<style scoped>\n",
       "    .dataframe tbody tr th:only-of-type {\n",
       "        vertical-align: middle;\n",
       "    }\n",
       "\n",
       "    .dataframe tbody tr th {\n",
       "        vertical-align: top;\n",
       "    }\n",
       "\n",
       "    .dataframe thead th {\n",
       "        text-align: right;\n",
       "    }\n",
       "</style>\n",
       "<table border=\"1\" class=\"dataframe\">\n",
       "  <thead>\n",
       "    <tr style=\"text-align: right;\">\n",
       "      <th></th>\n",
       "      <th>ID</th>\n",
       "      <th>flightNumber</th>\n",
       "      <th>craftTypeCode</th>\n",
       "      <th>depAirport</th>\n",
       "      <th>traAirport</th>\n",
       "      <th>arrAirport</th>\n",
       "      <th>departureDate</th>\n",
       "      <th>arrivalDate</th>\n",
       "      <th>cabinClass</th>\n",
       "      <th>priceClass</th>\n",
       "      <th>price</th>\n",
       "      <th>rate</th>\n",
       "      <th>createDate</th>\n",
       "      <th>dateDifference</th>\n",
       "    </tr>\n",
       "  </thead>\n",
       "  <tbody>\n",
       "    <tr>\n",
       "      <th>0</th>\n",
       "      <td>14393</td>\n",
       "      <td>HO1252</td>\n",
       "      <td>320</td>\n",
       "      <td>PEK</td>\n",
       "      <td>NaN</td>\n",
       "      <td>SHA</td>\n",
       "      <td>2019-01-04 06:35:00</td>\n",
       "      <td>2019-01-04 08:55:00</td>\n",
       "      <td>C</td>\n",
       "      <td>C</td>\n",
       "      <td>1860</td>\n",
       "      <td>1.00</td>\n",
       "      <td>2019-01-03 14:26:15</td>\n",
       "      <td>1</td>\n",
       "    </tr>\n",
       "    <tr>\n",
       "      <th>1</th>\n",
       "      <td>14409</td>\n",
       "      <td>MU5138</td>\n",
       "      <td>33L</td>\n",
       "      <td>PEK</td>\n",
       "      <td>NaN</td>\n",
       "      <td>SHA</td>\n",
       "      <td>2019-01-04 07:00:00</td>\n",
       "      <td>2019-01-04 09:15:00</td>\n",
       "      <td>C</td>\n",
       "      <td>I</td>\n",
       "      <td>1640</td>\n",
       "      <td>0.31</td>\n",
       "      <td>2019-01-03 14:26:15</td>\n",
       "      <td>1</td>\n",
       "    </tr>\n",
       "    <tr>\n",
       "      <th>2</th>\n",
       "      <td>14415</td>\n",
       "      <td>MU5138</td>\n",
       "      <td>33L</td>\n",
       "      <td>PEK</td>\n",
       "      <td>NaN</td>\n",
       "      <td>SHA</td>\n",
       "      <td>2019-01-04 07:00:00</td>\n",
       "      <td>2019-01-04 09:15:00</td>\n",
       "      <td>C</td>\n",
       "      <td>J</td>\n",
       "      <td>5360</td>\n",
       "      <td>1.00</td>\n",
       "      <td>2019-01-03 14:26:15</td>\n",
       "      <td>1</td>\n",
       "    </tr>\n",
       "    <tr>\n",
       "      <th>3</th>\n",
       "      <td>14429</td>\n",
       "      <td>HU7605</td>\n",
       "      <td>350</td>\n",
       "      <td>PEK</td>\n",
       "      <td>NaN</td>\n",
       "      <td>SHA</td>\n",
       "      <td>2019-01-04 07:20:00</td>\n",
       "      <td>2019-01-04 09:35:00</td>\n",
       "      <td>C</td>\n",
       "      <td>I</td>\n",
       "      <td>1635</td>\n",
       "      <td>0.29</td>\n",
       "      <td>2019-01-03 14:26:15</td>\n",
       "      <td>1</td>\n",
       "    </tr>\n",
       "    <tr>\n",
       "      <th>4</th>\n",
       "      <td>14431</td>\n",
       "      <td>HU7605</td>\n",
       "      <td>350</td>\n",
       "      <td>PEK</td>\n",
       "      <td>NaN</td>\n",
       "      <td>SHA</td>\n",
       "      <td>2019-01-04 07:20:00</td>\n",
       "      <td>2019-01-04 09:35:00</td>\n",
       "      <td>C</td>\n",
       "      <td>I</td>\n",
       "      <td>1640</td>\n",
       "      <td>0.29</td>\n",
       "      <td>2019-01-03 14:26:15</td>\n",
       "      <td>1</td>\n",
       "    </tr>\n",
       "  </tbody>\n",
       "</table>\n",
       "</div>"
      ],
      "text/plain": [
       "      ID flightNumber craftTypeCode depAirport traAirport arrAirport  \\\n",
       "0  14393       HO1252           320        PEK        NaN        SHA   \n",
       "1  14409       MU5138           33L        PEK        NaN        SHA   \n",
       "2  14415       MU5138           33L        PEK        NaN        SHA   \n",
       "3  14429       HU7605           350        PEK        NaN        SHA   \n",
       "4  14431       HU7605           350        PEK        NaN        SHA   \n",
       "\n",
       "         departureDate          arrivalDate cabinClass priceClass  price  \\\n",
       "0  2019-01-04 06:35:00  2019-01-04 08:55:00          C          C   1860   \n",
       "1  2019-01-04 07:00:00  2019-01-04 09:15:00          C          I   1640   \n",
       "2  2019-01-04 07:00:00  2019-01-04 09:15:00          C          J   5360   \n",
       "3  2019-01-04 07:20:00  2019-01-04 09:35:00          C          I   1635   \n",
       "4  2019-01-04 07:20:00  2019-01-04 09:35:00          C          I   1640   \n",
       "\n",
       "   rate           createDate  dateDifference  \n",
       "0  1.00  2019-01-03 14:26:15               1  \n",
       "1  0.31  2019-01-03 14:26:15               1  \n",
       "2  1.00  2019-01-03 14:26:15               1  \n",
       "3  0.29  2019-01-03 14:26:15               1  \n",
       "4  0.29  2019-01-03 14:26:15               1  "
      ]
     },
     "execution_count": 14,
     "metadata": {},
     "output_type": "execute_result"
    }
   ],
   "source": [
    "df_orig.head()"
   ]
  },
  {
   "cell_type": "markdown",
   "metadata": {},
   "source": [
    "# Data Cleaning"
   ]
  },
  {
   "cell_type": "markdown",
   "metadata": {},
   "source": [
    "### Next steps"
   ]
  },
  {
   "cell_type": "code",
   "execution_count": 15,
   "metadata": {},
   "outputs": [],
   "source": [
    "# drop traAirport column\n",
    "# convert cabinClass and priceClass to numerical\n",
    "# Turn all date columns into datetime objects\n",
    "# Get the coordinates of the airports\n",
    "# Replace depAiport amd arrApt with numeric code\n",
    "# get the distances of the flights \n",
    "# get day of the week (Mon) from depart date, arrival date, and create date\n",
    "# the column 'rate' is the discount rate.The lower the rate the cheaper the ticket.\n",
    "# New column should be:  Actaul paid = price * rate \n",
    "# Make flight_duration: arrival time - depart time\n",
    "# Check if any flights are on holidays"
   ]
  },
  {
   "cell_type": "code",
   "execution_count": 16,
   "metadata": {},
   "outputs": [
    {
     "data": {
      "text/plain": [
       "ID                     0\n",
       "flightNumber           0\n",
       "craftTypeCode          0\n",
       "depAirport             0\n",
       "traAirport        558056\n",
       "arrAirport             0\n",
       "departureDate          0\n",
       "arrivalDate            0\n",
       "cabinClass             0\n",
       "priceClass             0\n",
       "price                  0\n",
       "rate                   0\n",
       "createDate             0\n",
       "dateDifference         0\n",
       "dtype: int64"
      ]
     },
     "execution_count": 16,
     "metadata": {},
     "output_type": "execute_result"
    }
   ],
   "source": [
    "# see total number of Na's in the data set\n",
    "df.isna().sum()"
   ]
  },
  {
   "cell_type": "code",
   "execution_count": 17,
   "metadata": {},
   "outputs": [],
   "source": [
    "# drop traAirport column because it's all na values\n",
    "df.drop('traAirport',axis=1,inplace=True)\n",
    "# set index=1 because we are dropping a column, inplace saves the change"
   ]
  },
  {
   "cell_type": "code",
   "execution_count": 18,
   "metadata": {},
   "outputs": [
    {
     "data": {
      "text/html": [
       "<div>\n",
       "<style scoped>\n",
       "    .dataframe tbody tr th:only-of-type {\n",
       "        vertical-align: middle;\n",
       "    }\n",
       "\n",
       "    .dataframe tbody tr th {\n",
       "        vertical-align: top;\n",
       "    }\n",
       "\n",
       "    .dataframe thead th {\n",
       "        text-align: right;\n",
       "    }\n",
       "</style>\n",
       "<table border=\"1\" class=\"dataframe\">\n",
       "  <thead>\n",
       "    <tr style=\"text-align: right;\">\n",
       "      <th></th>\n",
       "      <th>ID</th>\n",
       "      <th>flightNumber</th>\n",
       "      <th>craftTypeCode</th>\n",
       "      <th>depAirport</th>\n",
       "      <th>arrAirport</th>\n",
       "      <th>departureDate</th>\n",
       "      <th>arrivalDate</th>\n",
       "      <th>cabinClass</th>\n",
       "      <th>priceClass</th>\n",
       "      <th>price</th>\n",
       "      <th>rate</th>\n",
       "      <th>createDate</th>\n",
       "      <th>dateDifference</th>\n",
       "    </tr>\n",
       "  </thead>\n",
       "  <tbody>\n",
       "    <tr>\n",
       "      <th>0</th>\n",
       "      <td>14393</td>\n",
       "      <td>HO1252</td>\n",
       "      <td>320</td>\n",
       "      <td>PEK</td>\n",
       "      <td>SHA</td>\n",
       "      <td>2019-01-04 06:35:00</td>\n",
       "      <td>2019-01-04 08:55:00</td>\n",
       "      <td>C</td>\n",
       "      <td>C</td>\n",
       "      <td>1860</td>\n",
       "      <td>1.00</td>\n",
       "      <td>2019-01-03 14:26:15</td>\n",
       "      <td>1</td>\n",
       "    </tr>\n",
       "    <tr>\n",
       "      <th>1</th>\n",
       "      <td>14409</td>\n",
       "      <td>MU5138</td>\n",
       "      <td>33L</td>\n",
       "      <td>PEK</td>\n",
       "      <td>SHA</td>\n",
       "      <td>2019-01-04 07:00:00</td>\n",
       "      <td>2019-01-04 09:15:00</td>\n",
       "      <td>C</td>\n",
       "      <td>I</td>\n",
       "      <td>1640</td>\n",
       "      <td>0.31</td>\n",
       "      <td>2019-01-03 14:26:15</td>\n",
       "      <td>1</td>\n",
       "    </tr>\n",
       "    <tr>\n",
       "      <th>2</th>\n",
       "      <td>14415</td>\n",
       "      <td>MU5138</td>\n",
       "      <td>33L</td>\n",
       "      <td>PEK</td>\n",
       "      <td>SHA</td>\n",
       "      <td>2019-01-04 07:00:00</td>\n",
       "      <td>2019-01-04 09:15:00</td>\n",
       "      <td>C</td>\n",
       "      <td>J</td>\n",
       "      <td>5360</td>\n",
       "      <td>1.00</td>\n",
       "      <td>2019-01-03 14:26:15</td>\n",
       "      <td>1</td>\n",
       "    </tr>\n",
       "    <tr>\n",
       "      <th>3</th>\n",
       "      <td>14429</td>\n",
       "      <td>HU7605</td>\n",
       "      <td>350</td>\n",
       "      <td>PEK</td>\n",
       "      <td>SHA</td>\n",
       "      <td>2019-01-04 07:20:00</td>\n",
       "      <td>2019-01-04 09:35:00</td>\n",
       "      <td>C</td>\n",
       "      <td>I</td>\n",
       "      <td>1635</td>\n",
       "      <td>0.29</td>\n",
       "      <td>2019-01-03 14:26:15</td>\n",
       "      <td>1</td>\n",
       "    </tr>\n",
       "    <tr>\n",
       "      <th>4</th>\n",
       "      <td>14431</td>\n",
       "      <td>HU7605</td>\n",
       "      <td>350</td>\n",
       "      <td>PEK</td>\n",
       "      <td>SHA</td>\n",
       "      <td>2019-01-04 07:20:00</td>\n",
       "      <td>2019-01-04 09:35:00</td>\n",
       "      <td>C</td>\n",
       "      <td>I</td>\n",
       "      <td>1640</td>\n",
       "      <td>0.29</td>\n",
       "      <td>2019-01-03 14:26:15</td>\n",
       "      <td>1</td>\n",
       "    </tr>\n",
       "  </tbody>\n",
       "</table>\n",
       "</div>"
      ],
      "text/plain": [
       "      ID flightNumber craftTypeCode depAirport arrAirport  \\\n",
       "0  14393       HO1252           320        PEK        SHA   \n",
       "1  14409       MU5138           33L        PEK        SHA   \n",
       "2  14415       MU5138           33L        PEK        SHA   \n",
       "3  14429       HU7605           350        PEK        SHA   \n",
       "4  14431       HU7605           350        PEK        SHA   \n",
       "\n",
       "         departureDate          arrivalDate cabinClass priceClass  price  \\\n",
       "0  2019-01-04 06:35:00  2019-01-04 08:55:00          C          C   1860   \n",
       "1  2019-01-04 07:00:00  2019-01-04 09:15:00          C          I   1640   \n",
       "2  2019-01-04 07:00:00  2019-01-04 09:15:00          C          J   5360   \n",
       "3  2019-01-04 07:20:00  2019-01-04 09:35:00          C          I   1635   \n",
       "4  2019-01-04 07:20:00  2019-01-04 09:35:00          C          I   1640   \n",
       "\n",
       "   rate           createDate  dateDifference  \n",
       "0  1.00  2019-01-03 14:26:15               1  \n",
       "1  0.31  2019-01-03 14:26:15               1  \n",
       "2  1.00  2019-01-03 14:26:15               1  \n",
       "3  0.29  2019-01-03 14:26:15               1  \n",
       "4  0.29  2019-01-03 14:26:15               1  "
      ]
     },
     "execution_count": 18,
     "metadata": {},
     "output_type": "execute_result"
    }
   ],
   "source": [
    "# the column has been dropped from the data set\n",
    "df.head()"
   ]
  },
  {
   "cell_type": "code",
   "execution_count": 19,
   "metadata": {},
   "outputs": [
    {
     "data": {
      "text/plain": [
       "0"
      ]
     },
     "execution_count": 19,
     "metadata": {},
     "output_type": "execute_result"
    }
   ],
   "source": [
    "# check for duplicates \n",
    "df.duplicated().sum()"
   ]
  },
  {
   "cell_type": "code",
   "execution_count": 20,
   "metadata": {},
   "outputs": [
    {
     "data": {
      "text/plain": [
       "1249"
      ]
     },
     "execution_count": 20,
     "metadata": {},
     "output_type": "execute_result"
    }
   ],
   "source": [
    "df['createDate'].nunique()"
   ]
  },
  {
   "cell_type": "markdown",
   "metadata": {},
   "source": [
    "# EDA"
   ]
  },
  {
   "cell_type": "code",
   "execution_count": 21,
   "metadata": {},
   "outputs": [],
   "source": [
    "# figure out what 'price class' cloumn is \n",
    "# why does this flight route matter so much google search it\n",
    "# find airline carrier"
   ]
  },
  {
   "cell_type": "code",
   "execution_count": 22,
   "metadata": {},
   "outputs": [],
   "source": [
    "# convert cabinClass and priceClass to numerical values\n",
    "# Y = Econ Class, C = Business Class , F = First Class\n",
    "# make a dictionary of values and what you what to convert the values to\n",
    "key = {'Y':0,'C':1,'F':2}\n",
    "# make a list comphrehension and iterate through the series replacing all the letters with numbers\n",
    "df['cabinClass'] = [key[letter] for letter in df.cabinClass]\n",
    "\n"
   ]
  },
  {
   "cell_type": "code",
   "execution_count": 23,
   "metadata": {},
   "outputs": [
    {
     "data": {
      "text/plain": [
       "0    0.645495\n",
       "1    0.244909\n",
       "2    0.109596\n",
       "Name: cabinClass, dtype: float64"
      ]
     },
     "execution_count": 23,
     "metadata": {},
     "output_type": "execute_result"
    }
   ],
   "source": [
    "# see the values counts and check for any in balances\n",
    "df['cabinClass'].value_counts(True)\n",
    "# we can see that most tickets sold are economy \n",
    "# There is a class inbalance (we will deal with this later)"
   ]
  },
  {
   "cell_type": "code",
   "execution_count": 24,
   "metadata": {},
   "outputs": [],
   "source": [
    "# turn all the columns with dates into datetime objs\n",
    "df['departureDate'] = pd.to_datetime(df['departureDate'])\n",
    "df['arrivalDate'] = pd.to_datetime(df['arrivalDate'])\n",
    "df['createDate'] = pd.to_datetime(df['createDate'])"
   ]
  },
  {
   "cell_type": "code",
   "execution_count": 25,
   "metadata": {},
   "outputs": [
    {
     "data": {
      "text/plain": [
       "ID                         int64\n",
       "flightNumber              object\n",
       "craftTypeCode             object\n",
       "depAirport                object\n",
       "arrAirport                object\n",
       "departureDate     datetime64[ns]\n",
       "arrivalDate       datetime64[ns]\n",
       "cabinClass                 int64\n",
       "priceClass                object\n",
       "price                      int64\n",
       "rate                     float64\n",
       "createDate        datetime64[ns]\n",
       "dateDifference             int64\n",
       "dtype: object"
      ]
     },
     "execution_count": 25,
     "metadata": {},
     "output_type": "execute_result"
    }
   ],
   "source": [
    "# check the data types\n",
    "df.dtypes"
   ]
  },
  {
   "cell_type": "code",
   "execution_count": 26,
   "metadata": {},
   "outputs": [],
   "source": [
    "#sns.pairplot(df)"
   ]
  },
  {
   "cell_type": "code",
   "execution_count": 27,
   "metadata": {},
   "outputs": [
    {
     "data": {
      "text/plain": [
       "Index(['ID', 'flightNumber', 'craftTypeCode', 'depAirport', 'arrAirport',\n",
       "       'departureDate', 'arrivalDate', 'cabinClass', 'priceClass', 'price',\n",
       "       'rate', 'createDate', 'dateDifference'],\n",
       "      dtype='object')"
      ]
     },
     "execution_count": 27,
     "metadata": {},
     "output_type": "execute_result"
    }
   ],
   "source": [
    "df.columns"
   ]
  },
  {
   "cell_type": "code",
   "execution_count": 28,
   "metadata": {},
   "outputs": [],
   "source": [
    "# see the total earnings of each group\n",
    "cabin_earnings = df.groupby(df['cabinClass']).agg({'price':'sum'})\n",
    "cabin_mean_earnings = df.groupby(df['cabinClass']).agg({'price':'mean'})"
   ]
  },
  {
   "cell_type": "code",
   "execution_count": null,
   "metadata": {},
   "outputs": [],
   "source": []
  },
  {
   "cell_type": "code",
   "execution_count": 29,
   "metadata": {},
   "outputs": [
    {
     "data": {
      "image/png": "[encoded data removed]",
      "text/plain": [
       "<Figure size 432x288 with 1 Axes>"
      ]
     },
     "metadata": {
      "needs_background": "light"
     },
     "output_type": "display_data"
    }
   ],
   "source": [
    "sns.barplot(x=cabin_earnings.index,y= cabin_earnings['price']);\n",
    "plt.title('total earnings per flight class');\n"
   ]
  },
  {
   "cell_type": "code",
   "execution_count": 30,
   "metadata": {},
   "outputs": [
    {
     "data": {
      "image/png": "[encoded data removed]",
      "text/plain": [
       "<Figure size 432x288 with 1 Axes>"
      ]
     },
     "metadata": {
      "needs_background": "light"
     },
     "output_type": "display_data"
    }
   ],
   "source": [
    "# avg cost of a ticket\n",
    "sns.barplot(x=cabin_mean_earnings.index,y=cabin_mean_earnings['price']);\n",
    "plt.title('avg cost per ticket');"
   ]
  },
  {
   "cell_type": "code",
   "execution_count": 31,
   "metadata": {},
   "outputs": [
    {
     "data": {
      "text/html": [
       "<div>\n",
       "<style scoped>\n",
       "    .dataframe tbody tr th:only-of-type {\n",
       "        vertical-align: middle;\n",
       "    }\n",
       "\n",
       "    .dataframe tbody tr th {\n",
       "        vertical-align: top;\n",
       "    }\n",
       "\n",
       "    .dataframe thead th {\n",
       "        text-align: right;\n",
       "    }\n",
       "</style>\n",
       "<table border=\"1\" class=\"dataframe\">\n",
       "  <thead>\n",
       "    <tr style=\"text-align: right;\">\n",
       "      <th></th>\n",
       "      <th>ID</th>\n",
       "      <th>flightNumber</th>\n",
       "      <th>craftTypeCode</th>\n",
       "      <th>depAirport</th>\n",
       "      <th>arrAirport</th>\n",
       "      <th>departureDate</th>\n",
       "      <th>arrivalDate</th>\n",
       "      <th>cabinClass</th>\n",
       "      <th>priceClass</th>\n",
       "      <th>price</th>\n",
       "      <th>rate</th>\n",
       "      <th>createDate</th>\n",
       "      <th>dateDifference</th>\n",
       "    </tr>\n",
       "  </thead>\n",
       "  <tbody>\n",
       "    <tr>\n",
       "      <th>0</th>\n",
       "      <td>14393</td>\n",
       "      <td>HO1252</td>\n",
       "      <td>320</td>\n",
       "      <td>PEK</td>\n",
       "      <td>SHA</td>\n",
       "      <td>2019-01-04 06:35:00</td>\n",
       "      <td>2019-01-04 08:55:00</td>\n",
       "      <td>1</td>\n",
       "      <td>C</td>\n",
       "      <td>1860</td>\n",
       "      <td>1.00</td>\n",
       "      <td>2019-01-03 14:26:15</td>\n",
       "      <td>1</td>\n",
       "    </tr>\n",
       "    <tr>\n",
       "      <th>1</th>\n",
       "      <td>14409</td>\n",
       "      <td>MU5138</td>\n",
       "      <td>33L</td>\n",
       "      <td>PEK</td>\n",
       "      <td>SHA</td>\n",
       "      <td>2019-01-04 07:00:00</td>\n",
       "      <td>2019-01-04 09:15:00</td>\n",
       "      <td>1</td>\n",
       "      <td>I</td>\n",
       "      <td>1640</td>\n",
       "      <td>0.31</td>\n",
       "      <td>2019-01-03 14:26:15</td>\n",
       "      <td>1</td>\n",
       "    </tr>\n",
       "    <tr>\n",
       "      <th>2</th>\n",
       "      <td>14415</td>\n",
       "      <td>MU5138</td>\n",
       "      <td>33L</td>\n",
       "      <td>PEK</td>\n",
       "      <td>SHA</td>\n",
       "      <td>2019-01-04 07:00:00</td>\n",
       "      <td>2019-01-04 09:15:00</td>\n",
       "      <td>1</td>\n",
       "      <td>J</td>\n",
       "      <td>5360</td>\n",
       "      <td>1.00</td>\n",
       "      <td>2019-01-03 14:26:15</td>\n",
       "      <td>1</td>\n",
       "    </tr>\n",
       "    <tr>\n",
       "      <th>3</th>\n",
       "      <td>14429</td>\n",
       "      <td>HU7605</td>\n",
       "      <td>350</td>\n",
       "      <td>PEK</td>\n",
       "      <td>SHA</td>\n",
       "      <td>2019-01-04 07:20:00</td>\n",
       "      <td>2019-01-04 09:35:00</td>\n",
       "      <td>1</td>\n",
       "      <td>I</td>\n",
       "      <td>1635</td>\n",
       "      <td>0.29</td>\n",
       "      <td>2019-01-03 14:26:15</td>\n",
       "      <td>1</td>\n",
       "    </tr>\n",
       "    <tr>\n",
       "      <th>4</th>\n",
       "      <td>14431</td>\n",
       "      <td>HU7605</td>\n",
       "      <td>350</td>\n",
       "      <td>PEK</td>\n",
       "      <td>SHA</td>\n",
       "      <td>2019-01-04 07:20:00</td>\n",
       "      <td>2019-01-04 09:35:00</td>\n",
       "      <td>1</td>\n",
       "      <td>I</td>\n",
       "      <td>1640</td>\n",
       "      <td>0.29</td>\n",
       "      <td>2019-01-03 14:26:15</td>\n",
       "      <td>1</td>\n",
       "    </tr>\n",
       "  </tbody>\n",
       "</table>\n",
       "</div>"
      ],
      "text/plain": [
       "      ID flightNumber craftTypeCode depAirport arrAirport       departureDate  \\\n",
       "0  14393       HO1252           320        PEK        SHA 2019-01-04 06:35:00   \n",
       "1  14409       MU5138           33L        PEK        SHA 2019-01-04 07:00:00   \n",
       "2  14415       MU5138           33L        PEK        SHA 2019-01-04 07:00:00   \n",
       "3  14429       HU7605           350        PEK        SHA 2019-01-04 07:20:00   \n",
       "4  14431       HU7605           350        PEK        SHA 2019-01-04 07:20:00   \n",
       "\n",
       "          arrivalDate  cabinClass priceClass  price  rate          createDate  \\\n",
       "0 2019-01-04 08:55:00           1          C   1860  1.00 2019-01-03 14:26:15   \n",
       "1 2019-01-04 09:15:00           1          I   1640  0.31 2019-01-03 14:26:15   \n",
       "2 2019-01-04 09:15:00           1          J   5360  1.00 2019-01-03 14:26:15   \n",
       "3 2019-01-04 09:35:00           1          I   1635  0.29 2019-01-03 14:26:15   \n",
       "4 2019-01-04 09:35:00           1          I   1640  0.29 2019-01-03 14:26:15   \n",
       "\n",
       "   dateDifference  \n",
       "0               1  \n",
       "1               1  \n",
       "2               1  \n",
       "3               1  \n",
       "4               1  "
      ]
     },
     "execution_count": 31,
     "metadata": {},
     "output_type": "execute_result"
    }
   ],
   "source": [
    "df.head()\n",
    "# make a plot that stacks actual price over price paid"
   ]
  },
  {
   "cell_type": "code",
   "execution_count": 32,
   "metadata": {},
   "outputs": [],
   "source": [
    "# #check day of week with rate \n",
    "# mean_rate =df.groupby('departureDate_dofweek').agg({'rate':'mean'});\n",
    "# sns.barplot(mean_rate.index, mean_rate['rate']);\n",
    "# plt.title('Mean Rate Per day of Week');"
   ]
  },
  {
   "cell_type": "code",
   "execution_count": 33,
   "metadata": {},
   "outputs": [
    {
     "data": {
      "image/png": "[encoded data removed]",
      "text/plain": [
       "<Figure size 432x288 with 1 Axes>"
      ]
     },
     "metadata": {
      "needs_background": "light"
     },
     "output_type": "display_data"
    }
   ],
   "source": [
    "# check rate with flight class\n",
    "class_rate = df.groupby('cabinClass').agg({'rate':'mean'});\n",
    "sns.barplot(class_rate.index, class_rate['rate']);\n",
    "plt.title('rate with flight class');"
   ]
  },
  {
   "cell_type": "code",
   "execution_count": 34,
   "metadata": {},
   "outputs": [
    {
     "data": {
      "text/html": [
       "<div>\n",
       "<style scoped>\n",
       "    .dataframe tbody tr th:only-of-type {\n",
       "        vertical-align: middle;\n",
       "    }\n",
       "\n",
       "    .dataframe tbody tr th {\n",
       "        vertical-align: top;\n",
       "    }\n",
       "\n",
       "    .dataframe thead th {\n",
       "        text-align: right;\n",
       "    }\n",
       "</style>\n",
       "<table border=\"1\" class=\"dataframe\">\n",
       "  <thead>\n",
       "    <tr style=\"text-align: right;\">\n",
       "      <th></th>\n",
       "      <th>ID</th>\n",
       "      <th>flightNumber</th>\n",
       "      <th>craftTypeCode</th>\n",
       "      <th>depAirport</th>\n",
       "      <th>traAirport</th>\n",
       "      <th>arrAirport</th>\n",
       "      <th>departureDate</th>\n",
       "      <th>arrivalDate</th>\n",
       "      <th>cabinClass</th>\n",
       "      <th>priceClass</th>\n",
       "      <th>price</th>\n",
       "      <th>rate</th>\n",
       "      <th>createDate</th>\n",
       "      <th>dateDifference</th>\n",
       "    </tr>\n",
       "  </thead>\n",
       "  <tbody>\n",
       "    <tr>\n",
       "      <th>0</th>\n",
       "      <td>14393</td>\n",
       "      <td>HO1252</td>\n",
       "      <td>320</td>\n",
       "      <td>PEK</td>\n",
       "      <td>NaN</td>\n",
       "      <td>SHA</td>\n",
       "      <td>2019-01-04 06:35:00</td>\n",
       "      <td>2019-01-04 08:55:00</td>\n",
       "      <td>C</td>\n",
       "      <td>C</td>\n",
       "      <td>1860</td>\n",
       "      <td>1.00</td>\n",
       "      <td>2019-01-03 14:26:15</td>\n",
       "      <td>1</td>\n",
       "    </tr>\n",
       "    <tr>\n",
       "      <th>1</th>\n",
       "      <td>14409</td>\n",
       "      <td>MU5138</td>\n",
       "      <td>33L</td>\n",
       "      <td>PEK</td>\n",
       "      <td>NaN</td>\n",
       "      <td>SHA</td>\n",
       "      <td>2019-01-04 07:00:00</td>\n",
       "      <td>2019-01-04 09:15:00</td>\n",
       "      <td>C</td>\n",
       "      <td>I</td>\n",
       "      <td>1640</td>\n",
       "      <td>0.31</td>\n",
       "      <td>2019-01-03 14:26:15</td>\n",
       "      <td>1</td>\n",
       "    </tr>\n",
       "    <tr>\n",
       "      <th>2</th>\n",
       "      <td>14415</td>\n",
       "      <td>MU5138</td>\n",
       "      <td>33L</td>\n",
       "      <td>PEK</td>\n",
       "      <td>NaN</td>\n",
       "      <td>SHA</td>\n",
       "      <td>2019-01-04 07:00:00</td>\n",
       "      <td>2019-01-04 09:15:00</td>\n",
       "      <td>C</td>\n",
       "      <td>J</td>\n",
       "      <td>5360</td>\n",
       "      <td>1.00</td>\n",
       "      <td>2019-01-03 14:26:15</td>\n",
       "      <td>1</td>\n",
       "    </tr>\n",
       "    <tr>\n",
       "      <th>3</th>\n",
       "      <td>14429</td>\n",
       "      <td>HU7605</td>\n",
       "      <td>350</td>\n",
       "      <td>PEK</td>\n",
       "      <td>NaN</td>\n",
       "      <td>SHA</td>\n",
       "      <td>2019-01-04 07:20:00</td>\n",
       "      <td>2019-01-04 09:35:00</td>\n",
       "      <td>C</td>\n",
       "      <td>I</td>\n",
       "      <td>1635</td>\n",
       "      <td>0.29</td>\n",
       "      <td>2019-01-03 14:26:15</td>\n",
       "      <td>1</td>\n",
       "    </tr>\n",
       "    <tr>\n",
       "      <th>4</th>\n",
       "      <td>14431</td>\n",
       "      <td>HU7605</td>\n",
       "      <td>350</td>\n",
       "      <td>PEK</td>\n",
       "      <td>NaN</td>\n",
       "      <td>SHA</td>\n",
       "      <td>2019-01-04 07:20:00</td>\n",
       "      <td>2019-01-04 09:35:00</td>\n",
       "      <td>C</td>\n",
       "      <td>I</td>\n",
       "      <td>1640</td>\n",
       "      <td>0.29</td>\n",
       "      <td>2019-01-03 14:26:15</td>\n",
       "      <td>1</td>\n",
       "    </tr>\n",
       "  </tbody>\n",
       "</table>\n",
       "</div>"
      ],
      "text/plain": [
       "      ID flightNumber craftTypeCode depAirport traAirport arrAirport  \\\n",
       "0  14393       HO1252           320        PEK        NaN        SHA   \n",
       "1  14409       MU5138           33L        PEK        NaN        SHA   \n",
       "2  14415       MU5138           33L        PEK        NaN        SHA   \n",
       "3  14429       HU7605           350        PEK        NaN        SHA   \n",
       "4  14431       HU7605           350        PEK        NaN        SHA   \n",
       "\n",
       "         departureDate          arrivalDate cabinClass priceClass  price  \\\n",
       "0  2019-01-04 06:35:00  2019-01-04 08:55:00          C          C   1860   \n",
       "1  2019-01-04 07:00:00  2019-01-04 09:15:00          C          I   1640   \n",
       "2  2019-01-04 07:00:00  2019-01-04 09:15:00          C          J   5360   \n",
       "3  2019-01-04 07:20:00  2019-01-04 09:35:00          C          I   1635   \n",
       "4  2019-01-04 07:20:00  2019-01-04 09:35:00          C          I   1640   \n",
       "\n",
       "   rate           createDate  dateDifference  \n",
       "0  1.00  2019-01-03 14:26:15               1  \n",
       "1  0.31  2019-01-03 14:26:15               1  \n",
       "2  1.00  2019-01-03 14:26:15               1  \n",
       "3  0.29  2019-01-03 14:26:15               1  \n",
       "4  0.29  2019-01-03 14:26:15               1  "
      ]
     },
     "execution_count": 34,
     "metadata": {},
     "output_type": "execute_result"
    }
   ],
   "source": [
    "df_orig.head()"
   ]
  },
  {
   "cell_type": "code",
   "execution_count": 35,
   "metadata": {},
   "outputs": [
    {
     "data": {
      "text/plain": [
       "<matplotlib.axes._subplots.AxesSubplot at 0x128736e80>"
      ]
     },
     "execution_count": 35,
     "metadata": {},
     "output_type": "execute_result"
    },
    {
     "data": {
      "image/png": "[encoded data removed]",
      "text/plain": [
       "<Figure size 432x288 with 1 Axes>"
      ]
     },
     "metadata": {
      "needs_background": "light"
     },
     "output_type": "display_data"
    }
   ],
   "source": [
    "pcp = df_orig.groupby('priceClass').agg({'price':'sum'}).sort_values(by='price',ascending=False)\n",
    "sns.barplot(x=pcp.index, y = pcp['price'])"
   ]
  },
  {
   "cell_type": "code",
   "execution_count": 36,
   "metadata": {},
   "outputs": [],
   "source": [
    "# get day of week(Tues) for depDa, arDa, crDa\n",
    "df['departureDate_dofweek'] = df['departureDate'].dt.dayofweek\n",
    "df['arrivalDate_dofweek'] = df['arrivalDate'].dt.dayofweek\n",
    "df['createDate_dofweek'] = df['createDate'].dt.dayofweek\n",
    "# Note that 0 = Monday and 6 = Sunday. The comp starts off on Monday"
   ]
  },
  {
   "cell_type": "code",
   "execution_count": 37,
   "metadata": {},
   "outputs": [
    {
     "data": {
      "image/png": "[encoded data removed]",
      "text/plain": [
       "<Figure size 432x288 with 1 Axes>"
      ]
     },
     "metadata": {
      "needs_background": "light"
     },
     "output_type": "display_data"
    }
   ],
   "source": [
    "#see the number of flight departures by day of week\n",
    "sns.barplot(x=df['departureDate_dofweek'].unique(),y=df['departureDate_dofweek'].value_counts());\n",
    "\n",
    "plt.title('#of people departing by of week');"
   ]
  },
  {
   "cell_type": "code",
   "execution_count": 38,
   "metadata": {},
   "outputs": [],
   "source": [
    "# # # group by depart Day of Week and cabin class. Get the mean price per day\n",
    "mean_flp = df.groupby(['departureDate_dofweek','cabinClass']).agg({'price':'mean'}).sort_values('price', ascending=False)\n",
    "# # # reset the index\n",
    "mean_flp = mean_flp.reset_index()\n"
   ]
  },
  {
   "cell_type": "code",
   "execution_count": 39,
   "metadata": {},
   "outputs": [
    {
     "data": {
      "text/html": [
       "<div>\n",
       "<style scoped>\n",
       "    .dataframe tbody tr th:only-of-type {\n",
       "        vertical-align: middle;\n",
       "    }\n",
       "\n",
       "    .dataframe tbody tr th {\n",
       "        vertical-align: top;\n",
       "    }\n",
       "\n",
       "    .dataframe thead th {\n",
       "        text-align: right;\n",
       "    }\n",
       "</style>\n",
       "<table border=\"1\" class=\"dataframe\">\n",
       "  <thead>\n",
       "    <tr style=\"text-align: right;\">\n",
       "      <th></th>\n",
       "      <th>departureDate_dofweek</th>\n",
       "      <th>cabinClass</th>\n",
       "      <th>price</th>\n",
       "    </tr>\n",
       "  </thead>\n",
       "  <tbody>\n",
       "    <tr>\n",
       "      <th>0</th>\n",
       "      <td>4</td>\n",
       "      <td>2</td>\n",
       "      <td>4860.344748</td>\n",
       "    </tr>\n",
       "    <tr>\n",
       "      <th>1</th>\n",
       "      <td>3</td>\n",
       "      <td>2</td>\n",
       "      <td>4796.805445</td>\n",
       "    </tr>\n",
       "    <tr>\n",
       "      <th>2</th>\n",
       "      <td>2</td>\n",
       "      <td>2</td>\n",
       "      <td>4727.657046</td>\n",
       "    </tr>\n",
       "    <tr>\n",
       "      <th>3</th>\n",
       "      <td>1</td>\n",
       "      <td>2</td>\n",
       "      <td>4615.718278</td>\n",
       "    </tr>\n",
       "    <tr>\n",
       "      <th>4</th>\n",
       "      <td>6</td>\n",
       "      <td>2</td>\n",
       "      <td>4599.914722</td>\n",
       "    </tr>\n",
       "  </tbody>\n",
       "</table>\n",
       "</div>"
      ],
      "text/plain": [
       "   departureDate_dofweek  cabinClass        price\n",
       "0                      4           2  4860.344748\n",
       "1                      3           2  4796.805445\n",
       "2                      2           2  4727.657046\n",
       "3                      1           2  4615.718278\n",
       "4                      6           2  4599.914722"
      ]
     },
     "execution_count": 39,
     "metadata": {},
     "output_type": "execute_result"
    }
   ],
   "source": [
    "mean_flp.head()"
   ]
  },
  {
   "cell_type": "code",
   "execution_count": 364,
   "metadata": {},
   "outputs": [
    {
     "data": {
      "image/png": "[encoded data removed]",
      "text/plain": [
       "<Figure size 432x288 with 1 Axes>"
      ]
     },
     "metadata": {
      "needs_background": "light"
     },
     "output_type": "display_data"
    }
   ],
   "source": [
    "# # make a scatter plot of price by day for each cabin class\n",
    "sns.scatterplot(x=mean_flp['departureDate_dofweek'],y= mean_flp['price'], hue=mean_flp['cabinClass'])\n",
    "plt.title('Price per Cabin Class by Day of Week');\n",
    "plt.legend(bbox_to_anchor=(.15, -.15));\n"
   ]
  },
  {
   "cell_type": "code",
   "execution_count": 41,
   "metadata": {},
   "outputs": [
    {
     "data": {
      "text/html": [
       "<div>\n",
       "<style scoped>\n",
       "    .dataframe tbody tr th:only-of-type {\n",
       "        vertical-align: middle;\n",
       "    }\n",
       "\n",
       "    .dataframe tbody tr th {\n",
       "        vertical-align: top;\n",
       "    }\n",
       "\n",
       "    .dataframe thead th {\n",
       "        text-align: right;\n",
       "    }\n",
       "</style>\n",
       "<table border=\"1\" class=\"dataframe\">\n",
       "  <thead>\n",
       "    <tr style=\"text-align: right;\">\n",
       "      <th></th>\n",
       "      <th>ID</th>\n",
       "      <th>flightNumber</th>\n",
       "      <th>craftTypeCode</th>\n",
       "      <th>depAirport</th>\n",
       "      <th>arrAirport</th>\n",
       "      <th>departureDate</th>\n",
       "      <th>arrivalDate</th>\n",
       "      <th>cabinClass</th>\n",
       "      <th>priceClass</th>\n",
       "      <th>price</th>\n",
       "      <th>rate</th>\n",
       "      <th>createDate</th>\n",
       "      <th>dateDifference</th>\n",
       "      <th>departureDate_dofweek</th>\n",
       "      <th>arrivalDate_dofweek</th>\n",
       "      <th>createDate_dofweek</th>\n",
       "    </tr>\n",
       "  </thead>\n",
       "  <tbody>\n",
       "    <tr>\n",
       "      <th>0</th>\n",
       "      <td>14393</td>\n",
       "      <td>HO1252</td>\n",
       "      <td>320</td>\n",
       "      <td>PEK</td>\n",
       "      <td>SHA</td>\n",
       "      <td>2019-01-04 06:35:00</td>\n",
       "      <td>2019-01-04 08:55:00</td>\n",
       "      <td>1</td>\n",
       "      <td>C</td>\n",
       "      <td>1860</td>\n",
       "      <td>1.00</td>\n",
       "      <td>2019-01-03 14:26:15</td>\n",
       "      <td>1</td>\n",
       "      <td>4</td>\n",
       "      <td>4</td>\n",
       "      <td>3</td>\n",
       "    </tr>\n",
       "    <tr>\n",
       "      <th>1</th>\n",
       "      <td>14409</td>\n",
       "      <td>MU5138</td>\n",
       "      <td>33L</td>\n",
       "      <td>PEK</td>\n",
       "      <td>SHA</td>\n",
       "      <td>2019-01-04 07:00:00</td>\n",
       "      <td>2019-01-04 09:15:00</td>\n",
       "      <td>1</td>\n",
       "      <td>I</td>\n",
       "      <td>1640</td>\n",
       "      <td>0.31</td>\n",
       "      <td>2019-01-03 14:26:15</td>\n",
       "      <td>1</td>\n",
       "      <td>4</td>\n",
       "      <td>4</td>\n",
       "      <td>3</td>\n",
       "    </tr>\n",
       "    <tr>\n",
       "      <th>2</th>\n",
       "      <td>14415</td>\n",
       "      <td>MU5138</td>\n",
       "      <td>33L</td>\n",
       "      <td>PEK</td>\n",
       "      <td>SHA</td>\n",
       "      <td>2019-01-04 07:00:00</td>\n",
       "      <td>2019-01-04 09:15:00</td>\n",
       "      <td>1</td>\n",
       "      <td>J</td>\n",
       "      <td>5360</td>\n",
       "      <td>1.00</td>\n",
       "      <td>2019-01-03 14:26:15</td>\n",
       "      <td>1</td>\n",
       "      <td>4</td>\n",
       "      <td>4</td>\n",
       "      <td>3</td>\n",
       "    </tr>\n",
       "    <tr>\n",
       "      <th>3</th>\n",
       "      <td>14429</td>\n",
       "      <td>HU7605</td>\n",
       "      <td>350</td>\n",
       "      <td>PEK</td>\n",
       "      <td>SHA</td>\n",
       "      <td>2019-01-04 07:20:00</td>\n",
       "      <td>2019-01-04 09:35:00</td>\n",
       "      <td>1</td>\n",
       "      <td>I</td>\n",
       "      <td>1635</td>\n",
       "      <td>0.29</td>\n",
       "      <td>2019-01-03 14:26:15</td>\n",
       "      <td>1</td>\n",
       "      <td>4</td>\n",
       "      <td>4</td>\n",
       "      <td>3</td>\n",
       "    </tr>\n",
       "    <tr>\n",
       "      <th>4</th>\n",
       "      <td>14431</td>\n",
       "      <td>HU7605</td>\n",
       "      <td>350</td>\n",
       "      <td>PEK</td>\n",
       "      <td>SHA</td>\n",
       "      <td>2019-01-04 07:20:00</td>\n",
       "      <td>2019-01-04 09:35:00</td>\n",
       "      <td>1</td>\n",
       "      <td>I</td>\n",
       "      <td>1640</td>\n",
       "      <td>0.29</td>\n",
       "      <td>2019-01-03 14:26:15</td>\n",
       "      <td>1</td>\n",
       "      <td>4</td>\n",
       "      <td>4</td>\n",
       "      <td>3</td>\n",
       "    </tr>\n",
       "  </tbody>\n",
       "</table>\n",
       "</div>"
      ],
      "text/plain": [
       "      ID flightNumber craftTypeCode depAirport arrAirport       departureDate  \\\n",
       "0  14393       HO1252           320        PEK        SHA 2019-01-04 06:35:00   \n",
       "1  14409       MU5138           33L        PEK        SHA 2019-01-04 07:00:00   \n",
       "2  14415       MU5138           33L        PEK        SHA 2019-01-04 07:00:00   \n",
       "3  14429       HU7605           350        PEK        SHA 2019-01-04 07:20:00   \n",
       "4  14431       HU7605           350        PEK        SHA 2019-01-04 07:20:00   \n",
       "\n",
       "          arrivalDate  cabinClass priceClass  price  rate          createDate  \\\n",
       "0 2019-01-04 08:55:00           1          C   1860  1.00 2019-01-03 14:26:15   \n",
       "1 2019-01-04 09:15:00           1          I   1640  0.31 2019-01-03 14:26:15   \n",
       "2 2019-01-04 09:15:00           1          J   5360  1.00 2019-01-03 14:26:15   \n",
       "3 2019-01-04 09:35:00           1          I   1635  0.29 2019-01-03 14:26:15   \n",
       "4 2019-01-04 09:35:00           1          I   1640  0.29 2019-01-03 14:26:15   \n",
       "\n",
       "   dateDifference  departureDate_dofweek  arrivalDate_dofweek  \\\n",
       "0               1                      4                    4   \n",
       "1               1                      4                    4   \n",
       "2               1                      4                    4   \n",
       "3               1                      4                    4   \n",
       "4               1                      4                    4   \n",
       "\n",
       "   createDate_dofweek  \n",
       "0                   3  \n",
       "1                   3  \n",
       "2                   3  \n",
       "3                   3  \n",
       "4                   3  "
      ]
     },
     "execution_count": 41,
     "metadata": {},
     "output_type": "execute_result"
    }
   ],
   "source": [
    "df.head()"
   ]
  },
  {
   "cell_type": "code",
   "execution_count": 42,
   "metadata": {},
   "outputs": [],
   "source": [
    "# # groupby by date difference and see what we find\n",
    "# # delete this cell later\n",
    "# drpp = df.groupby(['dateDifference','rate','pricePaid','cabinClass']).agg({'price':'mean'}).reset_index()\n",
    "# # do scatter plot for just bussiness class\n",
    "# busi = drpp[drpp['cabinClass']==1]\n",
    "# sns.scatterplot(x=busi['dateDifference'],y=busi['rate'])"
   ]
  },
  {
   "cell_type": "code",
   "execution_count": 43,
   "metadata": {},
   "outputs": [
    {
     "data": {
      "text/plain": [
       "array(['HO1252', 'MU5138', 'HU7605', 'CA1831', 'MU5102', 'HU7607',\n",
       "       'MU5156', 'CZ3951', 'MU5104', 'MU5106', 'CA1531', 'MU5108',\n",
       "       'CA1557', 'MU5152', 'MU5110', 'CA1517', 'MU5154', 'MU5114',\n",
       "       'CA1521', 'MU5116', 'CA1515', 'HU7609', 'MU5118', 'CA1549',\n",
       "       'MU5120', 'HU7601', 'CA1855', 'MU5122', 'FM9108', 'MU5124',\n",
       "       'CA1857', 'MU5126', 'CA1589', 'FM9106', 'MU5128', 'HU7603',\n",
       "       'MU5158', 'MU5160', 'MU5693', 'CA1501', 'CA1519', 'MU5112',\n",
       "       'CA1885', 'MU7106', 'CZ3907', 'MF8178', 'FM9102', 'MU5390',\n",
       "       'CA1583', 'MU7032', 'CZ6412', 'CA1550', 'MU5125', 'MU5159',\n",
       "       'CA1856', 'HU7602', 'MU5331', 'FM9107', 'HO1251', 'MU5137',\n",
       "       'CA1858', 'MU5101', 'HU7604', 'MU5151', 'CA1590', 'MU5103',\n",
       "       'MF8177', 'MU5153', 'MU5105', 'CA1832', 'MU5107', 'HU7606',\n",
       "       'CZ3908', 'CA1502', 'MU5109', 'HU7608', 'CA1520', 'MU5111',\n",
       "       'FM9103', 'CA1532', 'MU5113', 'MU5155', 'CA1558', 'MU5115',\n",
       "       'MU5117', 'CA1518', 'MU5119', 'MU5157', 'CA1522', 'MU5121',\n",
       "       'HU7610', 'CA1516', 'MU5123', 'CA1886', 'MU5389', 'CA1584',\n",
       "       'CZ3952', 'MU5696', 'MU7105', 'MU7107'], dtype=object)"
      ]
     },
     "execution_count": 43,
     "metadata": {},
     "output_type": "execute_result"
    }
   ],
   "source": [
    "# the differnt flight numbers\n",
    "df['flightNumber'].unique()\n",
    "# I will extract the airline from the first 2 letters\n",
    "# heres the airline link  # https://en.wikipedia.org/wiki/List_of_airlines_of_China"
   ]
  },
  {
   "cell_type": "code",
   "execution_count": 44,
   "metadata": {},
   "outputs": [
    {
     "data": {
      "text/html": [
       "<div>\n",
       "<style scoped>\n",
       "    .dataframe tbody tr th:only-of-type {\n",
       "        vertical-align: middle;\n",
       "    }\n",
       "\n",
       "    .dataframe tbody tr th {\n",
       "        vertical-align: top;\n",
       "    }\n",
       "\n",
       "    .dataframe thead th {\n",
       "        text-align: right;\n",
       "    }\n",
       "</style>\n",
       "<table border=\"1\" class=\"dataframe\">\n",
       "  <thead>\n",
       "    <tr style=\"text-align: right;\">\n",
       "      <th></th>\n",
       "      <th>ID</th>\n",
       "      <th>flightNumber</th>\n",
       "      <th>craftTypeCode</th>\n",
       "      <th>depAirport</th>\n",
       "      <th>traAirport</th>\n",
       "      <th>arrAirport</th>\n",
       "      <th>departureDate</th>\n",
       "      <th>arrivalDate</th>\n",
       "      <th>cabinClass</th>\n",
       "      <th>priceClass</th>\n",
       "      <th>price</th>\n",
       "      <th>rate</th>\n",
       "      <th>createDate</th>\n",
       "      <th>dateDifference</th>\n",
       "    </tr>\n",
       "  </thead>\n",
       "  <tbody>\n",
       "    <tr>\n",
       "      <th>0</th>\n",
       "      <td>14393</td>\n",
       "      <td>HO1252</td>\n",
       "      <td>320</td>\n",
       "      <td>PEK</td>\n",
       "      <td>NaN</td>\n",
       "      <td>SHA</td>\n",
       "      <td>2019-01-04 06:35:00</td>\n",
       "      <td>2019-01-04 08:55:00</td>\n",
       "      <td>C</td>\n",
       "      <td>C</td>\n",
       "      <td>1860</td>\n",
       "      <td>1.00</td>\n",
       "      <td>2019-01-03 14:26:15</td>\n",
       "      <td>1</td>\n",
       "    </tr>\n",
       "    <tr>\n",
       "      <th>1</th>\n",
       "      <td>14409</td>\n",
       "      <td>MU5138</td>\n",
       "      <td>33L</td>\n",
       "      <td>PEK</td>\n",
       "      <td>NaN</td>\n",
       "      <td>SHA</td>\n",
       "      <td>2019-01-04 07:00:00</td>\n",
       "      <td>2019-01-04 09:15:00</td>\n",
       "      <td>C</td>\n",
       "      <td>I</td>\n",
       "      <td>1640</td>\n",
       "      <td>0.31</td>\n",
       "      <td>2019-01-03 14:26:15</td>\n",
       "      <td>1</td>\n",
       "    </tr>\n",
       "    <tr>\n",
       "      <th>2</th>\n",
       "      <td>14415</td>\n",
       "      <td>MU5138</td>\n",
       "      <td>33L</td>\n",
       "      <td>PEK</td>\n",
       "      <td>NaN</td>\n",
       "      <td>SHA</td>\n",
       "      <td>2019-01-04 07:00:00</td>\n",
       "      <td>2019-01-04 09:15:00</td>\n",
       "      <td>C</td>\n",
       "      <td>J</td>\n",
       "      <td>5360</td>\n",
       "      <td>1.00</td>\n",
       "      <td>2019-01-03 14:26:15</td>\n",
       "      <td>1</td>\n",
       "    </tr>\n",
       "    <tr>\n",
       "      <th>3</th>\n",
       "      <td>14429</td>\n",
       "      <td>HU7605</td>\n",
       "      <td>350</td>\n",
       "      <td>PEK</td>\n",
       "      <td>NaN</td>\n",
       "      <td>SHA</td>\n",
       "      <td>2019-01-04 07:20:00</td>\n",
       "      <td>2019-01-04 09:35:00</td>\n",
       "      <td>C</td>\n",
       "      <td>I</td>\n",
       "      <td>1635</td>\n",
       "      <td>0.29</td>\n",
       "      <td>2019-01-03 14:26:15</td>\n",
       "      <td>1</td>\n",
       "    </tr>\n",
       "    <tr>\n",
       "      <th>4</th>\n",
       "      <td>14431</td>\n",
       "      <td>HU7605</td>\n",
       "      <td>350</td>\n",
       "      <td>PEK</td>\n",
       "      <td>NaN</td>\n",
       "      <td>SHA</td>\n",
       "      <td>2019-01-04 07:20:00</td>\n",
       "      <td>2019-01-04 09:35:00</td>\n",
       "      <td>C</td>\n",
       "      <td>I</td>\n",
       "      <td>1640</td>\n",
       "      <td>0.29</td>\n",
       "      <td>2019-01-03 14:26:15</td>\n",
       "      <td>1</td>\n",
       "    </tr>\n",
       "  </tbody>\n",
       "</table>\n",
       "</div>"
      ],
      "text/plain": [
       "      ID flightNumber craftTypeCode depAirport traAirport arrAirport  \\\n",
       "0  14393       HO1252           320        PEK        NaN        SHA   \n",
       "1  14409       MU5138           33L        PEK        NaN        SHA   \n",
       "2  14415       MU5138           33L        PEK        NaN        SHA   \n",
       "3  14429       HU7605           350        PEK        NaN        SHA   \n",
       "4  14431       HU7605           350        PEK        NaN        SHA   \n",
       "\n",
       "         departureDate          arrivalDate cabinClass priceClass  price  \\\n",
       "0  2019-01-04 06:35:00  2019-01-04 08:55:00          C          C   1860   \n",
       "1  2019-01-04 07:00:00  2019-01-04 09:15:00          C          I   1640   \n",
       "2  2019-01-04 07:00:00  2019-01-04 09:15:00          C          J   5360   \n",
       "3  2019-01-04 07:20:00  2019-01-04 09:35:00          C          I   1635   \n",
       "4  2019-01-04 07:20:00  2019-01-04 09:35:00          C          I   1640   \n",
       "\n",
       "   rate           createDate  dateDifference  \n",
       "0  1.00  2019-01-03 14:26:15               1  \n",
       "1  0.31  2019-01-03 14:26:15               1  \n",
       "2  1.00  2019-01-03 14:26:15               1  \n",
       "3  0.29  2019-01-03 14:26:15               1  \n",
       "4  0.29  2019-01-03 14:26:15               1  "
      ]
     },
     "execution_count": 44,
     "metadata": {},
     "output_type": "execute_result"
    }
   ],
   "source": [
    "df_orig.head()"
   ]
  },
  {
   "cell_type": "code",
   "execution_count": 45,
   "metadata": {},
   "outputs": [
    {
     "data": {
      "text/plain": [
       "ID                  int64\n",
       "flightNumber       object\n",
       "craftTypeCode      object\n",
       "depAirport         object\n",
       "traAirport         object\n",
       "arrAirport         object\n",
       "departureDate      object\n",
       "arrivalDate        object\n",
       "cabinClass         object\n",
       "priceClass         object\n",
       "price               int64\n",
       "rate              float64\n",
       "createDate         object\n",
       "dateDifference      int64\n",
       "dtype: object"
      ]
     },
     "execution_count": 45,
     "metadata": {},
     "output_type": "execute_result"
    }
   ],
   "source": [
    "df_orig.dtypes"
   ]
  },
  {
   "cell_type": "code",
   "execution_count": null,
   "metadata": {},
   "outputs": [],
   "source": []
  },
  {
   "cell_type": "code",
   "execution_count": 46,
   "metadata": {},
   "outputs": [],
   "source": [
    "# change the columns into datetime objects\n",
    "df_orig['departureDate'] = pd.to_datetime(df_orig['departureDate'])\n",
    "df_orig['arrivalDate'] = pd.to_datetime(df_orig['arrivalDate'])\n",
    "df_orig['createDate'] = pd.to_datetime(df_orig['createDate'])"
   ]
  },
  {
   "cell_type": "code",
   "execution_count": 47,
   "metadata": {},
   "outputs": [
    {
     "data": {
      "text/plain": [
       "ID                         int64\n",
       "flightNumber              object\n",
       "craftTypeCode             object\n",
       "depAirport                object\n",
       "traAirport                object\n",
       "arrAirport                object\n",
       "departureDate     datetime64[ns]\n",
       "arrivalDate       datetime64[ns]\n",
       "cabinClass                object\n",
       "priceClass                object\n",
       "price                      int64\n",
       "rate                     float64\n",
       "createDate        datetime64[ns]\n",
       "dateDifference             int64\n",
       "dtype: object"
      ]
     },
     "execution_count": 47,
     "metadata": {},
     "output_type": "execute_result"
    }
   ],
   "source": [
    "# check to see if it worked.(it worked!)\n",
    "df_orig.dtypes"
   ]
  },
  {
   "cell_type": "code",
   "execution_count": null,
   "metadata": {},
   "outputs": [],
   "source": []
  },
  {
   "cell_type": "code",
   "execution_count": null,
   "metadata": {},
   "outputs": [],
   "source": []
  },
  {
   "cell_type": "code",
   "execution_count": null,
   "metadata": {},
   "outputs": [],
   "source": []
  },
  {
   "cell_type": "code",
   "execution_count": null,
   "metadata": {},
   "outputs": [],
   "source": []
  },
  {
   "cell_type": "code",
   "execution_count": null,
   "metadata": {},
   "outputs": [],
   "source": []
  },
  {
   "cell_type": "code",
   "execution_count": null,
   "metadata": {},
   "outputs": [],
   "source": []
  },
  {
   "cell_type": "markdown",
   "metadata": {},
   "source": [
    "# Mapping"
   ]
  },
  {
   "cell_type": "code",
   "execution_count": 48,
   "metadata": {},
   "outputs": [
    {
     "data": {
      "text/plain": [
       "array(['PEK', 'SHA'], dtype=object)"
      ]
     },
     "execution_count": 48,
     "metadata": {},
     "output_type": "execute_result"
    }
   ],
   "source": [
    "# get coordinates of the airports \n",
    "df['depAirport'].unique()\n",
    "\n",
    "# PEK = Beijing Capitiol INT Airp (40.0799° N, 116.6031° E)\n",
    "# SHA = Shanghai INT Airp (31.1922° N, 121.3343° E)"
   ]
  },
  {
   "cell_type": "code",
   "execution_count": 49,
   "metadata": {},
   "outputs": [],
   "source": [
    "# Put the coordinates for PEK Airport in a list\n",
    "PEK = [40.0799,116.6031]"
   ]
  },
  {
   "cell_type": "code",
   "execution_count": 50,
   "metadata": {},
   "outputs": [],
   "source": [
    "# Put the coordinates for PEK Airport in a list\n",
    "SHA = [31.1922,121.3343]"
   ]
  },
  {
   "cell_type": "code",
   "execution_count": 51,
   "metadata": {
    "collapsed": true,
    "jupyter": {
     "outputs_hidden": true
    }
   },
   "outputs": [
    {
     "data": {
      "text/html": [
       "<div style=\"width:100%;\"><div style=\"position:relative;width:100%;height:0;padding-bottom:60%;\"><iframe src=\"data:text/html;charset=utf-8;base64,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\" style=\"position:absolute;width:100%;height:100%;left:0;top:0;border:none !important;\" allowfullscreen webkitallowfullscreen mozallowfullscreen></iframe></div></div>"
      ],
      "text/plain": [
       "<folium.folium.Map at 0x128bc6588>"
      ]
     },
     "execution_count": 51,
     "metadata": {},
     "output_type": "execute_result"
    }
   ],
   "source": [
    "# Map the coordinates for SHA Airport \n",
    "sha_map = folium.Map(SHA, zoom_start=10)\n",
    "sha_map\n",
    "#Shanghai is an important economic, financial, trade and shipping center in China.\n",
    "#It contributes greatly to the whole nation's economic structure and the development of society."
   ]
  },
  {
   "cell_type": "code",
   "execution_count": 52,
   "metadata": {
    "collapsed": true,
    "jupyter": {
     "outputs_hidden": true
    }
   },
   "outputs": [
    {
     "data": {
      "text/html": [
       "<div style=\"width:100%;\"><div style=\"position:relative;width:100%;height:0;padding-bottom:60%;\"><iframe src=\"data:text/html;charset=utf-8;base64,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\" style=\"position:absolute;width:100%;height:100%;left:0;top:0;border:none !important;\" allowfullscreen webkitallowfullscreen mozallowfullscreen></iframe></div></div>"
      ],
      "text/plain": [
       "<folium.folium.Map at 0x1288b37b8>"
      ]
     },
     "execution_count": 52,
     "metadata": {},
     "output_type": "execute_result"
    }
   ],
   "source": [
    "# Map the coordinates for PEK Airport \n",
    "pek_map = folium.Map(PEK)\n",
    "pek_map\n",
    "#Beijing, also called Peking, is the capital of China, the political center of China, \n",
    "#the cultural center of China, as well as the key transportation hub of the world."
   ]
  },
  {
   "cell_type": "code",
   "execution_count": 53,
   "metadata": {},
   "outputs": [],
   "source": [
    "# the Dist from PEk to SHA is 580 Nautical miles, and 668 reg miles\n",
    "# Same dist from SHA to PEK"
   ]
  },
  {
   "cell_type": "code",
   "execution_count": 54,
   "metadata": {},
   "outputs": [
    {
     "data": {
      "text/plain": [
       "ID                         int64\n",
       "flightNumber              object\n",
       "craftTypeCode             object\n",
       "depAirport                object\n",
       "traAirport                object\n",
       "arrAirport                object\n",
       "departureDate     datetime64[ns]\n",
       "arrivalDate       datetime64[ns]\n",
       "cabinClass                object\n",
       "priceClass                object\n",
       "price                      int64\n",
       "rate                     float64\n",
       "createDate        datetime64[ns]\n",
       "dateDifference             int64\n",
       "dtype: object"
      ]
     },
     "execution_count": 54,
     "metadata": {},
     "output_type": "execute_result"
    }
   ],
   "source": [
    "df_orig.dtypes"
   ]
  },
  {
   "cell_type": "code",
   "execution_count": 55,
   "metadata": {},
   "outputs": [
    {
     "data": {
      "text/plain": [
       "15"
      ]
     },
     "execution_count": 55,
     "metadata": {},
     "output_type": "execute_result"
    }
   ],
   "source": [
    "df['dateDifference'].nunique()"
   ]
  },
  {
   "cell_type": "code",
   "execution_count": null,
   "metadata": {},
   "outputs": [],
   "source": []
  },
  {
   "cell_type": "markdown",
   "metadata": {},
   "source": [
    "# Vanilla Models"
   ]
  },
  {
   "cell_type": "code",
   "execution_count": 56,
   "metadata": {},
   "outputs": [],
   "source": [
    "# Instantiate Features and Target variables\n",
    "# Come back to this and figure it out\n",
    "y = df_orig['price']\n",
    "X = df_orig.drop(['price','traAirport','flightNumber', 'craftTypeCode', 'depAirport', 'arrAirport',\n",
    "       'departureDate', 'arrivalDate','createDate','cabinClass', 'priceClass','ID'],axis=1)\n",
    "\n",
    "# Train test split the original dataframe\n",
    "X_train, X_test, y_train, y_test = train_test_split(X,y,test_size=.2, random_state=2)"
   ]
  },
  {
   "cell_type": "markdown",
   "metadata": {},
   "source": [
    "# Validation Set"
   ]
  },
  {
   "cell_type": "code",
   "execution_count": 57,
   "metadata": {},
   "outputs": [],
   "source": [
    "# create a validation set. \n",
    "X_train, X_val, y_train, y_val = train_test_split(X_train, y_train,test_size=.2, random_state=2)"
   ]
  },
  {
   "cell_type": "code",
   "execution_count": 58,
   "metadata": {},
   "outputs": [
    {
     "data": {
      "text/plain": [
       "rate              float64\n",
       "dateDifference      int64\n",
       "dtype: object"
      ]
     },
     "execution_count": 58,
     "metadata": {},
     "output_type": "execute_result"
    }
   ],
   "source": [
    "X_train.dtypes"
   ]
  },
  {
   "cell_type": "code",
   "execution_count": 59,
   "metadata": {},
   "outputs": [
    {
     "name": "stdout",
     "output_type": "stream",
     "text": [
      "The shape of X_Train is (364106, 2)\n",
      "The shape of X_test is (113784, 2)\n",
      "The shape of X_val is (91027, 2)\n",
      "The shape of Y_Train is (364106,)\n",
      "The shape of Y_test is (113784,)\n",
      "The shape of Y_val is (91027,)\n"
     ]
    }
   ],
   "source": [
    "# Check the shape of the train and test train\n",
    "\n",
    "print(f'The shape of X_Train is {X_train.shape}')\n",
    "print(f'The shape of X_test is {X_test.shape}')\n",
    "print(f'The shape of X_val is {X_val.shape}')\n",
    "print(f'The shape of Y_Train is {y_train.shape}')\n",
    "print(f'The shape of Y_test is {y_test.shape}')\n",
    "print(f'The shape of Y_val is {y_val.shape}')\n"
   ]
  },
  {
   "cell_type": "code",
   "execution_count": 60,
   "metadata": {},
   "outputs": [],
   "source": [
    "from sklearn.metrics import mean_squared_error"
   ]
  },
  {
   "cell_type": "markdown",
   "metadata": {},
   "source": [
    "# Linear Regression Vanilla"
   ]
  },
  {
   "cell_type": "code",
   "execution_count": 61,
   "metadata": {},
   "outputs": [],
   "source": [
    "# import needed library\n",
    "from sklearn.linear_model import LinearRegression"
   ]
  },
  {
   "cell_type": "code",
   "execution_count": 62,
   "metadata": {},
   "outputs": [
    {
     "data": {
      "text/plain": [
       "LinearRegression(copy_X=True, fit_intercept=True, n_jobs=None, normalize=False)"
      ]
     },
     "execution_count": 62,
     "metadata": {},
     "output_type": "execute_result"
    }
   ],
   "source": [
    "# instantiate the model\n",
    "linreg = LinearRegression()\n",
    "# fit the model to the train data\n",
    "linreg.fit(X_train,y_train)"
   ]
  },
  {
   "cell_type": "code",
   "execution_count": 63,
   "metadata": {},
   "outputs": [],
   "source": [
    "# get the prediction\n",
    "y_preds = linreg.predict(X_val)"
   ]
  },
  {
   "cell_type": "code",
   "execution_count": 64,
   "metadata": {},
   "outputs": [],
   "source": [
    "# calculate the mse\n",
    "mse_linreg = mean_squared_error(y_val, y_preds)"
   ]
  },
  {
   "cell_type": "code",
   "execution_count": 65,
   "metadata": {},
   "outputs": [
    {
     "name": "stdout",
     "output_type": "stream",
     "text": [
      "The Mean Squared Error For Linear Regression Vanilla Is: 2483021.880834724\n",
      "The R^2 value is : 0.18524762925468674\n"
     ]
    }
   ],
   "source": [
    "# print the mse\n",
    "print(f'the mean squared error for Linear Regression Vanilla is: {mse_linreg}'.title())\n",
    "print(f'The R^2 value is : {r2_score(y_val, y_preds)}')"
   ]
  },
  {
   "cell_type": "code",
   "execution_count": null,
   "metadata": {},
   "outputs": [],
   "source": []
  },
  {
   "cell_type": "markdown",
   "metadata": {},
   "source": [
    "# XGBoost Regressor Vanilla"
   ]
  },
  {
   "cell_type": "code",
   "execution_count": 66,
   "metadata": {},
   "outputs": [],
   "source": [
    "# import needed library\n",
    "import xgboost"
   ]
  },
  {
   "cell_type": "code",
   "execution_count": 67,
   "metadata": {},
   "outputs": [
    {
     "name": "stderr",
     "output_type": "stream",
     "text": [
      "//anaconda3/lib/python3.7/site-packages/xgboost/core.py:587: FutureWarning: Series.base is deprecated and will be removed in a future version\n",
      "  if getattr(data, 'base', None) is not None and \\\n"
     ]
    },
    {
     "name": "stdout",
     "output_type": "stream",
     "text": [
      "[11:43:57] WARNING: src/objective/regression_obj.cu:152: reg:linear is now deprecated in favor of reg:squarederror.\n"
     ]
    },
    {
     "data": {
      "text/plain": [
       "XGBRegressor(base_score=0.5, booster='gbtree', colsample_bylevel=1,\n",
       "             colsample_bynode=1, colsample_bytree=1, gamma=0,\n",
       "             importance_type='gain', learning_rate=0.1, max_delta_step=0,\n",
       "             max_depth=3, min_child_weight=1, missing=None, n_estimators=100,\n",
       "             n_jobs=1, nthread=None, objective='reg:linear', random_state=0,\n",
       "             reg_alpha=0, reg_lambda=1, scale_pos_weight=1, seed=None,\n",
       "             silent=None, subsample=1, verbosity=1)"
      ]
     },
     "execution_count": 67,
     "metadata": {},
     "output_type": "execute_result"
    }
   ],
   "source": [
    "# instantiate the model\n",
    "xgb = xgboost.XGBRegressor()\n",
    "# fit the model to training data\n",
    "xgb.fit(X_train,y_train)"
   ]
  },
  {
   "cell_type": "code",
   "execution_count": 68,
   "metadata": {},
   "outputs": [],
   "source": [
    "xgb_y_preds = xgb.predict(X_val)"
   ]
  },
  {
   "cell_type": "code",
   "execution_count": 69,
   "metadata": {},
   "outputs": [
    {
     "data": {
      "text/plain": [
       "1854954.8602086434"
      ]
     },
     "execution_count": 69,
     "metadata": {},
     "output_type": "execute_result"
    }
   ],
   "source": [
    "mse_xgb = mean_squared_error(y_val,xgb_y_preds)\n",
    "mse_xgb"
   ]
  },
  {
   "cell_type": "code",
   "execution_count": 70,
   "metadata": {},
   "outputs": [
    {
     "name": "stdout",
     "output_type": "stream",
     "text": [
      "The R^2 value is : 0.3913348562709942 \n"
     ]
    }
   ],
   "source": [
    "print(f'The R^2 value is : {r2_score(y_val,xgb_y_preds)} ')"
   ]
  },
  {
   "cell_type": "markdown",
   "metadata": {},
   "source": [
    "# AdaBoost Regression Vanilla"
   ]
  },
  {
   "cell_type": "code",
   "execution_count": 71,
   "metadata": {},
   "outputs": [],
   "source": [
    "# import needed library\n",
    "from sklearn.ensemble import AdaBoostRegressor"
   ]
  },
  {
   "cell_type": "code",
   "execution_count": 72,
   "metadata": {},
   "outputs": [
    {
     "data": {
      "text/plain": [
       "AdaBoostRegressor(base_estimator=None, learning_rate=1.0, loss='linear',\n",
       "                  n_estimators=50, random_state=None)"
      ]
     },
     "execution_count": 72,
     "metadata": {},
     "output_type": "execute_result"
    }
   ],
   "source": [
    "# instantaite adaboost model\n",
    "ada = AdaBoostRegressor()\n",
    "\n",
    "# fit the model to the train data\n",
    "ada.fit(X_train,y_train)"
   ]
  },
  {
   "cell_type": "code",
   "execution_count": 73,
   "metadata": {},
   "outputs": [
    {
     "name": "stdout",
     "output_type": "stream",
     "text": [
      "The Mean squared error for the ada boost model is 2073638.2446355564\n",
      "The R^2 value is : 0.31704929122724634 \n"
     ]
    }
   ],
   "source": [
    "# get the prediction\n",
    "ada_preds = ada.predict(X_val)\n",
    "# get the MSE\n",
    "mse_ada = mean_squared_error(y_val, ada_preds)\n",
    "#print the mse\n",
    "print(f'The Mean squared error for the ada boost model is {mse_ada}')\n",
    "print(f'The R^2 value is : {ada.score(X_train,y_train)} ')"
   ]
  },
  {
   "cell_type": "code",
   "execution_count": null,
   "metadata": {},
   "outputs": [],
   "source": []
  },
  {
   "cell_type": "markdown",
   "metadata": {},
   "source": [
    "# Gradient Boosting"
   ]
  },
  {
   "cell_type": "code",
   "execution_count": 74,
   "metadata": {},
   "outputs": [],
   "source": [
    "# import needed library\n",
    "from sklearn.ensemble import GradientBoostingRegressor"
   ]
  },
  {
   "cell_type": "code",
   "execution_count": 75,
   "metadata": {},
   "outputs": [
    {
     "data": {
      "text/plain": [
       "GradientBoostingRegressor(alpha=0.9, criterion='friedman_mse', init=None,\n",
       "                          learning_rate=0.1, loss='ls', max_depth=3,\n",
       "                          max_features=None, max_leaf_nodes=None,\n",
       "                          min_impurity_decrease=0.0, min_impurity_split=None,\n",
       "                          min_samples_leaf=1, min_samples_split=2,\n",
       "                          min_weight_fraction_leaf=0.0, n_estimators=100,\n",
       "                          n_iter_no_change=None, presort='auto',\n",
       "                          random_state=None, subsample=1.0, tol=0.0001,\n",
       "                          validation_fraction=0.1, verbose=0, warm_start=False)"
      ]
     },
     "execution_count": 75,
     "metadata": {},
     "output_type": "execute_result"
    }
   ],
   "source": [
    "# instantiate the model\n",
    "gdb = GradientBoostingRegressor()\n",
    "# fit the model to training data\n",
    "gdb.fit(X_train,y_train)"
   ]
  },
  {
   "cell_type": "code",
   "execution_count": 76,
   "metadata": {},
   "outputs": [
    {
     "name": "stdout",
     "output_type": "stream",
     "text": [
      "the mean squared error for gradient boosting test data is 1858791.5043147777\n",
      "The R^2 value is : 0.39007594071116514\n"
     ]
    }
   ],
   "source": [
    "# get predictions\n",
    "gdb_preds = gdb.predict(X_val)\n",
    "\n",
    "#get MeanSE\n",
    "mse_gdb = mean_squared_error(gdb_preds,y_val)\n",
    "\n",
    "print(f'the mean squared error for gradient boosting test data is {mse_gdb}')\n",
    "print(f'The R^2 value is : {r2_score(y_val,gdb_preds)}')"
   ]
  },
  {
   "cell_type": "code",
   "execution_count": null,
   "metadata": {},
   "outputs": [],
   "source": []
  },
  {
   "cell_type": "code",
   "execution_count": null,
   "metadata": {},
   "outputs": [],
   "source": []
  },
  {
   "cell_type": "markdown",
   "metadata": {},
   "source": [
    "# Random Forest Vanilla"
   ]
  },
  {
   "cell_type": "code",
   "execution_count": 77,
   "metadata": {},
   "outputs": [
    {
     "name": "stderr",
     "output_type": "stream",
     "text": [
      "//anaconda3/lib/python3.7/site-packages/sklearn/ensemble/forest.py:245: FutureWarning: The default value of n_estimators will change from 10 in version 0.20 to 100 in 0.22.\n",
      "  \"10 in version 0.20 to 100 in 0.22.\", FutureWarning)\n"
     ]
    },
    {
     "data": {
      "text/plain": [
       "RandomForestRegressor(bootstrap=True, criterion='mse', max_depth=None,\n",
       "                      max_features='auto', max_leaf_nodes=None,\n",
       "                      min_impurity_decrease=0.0, min_impurity_split=None,\n",
       "                      min_samples_leaf=1, min_samples_split=2,\n",
       "                      min_weight_fraction_leaf=0.0, n_estimators=10,\n",
       "                      n_jobs=None, oob_score=False, random_state=None,\n",
       "                      verbose=0, warm_start=False)"
      ]
     },
     "execution_count": 77,
     "metadata": {},
     "output_type": "execute_result"
    }
   ],
   "source": [
    "# instantiate the model\n",
    "rfr = RandomForestRegressor()\n",
    "\n",
    "# fit the model to training data\n",
    "rfr.fit(X_train, y_train)"
   ]
  },
  {
   "cell_type": "code",
   "execution_count": 78,
   "metadata": {},
   "outputs": [
    {
     "name": "stdout",
     "output_type": "stream",
     "text": [
      "The mean squared error for Random Forest Validation Data is: 1809830.2524084037 \n",
      "The R^2 value is : 0.4061415647692046\n"
     ]
    }
   ],
   "source": [
    "# Get predictions\n",
    "rfr_preds = rfr.predict(X_val)\n",
    "\n",
    "# get MSE for model\n",
    "mse_rfr = mean_squared_error(y_val, rfr_preds)\n",
    "# print Mse\n",
    "print(f'The mean squared error for Random Forest Validation Data is: {mse_rfr} ')\n",
    "print(f'The R^2 value is : {r2_score(y_val,rfr_preds)}')"
   ]
  },
  {
   "cell_type": "code",
   "execution_count": null,
   "metadata": {},
   "outputs": [],
   "source": []
  },
  {
   "cell_type": "code",
   "execution_count": null,
   "metadata": {},
   "outputs": [],
   "source": []
  },
  {
   "cell_type": "code",
   "execution_count": null,
   "metadata": {},
   "outputs": [],
   "source": []
  },
  {
   "cell_type": "code",
   "execution_count": null,
   "metadata": {},
   "outputs": [],
   "source": []
  },
  {
   "cell_type": "code",
   "execution_count": null,
   "metadata": {},
   "outputs": [],
   "source": []
  },
  {
   "cell_type": "markdown",
   "metadata": {},
   "source": [
    "# Run Models from Shanghai to Peking"
   ]
  },
  {
   "cell_type": "code",
   "execution_count": 79,
   "metadata": {},
   "outputs": [],
   "source": [
    "\n",
    "#Define Variables\n",
    "yS = df2.price\n",
    "XS = df2.drop(['price','traAirport','flightNumber', 'craftTypeCode', 'depAirport', 'arrAirport',\n",
    "       'departureDate', 'arrivalDate','createDate','cabinClass', 'priceClass','ID'],axis=1)\n",
    "\n",
    "# Do a train test split\n",
    "X_trainS, X_testS, y_trainS, y_testS = train_test_split(XS,yS, test_size = .2, random_state=3)\n",
    "\n",
    "# make a validation set \n",
    "\n",
    "X_trainS, X_valS, y_trainS, y_valS = train_test_split(X_trainS,y_trainS, test_size = .2, random_state=3)"
   ]
  },
  {
   "cell_type": "markdown",
   "metadata": {},
   "source": [
    "# Linear Regression Vanilla SHA - PEK"
   ]
  },
  {
   "cell_type": "code",
   "execution_count": 80,
   "metadata": {},
   "outputs": [
    {
     "data": {
      "text/plain": [
       "LinearRegression(copy_X=True, fit_intercept=True, n_jobs=None, normalize=False)"
      ]
     },
     "execution_count": 80,
     "metadata": {},
     "output_type": "execute_result"
    }
   ],
   "source": [
    "# instantiate the model\n",
    "linregS = LinearRegression()\n",
    "# fit the model to the train data\n",
    "linregS.fit(X_trainS,y_trainS)"
   ]
  },
  {
   "cell_type": "code",
   "execution_count": 81,
   "metadata": {},
   "outputs": [
    {
     "name": "stdout",
     "output_type": "stream",
     "text": [
      "The Mean Squared Error For Linear Regression Vanilla Is: 2476798.2476133117\n",
      "The R^2 value is : 0.18500185116694512\n"
     ]
    }
   ],
   "source": [
    "# get the prediction\n",
    "y_preds2 = linreg.predict(X_valS)\n",
    "\n",
    "# calculate the mse\n",
    "mse_linreg = mean_squared_error(y_valS, y_preds2)\n",
    "\n",
    "print(f'the mean squared error for Linear Regression Vanilla is: {mse_linreg}'.title())\n",
    "print(f'The R^2 value is : {linregS.score(X_val,y_val)}')"
   ]
  },
  {
   "cell_type": "code",
   "execution_count": null,
   "metadata": {},
   "outputs": [],
   "source": []
  },
  {
   "cell_type": "markdown",
   "metadata": {},
   "source": [
    "# XG Boost Vanilla Sha-PEk"
   ]
  },
  {
   "cell_type": "code",
   "execution_count": 82,
   "metadata": {},
   "outputs": [
    {
     "name": "stdout",
     "output_type": "stream",
     "text": [
      "[11:44:19] WARNING: src/objective/regression_obj.cu:152: reg:linear is now deprecated in favor of reg:squarederror.\n"
     ]
    },
    {
     "name": "stderr",
     "output_type": "stream",
     "text": [
      "//anaconda3/lib/python3.7/site-packages/xgboost/core.py:587: FutureWarning: Series.base is deprecated and will be removed in a future version\n",
      "  if getattr(data, 'base', None) is not None and \\\n"
     ]
    },
    {
     "data": {
      "text/plain": [
       "XGBRegressor(base_score=0.5, booster='gbtree', colsample_bylevel=1,\n",
       "             colsample_bynode=1, colsample_bytree=1, gamma=0,\n",
       "             importance_type='gain', learning_rate=0.1, max_delta_step=0,\n",
       "             max_depth=3, min_child_weight=1, missing=None, n_estimators=100,\n",
       "             n_jobs=1, nthread=None, objective='reg:linear', random_state=0,\n",
       "             reg_alpha=0, reg_lambda=1, scale_pos_weight=1, seed=None,\n",
       "             silent=None, subsample=1, verbosity=1)"
      ]
     },
     "execution_count": 82,
     "metadata": {},
     "output_type": "execute_result"
    }
   ],
   "source": [
    "# instantiate the model\n",
    "xgbS = xgboost.XGBRegressor()\n",
    "# fit the model to training data\n",
    "xgbS.fit(X_trainS,y_trainS)"
   ]
  },
  {
   "cell_type": "code",
   "execution_count": 83,
   "metadata": {},
   "outputs": [
    {
     "data": {
      "text/plain": [
       "1820922.1476192744"
      ]
     },
     "execution_count": 83,
     "metadata": {},
     "output_type": "execute_result"
    }
   ],
   "source": [
    "Sxgb_y_preds = xgbS.predict(X_valS)\n",
    "Smse_xgb = mean_squared_error(y_valS,Sxgb_y_preds)\n",
    "Smse_xgb"
   ]
  },
  {
   "cell_type": "code",
   "execution_count": 84,
   "metadata": {},
   "outputs": [
    {
     "name": "stdout",
     "output_type": "stream",
     "text": [
      "The R^2 value is : 0.3970999565581722\n"
     ]
    }
   ],
   "source": [
    "print(f'The R^2 value is : {r2_score(y_valS,Sxgb_y_preds)}')"
   ]
  },
  {
   "cell_type": "markdown",
   "metadata": {},
   "source": [
    "# Ada Boost Vanilla Sha-Pek"
   ]
  },
  {
   "cell_type": "code",
   "execution_count": 85,
   "metadata": {},
   "outputs": [
    {
     "data": {
      "text/plain": [
       "AdaBoostRegressor(base_estimator=None, learning_rate=1.0, loss='linear',\n",
       "                  n_estimators=50, random_state=None)"
      ]
     },
     "execution_count": 85,
     "metadata": {},
     "output_type": "execute_result"
    }
   ],
   "source": [
    "# instantaite adaboost model\n",
    "adaS = AdaBoostRegressor()\n",
    "\n",
    "# fit the model to the train data\n",
    "adaS.fit(X_trainS,y_trainS)"
   ]
  },
  {
   "cell_type": "code",
   "execution_count": 86,
   "metadata": {},
   "outputs": [
    {
     "name": "stdout",
     "output_type": "stream",
     "text": [
      "The Mean squared error for the ada boost model is 2013453.3152513597\n",
      "The R^2 value is : 0.33335365665125294\n"
     ]
    }
   ],
   "source": [
    "# get the prediction\n",
    "Sada_preds = adaS.predict(X_valS)\n",
    "# get the MSE\n",
    "Smse_ada = mean_squared_error(y_valS, Sada_preds)\n",
    "#print the mse\n",
    "print(f'The Mean squared error for the ada boost model is {Smse_ada}')\n",
    "print(f'The R^2 value is : {r2_score(y_valS,Sada_preds)}')"
   ]
  },
  {
   "cell_type": "code",
   "execution_count": null,
   "metadata": {},
   "outputs": [],
   "source": []
  },
  {
   "cell_type": "code",
   "execution_count": null,
   "metadata": {},
   "outputs": [],
   "source": []
  },
  {
   "cell_type": "markdown",
   "metadata": {},
   "source": [
    "# Gradient Boosting Vanilla SHA-PEK"
   ]
  },
  {
   "cell_type": "code",
   "execution_count": 87,
   "metadata": {},
   "outputs": [
    {
     "data": {
      "text/plain": [
       "GradientBoostingRegressor(alpha=0.9, criterion='friedman_mse', init=None,\n",
       "                          learning_rate=0.1, loss='ls', max_depth=3,\n",
       "                          max_features=None, max_leaf_nodes=None,\n",
       "                          min_impurity_decrease=0.0, min_impurity_split=None,\n",
       "                          min_samples_leaf=1, min_samples_split=2,\n",
       "                          min_weight_fraction_leaf=0.0, n_estimators=100,\n",
       "                          n_iter_no_change=None, presort='auto',\n",
       "                          random_state=None, subsample=1.0, tol=0.0001,\n",
       "                          validation_fraction=0.1, verbose=0, warm_start=False)"
      ]
     },
     "execution_count": 87,
     "metadata": {},
     "output_type": "execute_result"
    }
   ],
   "source": [
    "# instantiate the model\n",
    "gdbS = GradientBoostingRegressor()\n",
    "# fit the model to training data\n",
    "gdbS.fit(X_trainS,y_trainS)"
   ]
  },
  {
   "cell_type": "code",
   "execution_count": 88,
   "metadata": {},
   "outputs": [
    {
     "name": "stdout",
     "output_type": "stream",
     "text": [
      "the mean squared error for gradient boosting test data is 1820439.136601348\n",
      "The R^2 value is : 0.3972598795752389\n"
     ]
    }
   ],
   "source": [
    "# get predictions\n",
    "Sgdb_preds = gdbS.predict(X_valS)\n",
    "\n",
    "#get MeanSE\n",
    "Smse_gdb = mean_squared_error(Sgdb_preds,y_valS)\n",
    "\n",
    "print(f'the mean squared error for gradient boosting test data is {Smse_gdb}')\n",
    "print(f'The R^2 value is : {r2_score(y_valS,Sgdb_preds)}')"
   ]
  },
  {
   "cell_type": "code",
   "execution_count": null,
   "metadata": {},
   "outputs": [],
   "source": []
  },
  {
   "cell_type": "code",
   "execution_count": null,
   "metadata": {},
   "outputs": [],
   "source": []
  },
  {
   "cell_type": "markdown",
   "metadata": {},
   "source": [
    "# Random Forest Vanilla SHA-PEK"
   ]
  },
  {
   "cell_type": "code",
   "execution_count": 89,
   "metadata": {},
   "outputs": [
    {
     "name": "stderr",
     "output_type": "stream",
     "text": [
      "//anaconda3/lib/python3.7/site-packages/sklearn/ensemble/forest.py:245: FutureWarning: The default value of n_estimators will change from 10 in version 0.20 to 100 in 0.22.\n",
      "  \"10 in version 0.20 to 100 in 0.22.\", FutureWarning)\n"
     ]
    },
    {
     "data": {
      "text/plain": [
       "RandomForestRegressor(bootstrap=True, criterion='mse', max_depth=None,\n",
       "                      max_features='auto', max_leaf_nodes=None,\n",
       "                      min_impurity_decrease=0.0, min_impurity_split=None,\n",
       "                      min_samples_leaf=1, min_samples_split=2,\n",
       "                      min_weight_fraction_leaf=0.0, n_estimators=10,\n",
       "                      n_jobs=None, oob_score=False, random_state=None,\n",
       "                      verbose=0, warm_start=False)"
      ]
     },
     "execution_count": 89,
     "metadata": {},
     "output_type": "execute_result"
    }
   ],
   "source": [
    "# instantiate the model\n",
    "Srfr = RandomForestRegressor()\n",
    "\n",
    "# fit the model to training data\n",
    "Srfr.fit(X_trainS, y_trainS)"
   ]
  },
  {
   "cell_type": "code",
   "execution_count": 90,
   "metadata": {},
   "outputs": [
    {
     "name": "stdout",
     "output_type": "stream",
     "text": [
      "The mean squared error for Random Forest Validation Data is: 1765675.2526738748 \n",
      "The R^2 value is : 0.4153919826100031\n"
     ]
    }
   ],
   "source": [
    "# Get predictions\n",
    "Srfr_preds = Srfr.predict(X_valS)\n",
    "\n",
    "# get MSE for model\n",
    "Smse_rfr = mean_squared_error(y_valS, Srfr_preds)\n",
    "# print Mse\n",
    "print(f'The mean squared error for Random Forest Validation Data is: {Smse_rfr} ')\n",
    "print(f'The R^2 value is : {r2_score(y_valS,Srfr_preds)}')"
   ]
  },
  {
   "cell_type": "code",
   "execution_count": null,
   "metadata": {},
   "outputs": [],
   "source": []
  },
  {
   "cell_type": "code",
   "execution_count": 91,
   "metadata": {},
   "outputs": [
    {
     "data": {
      "text/html": [
       "<div>\n",
       "<style scoped>\n",
       "    .dataframe tbody tr th:only-of-type {\n",
       "        vertical-align: middle;\n",
       "    }\n",
       "\n",
       "    .dataframe tbody tr th {\n",
       "        vertical-align: top;\n",
       "    }\n",
       "\n",
       "    .dataframe thead th {\n",
       "        text-align: right;\n",
       "    }\n",
       "</style>\n",
       "<table border=\"1\" class=\"dataframe\">\n",
       "  <thead>\n",
       "    <tr style=\"text-align: right;\">\n",
       "      <th></th>\n",
       "      <th>ID</th>\n",
       "      <th>flightNumber</th>\n",
       "      <th>craftTypeCode</th>\n",
       "      <th>depAirport</th>\n",
       "      <th>traAirport</th>\n",
       "      <th>arrAirport</th>\n",
       "      <th>departureDate</th>\n",
       "      <th>arrivalDate</th>\n",
       "      <th>cabinClass</th>\n",
       "      <th>priceClass</th>\n",
       "      <th>price</th>\n",
       "      <th>rate</th>\n",
       "      <th>createDate</th>\n",
       "      <th>dateDifference</th>\n",
       "    </tr>\n",
       "  </thead>\n",
       "  <tbody>\n",
       "    <tr>\n",
       "      <th>0</th>\n",
       "      <td>14393</td>\n",
       "      <td>HO1252</td>\n",
       "      <td>320</td>\n",
       "      <td>PEK</td>\n",
       "      <td>NaN</td>\n",
       "      <td>SHA</td>\n",
       "      <td>2019-01-04 06:35:00</td>\n",
       "      <td>2019-01-04 08:55:00</td>\n",
       "      <td>C</td>\n",
       "      <td>C</td>\n",
       "      <td>1860</td>\n",
       "      <td>1.00</td>\n",
       "      <td>2019-01-03 14:26:15</td>\n",
       "      <td>1</td>\n",
       "    </tr>\n",
       "    <tr>\n",
       "      <th>1</th>\n",
       "      <td>14409</td>\n",
       "      <td>MU5138</td>\n",
       "      <td>33L</td>\n",
       "      <td>PEK</td>\n",
       "      <td>NaN</td>\n",
       "      <td>SHA</td>\n",
       "      <td>2019-01-04 07:00:00</td>\n",
       "      <td>2019-01-04 09:15:00</td>\n",
       "      <td>C</td>\n",
       "      <td>I</td>\n",
       "      <td>1640</td>\n",
       "      <td>0.31</td>\n",
       "      <td>2019-01-03 14:26:15</td>\n",
       "      <td>1</td>\n",
       "    </tr>\n",
       "    <tr>\n",
       "      <th>2</th>\n",
       "      <td>14415</td>\n",
       "      <td>MU5138</td>\n",
       "      <td>33L</td>\n",
       "      <td>PEK</td>\n",
       "      <td>NaN</td>\n",
       "      <td>SHA</td>\n",
       "      <td>2019-01-04 07:00:00</td>\n",
       "      <td>2019-01-04 09:15:00</td>\n",
       "      <td>C</td>\n",
       "      <td>J</td>\n",
       "      <td>5360</td>\n",
       "      <td>1.00</td>\n",
       "      <td>2019-01-03 14:26:15</td>\n",
       "      <td>1</td>\n",
       "    </tr>\n",
       "    <tr>\n",
       "      <th>3</th>\n",
       "      <td>14429</td>\n",
       "      <td>HU7605</td>\n",
       "      <td>350</td>\n",
       "      <td>PEK</td>\n",
       "      <td>NaN</td>\n",
       "      <td>SHA</td>\n",
       "      <td>2019-01-04 07:20:00</td>\n",
       "      <td>2019-01-04 09:35:00</td>\n",
       "      <td>C</td>\n",
       "      <td>I</td>\n",
       "      <td>1635</td>\n",
       "      <td>0.29</td>\n",
       "      <td>2019-01-03 14:26:15</td>\n",
       "      <td>1</td>\n",
       "    </tr>\n",
       "    <tr>\n",
       "      <th>4</th>\n",
       "      <td>14431</td>\n",
       "      <td>HU7605</td>\n",
       "      <td>350</td>\n",
       "      <td>PEK</td>\n",
       "      <td>NaN</td>\n",
       "      <td>SHA</td>\n",
       "      <td>2019-01-04 07:20:00</td>\n",
       "      <td>2019-01-04 09:35:00</td>\n",
       "      <td>C</td>\n",
       "      <td>I</td>\n",
       "      <td>1640</td>\n",
       "      <td>0.29</td>\n",
       "      <td>2019-01-03 14:26:15</td>\n",
       "      <td>1</td>\n",
       "    </tr>\n",
       "  </tbody>\n",
       "</table>\n",
       "</div>"
      ],
      "text/plain": [
       "      ID flightNumber craftTypeCode depAirport traAirport arrAirport  \\\n",
       "0  14393       HO1252           320        PEK        NaN        SHA   \n",
       "1  14409       MU5138           33L        PEK        NaN        SHA   \n",
       "2  14415       MU5138           33L        PEK        NaN        SHA   \n",
       "3  14429       HU7605           350        PEK        NaN        SHA   \n",
       "4  14431       HU7605           350        PEK        NaN        SHA   \n",
       "\n",
       "         departureDate          arrivalDate cabinClass priceClass  price  \\\n",
       "0  2019-01-04 06:35:00  2019-01-04 08:55:00          C          C   1860   \n",
       "1  2019-01-04 07:00:00  2019-01-04 09:15:00          C          I   1640   \n",
       "2  2019-01-04 07:00:00  2019-01-04 09:15:00          C          J   5360   \n",
       "3  2019-01-04 07:20:00  2019-01-04 09:35:00          C          I   1635   \n",
       "4  2019-01-04 07:20:00  2019-01-04 09:35:00          C          I   1640   \n",
       "\n",
       "   rate           createDate  dateDifference  \n",
       "0  1.00  2019-01-03 14:26:15               1  \n",
       "1  0.31  2019-01-03 14:26:15               1  \n",
       "2  1.00  2019-01-03 14:26:15               1  \n",
       "3  0.29  2019-01-03 14:26:15               1  \n",
       "4  0.29  2019-01-03 14:26:15               1  "
      ]
     },
     "execution_count": 91,
     "metadata": {},
     "output_type": "execute_result"
    }
   ],
   "source": [
    "df1.head()"
   ]
  },
  {
   "cell_type": "markdown",
   "metadata": {},
   "source": [
    "# Vanilla models PEK - SHA"
   ]
  },
  {
   "cell_type": "code",
   "execution_count": 92,
   "metadata": {},
   "outputs": [],
   "source": [
    "# Define the variables\n",
    "XP= df1.drop(['price','traAirport','flightNumber', 'craftTypeCode', 'depAirport', 'arrAirport',\n",
    "       'departureDate', 'arrivalDate','createDate','cabinClass', 'priceClass','ID'],axis=1)\n",
    "yP=df1['price']"
   ]
  },
  {
   "cell_type": "code",
   "execution_count": 93,
   "metadata": {},
   "outputs": [],
   "source": [
    "# run a train test split\n",
    "X_trainP, X_testP, y_trainP, y_testP = train_test_split(XP,yP, test_size = .2, random_state=3)\n",
    "# get a validation set \n",
    "X_trainP, X_valP, y_trainP, y_valP = train_test_split(X_trainP,y_trainP, test_size = .2, random_state=3)"
   ]
  },
  {
   "cell_type": "markdown",
   "metadata": {},
   "source": [
    "# Linear Regression Vanilla PEK-SHA"
   ]
  },
  {
   "cell_type": "code",
   "execution_count": 94,
   "metadata": {},
   "outputs": [
    {
     "data": {
      "text/plain": [
       "LinearRegression(copy_X=True, fit_intercept=True, n_jobs=None, normalize=False)"
      ]
     },
     "execution_count": 94,
     "metadata": {},
     "output_type": "execute_result"
    }
   ],
   "source": [
    "# instantiate the model\n",
    "Plinreg = LinearRegression()\n",
    "# fit the model to the train data\n",
    "Plinreg.fit(X_trainP,y_trainP)"
   ]
  },
  {
   "cell_type": "code",
   "execution_count": 95,
   "metadata": {},
   "outputs": [
    {
     "name": "stdout",
     "output_type": "stream",
     "text": [
      "The Mean Squared Error For Linear Regression Vanilla Is: 2475311.9579192805\n",
      "The R^2 value is : 0.19070965959242592\n"
     ]
    }
   ],
   "source": [
    "# get the prediction\n",
    "Py_preds = linreg.predict(X_valP)\n",
    "\n",
    "# calculate the mse\n",
    "Pmse_linreg = mean_squared_error(y_valP, Py_preds)\n",
    "\n",
    "print(f'the mean squared error for Linear Regression Vanilla is: {Pmse_linreg}'.title())\n",
    "print(f'The R^2 value is : {r2_score(y_valP,Py_preds)}')"
   ]
  },
  {
   "cell_type": "code",
   "execution_count": null,
   "metadata": {},
   "outputs": [],
   "source": []
  },
  {
   "cell_type": "markdown",
   "metadata": {},
   "source": [
    "# XG Boost Vanilla PEK-SHA"
   ]
  },
  {
   "cell_type": "code",
   "execution_count": 96,
   "metadata": {},
   "outputs": [
    {
     "name": "stdout",
     "output_type": "stream",
     "text": [
      "[11:44:28] WARNING: src/objective/regression_obj.cu:152: reg:linear is now deprecated in favor of reg:squarederror.\n"
     ]
    },
    {
     "name": "stderr",
     "output_type": "stream",
     "text": [
      "//anaconda3/lib/python3.7/site-packages/xgboost/core.py:587: FutureWarning: Series.base is deprecated and will be removed in a future version\n",
      "  if getattr(data, 'base', None) is not None and \\\n"
     ]
    },
    {
     "data": {
      "text/plain": [
       "XGBRegressor(base_score=0.5, booster='gbtree', colsample_bylevel=1,\n",
       "             colsample_bynode=1, colsample_bytree=1, gamma=0,\n",
       "             importance_type='gain', learning_rate=0.1, max_delta_step=0,\n",
       "             max_depth=3, min_child_weight=1, missing=None, n_estimators=100,\n",
       "             n_jobs=1, nthread=None, objective='reg:linear', random_state=0,\n",
       "             reg_alpha=0, reg_lambda=1, scale_pos_weight=1, seed=None,\n",
       "             silent=None, subsample=1, verbosity=1)"
      ]
     },
     "execution_count": 96,
     "metadata": {},
     "output_type": "execute_result"
    }
   ],
   "source": [
    "# instantiate the model\n",
    "Pxgb = xgboost.XGBRegressor()\n",
    "# fit the model to training data\n",
    "Pxgb.fit(X_trainP,y_trainP)"
   ]
  },
  {
   "cell_type": "code",
   "execution_count": 97,
   "metadata": {},
   "outputs": [
    {
     "data": {
      "text/plain": [
       "1873070.3875937816"
      ]
     },
     "execution_count": 97,
     "metadata": {},
     "output_type": "execute_result"
    }
   ],
   "source": [
    "Pxgb_y_preds = Pxgb.predict(X_valP)\n",
    "Pmse_xgb = mean_squared_error(y_valP,Pxgb_y_preds)\n",
    "Pmse_xgb"
   ]
  },
  {
   "cell_type": "code",
   "execution_count": 98,
   "metadata": {},
   "outputs": [
    {
     "name": "stdout",
     "output_type": "stream",
     "text": [
      "The R^2 value is : 0.3876094014197179\n"
     ]
    }
   ],
   "source": [
    "print(f'The R^2 value is : {r2_score(y_valP,Pxgb_y_preds)}')"
   ]
  },
  {
   "cell_type": "markdown",
   "metadata": {},
   "source": [
    "# Ada Boosting Vanilla PRK-SHA"
   ]
  },
  {
   "cell_type": "code",
   "execution_count": 99,
   "metadata": {},
   "outputs": [
    {
     "data": {
      "text/plain": [
       "AdaBoostRegressor(base_estimator=None, learning_rate=1.0, loss='linear',\n",
       "                  n_estimators=50, random_state=None)"
      ]
     },
     "execution_count": 99,
     "metadata": {},
     "output_type": "execute_result"
    }
   ],
   "source": [
    "# instantaite adaboost model\n",
    "Pada = AdaBoostRegressor()\n",
    "\n",
    "# fit the model to the train data\n",
    "Pada.fit(X_trainP,y_trainP)"
   ]
  },
  {
   "cell_type": "code",
   "execution_count": 100,
   "metadata": {},
   "outputs": [
    {
     "name": "stdout",
     "output_type": "stream",
     "text": [
      "The Mean squared error for the ada boost model is 2113004.682283729\n",
      "The R^2 value is : 0.30916413459027914\n"
     ]
    }
   ],
   "source": [
    "# get the prediction\n",
    "Pada_preds = Pada.predict(X_valP)\n",
    "# get the MSE\n",
    "Pmse_ada = mean_squared_error(y_valP, Pada_preds)\n",
    "#print the mse\n",
    "print(f'The Mean squared error for the ada boost model is {Pmse_ada}')\n",
    "print(f'The R^2 value is : {r2_score(y_valP,Pada_preds)}')"
   ]
  },
  {
   "cell_type": "code",
   "execution_count": null,
   "metadata": {},
   "outputs": [],
   "source": []
  },
  {
   "cell_type": "markdown",
   "metadata": {},
   "source": [
    "# Gradient Boosting Vanilla PEK-SHA"
   ]
  },
  {
   "cell_type": "code",
   "execution_count": 101,
   "metadata": {},
   "outputs": [
    {
     "data": {
      "text/plain": [
       "GradientBoostingRegressor(alpha=0.9, criterion='friedman_mse', init=None,\n",
       "                          learning_rate=0.1, loss='ls', max_depth=3,\n",
       "                          max_features=None, max_leaf_nodes=None,\n",
       "                          min_impurity_decrease=0.0, min_impurity_split=None,\n",
       "                          min_samples_leaf=1, min_samples_split=2,\n",
       "                          min_weight_fraction_leaf=0.0, n_estimators=100,\n",
       "                          n_iter_no_change=None, presort='auto',\n",
       "                          random_state=None, subsample=1.0, tol=0.0001,\n",
       "                          validation_fraction=0.1, verbose=0, warm_start=False)"
      ]
     },
     "execution_count": 101,
     "metadata": {},
     "output_type": "execute_result"
    }
   ],
   "source": [
    "# instantiate the model\n",
    "Pgdb = GradientBoostingRegressor()\n",
    "# fit the model to training data\n",
    "Pgdb.fit(X_trainP,y_trainP)"
   ]
  },
  {
   "cell_type": "code",
   "execution_count": 102,
   "metadata": {},
   "outputs": [
    {
     "name": "stdout",
     "output_type": "stream",
     "text": [
      "the mean squared error for gradient boosting test data is 1871042.9451271943\n",
      "The R^2 value is : 0.3882722631647565\n"
     ]
    }
   ],
   "source": [
    "# get predictions\n",
    "Pgdb_preds = Pgdb.predict(X_valP)\n",
    "\n",
    "#get MeanSE\n",
    "Pmse_gdb = mean_squared_error(Pgdb_preds,y_valP)\n",
    "\n",
    "print(f'the mean squared error for gradient boosting test data is {Pmse_gdb}')\n",
    "print(f'The R^2 value is : {r2_score(y_valP,Pgdb_preds)}')"
   ]
  },
  {
   "cell_type": "code",
   "execution_count": null,
   "metadata": {},
   "outputs": [],
   "source": []
  },
  {
   "cell_type": "code",
   "execution_count": null,
   "metadata": {},
   "outputs": [],
   "source": []
  },
  {
   "cell_type": "markdown",
   "metadata": {},
   "source": [
    "# Random Forest Vanilla PEK-SHA"
   ]
  },
  {
   "cell_type": "code",
   "execution_count": 103,
   "metadata": {},
   "outputs": [
    {
     "name": "stderr",
     "output_type": "stream",
     "text": [
      "//anaconda3/lib/python3.7/site-packages/sklearn/ensemble/forest.py:245: FutureWarning: The default value of n_estimators will change from 10 in version 0.20 to 100 in 0.22.\n",
      "  \"10 in version 0.20 to 100 in 0.22.\", FutureWarning)\n"
     ]
    },
    {
     "data": {
      "text/plain": [
       "RandomForestRegressor(bootstrap=True, criterion='mse', max_depth=None,\n",
       "                      max_features='auto', max_leaf_nodes=None,\n",
       "                      min_impurity_decrease=0.0, min_impurity_split=None,\n",
       "                      min_samples_leaf=1, min_samples_split=2,\n",
       "                      min_weight_fraction_leaf=0.0, n_estimators=10,\n",
       "                      n_jobs=None, oob_score=False, random_state=None,\n",
       "                      verbose=0, warm_start=False)"
      ]
     },
     "execution_count": 103,
     "metadata": {},
     "output_type": "execute_result"
    }
   ],
   "source": [
    "# instantiate the model\n",
    "Prfr = RandomForestRegressor()\n",
    "\n",
    "# fit the model to training data\n",
    "Prfr.fit(X_trainP, y_trainP)"
   ]
  },
  {
   "cell_type": "code",
   "execution_count": 104,
   "metadata": {},
   "outputs": [
    {
     "name": "stdout",
     "output_type": "stream",
     "text": [
      "The mean squared error for Random Forest Validation Data is: 1824841.607261465 \n",
      "The R^2 value is : 0.4033775497243024\n"
     ]
    }
   ],
   "source": [
    "# Get predictions\n",
    "Prfr_preds = Prfr.predict(X_valP)\n",
    "\n",
    "# get MSE for model\n",
    "Pmse_rfr = mean_squared_error(y_valP, Prfr_preds)\n",
    "# print Mse\n",
    "print(f'The mean squared error for Random Forest Validation Data is: {Pmse_rfr} ')\n",
    "print(f'The R^2 value is : {r2_score(y_valP,Prfr_preds)}')"
   ]
  },
  {
   "cell_type": "code",
   "execution_count": null,
   "metadata": {},
   "outputs": [],
   "source": []
  },
  {
   "cell_type": "code",
   "execution_count": null,
   "metadata": {},
   "outputs": [],
   "source": []
  },
  {
   "cell_type": "code",
   "execution_count": null,
   "metadata": {},
   "outputs": [],
   "source": []
  },
  {
   "cell_type": "markdown",
   "metadata": {},
   "source": [
    "# EDA Pt2"
   ]
  },
  {
   "cell_type": "code",
   "execution_count": 105,
   "metadata": {},
   "outputs": [],
   "source": [
    "# get day of week(Tues) for depDa, arDa, crDa\n",
    "df['departureDate_dofweek'] = df['departureDate'].dt.dayofweek\n",
    "df['arrivalDate_dofweek'] = df['arrivalDate'].dt.dayofweek\n",
    "df['createDate_dofweek'] = df['createDate'].dt.dayofweek\n",
    "# Note that 0 = Monday and 6 = Sunday. The comp starts off on Monday"
   ]
  },
  {
   "cell_type": "code",
   "execution_count": 106,
   "metadata": {},
   "outputs": [
    {
     "data": {
      "text/plain": [
       "(568917, 16)"
      ]
     },
     "execution_count": 106,
     "metadata": {},
     "output_type": "execute_result"
    }
   ],
   "source": [
    "df.shape"
   ]
  },
  {
   "cell_type": "code",
   "execution_count": 107,
   "metadata": {},
   "outputs": [
    {
     "data": {
      "text/html": [
       "<div>\n",
       "<style scoped>\n",
       "    .dataframe tbody tr th:only-of-type {\n",
       "        vertical-align: middle;\n",
       "    }\n",
       "\n",
       "    .dataframe tbody tr th {\n",
       "        vertical-align: top;\n",
       "    }\n",
       "\n",
       "    .dataframe thead th {\n",
       "        text-align: right;\n",
       "    }\n",
       "</style>\n",
       "<table border=\"1\" class=\"dataframe\">\n",
       "  <thead>\n",
       "    <tr style=\"text-align: right;\">\n",
       "      <th></th>\n",
       "      <th>ID</th>\n",
       "      <th>flightNumber</th>\n",
       "      <th>craftTypeCode</th>\n",
       "      <th>depAirport</th>\n",
       "      <th>arrAirport</th>\n",
       "      <th>departureDate</th>\n",
       "      <th>arrivalDate</th>\n",
       "      <th>cabinClass</th>\n",
       "      <th>priceClass</th>\n",
       "      <th>price</th>\n",
       "      <th>rate</th>\n",
       "      <th>createDate</th>\n",
       "      <th>dateDifference</th>\n",
       "      <th>departureDate_dofweek</th>\n",
       "      <th>arrivalDate_dofweek</th>\n",
       "      <th>createDate_dofweek</th>\n",
       "    </tr>\n",
       "  </thead>\n",
       "  <tbody>\n",
       "    <tr>\n",
       "      <th>0</th>\n",
       "      <td>14393</td>\n",
       "      <td>HO1252</td>\n",
       "      <td>320</td>\n",
       "      <td>PEK</td>\n",
       "      <td>SHA</td>\n",
       "      <td>2019-01-04 06:35:00</td>\n",
       "      <td>2019-01-04 08:55:00</td>\n",
       "      <td>1</td>\n",
       "      <td>C</td>\n",
       "      <td>1860</td>\n",
       "      <td>1.00</td>\n",
       "      <td>2019-01-03 14:26:15</td>\n",
       "      <td>1</td>\n",
       "      <td>4</td>\n",
       "      <td>4</td>\n",
       "      <td>3</td>\n",
       "    </tr>\n",
       "    <tr>\n",
       "      <th>1</th>\n",
       "      <td>14409</td>\n",
       "      <td>MU5138</td>\n",
       "      <td>33L</td>\n",
       "      <td>PEK</td>\n",
       "      <td>SHA</td>\n",
       "      <td>2019-01-04 07:00:00</td>\n",
       "      <td>2019-01-04 09:15:00</td>\n",
       "      <td>1</td>\n",
       "      <td>I</td>\n",
       "      <td>1640</td>\n",
       "      <td>0.31</td>\n",
       "      <td>2019-01-03 14:26:15</td>\n",
       "      <td>1</td>\n",
       "      <td>4</td>\n",
       "      <td>4</td>\n",
       "      <td>3</td>\n",
       "    </tr>\n",
       "    <tr>\n",
       "      <th>2</th>\n",
       "      <td>14415</td>\n",
       "      <td>MU5138</td>\n",
       "      <td>33L</td>\n",
       "      <td>PEK</td>\n",
       "      <td>SHA</td>\n",
       "      <td>2019-01-04 07:00:00</td>\n",
       "      <td>2019-01-04 09:15:00</td>\n",
       "      <td>1</td>\n",
       "      <td>J</td>\n",
       "      <td>5360</td>\n",
       "      <td>1.00</td>\n",
       "      <td>2019-01-03 14:26:15</td>\n",
       "      <td>1</td>\n",
       "      <td>4</td>\n",
       "      <td>4</td>\n",
       "      <td>3</td>\n",
       "    </tr>\n",
       "    <tr>\n",
       "      <th>3</th>\n",
       "      <td>14429</td>\n",
       "      <td>HU7605</td>\n",
       "      <td>350</td>\n",
       "      <td>PEK</td>\n",
       "      <td>SHA</td>\n",
       "      <td>2019-01-04 07:20:00</td>\n",
       "      <td>2019-01-04 09:35:00</td>\n",
       "      <td>1</td>\n",
       "      <td>I</td>\n",
       "      <td>1635</td>\n",
       "      <td>0.29</td>\n",
       "      <td>2019-01-03 14:26:15</td>\n",
       "      <td>1</td>\n",
       "      <td>4</td>\n",
       "      <td>4</td>\n",
       "      <td>3</td>\n",
       "    </tr>\n",
       "    <tr>\n",
       "      <th>4</th>\n",
       "      <td>14431</td>\n",
       "      <td>HU7605</td>\n",
       "      <td>350</td>\n",
       "      <td>PEK</td>\n",
       "      <td>SHA</td>\n",
       "      <td>2019-01-04 07:20:00</td>\n",
       "      <td>2019-01-04 09:35:00</td>\n",
       "      <td>1</td>\n",
       "      <td>I</td>\n",
       "      <td>1640</td>\n",
       "      <td>0.29</td>\n",
       "      <td>2019-01-03 14:26:15</td>\n",
       "      <td>1</td>\n",
       "      <td>4</td>\n",
       "      <td>4</td>\n",
       "      <td>3</td>\n",
       "    </tr>\n",
       "  </tbody>\n",
       "</table>\n",
       "</div>"
      ],
      "text/plain": [
       "      ID flightNumber craftTypeCode depAirport arrAirport       departureDate  \\\n",
       "0  14393       HO1252           320        PEK        SHA 2019-01-04 06:35:00   \n",
       "1  14409       MU5138           33L        PEK        SHA 2019-01-04 07:00:00   \n",
       "2  14415       MU5138           33L        PEK        SHA 2019-01-04 07:00:00   \n",
       "3  14429       HU7605           350        PEK        SHA 2019-01-04 07:20:00   \n",
       "4  14431       HU7605           350        PEK        SHA 2019-01-04 07:20:00   \n",
       "\n",
       "          arrivalDate  cabinClass priceClass  price  rate          createDate  \\\n",
       "0 2019-01-04 08:55:00           1          C   1860  1.00 2019-01-03 14:26:15   \n",
       "1 2019-01-04 09:15:00           1          I   1640  0.31 2019-01-03 14:26:15   \n",
       "2 2019-01-04 09:15:00           1          J   5360  1.00 2019-01-03 14:26:15   \n",
       "3 2019-01-04 09:35:00           1          I   1635  0.29 2019-01-03 14:26:15   \n",
       "4 2019-01-04 09:35:00           1          I   1640  0.29 2019-01-03 14:26:15   \n",
       "\n",
       "   dateDifference  departureDate_dofweek  arrivalDate_dofweek  \\\n",
       "0               1                      4                    4   \n",
       "1               1                      4                    4   \n",
       "2               1                      4                    4   \n",
       "3               1                      4                    4   \n",
       "4               1                      4                    4   \n",
       "\n",
       "   createDate_dofweek  \n",
       "0                   3  \n",
       "1                   3  \n",
       "2                   3  \n",
       "3                   3  \n",
       "4                   3  "
      ]
     },
     "execution_count": 107,
     "metadata": {},
     "output_type": "execute_result"
    }
   ],
   "source": [
    "df.head()"
   ]
  },
  {
   "cell_type": "code",
   "execution_count": null,
   "metadata": {},
   "outputs": [],
   "source": []
  },
  {
   "cell_type": "code",
   "execution_count": 108,
   "metadata": {},
   "outputs": [
    {
     "data": {
      "text/html": [
       "<div>\n",
       "<style scoped>\n",
       "    .dataframe tbody tr th:only-of-type {\n",
       "        vertical-align: middle;\n",
       "    }\n",
       "\n",
       "    .dataframe tbody tr th {\n",
       "        vertical-align: top;\n",
       "    }\n",
       "\n",
       "    .dataframe thead th {\n",
       "        text-align: right;\n",
       "    }\n",
       "</style>\n",
       "<table border=\"1\" class=\"dataframe\">\n",
       "  <thead>\n",
       "    <tr style=\"text-align: right;\">\n",
       "      <th></th>\n",
       "      <th>ID</th>\n",
       "      <th>flightNumber</th>\n",
       "      <th>craftTypeCode</th>\n",
       "      <th>depAirport</th>\n",
       "      <th>arrAirport</th>\n",
       "      <th>departureDate</th>\n",
       "      <th>arrivalDate</th>\n",
       "      <th>cabinClass</th>\n",
       "      <th>priceClass</th>\n",
       "      <th>price</th>\n",
       "      <th>rate</th>\n",
       "      <th>createDate</th>\n",
       "      <th>dateDifference</th>\n",
       "      <th>departureDate_dofweek</th>\n",
       "      <th>arrivalDate_dofweek</th>\n",
       "      <th>createDate_dofweek</th>\n",
       "    </tr>\n",
       "  </thead>\n",
       "  <tbody>\n",
       "    <tr>\n",
       "      <th>0</th>\n",
       "      <td>14393</td>\n",
       "      <td>HO1252</td>\n",
       "      <td>320</td>\n",
       "      <td>PEK</td>\n",
       "      <td>SHA</td>\n",
       "      <td>2019-01-04 06:35:00</td>\n",
       "      <td>2019-01-04 08:55:00</td>\n",
       "      <td>1</td>\n",
       "      <td>C</td>\n",
       "      <td>1860</td>\n",
       "      <td>1.00</td>\n",
       "      <td>2019-01-03 14:26:15</td>\n",
       "      <td>1</td>\n",
       "      <td>4</td>\n",
       "      <td>4</td>\n",
       "      <td>3</td>\n",
       "    </tr>\n",
       "    <tr>\n",
       "      <th>1</th>\n",
       "      <td>14409</td>\n",
       "      <td>MU5138</td>\n",
       "      <td>33L</td>\n",
       "      <td>PEK</td>\n",
       "      <td>SHA</td>\n",
       "      <td>2019-01-04 07:00:00</td>\n",
       "      <td>2019-01-04 09:15:00</td>\n",
       "      <td>1</td>\n",
       "      <td>I</td>\n",
       "      <td>1640</td>\n",
       "      <td>0.31</td>\n",
       "      <td>2019-01-03 14:26:15</td>\n",
       "      <td>1</td>\n",
       "      <td>4</td>\n",
       "      <td>4</td>\n",
       "      <td>3</td>\n",
       "    </tr>\n",
       "    <tr>\n",
       "      <th>2</th>\n",
       "      <td>14415</td>\n",
       "      <td>MU5138</td>\n",
       "      <td>33L</td>\n",
       "      <td>PEK</td>\n",
       "      <td>SHA</td>\n",
       "      <td>2019-01-04 07:00:00</td>\n",
       "      <td>2019-01-04 09:15:00</td>\n",
       "      <td>1</td>\n",
       "      <td>J</td>\n",
       "      <td>5360</td>\n",
       "      <td>1.00</td>\n",
       "      <td>2019-01-03 14:26:15</td>\n",
       "      <td>1</td>\n",
       "      <td>4</td>\n",
       "      <td>4</td>\n",
       "      <td>3</td>\n",
       "    </tr>\n",
       "    <tr>\n",
       "      <th>3</th>\n",
       "      <td>14429</td>\n",
       "      <td>HU7605</td>\n",
       "      <td>350</td>\n",
       "      <td>PEK</td>\n",
       "      <td>SHA</td>\n",
       "      <td>2019-01-04 07:20:00</td>\n",
       "      <td>2019-01-04 09:35:00</td>\n",
       "      <td>1</td>\n",
       "      <td>I</td>\n",
       "      <td>1635</td>\n",
       "      <td>0.29</td>\n",
       "      <td>2019-01-03 14:26:15</td>\n",
       "      <td>1</td>\n",
       "      <td>4</td>\n",
       "      <td>4</td>\n",
       "      <td>3</td>\n",
       "    </tr>\n",
       "    <tr>\n",
       "      <th>4</th>\n",
       "      <td>14431</td>\n",
       "      <td>HU7605</td>\n",
       "      <td>350</td>\n",
       "      <td>PEK</td>\n",
       "      <td>SHA</td>\n",
       "      <td>2019-01-04 07:20:00</td>\n",
       "      <td>2019-01-04 09:35:00</td>\n",
       "      <td>1</td>\n",
       "      <td>I</td>\n",
       "      <td>1640</td>\n",
       "      <td>0.29</td>\n",
       "      <td>2019-01-03 14:26:15</td>\n",
       "      <td>1</td>\n",
       "      <td>4</td>\n",
       "      <td>4</td>\n",
       "      <td>3</td>\n",
       "    </tr>\n",
       "  </tbody>\n",
       "</table>\n",
       "</div>"
      ],
      "text/plain": [
       "      ID flightNumber craftTypeCode depAirport arrAirport       departureDate  \\\n",
       "0  14393       HO1252           320        PEK        SHA 2019-01-04 06:35:00   \n",
       "1  14409       MU5138           33L        PEK        SHA 2019-01-04 07:00:00   \n",
       "2  14415       MU5138           33L        PEK        SHA 2019-01-04 07:00:00   \n",
       "3  14429       HU7605           350        PEK        SHA 2019-01-04 07:20:00   \n",
       "4  14431       HU7605           350        PEK        SHA 2019-01-04 07:20:00   \n",
       "\n",
       "          arrivalDate  cabinClass priceClass  price  rate          createDate  \\\n",
       "0 2019-01-04 08:55:00           1          C   1860  1.00 2019-01-03 14:26:15   \n",
       "1 2019-01-04 09:15:00           1          I   1640  0.31 2019-01-03 14:26:15   \n",
       "2 2019-01-04 09:15:00           1          J   5360  1.00 2019-01-03 14:26:15   \n",
       "3 2019-01-04 09:35:00           1          I   1635  0.29 2019-01-03 14:26:15   \n",
       "4 2019-01-04 09:35:00           1          I   1640  0.29 2019-01-03 14:26:15   \n",
       "\n",
       "   dateDifference  departureDate_dofweek  arrivalDate_dofweek  \\\n",
       "0               1                      4                    4   \n",
       "1               1                      4                    4   \n",
       "2               1                      4                    4   \n",
       "3               1                      4                    4   \n",
       "4               1                      4                    4   \n",
       "\n",
       "   createDate_dofweek  \n",
       "0                   3  \n",
       "1                   3  \n",
       "2                   3  \n",
       "3                   3  \n",
       "4                   3  "
      ]
     },
     "execution_count": 108,
     "metadata": {},
     "output_type": "execute_result"
    }
   ],
   "source": [
    "# it worked\n",
    "df.head()"
   ]
  },
  {
   "cell_type": "code",
   "execution_count": 109,
   "metadata": {},
   "outputs": [],
   "source": [
    "# make a price paid column that takes off the discount\n",
    "df['pricePaid'] = df['price']*df['rate'] "
   ]
  },
  {
   "cell_type": "code",
   "execution_count": 110,
   "metadata": {},
   "outputs": [
    {
     "data": {
      "text/html": [
       "<div>\n",
       "<style scoped>\n",
       "    .dataframe tbody tr th:only-of-type {\n",
       "        vertical-align: middle;\n",
       "    }\n",
       "\n",
       "    .dataframe tbody tr th {\n",
       "        vertical-align: top;\n",
       "    }\n",
       "\n",
       "    .dataframe thead th {\n",
       "        text-align: right;\n",
       "    }\n",
       "</style>\n",
       "<table border=\"1\" class=\"dataframe\">\n",
       "  <thead>\n",
       "    <tr style=\"text-align: right;\">\n",
       "      <th></th>\n",
       "      <th>ID</th>\n",
       "      <th>flightNumber</th>\n",
       "      <th>craftTypeCode</th>\n",
       "      <th>depAirport</th>\n",
       "      <th>arrAirport</th>\n",
       "      <th>departureDate</th>\n",
       "      <th>arrivalDate</th>\n",
       "      <th>cabinClass</th>\n",
       "      <th>priceClass</th>\n",
       "      <th>price</th>\n",
       "      <th>rate</th>\n",
       "      <th>createDate</th>\n",
       "      <th>dateDifference</th>\n",
       "      <th>departureDate_dofweek</th>\n",
       "      <th>arrivalDate_dofweek</th>\n",
       "      <th>createDate_dofweek</th>\n",
       "      <th>pricePaid</th>\n",
       "    </tr>\n",
       "  </thead>\n",
       "  <tbody>\n",
       "    <tr>\n",
       "      <th>568912</th>\n",
       "      <td>77617774</td>\n",
       "      <td>MU5389</td>\n",
       "      <td>325</td>\n",
       "      <td>SHA</td>\n",
       "      <td>PEK</td>\n",
       "      <td>2019-07-21 07:20:00</td>\n",
       "      <td>2019-07-21 12:00:00</td>\n",
       "      <td>0</td>\n",
       "      <td>R</td>\n",
       "      <td>830</td>\n",
       "      <td>0.56</td>\n",
       "      <td>2019-07-14 23:28:01</td>\n",
       "      <td>7</td>\n",
       "      <td>6</td>\n",
       "      <td>6</td>\n",
       "      <td>6</td>\n",
       "      <td>464.8</td>\n",
       "    </tr>\n",
       "    <tr>\n",
       "      <th>568913</th>\n",
       "      <td>77617775</td>\n",
       "      <td>MU5389</td>\n",
       "      <td>325</td>\n",
       "      <td>SHA</td>\n",
       "      <td>PEK</td>\n",
       "      <td>2019-07-21 07:20:00</td>\n",
       "      <td>2019-07-21 12:00:00</td>\n",
       "      <td>0</td>\n",
       "      <td>R</td>\n",
       "      <td>880</td>\n",
       "      <td>0.60</td>\n",
       "      <td>2019-07-14 23:28:01</td>\n",
       "      <td>7</td>\n",
       "      <td>6</td>\n",
       "      <td>6</td>\n",
       "      <td>6</td>\n",
       "      <td>528.0</td>\n",
       "    </tr>\n",
       "    <tr>\n",
       "      <th>568914</th>\n",
       "      <td>77617776</td>\n",
       "      <td>MU5389</td>\n",
       "      <td>325</td>\n",
       "      <td>SHA</td>\n",
       "      <td>PEK</td>\n",
       "      <td>2019-07-21 07:20:00</td>\n",
       "      <td>2019-07-21 12:00:00</td>\n",
       "      <td>0</td>\n",
       "      <td>R</td>\n",
       "      <td>920</td>\n",
       "      <td>0.62</td>\n",
       "      <td>2019-07-14 23:28:01</td>\n",
       "      <td>7</td>\n",
       "      <td>6</td>\n",
       "      <td>6</td>\n",
       "      <td>6</td>\n",
       "      <td>570.4</td>\n",
       "    </tr>\n",
       "    <tr>\n",
       "      <th>568915</th>\n",
       "      <td>77617777</td>\n",
       "      <td>MU5389</td>\n",
       "      <td>325</td>\n",
       "      <td>SHA</td>\n",
       "      <td>PEK</td>\n",
       "      <td>2019-07-21 07:20:00</td>\n",
       "      <td>2019-07-21 12:00:00</td>\n",
       "      <td>0</td>\n",
       "      <td>R</td>\n",
       "      <td>790</td>\n",
       "      <td>0.54</td>\n",
       "      <td>2019-07-14 23:28:01</td>\n",
       "      <td>7</td>\n",
       "      <td>6</td>\n",
       "      <td>6</td>\n",
       "      <td>6</td>\n",
       "      <td>426.6</td>\n",
       "    </tr>\n",
       "    <tr>\n",
       "      <th>568916</th>\n",
       "      <td>77617779</td>\n",
       "      <td>MU5389</td>\n",
       "      <td>325</td>\n",
       "      <td>SHA</td>\n",
       "      <td>PEK</td>\n",
       "      <td>2019-07-21 07:20:00</td>\n",
       "      <td>2019-07-21 12:00:00</td>\n",
       "      <td>0</td>\n",
       "      <td>Y</td>\n",
       "      <td>1490</td>\n",
       "      <td>1.00</td>\n",
       "      <td>2019-07-14 23:28:01</td>\n",
       "      <td>7</td>\n",
       "      <td>6</td>\n",
       "      <td>6</td>\n",
       "      <td>6</td>\n",
       "      <td>1490.0</td>\n",
       "    </tr>\n",
       "  </tbody>\n",
       "</table>\n",
       "</div>"
      ],
      "text/plain": [
       "              ID flightNumber craftTypeCode depAirport arrAirport  \\\n",
       "568912  77617774       MU5389           325        SHA        PEK   \n",
       "568913  77617775       MU5389           325        SHA        PEK   \n",
       "568914  77617776       MU5389           325        SHA        PEK   \n",
       "568915  77617777       MU5389           325        SHA        PEK   \n",
       "568916  77617779       MU5389           325        SHA        PEK   \n",
       "\n",
       "             departureDate         arrivalDate  cabinClass priceClass  price  \\\n",
       "568912 2019-07-21 07:20:00 2019-07-21 12:00:00           0          R    830   \n",
       "568913 2019-07-21 07:20:00 2019-07-21 12:00:00           0          R    880   \n",
       "568914 2019-07-21 07:20:00 2019-07-21 12:00:00           0          R    920   \n",
       "568915 2019-07-21 07:20:00 2019-07-21 12:00:00           0          R    790   \n",
       "568916 2019-07-21 07:20:00 2019-07-21 12:00:00           0          Y   1490   \n",
       "\n",
       "        rate          createDate  dateDifference  departureDate_dofweek  \\\n",
       "568912  0.56 2019-07-14 23:28:01               7                      6   \n",
       "568913  0.60 2019-07-14 23:28:01               7                      6   \n",
       "568914  0.62 2019-07-14 23:28:01               7                      6   \n",
       "568915  0.54 2019-07-14 23:28:01               7                      6   \n",
       "568916  1.00 2019-07-14 23:28:01               7                      6   \n",
       "\n",
       "        arrivalDate_dofweek  createDate_dofweek  pricePaid  \n",
       "568912                    6                   6      464.8  \n",
       "568913                    6                   6      528.0  \n",
       "568914                    6                   6      570.4  \n",
       "568915                    6                   6      426.6  \n",
       "568916                    6                   6     1490.0  "
      ]
     },
     "execution_count": 110,
     "metadata": {},
     "output_type": "execute_result"
    }
   ],
   "source": [
    "# it worked\n",
    "df.tail()"
   ]
  },
  {
   "cell_type": "code",
   "execution_count": null,
   "metadata": {},
   "outputs": [],
   "source": []
  },
  {
   "cell_type": "code",
   "execution_count": 111,
   "metadata": {},
   "outputs": [],
   "source": [
    "# Make an airline column\n",
    "df['airline'] = df.flightNumber.str[:2]\n",
    "# from the flight number i take the first 2 letters to help me later identify the airline name"
   ]
  },
  {
   "cell_type": "code",
   "execution_count": 112,
   "metadata": {},
   "outputs": [
    {
     "data": {
      "text/html": [
       "<div>\n",
       "<style scoped>\n",
       "    .dataframe tbody tr th:only-of-type {\n",
       "        vertical-align: middle;\n",
       "    }\n",
       "\n",
       "    .dataframe tbody tr th {\n",
       "        vertical-align: top;\n",
       "    }\n",
       "\n",
       "    .dataframe thead th {\n",
       "        text-align: right;\n",
       "    }\n",
       "</style>\n",
       "<table border=\"1\" class=\"dataframe\">\n",
       "  <thead>\n",
       "    <tr style=\"text-align: right;\">\n",
       "      <th></th>\n",
       "      <th>ID</th>\n",
       "      <th>flightNumber</th>\n",
       "      <th>craftTypeCode</th>\n",
       "      <th>depAirport</th>\n",
       "      <th>arrAirport</th>\n",
       "      <th>departureDate</th>\n",
       "      <th>arrivalDate</th>\n",
       "      <th>cabinClass</th>\n",
       "      <th>priceClass</th>\n",
       "      <th>price</th>\n",
       "      <th>rate</th>\n",
       "      <th>createDate</th>\n",
       "      <th>dateDifference</th>\n",
       "      <th>departureDate_dofweek</th>\n",
       "      <th>arrivalDate_dofweek</th>\n",
       "      <th>createDate_dofweek</th>\n",
       "      <th>pricePaid</th>\n",
       "      <th>airline</th>\n",
       "    </tr>\n",
       "  </thead>\n",
       "  <tbody>\n",
       "    <tr>\n",
       "      <th>0</th>\n",
       "      <td>14393</td>\n",
       "      <td>HO1252</td>\n",
       "      <td>320</td>\n",
       "      <td>PEK</td>\n",
       "      <td>SHA</td>\n",
       "      <td>2019-01-04 06:35:00</td>\n",
       "      <td>2019-01-04 08:55:00</td>\n",
       "      <td>1</td>\n",
       "      <td>C</td>\n",
       "      <td>1860</td>\n",
       "      <td>1.00</td>\n",
       "      <td>2019-01-03 14:26:15</td>\n",
       "      <td>1</td>\n",
       "      <td>4</td>\n",
       "      <td>4</td>\n",
       "      <td>3</td>\n",
       "      <td>1860.00</td>\n",
       "      <td>HO</td>\n",
       "    </tr>\n",
       "    <tr>\n",
       "      <th>1</th>\n",
       "      <td>14409</td>\n",
       "      <td>MU5138</td>\n",
       "      <td>33L</td>\n",
       "      <td>PEK</td>\n",
       "      <td>SHA</td>\n",
       "      <td>2019-01-04 07:00:00</td>\n",
       "      <td>2019-01-04 09:15:00</td>\n",
       "      <td>1</td>\n",
       "      <td>I</td>\n",
       "      <td>1640</td>\n",
       "      <td>0.31</td>\n",
       "      <td>2019-01-03 14:26:15</td>\n",
       "      <td>1</td>\n",
       "      <td>4</td>\n",
       "      <td>4</td>\n",
       "      <td>3</td>\n",
       "      <td>508.40</td>\n",
       "      <td>MU</td>\n",
       "    </tr>\n",
       "    <tr>\n",
       "      <th>2</th>\n",
       "      <td>14415</td>\n",
       "      <td>MU5138</td>\n",
       "      <td>33L</td>\n",
       "      <td>PEK</td>\n",
       "      <td>SHA</td>\n",
       "      <td>2019-01-04 07:00:00</td>\n",
       "      <td>2019-01-04 09:15:00</td>\n",
       "      <td>1</td>\n",
       "      <td>J</td>\n",
       "      <td>5360</td>\n",
       "      <td>1.00</td>\n",
       "      <td>2019-01-03 14:26:15</td>\n",
       "      <td>1</td>\n",
       "      <td>4</td>\n",
       "      <td>4</td>\n",
       "      <td>3</td>\n",
       "      <td>5360.00</td>\n",
       "      <td>MU</td>\n",
       "    </tr>\n",
       "    <tr>\n",
       "      <th>3</th>\n",
       "      <td>14429</td>\n",
       "      <td>HU7605</td>\n",
       "      <td>350</td>\n",
       "      <td>PEK</td>\n",
       "      <td>SHA</td>\n",
       "      <td>2019-01-04 07:20:00</td>\n",
       "      <td>2019-01-04 09:35:00</td>\n",
       "      <td>1</td>\n",
       "      <td>I</td>\n",
       "      <td>1635</td>\n",
       "      <td>0.29</td>\n",
       "      <td>2019-01-03 14:26:15</td>\n",
       "      <td>1</td>\n",
       "      <td>4</td>\n",
       "      <td>4</td>\n",
       "      <td>3</td>\n",
       "      <td>474.15</td>\n",
       "      <td>HU</td>\n",
       "    </tr>\n",
       "    <tr>\n",
       "      <th>4</th>\n",
       "      <td>14431</td>\n",
       "      <td>HU7605</td>\n",
       "      <td>350</td>\n",
       "      <td>PEK</td>\n",
       "      <td>SHA</td>\n",
       "      <td>2019-01-04 07:20:00</td>\n",
       "      <td>2019-01-04 09:35:00</td>\n",
       "      <td>1</td>\n",
       "      <td>I</td>\n",
       "      <td>1640</td>\n",
       "      <td>0.29</td>\n",
       "      <td>2019-01-03 14:26:15</td>\n",
       "      <td>1</td>\n",
       "      <td>4</td>\n",
       "      <td>4</td>\n",
       "      <td>3</td>\n",
       "      <td>475.60</td>\n",
       "      <td>HU</td>\n",
       "    </tr>\n",
       "  </tbody>\n",
       "</table>\n",
       "</div>"
      ],
      "text/plain": [
       "      ID flightNumber craftTypeCode depAirport arrAirport       departureDate  \\\n",
       "0  14393       HO1252           320        PEK        SHA 2019-01-04 06:35:00   \n",
       "1  14409       MU5138           33L        PEK        SHA 2019-01-04 07:00:00   \n",
       "2  14415       MU5138           33L        PEK        SHA 2019-01-04 07:00:00   \n",
       "3  14429       HU7605           350        PEK        SHA 2019-01-04 07:20:00   \n",
       "4  14431       HU7605           350        PEK        SHA 2019-01-04 07:20:00   \n",
       "\n",
       "          arrivalDate  cabinClass priceClass  price  rate          createDate  \\\n",
       "0 2019-01-04 08:55:00           1          C   1860  1.00 2019-01-03 14:26:15   \n",
       "1 2019-01-04 09:15:00           1          I   1640  0.31 2019-01-03 14:26:15   \n",
       "2 2019-01-04 09:15:00           1          J   5360  1.00 2019-01-03 14:26:15   \n",
       "3 2019-01-04 09:35:00           1          I   1635  0.29 2019-01-03 14:26:15   \n",
       "4 2019-01-04 09:35:00           1          I   1640  0.29 2019-01-03 14:26:15   \n",
       "\n",
       "   dateDifference  departureDate_dofweek  arrivalDate_dofweek  \\\n",
       "0               1                      4                    4   \n",
       "1               1                      4                    4   \n",
       "2               1                      4                    4   \n",
       "3               1                      4                    4   \n",
       "4               1                      4                    4   \n",
       "\n",
       "   createDate_dofweek  pricePaid airline  \n",
       "0                   3    1860.00      HO  \n",
       "1                   3     508.40      MU  \n",
       "2                   3    5360.00      MU  \n",
       "3                   3     474.15      HU  \n",
       "4                   3     475.60      HU  "
      ]
     },
     "execution_count": 112,
     "metadata": {},
     "output_type": "execute_result"
    }
   ],
   "source": [
    "df.head()"
   ]
  },
  {
   "cell_type": "code",
   "execution_count": 113,
   "metadata": {},
   "outputs": [
    {
     "data": {
      "text/plain": [
       "array(['HO', 'MU', 'HU', 'CA', 'CZ', 'FM', 'MF'], dtype=object)"
      ]
     },
     "execution_count": 113,
     "metadata": {},
     "output_type": "execute_result"
    }
   ],
   "source": [
    "# see the unique airlines\n",
    "df['airline'].unique()"
   ]
  },
  {
   "cell_type": "code",
   "execution_count": 114,
   "metadata": {},
   "outputs": [],
   "source": [
    "# Change the Code to the full name \n",
    "airline_key = {'HO':'Juneyao Airlines','MU':'China Eastern Airlines','HU':'Hainan Airlines','CA':'Air China','CZ':'China Southern Airlines','FM':'Shanghai Airlines','MF':'Xiamen Air'}"
   ]
  },
  {
   "cell_type": "code",
   "execution_count": 115,
   "metadata": {},
   "outputs": [
    {
     "data": {
      "text/plain": [
       "{'HO': 'Juneyao Airlines',\n",
       " 'MU': 'China Eastern Airlines',\n",
       " 'HU': 'Hainan Airlines',\n",
       " 'CA': 'Air China',\n",
       " 'CZ': 'China Southern Airlines',\n",
       " 'FM': 'Shanghai Airlines',\n",
       " 'MF': 'Xiamen Air'}"
      ]
     },
     "execution_count": 115,
     "metadata": {},
     "output_type": "execute_result"
    }
   ],
   "source": [
    "airline_key"
   ]
  },
  {
   "cell_type": "code",
   "execution_count": 116,
   "metadata": {},
   "outputs": [],
   "source": [
    "# change the airline codes to their full name\n",
    "df['airline'] = [airline_key[airline] for airline in df.airline]"
   ]
  },
  {
   "cell_type": "code",
   "execution_count": 117,
   "metadata": {},
   "outputs": [
    {
     "data": {
      "text/html": [
       "<div>\n",
       "<style scoped>\n",
       "    .dataframe tbody tr th:only-of-type {\n",
       "        vertical-align: middle;\n",
       "    }\n",
       "\n",
       "    .dataframe tbody tr th {\n",
       "        vertical-align: top;\n",
       "    }\n",
       "\n",
       "    .dataframe thead th {\n",
       "        text-align: right;\n",
       "    }\n",
       "</style>\n",
       "<table border=\"1\" class=\"dataframe\">\n",
       "  <thead>\n",
       "    <tr style=\"text-align: right;\">\n",
       "      <th></th>\n",
       "      <th>ID</th>\n",
       "      <th>flightNumber</th>\n",
       "      <th>craftTypeCode</th>\n",
       "      <th>depAirport</th>\n",
       "      <th>arrAirport</th>\n",
       "      <th>departureDate</th>\n",
       "      <th>arrivalDate</th>\n",
       "      <th>cabinClass</th>\n",
       "      <th>priceClass</th>\n",
       "      <th>price</th>\n",
       "      <th>rate</th>\n",
       "      <th>createDate</th>\n",
       "      <th>dateDifference</th>\n",
       "      <th>departureDate_dofweek</th>\n",
       "      <th>arrivalDate_dofweek</th>\n",
       "      <th>createDate_dofweek</th>\n",
       "      <th>pricePaid</th>\n",
       "      <th>airline</th>\n",
       "    </tr>\n",
       "  </thead>\n",
       "  <tbody>\n",
       "    <tr>\n",
       "      <th>0</th>\n",
       "      <td>14393</td>\n",
       "      <td>HO1252</td>\n",
       "      <td>320</td>\n",
       "      <td>PEK</td>\n",
       "      <td>SHA</td>\n",
       "      <td>2019-01-04 06:35:00</td>\n",
       "      <td>2019-01-04 08:55:00</td>\n",
       "      <td>1</td>\n",
       "      <td>C</td>\n",
       "      <td>1860</td>\n",
       "      <td>1.00</td>\n",
       "      <td>2019-01-03 14:26:15</td>\n",
       "      <td>1</td>\n",
       "      <td>4</td>\n",
       "      <td>4</td>\n",
       "      <td>3</td>\n",
       "      <td>1860.00</td>\n",
       "      <td>Juneyao Airlines</td>\n",
       "    </tr>\n",
       "    <tr>\n",
       "      <th>1</th>\n",
       "      <td>14409</td>\n",
       "      <td>MU5138</td>\n",
       "      <td>33L</td>\n",
       "      <td>PEK</td>\n",
       "      <td>SHA</td>\n",
       "      <td>2019-01-04 07:00:00</td>\n",
       "      <td>2019-01-04 09:15:00</td>\n",
       "      <td>1</td>\n",
       "      <td>I</td>\n",
       "      <td>1640</td>\n",
       "      <td>0.31</td>\n",
       "      <td>2019-01-03 14:26:15</td>\n",
       "      <td>1</td>\n",
       "      <td>4</td>\n",
       "      <td>4</td>\n",
       "      <td>3</td>\n",
       "      <td>508.40</td>\n",
       "      <td>China Eastern Airlines</td>\n",
       "    </tr>\n",
       "    <tr>\n",
       "      <th>2</th>\n",
       "      <td>14415</td>\n",
       "      <td>MU5138</td>\n",
       "      <td>33L</td>\n",
       "      <td>PEK</td>\n",
       "      <td>SHA</td>\n",
       "      <td>2019-01-04 07:00:00</td>\n",
       "      <td>2019-01-04 09:15:00</td>\n",
       "      <td>1</td>\n",
       "      <td>J</td>\n",
       "      <td>5360</td>\n",
       "      <td>1.00</td>\n",
       "      <td>2019-01-03 14:26:15</td>\n",
       "      <td>1</td>\n",
       "      <td>4</td>\n",
       "      <td>4</td>\n",
       "      <td>3</td>\n",
       "      <td>5360.00</td>\n",
       "      <td>China Eastern Airlines</td>\n",
       "    </tr>\n",
       "    <tr>\n",
       "      <th>3</th>\n",
       "      <td>14429</td>\n",
       "      <td>HU7605</td>\n",
       "      <td>350</td>\n",
       "      <td>PEK</td>\n",
       "      <td>SHA</td>\n",
       "      <td>2019-01-04 07:20:00</td>\n",
       "      <td>2019-01-04 09:35:00</td>\n",
       "      <td>1</td>\n",
       "      <td>I</td>\n",
       "      <td>1635</td>\n",
       "      <td>0.29</td>\n",
       "      <td>2019-01-03 14:26:15</td>\n",
       "      <td>1</td>\n",
       "      <td>4</td>\n",
       "      <td>4</td>\n",
       "      <td>3</td>\n",
       "      <td>474.15</td>\n",
       "      <td>Hainan Airlines</td>\n",
       "    </tr>\n",
       "    <tr>\n",
       "      <th>4</th>\n",
       "      <td>14431</td>\n",
       "      <td>HU7605</td>\n",
       "      <td>350</td>\n",
       "      <td>PEK</td>\n",
       "      <td>SHA</td>\n",
       "      <td>2019-01-04 07:20:00</td>\n",
       "      <td>2019-01-04 09:35:00</td>\n",
       "      <td>1</td>\n",
       "      <td>I</td>\n",
       "      <td>1640</td>\n",
       "      <td>0.29</td>\n",
       "      <td>2019-01-03 14:26:15</td>\n",
       "      <td>1</td>\n",
       "      <td>4</td>\n",
       "      <td>4</td>\n",
       "      <td>3</td>\n",
       "      <td>475.60</td>\n",
       "      <td>Hainan Airlines</td>\n",
       "    </tr>\n",
       "  </tbody>\n",
       "</table>\n",
       "</div>"
      ],
      "text/plain": [
       "      ID flightNumber craftTypeCode depAirport arrAirport       departureDate  \\\n",
       "0  14393       HO1252           320        PEK        SHA 2019-01-04 06:35:00   \n",
       "1  14409       MU5138           33L        PEK        SHA 2019-01-04 07:00:00   \n",
       "2  14415       MU5138           33L        PEK        SHA 2019-01-04 07:00:00   \n",
       "3  14429       HU7605           350        PEK        SHA 2019-01-04 07:20:00   \n",
       "4  14431       HU7605           350        PEK        SHA 2019-01-04 07:20:00   \n",
       "\n",
       "          arrivalDate  cabinClass priceClass  price  rate          createDate  \\\n",
       "0 2019-01-04 08:55:00           1          C   1860  1.00 2019-01-03 14:26:15   \n",
       "1 2019-01-04 09:15:00           1          I   1640  0.31 2019-01-03 14:26:15   \n",
       "2 2019-01-04 09:15:00           1          J   5360  1.00 2019-01-03 14:26:15   \n",
       "3 2019-01-04 09:35:00           1          I   1635  0.29 2019-01-03 14:26:15   \n",
       "4 2019-01-04 09:35:00           1          I   1640  0.29 2019-01-03 14:26:15   \n",
       "\n",
       "   dateDifference  departureDate_dofweek  arrivalDate_dofweek  \\\n",
       "0               1                      4                    4   \n",
       "1               1                      4                    4   \n",
       "2               1                      4                    4   \n",
       "3               1                      4                    4   \n",
       "4               1                      4                    4   \n",
       "\n",
       "   createDate_dofweek  pricePaid                 airline  \n",
       "0                   3    1860.00        Juneyao Airlines  \n",
       "1                   3     508.40  China Eastern Airlines  \n",
       "2                   3    5360.00  China Eastern Airlines  \n",
       "3                   3     474.15         Hainan Airlines  \n",
       "4                   3     475.60         Hainan Airlines  "
      ]
     },
     "execution_count": 117,
     "metadata": {},
     "output_type": "execute_result"
    }
   ],
   "source": [
    "df.head()"
   ]
  },
  {
   "cell_type": "code",
   "execution_count": 118,
   "metadata": {},
   "outputs": [
    {
     "data": {
      "image/png": "[encoded data removed]",
      "text/plain": [
       "<Figure size 432x288 with 1 Axes>"
      ]
     },
     "metadata": {
      "needs_background": "light"
     },
     "output_type": "display_data"
    }
   ],
   "source": [
    "# group by airline\n",
    "airline_total = df.groupby('airline').agg({'pricePaid':'sum'}).sort_values(by='pricePaid',ascending=False);\n",
    "# make a bar plot of the airlines\n",
    "sns.barplot(x=airline_total.index,y=airline_total['pricePaid']);\n",
    "plt.xticks(rotation=90);\n",
    "plt.title('Total Income by Airline');\n",
    "# Do avg ticket cost per airline"
   ]
  },
  {
   "cell_type": "code",
   "execution_count": 119,
   "metadata": {},
   "outputs": [
    {
     "data": {
      "text/plain": [
       "<matplotlib.legend.Legend at 0x153c2d588>"
      ]
     },
     "execution_count": 119,
     "metadata": {},
     "output_type": "execute_result"
    },
    {
     "data": {
      "image/png": "[encoded data removed]",
      "text/plain": [
       "<Figure size 432x288 with 1 Axes>"
      ]
     },
     "metadata": {
      "needs_background": "light"
     },
     "output_type": "display_data"
    }
   ],
   "source": [
    "# group by airline and date difference \n",
    "ddff= df.groupby(['airline','dateDifference']).agg({'price':'mean'}).reset_index()\n",
    "sns.scatterplot(x=ddff['dateDifference'],y=ddff['price'],hue=ddff['airline'])\n",
    "plt.legend(loc = 'lower left',bbox_to_anchor=(.75, -.75))\n",
    "\n",
    "# use smote or over sampling/interplation to get new values for missing days "
   ]
  },
  {
   "cell_type": "code",
   "execution_count": 120,
   "metadata": {},
   "outputs": [
    {
     "data": {
      "image/png": "[encoded data removed]",
      "text/plain": [
       "<Figure size 432x288 with 1 Axes>"
      ]
     },
     "metadata": {
      "needs_background": "light"
     },
     "output_type": "display_data"
    }
   ],
   "source": [
    "# airline rate mean by dept day of week\n",
    "dof_air = df.groupby(['airline', 'departureDate_dofweek']).agg({'rate':'mean'}).reset_index()\n",
    "sns.scatterplot(x=dof_air['departureDate_dofweek'],y=dof_air['rate'],hue=dof_air['airline']);\n",
    "plt.legend(loc = 'lower left',bbox_to_anchor=(.75, -.75));\n",
    "plt.title('Airline Rate Mean By Day of Week');"
   ]
  },
  {
   "cell_type": "code",
   "execution_count": 121,
   "metadata": {},
   "outputs": [
    {
     "data": {
      "text/html": [
       "<div>\n",
       "<style scoped>\n",
       "    .dataframe tbody tr th:only-of-type {\n",
       "        vertical-align: middle;\n",
       "    }\n",
       "\n",
       "    .dataframe tbody tr th {\n",
       "        vertical-align: top;\n",
       "    }\n",
       "\n",
       "    .dataframe thead th {\n",
       "        text-align: right;\n",
       "    }\n",
       "</style>\n",
       "<table border=\"1\" class=\"dataframe\">\n",
       "  <thead>\n",
       "    <tr style=\"text-align: right;\">\n",
       "      <th></th>\n",
       "      <th>airline</th>\n",
       "      <th>departureDate_dofweek</th>\n",
       "      <th>rate</th>\n",
       "    </tr>\n",
       "  </thead>\n",
       "  <tbody>\n",
       "    <tr>\n",
       "      <th>0</th>\n",
       "      <td>Air China</td>\n",
       "      <td>0</td>\n",
       "      <td>0.779957</td>\n",
       "    </tr>\n",
       "    <tr>\n",
       "      <th>1</th>\n",
       "      <td>Air China</td>\n",
       "      <td>1</td>\n",
       "      <td>0.817788</td>\n",
       "    </tr>\n",
       "    <tr>\n",
       "      <th>2</th>\n",
       "      <td>Air China</td>\n",
       "      <td>2</td>\n",
       "      <td>0.847237</td>\n",
       "    </tr>\n",
       "    <tr>\n",
       "      <th>3</th>\n",
       "      <td>Air China</td>\n",
       "      <td>3</td>\n",
       "      <td>0.853420</td>\n",
       "    </tr>\n",
       "    <tr>\n",
       "      <th>4</th>\n",
       "      <td>Air China</td>\n",
       "      <td>4</td>\n",
       "      <td>0.853359</td>\n",
       "    </tr>\n",
       "  </tbody>\n",
       "</table>\n",
       "</div>"
      ],
      "text/plain": [
       "     airline  departureDate_dofweek      rate\n",
       "0  Air China                      0  0.779957\n",
       "1  Air China                      1  0.817788\n",
       "2  Air China                      2  0.847237\n",
       "3  Air China                      3  0.853420\n",
       "4  Air China                      4  0.853359"
      ]
     },
     "execution_count": 121,
     "metadata": {},
     "output_type": "execute_result"
    }
   ],
   "source": [
    "dof_air.head()"
   ]
  },
  {
   "cell_type": "code",
   "execution_count": 122,
   "metadata": {},
   "outputs": [],
   "source": [
    "# Get length of trip (trip duration)"
   ]
  },
  {
   "cell_type": "code",
   "execution_count": 123,
   "metadata": {},
   "outputs": [],
   "source": [
    "# Make visuals for EDA presentation"
   ]
  },
  {
   "cell_type": "code",
   "execution_count": 124,
   "metadata": {},
   "outputs": [
    {
     "data": {
      "text/html": [
       "<div>\n",
       "<style scoped>\n",
       "    .dataframe tbody tr th:only-of-type {\n",
       "        vertical-align: middle;\n",
       "    }\n",
       "\n",
       "    .dataframe tbody tr th {\n",
       "        vertical-align: top;\n",
       "    }\n",
       "\n",
       "    .dataframe thead th {\n",
       "        text-align: right;\n",
       "    }\n",
       "</style>\n",
       "<table border=\"1\" class=\"dataframe\">\n",
       "  <thead>\n",
       "    <tr style=\"text-align: right;\">\n",
       "      <th></th>\n",
       "      <th>ID</th>\n",
       "      <th>flightNumber</th>\n",
       "      <th>craftTypeCode</th>\n",
       "      <th>depAirport</th>\n",
       "      <th>arrAirport</th>\n",
       "      <th>departureDate</th>\n",
       "      <th>arrivalDate</th>\n",
       "      <th>cabinClass</th>\n",
       "      <th>priceClass</th>\n",
       "      <th>price</th>\n",
       "      <th>rate</th>\n",
       "      <th>createDate</th>\n",
       "      <th>dateDifference</th>\n",
       "      <th>departureDate_dofweek</th>\n",
       "      <th>arrivalDate_dofweek</th>\n",
       "      <th>createDate_dofweek</th>\n",
       "      <th>pricePaid</th>\n",
       "      <th>airline</th>\n",
       "    </tr>\n",
       "  </thead>\n",
       "  <tbody>\n",
       "    <tr>\n",
       "      <th>0</th>\n",
       "      <td>14393</td>\n",
       "      <td>HO1252</td>\n",
       "      <td>320</td>\n",
       "      <td>PEK</td>\n",
       "      <td>SHA</td>\n",
       "      <td>2019-01-04 06:35:00</td>\n",
       "      <td>2019-01-04 08:55:00</td>\n",
       "      <td>1</td>\n",
       "      <td>C</td>\n",
       "      <td>1860</td>\n",
       "      <td>1.00</td>\n",
       "      <td>2019-01-03 14:26:15</td>\n",
       "      <td>1</td>\n",
       "      <td>4</td>\n",
       "      <td>4</td>\n",
       "      <td>3</td>\n",
       "      <td>1860.00</td>\n",
       "      <td>Juneyao Airlines</td>\n",
       "    </tr>\n",
       "    <tr>\n",
       "      <th>1</th>\n",
       "      <td>14409</td>\n",
       "      <td>MU5138</td>\n",
       "      <td>33L</td>\n",
       "      <td>PEK</td>\n",
       "      <td>SHA</td>\n",
       "      <td>2019-01-04 07:00:00</td>\n",
       "      <td>2019-01-04 09:15:00</td>\n",
       "      <td>1</td>\n",
       "      <td>I</td>\n",
       "      <td>1640</td>\n",
       "      <td>0.31</td>\n",
       "      <td>2019-01-03 14:26:15</td>\n",
       "      <td>1</td>\n",
       "      <td>4</td>\n",
       "      <td>4</td>\n",
       "      <td>3</td>\n",
       "      <td>508.40</td>\n",
       "      <td>China Eastern Airlines</td>\n",
       "    </tr>\n",
       "    <tr>\n",
       "      <th>2</th>\n",
       "      <td>14415</td>\n",
       "      <td>MU5138</td>\n",
       "      <td>33L</td>\n",
       "      <td>PEK</td>\n",
       "      <td>SHA</td>\n",
       "      <td>2019-01-04 07:00:00</td>\n",
       "      <td>2019-01-04 09:15:00</td>\n",
       "      <td>1</td>\n",
       "      <td>J</td>\n",
       "      <td>5360</td>\n",
       "      <td>1.00</td>\n",
       "      <td>2019-01-03 14:26:15</td>\n",
       "      <td>1</td>\n",
       "      <td>4</td>\n",
       "      <td>4</td>\n",
       "      <td>3</td>\n",
       "      <td>5360.00</td>\n",
       "      <td>China Eastern Airlines</td>\n",
       "    </tr>\n",
       "    <tr>\n",
       "      <th>3</th>\n",
       "      <td>14429</td>\n",
       "      <td>HU7605</td>\n",
       "      <td>350</td>\n",
       "      <td>PEK</td>\n",
       "      <td>SHA</td>\n",
       "      <td>2019-01-04 07:20:00</td>\n",
       "      <td>2019-01-04 09:35:00</td>\n",
       "      <td>1</td>\n",
       "      <td>I</td>\n",
       "      <td>1635</td>\n",
       "      <td>0.29</td>\n",
       "      <td>2019-01-03 14:26:15</td>\n",
       "      <td>1</td>\n",
       "      <td>4</td>\n",
       "      <td>4</td>\n",
       "      <td>3</td>\n",
       "      <td>474.15</td>\n",
       "      <td>Hainan Airlines</td>\n",
       "    </tr>\n",
       "    <tr>\n",
       "      <th>4</th>\n",
       "      <td>14431</td>\n",
       "      <td>HU7605</td>\n",
       "      <td>350</td>\n",
       "      <td>PEK</td>\n",
       "      <td>SHA</td>\n",
       "      <td>2019-01-04 07:20:00</td>\n",
       "      <td>2019-01-04 09:35:00</td>\n",
       "      <td>1</td>\n",
       "      <td>I</td>\n",
       "      <td>1640</td>\n",
       "      <td>0.29</td>\n",
       "      <td>2019-01-03 14:26:15</td>\n",
       "      <td>1</td>\n",
       "      <td>4</td>\n",
       "      <td>4</td>\n",
       "      <td>3</td>\n",
       "      <td>475.60</td>\n",
       "      <td>Hainan Airlines</td>\n",
       "    </tr>\n",
       "  </tbody>\n",
       "</table>\n",
       "</div>"
      ],
      "text/plain": [
       "      ID flightNumber craftTypeCode depAirport arrAirport       departureDate  \\\n",
       "0  14393       HO1252           320        PEK        SHA 2019-01-04 06:35:00   \n",
       "1  14409       MU5138           33L        PEK        SHA 2019-01-04 07:00:00   \n",
       "2  14415       MU5138           33L        PEK        SHA 2019-01-04 07:00:00   \n",
       "3  14429       HU7605           350        PEK        SHA 2019-01-04 07:20:00   \n",
       "4  14431       HU7605           350        PEK        SHA 2019-01-04 07:20:00   \n",
       "\n",
       "          arrivalDate  cabinClass priceClass  price  rate          createDate  \\\n",
       "0 2019-01-04 08:55:00           1          C   1860  1.00 2019-01-03 14:26:15   \n",
       "1 2019-01-04 09:15:00           1          I   1640  0.31 2019-01-03 14:26:15   \n",
       "2 2019-01-04 09:15:00           1          J   5360  1.00 2019-01-03 14:26:15   \n",
       "3 2019-01-04 09:35:00           1          I   1635  0.29 2019-01-03 14:26:15   \n",
       "4 2019-01-04 09:35:00           1          I   1640  0.29 2019-01-03 14:26:15   \n",
       "\n",
       "   dateDifference  departureDate_dofweek  arrivalDate_dofweek  \\\n",
       "0               1                      4                    4   \n",
       "1               1                      4                    4   \n",
       "2               1                      4                    4   \n",
       "3               1                      4                    4   \n",
       "4               1                      4                    4   \n",
       "\n",
       "   createDate_dofweek  pricePaid                 airline  \n",
       "0                   3    1860.00        Juneyao Airlines  \n",
       "1                   3     508.40  China Eastern Airlines  \n",
       "2                   3    5360.00  China Eastern Airlines  \n",
       "3                   3     474.15         Hainan Airlines  \n",
       "4                   3     475.60         Hainan Airlines  "
      ]
     },
     "execution_count": 124,
     "metadata": {},
     "output_type": "execute_result"
    }
   ],
   "source": [
    "df.head()"
   ]
  },
  {
   "cell_type": "code",
   "execution_count": null,
   "metadata": {},
   "outputs": [],
   "source": []
  },
  {
   "cell_type": "code",
   "execution_count": 125,
   "metadata": {},
   "outputs": [
    {
     "data": {
      "text/html": [
       "<div>\n",
       "<style scoped>\n",
       "    .dataframe tbody tr th:only-of-type {\n",
       "        vertical-align: middle;\n",
       "    }\n",
       "\n",
       "    .dataframe tbody tr th {\n",
       "        vertical-align: top;\n",
       "    }\n",
       "\n",
       "    .dataframe thead th {\n",
       "        text-align: right;\n",
       "    }\n",
       "</style>\n",
       "<table border=\"1\" class=\"dataframe\">\n",
       "  <thead>\n",
       "    <tr style=\"text-align: right;\">\n",
       "      <th></th>\n",
       "      <th>airline</th>\n",
       "      <th>pricePaid</th>\n",
       "      <th>rate</th>\n",
       "      <th>price</th>\n",
       "      <th>difference</th>\n",
       "    </tr>\n",
       "  </thead>\n",
       "  <tbody>\n",
       "    <tr>\n",
       "      <th>1852</th>\n",
       "      <td>Xiamen Air</td>\n",
       "      <td>3100.0</td>\n",
       "      <td>1.0</td>\n",
       "      <td>3100.0</td>\n",
       "      <td>0.0</td>\n",
       "    </tr>\n",
       "    <tr>\n",
       "      <th>472</th>\n",
       "      <td>China Eastern Airlines</td>\n",
       "      <td>5660.0</td>\n",
       "      <td>1.0</td>\n",
       "      <td>5660.0</td>\n",
       "      <td>0.0</td>\n",
       "    </tr>\n",
       "    <tr>\n",
       "      <th>473</th>\n",
       "      <td>China Eastern Airlines</td>\n",
       "      <td>6230.0</td>\n",
       "      <td>1.0</td>\n",
       "      <td>6230.0</td>\n",
       "      <td>0.0</td>\n",
       "    </tr>\n",
       "    <tr>\n",
       "      <th>570</th>\n",
       "      <td>China Southern Airlines</td>\n",
       "      <td>1240.0</td>\n",
       "      <td>1.0</td>\n",
       "      <td>1240.0</td>\n",
       "      <td>0.0</td>\n",
       "    </tr>\n",
       "    <tr>\n",
       "      <th>1589</th>\n",
       "      <td>Shanghai Airlines</td>\n",
       "      <td>1240.0</td>\n",
       "      <td>1.0</td>\n",
       "      <td>1240.0</td>\n",
       "      <td>0.0</td>\n",
       "    </tr>\n",
       "  </tbody>\n",
       "</table>\n",
       "</div>"
      ],
      "text/plain": [
       "                      airline  pricePaid  rate   price  difference\n",
       "1852               Xiamen Air     3100.0   1.0  3100.0         0.0\n",
       "472    China Eastern Airlines     5660.0   1.0  5660.0         0.0\n",
       "473    China Eastern Airlines     6230.0   1.0  6230.0         0.0\n",
       "570   China Southern Airlines     1240.0   1.0  1240.0         0.0\n",
       "1589        Shanghai Airlines     1240.0   1.0  1240.0         0.0"
      ]
     },
     "execution_count": 125,
     "metadata": {},
     "output_type": "execute_result"
    }
   ],
   "source": [
    "airline_ppr = df.groupby(['airline','pricePaid','rate']).agg({'price':'mean'}).reset_index()\n",
    "# removove anything with rate 0\n",
    "airline_ppr = airline_ppr[airline_ppr['rate']>0.0]\n",
    "airline_ppr['difference'] = airline_ppr['price'] - airline_ppr['pricePaid']\n",
    "airline_ppr = airline_ppr.sort_values(by = 'difference')\n",
    "airline_ppr.head()"
   ]
  },
  {
   "cell_type": "code",
   "execution_count": 126,
   "metadata": {},
   "outputs": [
    {
     "data": {
      "image/png": "[encoded data removed]",
      "text/plain": [
       "<Figure size 432x288 with 1 Axes>"
      ]
     },
     "metadata": {
      "needs_background": "light"
     },
     "output_type": "display_data"
    }
   ],
   "source": [
    "sns.barplot(x = airline_ppr['airline'],y=airline_ppr['price'])\n",
    "plt.xticks(rotation=90);\n",
    "plt.title('Avg Cost Per Ticket By Airline');"
   ]
  },
  {
   "cell_type": "code",
   "execution_count": 127,
   "metadata": {},
   "outputs": [
    {
     "data": {
      "image/png": "[encoded data removed]",
      "text/plain": [
       "<Figure size 432x288 with 1 Axes>"
      ]
     },
     "metadata": {
      "needs_background": "light"
     },
     "output_type": "display_data"
    }
   ],
   "source": [
    "# which airline has the highest difference in price and price paid and who does\n",
    "sns.barplot(x = airline_ppr['airline'],y=airline_ppr['difference'])\n",
    "plt.xticks(rotation=90);\n",
    "plt.title('Difference in Price by Airline ');\n",
    "#airline_ppr.difference.nunique()"
   ]
  },
  {
   "cell_type": "code",
   "execution_count": 128,
   "metadata": {},
   "outputs": [],
   "source": [
    "# focus on the bigger airlines maybe?\n"
   ]
  },
  {
   "cell_type": "code",
   "execution_count": 129,
   "metadata": {},
   "outputs": [
    {
     "data": {
      "text/html": [
       "<div>\n",
       "<style scoped>\n",
       "    .dataframe tbody tr th:only-of-type {\n",
       "        vertical-align: middle;\n",
       "    }\n",
       "\n",
       "    .dataframe tbody tr th {\n",
       "        vertical-align: top;\n",
       "    }\n",
       "\n",
       "    .dataframe thead th {\n",
       "        text-align: right;\n",
       "    }\n",
       "</style>\n",
       "<table border=\"1\" class=\"dataframe\">\n",
       "  <thead>\n",
       "    <tr style=\"text-align: right;\">\n",
       "      <th></th>\n",
       "      <th>ID</th>\n",
       "      <th>flightNumber</th>\n",
       "      <th>craftTypeCode</th>\n",
       "      <th>depAirport</th>\n",
       "      <th>arrAirport</th>\n",
       "      <th>departureDate</th>\n",
       "      <th>arrivalDate</th>\n",
       "      <th>cabinClass</th>\n",
       "      <th>priceClass</th>\n",
       "      <th>price</th>\n",
       "      <th>rate</th>\n",
       "      <th>createDate</th>\n",
       "      <th>dateDifference</th>\n",
       "      <th>departureDate_dofweek</th>\n",
       "      <th>arrivalDate_dofweek</th>\n",
       "      <th>createDate_dofweek</th>\n",
       "      <th>pricePaid</th>\n",
       "      <th>airline</th>\n",
       "    </tr>\n",
       "  </thead>\n",
       "  <tbody>\n",
       "    <tr>\n",
       "      <th>0</th>\n",
       "      <td>14393</td>\n",
       "      <td>HO1252</td>\n",
       "      <td>320</td>\n",
       "      <td>PEK</td>\n",
       "      <td>SHA</td>\n",
       "      <td>2019-01-04 06:35:00</td>\n",
       "      <td>2019-01-04 08:55:00</td>\n",
       "      <td>1</td>\n",
       "      <td>C</td>\n",
       "      <td>1860</td>\n",
       "      <td>1.00</td>\n",
       "      <td>2019-01-03 14:26:15</td>\n",
       "      <td>1</td>\n",
       "      <td>4</td>\n",
       "      <td>4</td>\n",
       "      <td>3</td>\n",
       "      <td>1860.00</td>\n",
       "      <td>Juneyao Airlines</td>\n",
       "    </tr>\n",
       "    <tr>\n",
       "      <th>1</th>\n",
       "      <td>14409</td>\n",
       "      <td>MU5138</td>\n",
       "      <td>33L</td>\n",
       "      <td>PEK</td>\n",
       "      <td>SHA</td>\n",
       "      <td>2019-01-04 07:00:00</td>\n",
       "      <td>2019-01-04 09:15:00</td>\n",
       "      <td>1</td>\n",
       "      <td>I</td>\n",
       "      <td>1640</td>\n",
       "      <td>0.31</td>\n",
       "      <td>2019-01-03 14:26:15</td>\n",
       "      <td>1</td>\n",
       "      <td>4</td>\n",
       "      <td>4</td>\n",
       "      <td>3</td>\n",
       "      <td>508.40</td>\n",
       "      <td>China Eastern Airlines</td>\n",
       "    </tr>\n",
       "    <tr>\n",
       "      <th>2</th>\n",
       "      <td>14415</td>\n",
       "      <td>MU5138</td>\n",
       "      <td>33L</td>\n",
       "      <td>PEK</td>\n",
       "      <td>SHA</td>\n",
       "      <td>2019-01-04 07:00:00</td>\n",
       "      <td>2019-01-04 09:15:00</td>\n",
       "      <td>1</td>\n",
       "      <td>J</td>\n",
       "      <td>5360</td>\n",
       "      <td>1.00</td>\n",
       "      <td>2019-01-03 14:26:15</td>\n",
       "      <td>1</td>\n",
       "      <td>4</td>\n",
       "      <td>4</td>\n",
       "      <td>3</td>\n",
       "      <td>5360.00</td>\n",
       "      <td>China Eastern Airlines</td>\n",
       "    </tr>\n",
       "    <tr>\n",
       "      <th>3</th>\n",
       "      <td>14429</td>\n",
       "      <td>HU7605</td>\n",
       "      <td>350</td>\n",
       "      <td>PEK</td>\n",
       "      <td>SHA</td>\n",
       "      <td>2019-01-04 07:20:00</td>\n",
       "      <td>2019-01-04 09:35:00</td>\n",
       "      <td>1</td>\n",
       "      <td>I</td>\n",
       "      <td>1635</td>\n",
       "      <td>0.29</td>\n",
       "      <td>2019-01-03 14:26:15</td>\n",
       "      <td>1</td>\n",
       "      <td>4</td>\n",
       "      <td>4</td>\n",
       "      <td>3</td>\n",
       "      <td>474.15</td>\n",
       "      <td>Hainan Airlines</td>\n",
       "    </tr>\n",
       "    <tr>\n",
       "      <th>4</th>\n",
       "      <td>14431</td>\n",
       "      <td>HU7605</td>\n",
       "      <td>350</td>\n",
       "      <td>PEK</td>\n",
       "      <td>SHA</td>\n",
       "      <td>2019-01-04 07:20:00</td>\n",
       "      <td>2019-01-04 09:35:00</td>\n",
       "      <td>1</td>\n",
       "      <td>I</td>\n",
       "      <td>1640</td>\n",
       "      <td>0.29</td>\n",
       "      <td>2019-01-03 14:26:15</td>\n",
       "      <td>1</td>\n",
       "      <td>4</td>\n",
       "      <td>4</td>\n",
       "      <td>3</td>\n",
       "      <td>475.60</td>\n",
       "      <td>Hainan Airlines</td>\n",
       "    </tr>\n",
       "  </tbody>\n",
       "</table>\n",
       "</div>"
      ],
      "text/plain": [
       "      ID flightNumber craftTypeCode depAirport arrAirport       departureDate  \\\n",
       "0  14393       HO1252           320        PEK        SHA 2019-01-04 06:35:00   \n",
       "1  14409       MU5138           33L        PEK        SHA 2019-01-04 07:00:00   \n",
       "2  14415       MU5138           33L        PEK        SHA 2019-01-04 07:00:00   \n",
       "3  14429       HU7605           350        PEK        SHA 2019-01-04 07:20:00   \n",
       "4  14431       HU7605           350        PEK        SHA 2019-01-04 07:20:00   \n",
       "\n",
       "          arrivalDate  cabinClass priceClass  price  rate          createDate  \\\n",
       "0 2019-01-04 08:55:00           1          C   1860  1.00 2019-01-03 14:26:15   \n",
       "1 2019-01-04 09:15:00           1          I   1640  0.31 2019-01-03 14:26:15   \n",
       "2 2019-01-04 09:15:00           1          J   5360  1.00 2019-01-03 14:26:15   \n",
       "3 2019-01-04 09:35:00           1          I   1635  0.29 2019-01-03 14:26:15   \n",
       "4 2019-01-04 09:35:00           1          I   1640  0.29 2019-01-03 14:26:15   \n",
       "\n",
       "   dateDifference  departureDate_dofweek  arrivalDate_dofweek  \\\n",
       "0               1                      4                    4   \n",
       "1               1                      4                    4   \n",
       "2               1                      4                    4   \n",
       "3               1                      4                    4   \n",
       "4               1                      4                    4   \n",
       "\n",
       "   createDate_dofweek  pricePaid                 airline  \n",
       "0                   3    1860.00        Juneyao Airlines  \n",
       "1                   3     508.40  China Eastern Airlines  \n",
       "2                   3    5360.00  China Eastern Airlines  \n",
       "3                   3     474.15         Hainan Airlines  \n",
       "4                   3     475.60         Hainan Airlines  "
      ]
     },
     "execution_count": 129,
     "metadata": {},
     "output_type": "execute_result"
    }
   ],
   "source": [
    "df.head()"
   ]
  },
  {
   "cell_type": "code",
   "execution_count": 130,
   "metadata": {},
   "outputs": [],
   "source": [
    "cabin_mean_earnings2 = df.groupby(df['cabinClass']).agg({'price':'mean'})"
   ]
  },
  {
   "cell_type": "code",
   "execution_count": 131,
   "metadata": {},
   "outputs": [
    {
     "data": {
      "image/png": "[encoded data removed]",
      "text/plain": [
       "<Figure size 504x504 with 1 Axes>"
      ]
     },
     "metadata": {
      "needs_background": "light"
     },
     "output_type": "display_data"
    }
   ],
   "source": [
    "plt.figure(figsize=[7,7])\n",
    "sns.barplot(x=cabin_mean_earnings2.index, y = cabin_mean_earnings2['price']);\n",
    "plt.title('Average Ticket Cost by Cabin Class');"
   ]
  },
  {
   "cell_type": "code",
   "execution_count": null,
   "metadata": {},
   "outputs": [],
   "source": []
  },
  {
   "cell_type": "code",
   "execution_count": null,
   "metadata": {},
   "outputs": [],
   "source": []
  },
  {
   "cell_type": "markdown",
   "metadata": {},
   "source": [
    "# Feature Engineering"
   ]
  },
  {
   "cell_type": "code",
   "execution_count": 132,
   "metadata": {},
   "outputs": [],
   "source": [
    "# remove all the outlier from df\n",
    "# make a holiday feature\n",
    "# make depArp and ArrApt dummy variables since there is only 2 of them?\n",
    "# change the price columns to proper currency rates\n",
    "# put coordinate locations \n",
    "# change price class into integers\n",
    "# change datetime objects"
   ]
  },
  {
   "cell_type": "code",
   "execution_count": null,
   "metadata": {},
   "outputs": [],
   "source": []
  },
  {
   "cell_type": "code",
   "execution_count": 133,
   "metadata": {},
   "outputs": [],
   "source": [
    "# Dummy the departure and arrival features\n",
    "\n",
    "df = pd.get_dummies(data = df,columns=['arrAirport','depAirport'], drop_first=True)"
   ]
  },
  {
   "cell_type": "code",
   "execution_count": 134,
   "metadata": {},
   "outputs": [
    {
     "data": {
      "text/html": [
       "<div>\n",
       "<style scoped>\n",
       "    .dataframe tbody tr th:only-of-type {\n",
       "        vertical-align: middle;\n",
       "    }\n",
       "\n",
       "    .dataframe tbody tr th {\n",
       "        vertical-align: top;\n",
       "    }\n",
       "\n",
       "    .dataframe thead th {\n",
       "        text-align: right;\n",
       "    }\n",
       "</style>\n",
       "<table border=\"1\" class=\"dataframe\">\n",
       "  <thead>\n",
       "    <tr style=\"text-align: right;\">\n",
       "      <th></th>\n",
       "      <th>ID</th>\n",
       "      <th>flightNumber</th>\n",
       "      <th>craftTypeCode</th>\n",
       "      <th>departureDate</th>\n",
       "      <th>arrivalDate</th>\n",
       "      <th>cabinClass</th>\n",
       "      <th>priceClass</th>\n",
       "      <th>price</th>\n",
       "      <th>rate</th>\n",
       "      <th>createDate</th>\n",
       "      <th>dateDifference</th>\n",
       "      <th>departureDate_dofweek</th>\n",
       "      <th>arrivalDate_dofweek</th>\n",
       "      <th>createDate_dofweek</th>\n",
       "      <th>pricePaid</th>\n",
       "      <th>airline</th>\n",
       "      <th>arrAirport_SHA</th>\n",
       "      <th>depAirport_SHA</th>\n",
       "    </tr>\n",
       "  </thead>\n",
       "  <tbody>\n",
       "    <tr>\n",
       "      <th>0</th>\n",
       "      <td>14393</td>\n",
       "      <td>HO1252</td>\n",
       "      <td>320</td>\n",
       "      <td>2019-01-04 06:35:00</td>\n",
       "      <td>2019-01-04 08:55:00</td>\n",
       "      <td>1</td>\n",
       "      <td>C</td>\n",
       "      <td>1860</td>\n",
       "      <td>1.00</td>\n",
       "      <td>2019-01-03 14:26:15</td>\n",
       "      <td>1</td>\n",
       "      <td>4</td>\n",
       "      <td>4</td>\n",
       "      <td>3</td>\n",
       "      <td>1860.00</td>\n",
       "      <td>Juneyao Airlines</td>\n",
       "      <td>1</td>\n",
       "      <td>0</td>\n",
       "    </tr>\n",
       "    <tr>\n",
       "      <th>1</th>\n",
       "      <td>14409</td>\n",
       "      <td>MU5138</td>\n",
       "      <td>33L</td>\n",
       "      <td>2019-01-04 07:00:00</td>\n",
       "      <td>2019-01-04 09:15:00</td>\n",
       "      <td>1</td>\n",
       "      <td>I</td>\n",
       "      <td>1640</td>\n",
       "      <td>0.31</td>\n",
       "      <td>2019-01-03 14:26:15</td>\n",
       "      <td>1</td>\n",
       "      <td>4</td>\n",
       "      <td>4</td>\n",
       "      <td>3</td>\n",
       "      <td>508.40</td>\n",
       "      <td>China Eastern Airlines</td>\n",
       "      <td>1</td>\n",
       "      <td>0</td>\n",
       "    </tr>\n",
       "    <tr>\n",
       "      <th>2</th>\n",
       "      <td>14415</td>\n",
       "      <td>MU5138</td>\n",
       "      <td>33L</td>\n",
       "      <td>2019-01-04 07:00:00</td>\n",
       "      <td>2019-01-04 09:15:00</td>\n",
       "      <td>1</td>\n",
       "      <td>J</td>\n",
       "      <td>5360</td>\n",
       "      <td>1.00</td>\n",
       "      <td>2019-01-03 14:26:15</td>\n",
       "      <td>1</td>\n",
       "      <td>4</td>\n",
       "      <td>4</td>\n",
       "      <td>3</td>\n",
       "      <td>5360.00</td>\n",
       "      <td>China Eastern Airlines</td>\n",
       "      <td>1</td>\n",
       "      <td>0</td>\n",
       "    </tr>\n",
       "    <tr>\n",
       "      <th>3</th>\n",
       "      <td>14429</td>\n",
       "      <td>HU7605</td>\n",
       "      <td>350</td>\n",
       "      <td>2019-01-04 07:20:00</td>\n",
       "      <td>2019-01-04 09:35:00</td>\n",
       "      <td>1</td>\n",
       "      <td>I</td>\n",
       "      <td>1635</td>\n",
       "      <td>0.29</td>\n",
       "      <td>2019-01-03 14:26:15</td>\n",
       "      <td>1</td>\n",
       "      <td>4</td>\n",
       "      <td>4</td>\n",
       "      <td>3</td>\n",
       "      <td>474.15</td>\n",
       "      <td>Hainan Airlines</td>\n",
       "      <td>1</td>\n",
       "      <td>0</td>\n",
       "    </tr>\n",
       "    <tr>\n",
       "      <th>4</th>\n",
       "      <td>14431</td>\n",
       "      <td>HU7605</td>\n",
       "      <td>350</td>\n",
       "      <td>2019-01-04 07:20:00</td>\n",
       "      <td>2019-01-04 09:35:00</td>\n",
       "      <td>1</td>\n",
       "      <td>I</td>\n",
       "      <td>1640</td>\n",
       "      <td>0.29</td>\n",
       "      <td>2019-01-03 14:26:15</td>\n",
       "      <td>1</td>\n",
       "      <td>4</td>\n",
       "      <td>4</td>\n",
       "      <td>3</td>\n",
       "      <td>475.60</td>\n",
       "      <td>Hainan Airlines</td>\n",
       "      <td>1</td>\n",
       "      <td>0</td>\n",
       "    </tr>\n",
       "  </tbody>\n",
       "</table>\n",
       "</div>"
      ],
      "text/plain": [
       "      ID flightNumber craftTypeCode       departureDate         arrivalDate  \\\n",
       "0  14393       HO1252           320 2019-01-04 06:35:00 2019-01-04 08:55:00   \n",
       "1  14409       MU5138           33L 2019-01-04 07:00:00 2019-01-04 09:15:00   \n",
       "2  14415       MU5138           33L 2019-01-04 07:00:00 2019-01-04 09:15:00   \n",
       "3  14429       HU7605           350 2019-01-04 07:20:00 2019-01-04 09:35:00   \n",
       "4  14431       HU7605           350 2019-01-04 07:20:00 2019-01-04 09:35:00   \n",
       "\n",
       "   cabinClass priceClass  price  rate          createDate  dateDifference  \\\n",
       "0           1          C   1860  1.00 2019-01-03 14:26:15               1   \n",
       "1           1          I   1640  0.31 2019-01-03 14:26:15               1   \n",
       "2           1          J   5360  1.00 2019-01-03 14:26:15               1   \n",
       "3           1          I   1635  0.29 2019-01-03 14:26:15               1   \n",
       "4           1          I   1640  0.29 2019-01-03 14:26:15               1   \n",
       "\n",
       "   departureDate_dofweek  arrivalDate_dofweek  createDate_dofweek  pricePaid  \\\n",
       "0                      4                    4                   3    1860.00   \n",
       "1                      4                    4                   3     508.40   \n",
       "2                      4                    4                   3    5360.00   \n",
       "3                      4                    4                   3     474.15   \n",
       "4                      4                    4                   3     475.60   \n",
       "\n",
       "                  airline  arrAirport_SHA  depAirport_SHA  \n",
       "0        Juneyao Airlines               1               0  \n",
       "1  China Eastern Airlines               1               0  \n",
       "2  China Eastern Airlines               1               0  \n",
       "3         Hainan Airlines               1               0  \n",
       "4         Hainan Airlines               1               0  "
      ]
     },
     "execution_count": 134,
     "metadata": {},
     "output_type": "execute_result"
    }
   ],
   "source": [
    "df.head()"
   ]
  },
  {
   "cell_type": "code",
   "execution_count": 135,
   "metadata": {},
   "outputs": [],
   "source": [
    "# put coordinates of airport "
   ]
  },
  {
   "cell_type": "code",
   "execution_count": 136,
   "metadata": {},
   "outputs": [],
   "source": [
    "# calculate the distances"
   ]
  },
  {
   "cell_type": "code",
   "execution_count": 137,
   "metadata": {},
   "outputs": [],
   "source": [
    "# make a list of important dates to look out for\n",
    "festivities = ['2019-01-01','2019-01-04','2019-01-05','2019-01-06','2019-01-07','2019-01-08','2019-01-09',\n",
    "              '2019-04-04','2019-05-01','2019-05-02','2019-05-03','2019-05-04','2019-05-05','2019-06-25',\n",
    "               '2019-06-26','2019-06-27']\n",
    "\n"
   ]
  },
  {
   "cell_type": "code",
   "execution_count": 138,
   "metadata": {},
   "outputs": [
    {
     "data": {
      "text/plain": [
       "Timestamp('2019-01-04 06:35:00')"
      ]
     },
     "execution_count": 138,
     "metadata": {},
     "output_type": "execute_result"
    }
   ],
   "source": [
    "# make a function that sorts throught departure date and checks for holidays\n",
    "df.departureDate[0]"
   ]
  },
  {
   "cell_type": "code",
   "execution_count": 139,
   "metadata": {},
   "outputs": [],
   "source": [
    "# make a holiday checker function\n",
    "def HolidayChecker(timestamp):\n",
    "    year = str(timestamp.year)\n",
    "    month = str(timestamp.month)\n",
    "    day = str(timestamp.day)\n",
    "    \n",
    "    if len(month) == 1:\n",
    "        month = '0'+ month \n",
    "    \n",
    "    if len(day) ==1:\n",
    "        day = '0'+day\n",
    "        \n",
    "    return year + '-' + month + '-' + day\n",
    "        "
   ]
  },
  {
   "cell_type": "code",
   "execution_count": 140,
   "metadata": {},
   "outputs": [
    {
     "data": {
      "text/plain": [
       "True"
      ]
     },
     "execution_count": 140,
     "metadata": {},
     "output_type": "execute_result"
    }
   ],
   "source": [
    "\n",
    "HolidayChecker(df['departureDate'][0]) in festivities"
   ]
  },
  {
   "cell_type": "code",
   "execution_count": 141,
   "metadata": {},
   "outputs": [],
   "source": [
    "# iterate thru whole data set\n",
    "# make empty list to append value \n",
    "listy_list = []\n",
    "\n",
    "for timestamp in df['departureDate']:\n",
    "    listy_list.append(HolidayChecker(timestamp) in festivities)"
   ]
  },
  {
   "cell_type": "code",
   "execution_count": 142,
   "metadata": {},
   "outputs": [],
   "source": [
    "# make a series of the holiday\n",
    "df['holiday'] = listy_list"
   ]
  },
  {
   "cell_type": "code",
   "execution_count": null,
   "metadata": {},
   "outputs": [],
   "source": []
  },
  {
   "cell_type": "code",
   "execution_count": null,
   "metadata": {},
   "outputs": [],
   "source": []
  },
  {
   "cell_type": "code",
   "execution_count": 143,
   "metadata": {},
   "outputs": [
    {
     "data": {
      "text/html": [
       "<div>\n",
       "<style scoped>\n",
       "    .dataframe tbody tr th:only-of-type {\n",
       "        vertical-align: middle;\n",
       "    }\n",
       "\n",
       "    .dataframe tbody tr th {\n",
       "        vertical-align: top;\n",
       "    }\n",
       "\n",
       "    .dataframe thead th {\n",
       "        text-align: right;\n",
       "    }\n",
       "</style>\n",
       "<table border=\"1\" class=\"dataframe\">\n",
       "  <thead>\n",
       "    <tr style=\"text-align: right;\">\n",
       "      <th></th>\n",
       "      <th>ID</th>\n",
       "      <th>flightNumber</th>\n",
       "      <th>craftTypeCode</th>\n",
       "      <th>departureDate</th>\n",
       "      <th>arrivalDate</th>\n",
       "      <th>cabinClass</th>\n",
       "      <th>priceClass</th>\n",
       "      <th>price</th>\n",
       "      <th>rate</th>\n",
       "      <th>createDate</th>\n",
       "      <th>dateDifference</th>\n",
       "      <th>departureDate_dofweek</th>\n",
       "      <th>arrivalDate_dofweek</th>\n",
       "      <th>createDate_dofweek</th>\n",
       "      <th>pricePaid</th>\n",
       "      <th>airline</th>\n",
       "      <th>arrAirport_SHA</th>\n",
       "      <th>depAirport_SHA</th>\n",
       "      <th>holiday</th>\n",
       "    </tr>\n",
       "  </thead>\n",
       "  <tbody>\n",
       "    <tr>\n",
       "      <th>553133</th>\n",
       "      <td>16339385</td>\n",
       "      <td>HU7608</td>\n",
       "      <td>338</td>\n",
       "      <td>2019-02-08 11:40:00</td>\n",
       "      <td>2019-02-08 14:15:00</td>\n",
       "      <td>0</td>\n",
       "      <td>L</td>\n",
       "      <td>1010</td>\n",
       "      <td>0.68</td>\n",
       "      <td>2019-02-01 12:29:34</td>\n",
       "      <td>7</td>\n",
       "      <td>4</td>\n",
       "      <td>4</td>\n",
       "      <td>4</td>\n",
       "      <td>686.8</td>\n",
       "      <td>Hainan Airlines</td>\n",
       "      <td>0</td>\n",
       "      <td>1</td>\n",
       "      <td>False</td>\n",
       "    </tr>\n",
       "    <tr>\n",
       "      <th>40774</th>\n",
       "      <td>49520992</td>\n",
       "      <td>CA1589</td>\n",
       "      <td>773</td>\n",
       "      <td>2019-05-25 20:30:00</td>\n",
       "      <td>2019-05-25 22:40:00</td>\n",
       "      <td>1</td>\n",
       "      <td>J</td>\n",
       "      <td>5660</td>\n",
       "      <td>1.00</td>\n",
       "      <td>2019-04-25 02:23:25</td>\n",
       "      <td>30</td>\n",
       "      <td>5</td>\n",
       "      <td>5</td>\n",
       "      <td>3</td>\n",
       "      <td>5660.0</td>\n",
       "      <td>Air China</td>\n",
       "      <td>1</td>\n",
       "      <td>0</td>\n",
       "      <td>False</td>\n",
       "    </tr>\n",
       "    <tr>\n",
       "      <th>7375</th>\n",
       "      <td>54898395</td>\n",
       "      <td>MU5152</td>\n",
       "      <td>32L</td>\n",
       "      <td>2019-05-15 11:30:00</td>\n",
       "      <td>2019-05-15 14:00:00</td>\n",
       "      <td>1</td>\n",
       "      <td>D</td>\n",
       "      <td>3730</td>\n",
       "      <td>0.66</td>\n",
       "      <td>2019-05-14 14:14:56</td>\n",
       "      <td>1</td>\n",
       "      <td>2</td>\n",
       "      <td>2</td>\n",
       "      <td>1</td>\n",
       "      <td>2461.8</td>\n",
       "      <td>China Eastern Airlines</td>\n",
       "      <td>1</td>\n",
       "      <td>0</td>\n",
       "      <td>False</td>\n",
       "    </tr>\n",
       "    <tr>\n",
       "      <th>300092</th>\n",
       "      <td>79643350</td>\n",
       "      <td>MU5160</td>\n",
       "      <td>33L</td>\n",
       "      <td>2019-07-29 21:50:00</td>\n",
       "      <td>2019-07-29 23:55:00</td>\n",
       "      <td>0</td>\n",
       "      <td>W</td>\n",
       "      <td>1490</td>\n",
       "      <td>1.00</td>\n",
       "      <td>2019-07-22 11:07:50</td>\n",
       "      <td>7</td>\n",
       "      <td>0</td>\n",
       "      <td>0</td>\n",
       "      <td>0</td>\n",
       "      <td>1490.0</td>\n",
       "      <td>China Eastern Airlines</td>\n",
       "      <td>1</td>\n",
       "      <td>0</td>\n",
       "      <td>False</td>\n",
       "    </tr>\n",
       "    <tr>\n",
       "      <th>422251</th>\n",
       "      <td>75713062</td>\n",
       "      <td>MU5159</td>\n",
       "      <td>333</td>\n",
       "      <td>2019-07-25 20:45:00</td>\n",
       "      <td>2019-07-25 23:05:00</td>\n",
       "      <td>0</td>\n",
       "      <td>R</td>\n",
       "      <td>830</td>\n",
       "      <td>0.56</td>\n",
       "      <td>2019-07-11 05:08:42</td>\n",
       "      <td>14</td>\n",
       "      <td>3</td>\n",
       "      <td>3</td>\n",
       "      <td>3</td>\n",
       "      <td>464.8</td>\n",
       "      <td>China Eastern Airlines</td>\n",
       "      <td>0</td>\n",
       "      <td>1</td>\n",
       "      <td>False</td>\n",
       "    </tr>\n",
       "    <tr>\n",
       "      <th>168556</th>\n",
       "      <td>60866770</td>\n",
       "      <td>MU5160</td>\n",
       "      <td>33L</td>\n",
       "      <td>2019-06-03 21:50:00</td>\n",
       "      <td>2019-06-03 23:55:00</td>\n",
       "      <td>0</td>\n",
       "      <td>T</td>\n",
       "      <td>520</td>\n",
       "      <td>0.35</td>\n",
       "      <td>2019-06-01 04:55:12</td>\n",
       "      <td>2</td>\n",
       "      <td>0</td>\n",
       "      <td>0</td>\n",
       "      <td>5</td>\n",
       "      <td>182.0</td>\n",
       "      <td>China Eastern Airlines</td>\n",
       "      <td>1</td>\n",
       "      <td>0</td>\n",
       "      <td>False</td>\n",
       "    </tr>\n",
       "    <tr>\n",
       "      <th>365200</th>\n",
       "      <td>1869773</td>\n",
       "      <td>CA1886</td>\n",
       "      <td>32A</td>\n",
       "      <td>2019-01-07 21:55:00</td>\n",
       "      <td>2019-01-08 00:20:00</td>\n",
       "      <td>2</td>\n",
       "      <td>F</td>\n",
       "      <td>5680</td>\n",
       "      <td>1.00</td>\n",
       "      <td>2019-01-06 21:21:50</td>\n",
       "      <td>1</td>\n",
       "      <td>0</td>\n",
       "      <td>1</td>\n",
       "      <td>6</td>\n",
       "      <td>5680.0</td>\n",
       "      <td>Air China</td>\n",
       "      <td>0</td>\n",
       "      <td>1</td>\n",
       "      <td>True</td>\n",
       "    </tr>\n",
       "    <tr>\n",
       "      <th>316288</th>\n",
       "      <td>70438036</td>\n",
       "      <td>CA1532</td>\n",
       "      <td>32A</td>\n",
       "      <td>2019-07-13 13:55:00</td>\n",
       "      <td>2019-07-13 16:10:00</td>\n",
       "      <td>1</td>\n",
       "      <td>R</td>\n",
       "      <td>2000</td>\n",
       "      <td>0.35</td>\n",
       "      <td>2019-06-28 19:23:35</td>\n",
       "      <td>15</td>\n",
       "      <td>5</td>\n",
       "      <td>5</td>\n",
       "      <td>4</td>\n",
       "      <td>700.0</td>\n",
       "      <td>Air China</td>\n",
       "      <td>0</td>\n",
       "      <td>1</td>\n",
       "      <td>False</td>\n",
       "    </tr>\n",
       "    <tr>\n",
       "      <th>499790</th>\n",
       "      <td>19098733</td>\n",
       "      <td>MU5155</td>\n",
       "      <td>32L</td>\n",
       "      <td>2019-02-10 14:30:00</td>\n",
       "      <td>2019-02-10 16:45:00</td>\n",
       "      <td>0</td>\n",
       "      <td>W</td>\n",
       "      <td>1490</td>\n",
       "      <td>1.00</td>\n",
       "      <td>2019-02-06 12:20:46</td>\n",
       "      <td>4</td>\n",
       "      <td>6</td>\n",
       "      <td>6</td>\n",
       "      <td>2</td>\n",
       "      <td>1490.0</td>\n",
       "      <td>China Eastern Airlines</td>\n",
       "      <td>0</td>\n",
       "      <td>1</td>\n",
       "      <td>False</td>\n",
       "    </tr>\n",
       "    <tr>\n",
       "      <th>404784</th>\n",
       "      <td>25574143</td>\n",
       "      <td>HU7610</td>\n",
       "      <td>738</td>\n",
       "      <td>2019-02-18 19:15:00</td>\n",
       "      <td>2019-02-18 21:30:00</td>\n",
       "      <td>0</td>\n",
       "      <td>M</td>\n",
       "      <td>890</td>\n",
       "      <td>0.60</td>\n",
       "      <td>2019-02-17 12:29:26</td>\n",
       "      <td>1</td>\n",
       "      <td>0</td>\n",
       "      <td>0</td>\n",
       "      <td>6</td>\n",
       "      <td>534.0</td>\n",
       "      <td>Hainan Airlines</td>\n",
       "      <td>0</td>\n",
       "      <td>1</td>\n",
       "      <td>False</td>\n",
       "    </tr>\n",
       "  </tbody>\n",
       "</table>\n",
       "</div>"
      ],
      "text/plain": [
       "              ID flightNumber craftTypeCode       departureDate  \\\n",
       "553133  16339385       HU7608           338 2019-02-08 11:40:00   \n",
       "40774   49520992       CA1589           773 2019-05-25 20:30:00   \n",
       "7375    54898395       MU5152           32L 2019-05-15 11:30:00   \n",
       "300092  79643350       MU5160           33L 2019-07-29 21:50:00   \n",
       "422251  75713062       MU5159           333 2019-07-25 20:45:00   \n",
       "168556  60866770       MU5160           33L 2019-06-03 21:50:00   \n",
       "365200   1869773       CA1886           32A 2019-01-07 21:55:00   \n",
       "316288  70438036       CA1532           32A 2019-07-13 13:55:00   \n",
       "499790  19098733       MU5155           32L 2019-02-10 14:30:00   \n",
       "404784  25574143       HU7610           738 2019-02-18 19:15:00   \n",
       "\n",
       "               arrivalDate  cabinClass priceClass  price  rate  \\\n",
       "553133 2019-02-08 14:15:00           0          L   1010  0.68   \n",
       "40774  2019-05-25 22:40:00           1          J   5660  1.00   \n",
       "7375   2019-05-15 14:00:00           1          D   3730  0.66   \n",
       "300092 2019-07-29 23:55:00           0          W   1490  1.00   \n",
       "422251 2019-07-25 23:05:00           0          R    830  0.56   \n",
       "168556 2019-06-03 23:55:00           0          T    520  0.35   \n",
       "365200 2019-01-08 00:20:00           2          F   5680  1.00   \n",
       "316288 2019-07-13 16:10:00           1          R   2000  0.35   \n",
       "499790 2019-02-10 16:45:00           0          W   1490  1.00   \n",
       "404784 2019-02-18 21:30:00           0          M    890  0.60   \n",
       "\n",
       "                createDate  dateDifference  departureDate_dofweek  \\\n",
       "553133 2019-02-01 12:29:34               7                      4   \n",
       "40774  2019-04-25 02:23:25              30                      5   \n",
       "7375   2019-05-14 14:14:56               1                      2   \n",
       "300092 2019-07-22 11:07:50               7                      0   \n",
       "422251 2019-07-11 05:08:42              14                      3   \n",
       "168556 2019-06-01 04:55:12               2                      0   \n",
       "365200 2019-01-06 21:21:50               1                      0   \n",
       "316288 2019-06-28 19:23:35              15                      5   \n",
       "499790 2019-02-06 12:20:46               4                      6   \n",
       "404784 2019-02-17 12:29:26               1                      0   \n",
       "\n",
       "        arrivalDate_dofweek  createDate_dofweek  pricePaid  \\\n",
       "553133                    4                   4      686.8   \n",
       "40774                     5                   3     5660.0   \n",
       "7375                      2                   1     2461.8   \n",
       "300092                    0                   0     1490.0   \n",
       "422251                    3                   3      464.8   \n",
       "168556                    0                   5      182.0   \n",
       "365200                    1                   6     5680.0   \n",
       "316288                    5                   4      700.0   \n",
       "499790                    6                   2     1490.0   \n",
       "404784                    0                   6      534.0   \n",
       "\n",
       "                       airline  arrAirport_SHA  depAirport_SHA  holiday  \n",
       "553133         Hainan Airlines               0               1    False  \n",
       "40774                Air China               1               0    False  \n",
       "7375    China Eastern Airlines               1               0    False  \n",
       "300092  China Eastern Airlines               1               0    False  \n",
       "422251  China Eastern Airlines               0               1    False  \n",
       "168556  China Eastern Airlines               1               0    False  \n",
       "365200               Air China               0               1     True  \n",
       "316288               Air China               0               1    False  \n",
       "499790  China Eastern Airlines               0               1    False  \n",
       "404784         Hainan Airlines               0               1    False  "
      ]
     },
     "execution_count": 143,
     "metadata": {},
     "output_type": "execute_result"
    }
   ],
   "source": [
    "# check to see if it worked\n",
    "df.sample(10)"
   ]
  },
  {
   "cell_type": "code",
   "execution_count": 144,
   "metadata": {},
   "outputs": [],
   "source": [
    "# turn the holiday column into binary numbers\n",
    "df['holiday'] = [1 if i == True else 0 for i in df.holiday]"
   ]
  },
  {
   "cell_type": "code",
   "execution_count": 145,
   "metadata": {},
   "outputs": [],
   "source": [
    "# change the currency to the right thing\n",
    "# make a dict of rates by day and iterate thru it\n",
    "\n",
    "currency_rate = {}"
   ]
  },
  {
   "cell_type": "code",
   "execution_count": 146,
   "metadata": {},
   "outputs": [
    {
     "data": {
      "text/plain": [
       "Timestamp('2019-01-04 06:35:00')"
      ]
     },
     "execution_count": 146,
     "metadata": {},
     "output_type": "execute_result"
    }
   ],
   "source": [
    "df.departureDate[0]"
   ]
  },
  {
   "cell_type": "code",
   "execution_count": 147,
   "metadata": {},
   "outputs": [
    {
     "data": {
      "text/html": [
       "<div>\n",
       "<style scoped>\n",
       "    .dataframe tbody tr th:only-of-type {\n",
       "        vertical-align: middle;\n",
       "    }\n",
       "\n",
       "    .dataframe tbody tr th {\n",
       "        vertical-align: top;\n",
       "    }\n",
       "\n",
       "    .dataframe thead th {\n",
       "        text-align: right;\n",
       "    }\n",
       "</style>\n",
       "<table border=\"1\" class=\"dataframe\">\n",
       "  <thead>\n",
       "    <tr style=\"text-align: right;\">\n",
       "      <th></th>\n",
       "      <th>Date</th>\n",
       "      <th>USD</th>\n",
       "      <th>CNY</th>\n",
       "    </tr>\n",
       "  </thead>\n",
       "  <tbody>\n",
       "    <tr>\n",
       "      <th>0</th>\n",
       "      <td>2020-03-19</td>\n",
       "      <td>1</td>\n",
       "      <td>7.1150</td>\n",
       "    </tr>\n",
       "    <tr>\n",
       "      <th>1</th>\n",
       "      <td>2020-03-18</td>\n",
       "      <td>1</td>\n",
       "      <td>7.0354</td>\n",
       "    </tr>\n",
       "    <tr>\n",
       "      <th>2</th>\n",
       "      <td>2020-03-17</td>\n",
       "      <td>1</td>\n",
       "      <td>7.0201</td>\n",
       "    </tr>\n",
       "    <tr>\n",
       "      <th>3</th>\n",
       "      <td>2020-03-16</td>\n",
       "      <td>1</td>\n",
       "      <td>7.0226</td>\n",
       "    </tr>\n",
       "    <tr>\n",
       "      <th>4</th>\n",
       "      <td>2020-03-15</td>\n",
       "      <td>1</td>\n",
       "      <td>6.9873</td>\n",
       "    </tr>\n",
       "  </tbody>\n",
       "</table>\n",
       "</div>"
      ],
      "text/plain": [
       "        Date  USD     CNY\n",
       "0 2020-03-19    1  7.1150\n",
       "1 2020-03-18    1  7.0354\n",
       "2 2020-03-17    1  7.0201\n",
       "3 2020-03-16    1  7.0226\n",
       "4 2020-03-15    1  6.9873"
      ]
     },
     "execution_count": 147,
     "metadata": {},
     "output_type": "execute_result"
    }
   ],
   "source": [
    "# import the exchange rates data\n",
    "ex_rates_df = pd.read_excel('Excelrates.xlsx')\n",
    "ex_rates_df.head()"
   ]
  },
  {
   "cell_type": "code",
   "execution_count": 148,
   "metadata": {},
   "outputs": [
    {
     "data": {
      "text/plain": [
       "Date    datetime64[ns]\n",
       "USD              int64\n",
       "CNY            float64\n",
       "dtype: object"
      ]
     },
     "execution_count": 148,
     "metadata": {},
     "output_type": "execute_result"
    }
   ],
   "source": [
    "# check data types of df\n",
    "ex_rates_df.dtypes"
   ]
  },
  {
   "cell_type": "code",
   "execution_count": 149,
   "metadata": {},
   "outputs": [
    {
     "data": {
      "text/html": [
       "<div>\n",
       "<style scoped>\n",
       "    .dataframe tbody tr th:only-of-type {\n",
       "        vertical-align: middle;\n",
       "    }\n",
       "\n",
       "    .dataframe tbody tr th {\n",
       "        vertical-align: top;\n",
       "    }\n",
       "\n",
       "    .dataframe thead th {\n",
       "        text-align: right;\n",
       "    }\n",
       "</style>\n",
       "<table border=\"1\" class=\"dataframe\">\n",
       "  <thead>\n",
       "    <tr style=\"text-align: right;\">\n",
       "      <th></th>\n",
       "      <th>Date</th>\n",
       "      <th>USD</th>\n",
       "      <th>CNY</th>\n",
       "    </tr>\n",
       "  </thead>\n",
       "  <tbody>\n",
       "    <tr>\n",
       "      <th>0</th>\n",
       "      <td>2020-03-19</td>\n",
       "      <td>1</td>\n",
       "      <td>7.1150</td>\n",
       "    </tr>\n",
       "    <tr>\n",
       "      <th>1</th>\n",
       "      <td>2020-03-18</td>\n",
       "      <td>1</td>\n",
       "      <td>7.0354</td>\n",
       "    </tr>\n",
       "    <tr>\n",
       "      <th>2</th>\n",
       "      <td>2020-03-17</td>\n",
       "      <td>1</td>\n",
       "      <td>7.0201</td>\n",
       "    </tr>\n",
       "    <tr>\n",
       "      <th>3</th>\n",
       "      <td>2020-03-16</td>\n",
       "      <td>1</td>\n",
       "      <td>7.0226</td>\n",
       "    </tr>\n",
       "    <tr>\n",
       "      <th>4</th>\n",
       "      <td>2020-03-15</td>\n",
       "      <td>1</td>\n",
       "      <td>6.9873</td>\n",
       "    </tr>\n",
       "  </tbody>\n",
       "</table>\n",
       "</div>"
      ],
      "text/plain": [
       "        Date  USD     CNY\n",
       "0 2020-03-19    1  7.1150\n",
       "1 2020-03-18    1  7.0354\n",
       "2 2020-03-17    1  7.0201\n",
       "3 2020-03-16    1  7.0226\n",
       "4 2020-03-15    1  6.9873"
      ]
     },
     "execution_count": 149,
     "metadata": {},
     "output_type": "execute_result"
    }
   ],
   "source": [
    "ex_rates_df.head()"
   ]
  },
  {
   "cell_type": "code",
   "execution_count": 150,
   "metadata": {},
   "outputs": [
    {
     "data": {
      "text/html": [
       "<div>\n",
       "<style scoped>\n",
       "    .dataframe tbody tr th:only-of-type {\n",
       "        vertical-align: middle;\n",
       "    }\n",
       "\n",
       "    .dataframe tbody tr th {\n",
       "        vertical-align: top;\n",
       "    }\n",
       "\n",
       "    .dataframe thead th {\n",
       "        text-align: right;\n",
       "    }\n",
       "</style>\n",
       "<table border=\"1\" class=\"dataframe\">\n",
       "  <thead>\n",
       "    <tr style=\"text-align: right;\">\n",
       "      <th></th>\n",
       "      <th>ID</th>\n",
       "      <th>flightNumber</th>\n",
       "      <th>craftTypeCode</th>\n",
       "      <th>departureDate</th>\n",
       "      <th>arrivalDate</th>\n",
       "      <th>cabinClass</th>\n",
       "      <th>priceClass</th>\n",
       "      <th>price</th>\n",
       "      <th>rate</th>\n",
       "      <th>createDate</th>\n",
       "      <th>dateDifference</th>\n",
       "      <th>departureDate_dofweek</th>\n",
       "      <th>arrivalDate_dofweek</th>\n",
       "      <th>createDate_dofweek</th>\n",
       "      <th>pricePaid</th>\n",
       "      <th>airline</th>\n",
       "      <th>arrAirport_SHA</th>\n",
       "      <th>depAirport_SHA</th>\n",
       "      <th>holiday</th>\n",
       "    </tr>\n",
       "  </thead>\n",
       "  <tbody>\n",
       "    <tr>\n",
       "      <th>0</th>\n",
       "      <td>14393</td>\n",
       "      <td>HO1252</td>\n",
       "      <td>320</td>\n",
       "      <td>2019-01-04 06:35:00</td>\n",
       "      <td>2019-01-04 08:55:00</td>\n",
       "      <td>1</td>\n",
       "      <td>C</td>\n",
       "      <td>1860</td>\n",
       "      <td>1.00</td>\n",
       "      <td>2019-01-03 14:26:15</td>\n",
       "      <td>1</td>\n",
       "      <td>4</td>\n",
       "      <td>4</td>\n",
       "      <td>3</td>\n",
       "      <td>1860.00</td>\n",
       "      <td>Juneyao Airlines</td>\n",
       "      <td>1</td>\n",
       "      <td>0</td>\n",
       "      <td>1</td>\n",
       "    </tr>\n",
       "    <tr>\n",
       "      <th>1</th>\n",
       "      <td>14409</td>\n",
       "      <td>MU5138</td>\n",
       "      <td>33L</td>\n",
       "      <td>2019-01-04 07:00:00</td>\n",
       "      <td>2019-01-04 09:15:00</td>\n",
       "      <td>1</td>\n",
       "      <td>I</td>\n",
       "      <td>1640</td>\n",
       "      <td>0.31</td>\n",
       "      <td>2019-01-03 14:26:15</td>\n",
       "      <td>1</td>\n",
       "      <td>4</td>\n",
       "      <td>4</td>\n",
       "      <td>3</td>\n",
       "      <td>508.40</td>\n",
       "      <td>China Eastern Airlines</td>\n",
       "      <td>1</td>\n",
       "      <td>0</td>\n",
       "      <td>1</td>\n",
       "    </tr>\n",
       "    <tr>\n",
       "      <th>2</th>\n",
       "      <td>14415</td>\n",
       "      <td>MU5138</td>\n",
       "      <td>33L</td>\n",
       "      <td>2019-01-04 07:00:00</td>\n",
       "      <td>2019-01-04 09:15:00</td>\n",
       "      <td>1</td>\n",
       "      <td>J</td>\n",
       "      <td>5360</td>\n",
       "      <td>1.00</td>\n",
       "      <td>2019-01-03 14:26:15</td>\n",
       "      <td>1</td>\n",
       "      <td>4</td>\n",
       "      <td>4</td>\n",
       "      <td>3</td>\n",
       "      <td>5360.00</td>\n",
       "      <td>China Eastern Airlines</td>\n",
       "      <td>1</td>\n",
       "      <td>0</td>\n",
       "      <td>1</td>\n",
       "    </tr>\n",
       "    <tr>\n",
       "      <th>3</th>\n",
       "      <td>14429</td>\n",
       "      <td>HU7605</td>\n",
       "      <td>350</td>\n",
       "      <td>2019-01-04 07:20:00</td>\n",
       "      <td>2019-01-04 09:35:00</td>\n",
       "      <td>1</td>\n",
       "      <td>I</td>\n",
       "      <td>1635</td>\n",
       "      <td>0.29</td>\n",
       "      <td>2019-01-03 14:26:15</td>\n",
       "      <td>1</td>\n",
       "      <td>4</td>\n",
       "      <td>4</td>\n",
       "      <td>3</td>\n",
       "      <td>474.15</td>\n",
       "      <td>Hainan Airlines</td>\n",
       "      <td>1</td>\n",
       "      <td>0</td>\n",
       "      <td>1</td>\n",
       "    </tr>\n",
       "    <tr>\n",
       "      <th>4</th>\n",
       "      <td>14431</td>\n",
       "      <td>HU7605</td>\n",
       "      <td>350</td>\n",
       "      <td>2019-01-04 07:20:00</td>\n",
       "      <td>2019-01-04 09:35:00</td>\n",
       "      <td>1</td>\n",
       "      <td>I</td>\n",
       "      <td>1640</td>\n",
       "      <td>0.29</td>\n",
       "      <td>2019-01-03 14:26:15</td>\n",
       "      <td>1</td>\n",
       "      <td>4</td>\n",
       "      <td>4</td>\n",
       "      <td>3</td>\n",
       "      <td>475.60</td>\n",
       "      <td>Hainan Airlines</td>\n",
       "      <td>1</td>\n",
       "      <td>0</td>\n",
       "      <td>1</td>\n",
       "    </tr>\n",
       "  </tbody>\n",
       "</table>\n",
       "</div>"
      ],
      "text/plain": [
       "      ID flightNumber craftTypeCode       departureDate         arrivalDate  \\\n",
       "0  14393       HO1252           320 2019-01-04 06:35:00 2019-01-04 08:55:00   \n",
       "1  14409       MU5138           33L 2019-01-04 07:00:00 2019-01-04 09:15:00   \n",
       "2  14415       MU5138           33L 2019-01-04 07:00:00 2019-01-04 09:15:00   \n",
       "3  14429       HU7605           350 2019-01-04 07:20:00 2019-01-04 09:35:00   \n",
       "4  14431       HU7605           350 2019-01-04 07:20:00 2019-01-04 09:35:00   \n",
       "\n",
       "   cabinClass priceClass  price  rate          createDate  dateDifference  \\\n",
       "0           1          C   1860  1.00 2019-01-03 14:26:15               1   \n",
       "1           1          I   1640  0.31 2019-01-03 14:26:15               1   \n",
       "2           1          J   5360  1.00 2019-01-03 14:26:15               1   \n",
       "3           1          I   1635  0.29 2019-01-03 14:26:15               1   \n",
       "4           1          I   1640  0.29 2019-01-03 14:26:15               1   \n",
       "\n",
       "   departureDate_dofweek  arrivalDate_dofweek  createDate_dofweek  pricePaid  \\\n",
       "0                      4                    4                   3    1860.00   \n",
       "1                      4                    4                   3     508.40   \n",
       "2                      4                    4                   3    5360.00   \n",
       "3                      4                    4                   3     474.15   \n",
       "4                      4                    4                   3     475.60   \n",
       "\n",
       "                  airline  arrAirport_SHA  depAirport_SHA  holiday  \n",
       "0        Juneyao Airlines               1               0        1  \n",
       "1  China Eastern Airlines               1               0        1  \n",
       "2  China Eastern Airlines               1               0        1  \n",
       "3         Hainan Airlines               1               0        1  \n",
       "4         Hainan Airlines               1               0        1  "
      ]
     },
     "execution_count": 150,
     "metadata": {},
     "output_type": "execute_result"
    }
   ],
   "source": [
    "df.head()"
   ]
  },
  {
   "cell_type": "code",
   "execution_count": null,
   "metadata": {},
   "outputs": [],
   "source": [
    "\n"
   ]
  },
  {
   "cell_type": "code",
   "execution_count": 151,
   "metadata": {},
   "outputs": [],
   "source": [
    "# make an exchange rate column\n",
    "ex_rates_df['exc_rateC-U'] = ex_rates_df['USD']/ex_rates_df['CNY']"
   ]
  },
  {
   "cell_type": "code",
   "execution_count": 152,
   "metadata": {},
   "outputs": [],
   "source": [
    "# keep only the 2019 year data\n",
    "ex_rates_2019_df = ex_rates_df[ex_rates_df['Date'].dt.year == 2019]"
   ]
  },
  {
   "cell_type": "code",
   "execution_count": 153,
   "metadata": {},
   "outputs": [],
   "source": [
    "ex_rates_2019_df = ex_rates_2019_df.rename({'Date':'DDate'},axis='columns')\n"
   ]
  },
  {
   "cell_type": "code",
   "execution_count": 154,
   "metadata": {},
   "outputs": [
    {
     "data": {
      "text/html": [
       "<div>\n",
       "<style scoped>\n",
       "    .dataframe tbody tr th:only-of-type {\n",
       "        vertical-align: middle;\n",
       "    }\n",
       "\n",
       "    .dataframe tbody tr th {\n",
       "        vertical-align: top;\n",
       "    }\n",
       "\n",
       "    .dataframe thead th {\n",
       "        text-align: right;\n",
       "    }\n",
       "</style>\n",
       "<table border=\"1\" class=\"dataframe\">\n",
       "  <thead>\n",
       "    <tr style=\"text-align: right;\">\n",
       "      <th></th>\n",
       "      <th>DDate</th>\n",
       "      <th>USD</th>\n",
       "      <th>CNY</th>\n",
       "      <th>exc_rateC-U</th>\n",
       "    </tr>\n",
       "  </thead>\n",
       "  <tbody>\n",
       "    <tr>\n",
       "      <th>439</th>\n",
       "      <td>2019-01-05</td>\n",
       "      <td>1</td>\n",
       "      <td>6.8649</td>\n",
       "      <td>0.145669</td>\n",
       "    </tr>\n",
       "    <tr>\n",
       "      <th>440</th>\n",
       "      <td>2019-01-04</td>\n",
       "      <td>1</td>\n",
       "      <td>6.8649</td>\n",
       "      <td>0.145669</td>\n",
       "    </tr>\n",
       "    <tr>\n",
       "      <th>441</th>\n",
       "      <td>2019-01-03</td>\n",
       "      <td>1</td>\n",
       "      <td>6.8751</td>\n",
       "      <td>0.145452</td>\n",
       "    </tr>\n",
       "    <tr>\n",
       "      <th>442</th>\n",
       "      <td>2019-01-02</td>\n",
       "      <td>1</td>\n",
       "      <td>6.8584</td>\n",
       "      <td>0.145807</td>\n",
       "    </tr>\n",
       "    <tr>\n",
       "      <th>443</th>\n",
       "      <td>2019-01-01</td>\n",
       "      <td>1</td>\n",
       "      <td>6.8778</td>\n",
       "      <td>0.145395</td>\n",
       "    </tr>\n",
       "  </tbody>\n",
       "</table>\n",
       "</div>"
      ],
      "text/plain": [
       "         DDate  USD     CNY  exc_rateC-U\n",
       "439 2019-01-05    1  6.8649     0.145669\n",
       "440 2019-01-04    1  6.8649     0.145669\n",
       "441 2019-01-03    1  6.8751     0.145452\n",
       "442 2019-01-02    1  6.8584     0.145807\n",
       "443 2019-01-01    1  6.8778     0.145395"
      ]
     },
     "execution_count": 154,
     "metadata": {},
     "output_type": "execute_result"
    }
   ],
   "source": [
    "ex_rates_2019_df.tail()"
   ]
  },
  {
   "cell_type": "code",
   "execution_count": 155,
   "metadata": {},
   "outputs": [
    {
     "data": {
      "text/html": [
       "<div>\n",
       "<style scoped>\n",
       "    .dataframe tbody tr th:only-of-type {\n",
       "        vertical-align: middle;\n",
       "    }\n",
       "\n",
       "    .dataframe tbody tr th {\n",
       "        vertical-align: top;\n",
       "    }\n",
       "\n",
       "    .dataframe thead th {\n",
       "        text-align: right;\n",
       "    }\n",
       "</style>\n",
       "<table border=\"1\" class=\"dataframe\">\n",
       "  <thead>\n",
       "    <tr style=\"text-align: right;\">\n",
       "      <th></th>\n",
       "      <th>ID</th>\n",
       "      <th>flightNumber</th>\n",
       "      <th>craftTypeCode</th>\n",
       "      <th>departureDate</th>\n",
       "      <th>arrivalDate</th>\n",
       "      <th>cabinClass</th>\n",
       "      <th>priceClass</th>\n",
       "      <th>price</th>\n",
       "      <th>rate</th>\n",
       "      <th>createDate</th>\n",
       "      <th>dateDifference</th>\n",
       "      <th>departureDate_dofweek</th>\n",
       "      <th>arrivalDate_dofweek</th>\n",
       "      <th>createDate_dofweek</th>\n",
       "      <th>pricePaid</th>\n",
       "      <th>airline</th>\n",
       "      <th>arrAirport_SHA</th>\n",
       "      <th>depAirport_SHA</th>\n",
       "      <th>holiday</th>\n",
       "    </tr>\n",
       "  </thead>\n",
       "  <tbody>\n",
       "    <tr>\n",
       "      <th>0</th>\n",
       "      <td>14393</td>\n",
       "      <td>HO1252</td>\n",
       "      <td>320</td>\n",
       "      <td>2019-01-04 06:35:00</td>\n",
       "      <td>2019-01-04 08:55:00</td>\n",
       "      <td>1</td>\n",
       "      <td>C</td>\n",
       "      <td>1860</td>\n",
       "      <td>1.00</td>\n",
       "      <td>2019-01-03 14:26:15</td>\n",
       "      <td>1</td>\n",
       "      <td>4</td>\n",
       "      <td>4</td>\n",
       "      <td>3</td>\n",
       "      <td>1860.00</td>\n",
       "      <td>Juneyao Airlines</td>\n",
       "      <td>1</td>\n",
       "      <td>0</td>\n",
       "      <td>1</td>\n",
       "    </tr>\n",
       "    <tr>\n",
       "      <th>1</th>\n",
       "      <td>14409</td>\n",
       "      <td>MU5138</td>\n",
       "      <td>33L</td>\n",
       "      <td>2019-01-04 07:00:00</td>\n",
       "      <td>2019-01-04 09:15:00</td>\n",
       "      <td>1</td>\n",
       "      <td>I</td>\n",
       "      <td>1640</td>\n",
       "      <td>0.31</td>\n",
       "      <td>2019-01-03 14:26:15</td>\n",
       "      <td>1</td>\n",
       "      <td>4</td>\n",
       "      <td>4</td>\n",
       "      <td>3</td>\n",
       "      <td>508.40</td>\n",
       "      <td>China Eastern Airlines</td>\n",
       "      <td>1</td>\n",
       "      <td>0</td>\n",
       "      <td>1</td>\n",
       "    </tr>\n",
       "    <tr>\n",
       "      <th>2</th>\n",
       "      <td>14415</td>\n",
       "      <td>MU5138</td>\n",
       "      <td>33L</td>\n",
       "      <td>2019-01-04 07:00:00</td>\n",
       "      <td>2019-01-04 09:15:00</td>\n",
       "      <td>1</td>\n",
       "      <td>J</td>\n",
       "      <td>5360</td>\n",
       "      <td>1.00</td>\n",
       "      <td>2019-01-03 14:26:15</td>\n",
       "      <td>1</td>\n",
       "      <td>4</td>\n",
       "      <td>4</td>\n",
       "      <td>3</td>\n",
       "      <td>5360.00</td>\n",
       "      <td>China Eastern Airlines</td>\n",
       "      <td>1</td>\n",
       "      <td>0</td>\n",
       "      <td>1</td>\n",
       "    </tr>\n",
       "    <tr>\n",
       "      <th>3</th>\n",
       "      <td>14429</td>\n",
       "      <td>HU7605</td>\n",
       "      <td>350</td>\n",
       "      <td>2019-01-04 07:20:00</td>\n",
       "      <td>2019-01-04 09:35:00</td>\n",
       "      <td>1</td>\n",
       "      <td>I</td>\n",
       "      <td>1635</td>\n",
       "      <td>0.29</td>\n",
       "      <td>2019-01-03 14:26:15</td>\n",
       "      <td>1</td>\n",
       "      <td>4</td>\n",
       "      <td>4</td>\n",
       "      <td>3</td>\n",
       "      <td>474.15</td>\n",
       "      <td>Hainan Airlines</td>\n",
       "      <td>1</td>\n",
       "      <td>0</td>\n",
       "      <td>1</td>\n",
       "    </tr>\n",
       "    <tr>\n",
       "      <th>4</th>\n",
       "      <td>14431</td>\n",
       "      <td>HU7605</td>\n",
       "      <td>350</td>\n",
       "      <td>2019-01-04 07:20:00</td>\n",
       "      <td>2019-01-04 09:35:00</td>\n",
       "      <td>1</td>\n",
       "      <td>I</td>\n",
       "      <td>1640</td>\n",
       "      <td>0.29</td>\n",
       "      <td>2019-01-03 14:26:15</td>\n",
       "      <td>1</td>\n",
       "      <td>4</td>\n",
       "      <td>4</td>\n",
       "      <td>3</td>\n",
       "      <td>475.60</td>\n",
       "      <td>Hainan Airlines</td>\n",
       "      <td>1</td>\n",
       "      <td>0</td>\n",
       "      <td>1</td>\n",
       "    </tr>\n",
       "  </tbody>\n",
       "</table>\n",
       "</div>"
      ],
      "text/plain": [
       "      ID flightNumber craftTypeCode       departureDate         arrivalDate  \\\n",
       "0  14393       HO1252           320 2019-01-04 06:35:00 2019-01-04 08:55:00   \n",
       "1  14409       MU5138           33L 2019-01-04 07:00:00 2019-01-04 09:15:00   \n",
       "2  14415       MU5138           33L 2019-01-04 07:00:00 2019-01-04 09:15:00   \n",
       "3  14429       HU7605           350 2019-01-04 07:20:00 2019-01-04 09:35:00   \n",
       "4  14431       HU7605           350 2019-01-04 07:20:00 2019-01-04 09:35:00   \n",
       "\n",
       "   cabinClass priceClass  price  rate          createDate  dateDifference  \\\n",
       "0           1          C   1860  1.00 2019-01-03 14:26:15               1   \n",
       "1           1          I   1640  0.31 2019-01-03 14:26:15               1   \n",
       "2           1          J   5360  1.00 2019-01-03 14:26:15               1   \n",
       "3           1          I   1635  0.29 2019-01-03 14:26:15               1   \n",
       "4           1          I   1640  0.29 2019-01-03 14:26:15               1   \n",
       "\n",
       "   departureDate_dofweek  arrivalDate_dofweek  createDate_dofweek  pricePaid  \\\n",
       "0                      4                    4                   3    1860.00   \n",
       "1                      4                    4                   3     508.40   \n",
       "2                      4                    4                   3    5360.00   \n",
       "3                      4                    4                   3     474.15   \n",
       "4                      4                    4                   3     475.60   \n",
       "\n",
       "                  airline  arrAirport_SHA  depAirport_SHA  holiday  \n",
       "0        Juneyao Airlines               1               0        1  \n",
       "1  China Eastern Airlines               1               0        1  \n",
       "2  China Eastern Airlines               1               0        1  \n",
       "3         Hainan Airlines               1               0        1  \n",
       "4         Hainan Airlines               1               0        1  "
      ]
     },
     "execution_count": 155,
     "metadata": {},
     "output_type": "execute_result"
    }
   ],
   "source": [
    "df.head()"
   ]
  },
  {
   "cell_type": "code",
   "execution_count": 156,
   "metadata": {},
   "outputs": [
    {
     "data": {
      "text/plain": [
       "Timestamp('2019-12-31 00:00:00')"
      ]
     },
     "execution_count": 156,
     "metadata": {},
     "output_type": "execute_result"
    }
   ],
   "source": [
    "# join this data frame with the regular df\n",
    "ex_rates_2019_df.DDate[79]"
   ]
  },
  {
   "cell_type": "code",
   "execution_count": null,
   "metadata": {},
   "outputs": [],
   "source": []
  },
  {
   "cell_type": "code",
   "execution_count": 157,
   "metadata": {},
   "outputs": [],
   "source": [
    "# turn price into US Dollars\n",
    "# https://www.exchangerates.org.uk/CNY-USD-exchange-rate-history.html link for currency exchange\n"
   ]
  },
  {
   "cell_type": "code",
   "execution_count": 158,
   "metadata": {},
   "outputs": [],
   "source": [
    "ex_rates_2019_df['DDate'] = ex_rates_2019_df['DDate'].dt.date"
   ]
  },
  {
   "cell_type": "code",
   "execution_count": 159,
   "metadata": {},
   "outputs": [
    {
     "data": {
      "text/plain": [
       "datetime.date(2019, 12, 31)"
      ]
     },
     "execution_count": 159,
     "metadata": {},
     "output_type": "execute_result"
    }
   ],
   "source": [
    "ex_rates_2019_df.DDate[79]"
   ]
  },
  {
   "cell_type": "code",
   "execution_count": 160,
   "metadata": {},
   "outputs": [],
   "source": [
    "df['departureDate'] = pd.to_datetime(df['departureDate'])"
   ]
  },
  {
   "cell_type": "code",
   "execution_count": 161,
   "metadata": {},
   "outputs": [],
   "source": [
    "df['just_departureDate'] = df['departureDate']\n",
    "df['just_departureDate'] = df['just_departureDate'].dt.date"
   ]
  },
  {
   "cell_type": "code",
   "execution_count": 162,
   "metadata": {},
   "outputs": [
    {
     "data": {
      "text/html": [
       "<div>\n",
       "<style scoped>\n",
       "    .dataframe tbody tr th:only-of-type {\n",
       "        vertical-align: middle;\n",
       "    }\n",
       "\n",
       "    .dataframe tbody tr th {\n",
       "        vertical-align: top;\n",
       "    }\n",
       "\n",
       "    .dataframe thead th {\n",
       "        text-align: right;\n",
       "    }\n",
       "</style>\n",
       "<table border=\"1\" class=\"dataframe\">\n",
       "  <thead>\n",
       "    <tr style=\"text-align: right;\">\n",
       "      <th></th>\n",
       "      <th>ID</th>\n",
       "      <th>flightNumber</th>\n",
       "      <th>craftTypeCode</th>\n",
       "      <th>departureDate</th>\n",
       "      <th>arrivalDate</th>\n",
       "      <th>cabinClass</th>\n",
       "      <th>priceClass</th>\n",
       "      <th>price</th>\n",
       "      <th>rate</th>\n",
       "      <th>createDate</th>\n",
       "      <th>dateDifference</th>\n",
       "      <th>departureDate_dofweek</th>\n",
       "      <th>arrivalDate_dofweek</th>\n",
       "      <th>createDate_dofweek</th>\n",
       "      <th>pricePaid</th>\n",
       "      <th>airline</th>\n",
       "      <th>arrAirport_SHA</th>\n",
       "      <th>depAirport_SHA</th>\n",
       "      <th>holiday</th>\n",
       "      <th>just_departureDate</th>\n",
       "    </tr>\n",
       "  </thead>\n",
       "  <tbody>\n",
       "    <tr>\n",
       "      <th>0</th>\n",
       "      <td>14393</td>\n",
       "      <td>HO1252</td>\n",
       "      <td>320</td>\n",
       "      <td>2019-01-04 06:35:00</td>\n",
       "      <td>2019-01-04 08:55:00</td>\n",
       "      <td>1</td>\n",
       "      <td>C</td>\n",
       "      <td>1860</td>\n",
       "      <td>1.00</td>\n",
       "      <td>2019-01-03 14:26:15</td>\n",
       "      <td>1</td>\n",
       "      <td>4</td>\n",
       "      <td>4</td>\n",
       "      <td>3</td>\n",
       "      <td>1860.00</td>\n",
       "      <td>Juneyao Airlines</td>\n",
       "      <td>1</td>\n",
       "      <td>0</td>\n",
       "      <td>1</td>\n",
       "      <td>2019-01-04</td>\n",
       "    </tr>\n",
       "    <tr>\n",
       "      <th>1</th>\n",
       "      <td>14409</td>\n",
       "      <td>MU5138</td>\n",
       "      <td>33L</td>\n",
       "      <td>2019-01-04 07:00:00</td>\n",
       "      <td>2019-01-04 09:15:00</td>\n",
       "      <td>1</td>\n",
       "      <td>I</td>\n",
       "      <td>1640</td>\n",
       "      <td>0.31</td>\n",
       "      <td>2019-01-03 14:26:15</td>\n",
       "      <td>1</td>\n",
       "      <td>4</td>\n",
       "      <td>4</td>\n",
       "      <td>3</td>\n",
       "      <td>508.40</td>\n",
       "      <td>China Eastern Airlines</td>\n",
       "      <td>1</td>\n",
       "      <td>0</td>\n",
       "      <td>1</td>\n",
       "      <td>2019-01-04</td>\n",
       "    </tr>\n",
       "    <tr>\n",
       "      <th>2</th>\n",
       "      <td>14415</td>\n",
       "      <td>MU5138</td>\n",
       "      <td>33L</td>\n",
       "      <td>2019-01-04 07:00:00</td>\n",
       "      <td>2019-01-04 09:15:00</td>\n",
       "      <td>1</td>\n",
       "      <td>J</td>\n",
       "      <td>5360</td>\n",
       "      <td>1.00</td>\n",
       "      <td>2019-01-03 14:26:15</td>\n",
       "      <td>1</td>\n",
       "      <td>4</td>\n",
       "      <td>4</td>\n",
       "      <td>3</td>\n",
       "      <td>5360.00</td>\n",
       "      <td>China Eastern Airlines</td>\n",
       "      <td>1</td>\n",
       "      <td>0</td>\n",
       "      <td>1</td>\n",
       "      <td>2019-01-04</td>\n",
       "    </tr>\n",
       "    <tr>\n",
       "      <th>3</th>\n",
       "      <td>14429</td>\n",
       "      <td>HU7605</td>\n",
       "      <td>350</td>\n",
       "      <td>2019-01-04 07:20:00</td>\n",
       "      <td>2019-01-04 09:35:00</td>\n",
       "      <td>1</td>\n",
       "      <td>I</td>\n",
       "      <td>1635</td>\n",
       "      <td>0.29</td>\n",
       "      <td>2019-01-03 14:26:15</td>\n",
       "      <td>1</td>\n",
       "      <td>4</td>\n",
       "      <td>4</td>\n",
       "      <td>3</td>\n",
       "      <td>474.15</td>\n",
       "      <td>Hainan Airlines</td>\n",
       "      <td>1</td>\n",
       "      <td>0</td>\n",
       "      <td>1</td>\n",
       "      <td>2019-01-04</td>\n",
       "    </tr>\n",
       "    <tr>\n",
       "      <th>4</th>\n",
       "      <td>14431</td>\n",
       "      <td>HU7605</td>\n",
       "      <td>350</td>\n",
       "      <td>2019-01-04 07:20:00</td>\n",
       "      <td>2019-01-04 09:35:00</td>\n",
       "      <td>1</td>\n",
       "      <td>I</td>\n",
       "      <td>1640</td>\n",
       "      <td>0.29</td>\n",
       "      <td>2019-01-03 14:26:15</td>\n",
       "      <td>1</td>\n",
       "      <td>4</td>\n",
       "      <td>4</td>\n",
       "      <td>3</td>\n",
       "      <td>475.60</td>\n",
       "      <td>Hainan Airlines</td>\n",
       "      <td>1</td>\n",
       "      <td>0</td>\n",
       "      <td>1</td>\n",
       "      <td>2019-01-04</td>\n",
       "    </tr>\n",
       "  </tbody>\n",
       "</table>\n",
       "</div>"
      ],
      "text/plain": [
       "      ID flightNumber craftTypeCode       departureDate         arrivalDate  \\\n",
       "0  14393       HO1252           320 2019-01-04 06:35:00 2019-01-04 08:55:00   \n",
       "1  14409       MU5138           33L 2019-01-04 07:00:00 2019-01-04 09:15:00   \n",
       "2  14415       MU5138           33L 2019-01-04 07:00:00 2019-01-04 09:15:00   \n",
       "3  14429       HU7605           350 2019-01-04 07:20:00 2019-01-04 09:35:00   \n",
       "4  14431       HU7605           350 2019-01-04 07:20:00 2019-01-04 09:35:00   \n",
       "\n",
       "   cabinClass priceClass  price  rate          createDate  dateDifference  \\\n",
       "0           1          C   1860  1.00 2019-01-03 14:26:15               1   \n",
       "1           1          I   1640  0.31 2019-01-03 14:26:15               1   \n",
       "2           1          J   5360  1.00 2019-01-03 14:26:15               1   \n",
       "3           1          I   1635  0.29 2019-01-03 14:26:15               1   \n",
       "4           1          I   1640  0.29 2019-01-03 14:26:15               1   \n",
       "\n",
       "   departureDate_dofweek  arrivalDate_dofweek  createDate_dofweek  pricePaid  \\\n",
       "0                      4                    4                   3    1860.00   \n",
       "1                      4                    4                   3     508.40   \n",
       "2                      4                    4                   3    5360.00   \n",
       "3                      4                    4                   3     474.15   \n",
       "4                      4                    4                   3     475.60   \n",
       "\n",
       "                  airline  arrAirport_SHA  depAirport_SHA  holiday  \\\n",
       "0        Juneyao Airlines               1               0        1   \n",
       "1  China Eastern Airlines               1               0        1   \n",
       "2  China Eastern Airlines               1               0        1   \n",
       "3         Hainan Airlines               1               0        1   \n",
       "4         Hainan Airlines               1               0        1   \n",
       "\n",
       "  just_departureDate  \n",
       "0         2019-01-04  \n",
       "1         2019-01-04  \n",
       "2         2019-01-04  \n",
       "3         2019-01-04  \n",
       "4         2019-01-04  "
      ]
     },
     "execution_count": 162,
     "metadata": {},
     "output_type": "execute_result"
    }
   ],
   "source": [
    "df.head()"
   ]
  },
  {
   "cell_type": "code",
   "execution_count": 163,
   "metadata": {},
   "outputs": [
    {
     "data": {
      "text/html": [
       "<div>\n",
       "<style scoped>\n",
       "    .dataframe tbody tr th:only-of-type {\n",
       "        vertical-align: middle;\n",
       "    }\n",
       "\n",
       "    .dataframe tbody tr th {\n",
       "        vertical-align: top;\n",
       "    }\n",
       "\n",
       "    .dataframe thead th {\n",
       "        text-align: right;\n",
       "    }\n",
       "</style>\n",
       "<table border=\"1\" class=\"dataframe\">\n",
       "  <thead>\n",
       "    <tr style=\"text-align: right;\">\n",
       "      <th></th>\n",
       "      <th>DDate</th>\n",
       "      <th>USD</th>\n",
       "      <th>CNY</th>\n",
       "      <th>exc_rateC-U</th>\n",
       "    </tr>\n",
       "  </thead>\n",
       "  <tbody>\n",
       "    <tr>\n",
       "      <th>79</th>\n",
       "      <td>2019-12-31</td>\n",
       "      <td>1</td>\n",
       "      <td>6.9615</td>\n",
       "      <td>0.143647</td>\n",
       "    </tr>\n",
       "    <tr>\n",
       "      <th>80</th>\n",
       "      <td>2019-12-30</td>\n",
       "      <td>1</td>\n",
       "      <td>6.9868</td>\n",
       "      <td>0.143127</td>\n",
       "    </tr>\n",
       "    <tr>\n",
       "      <th>81</th>\n",
       "      <td>2019-12-29</td>\n",
       "      <td>1</td>\n",
       "      <td>6.9959</td>\n",
       "      <td>0.142941</td>\n",
       "    </tr>\n",
       "    <tr>\n",
       "      <th>82</th>\n",
       "      <td>2019-12-28</td>\n",
       "      <td>1</td>\n",
       "      <td>6.9959</td>\n",
       "      <td>0.142941</td>\n",
       "    </tr>\n",
       "    <tr>\n",
       "      <th>83</th>\n",
       "      <td>2019-12-27</td>\n",
       "      <td>1</td>\n",
       "      <td>6.9959</td>\n",
       "      <td>0.142941</td>\n",
       "    </tr>\n",
       "  </tbody>\n",
       "</table>\n",
       "</div>"
      ],
      "text/plain": [
       "         DDate  USD     CNY  exc_rateC-U\n",
       "79  2019-12-31    1  6.9615     0.143647\n",
       "80  2019-12-30    1  6.9868     0.143127\n",
       "81  2019-12-29    1  6.9959     0.142941\n",
       "82  2019-12-28    1  6.9959     0.142941\n",
       "83  2019-12-27    1  6.9959     0.142941"
      ]
     },
     "execution_count": 163,
     "metadata": {},
     "output_type": "execute_result"
    }
   ],
   "source": [
    "ex_rates_2019_df.head()"
   ]
  },
  {
   "cell_type": "code",
   "execution_count": 164,
   "metadata": {},
   "outputs": [],
   "source": [
    "## merge the 2 dataframes together\n",
    "\n",
    "df = pd.merge(df, ex_rates_2019_df.rename({\"DDate\":\"just_departureDate\"},axis='columns'), on='just_departureDate')\n",
    "\n"
   ]
  },
  {
   "cell_type": "code",
   "execution_count": 165,
   "metadata": {},
   "outputs": [
    {
     "data": {
      "text/html": [
       "<div>\n",
       "<style scoped>\n",
       "    .dataframe tbody tr th:only-of-type {\n",
       "        vertical-align: middle;\n",
       "    }\n",
       "\n",
       "    .dataframe tbody tr th {\n",
       "        vertical-align: top;\n",
       "    }\n",
       "\n",
       "    .dataframe thead th {\n",
       "        text-align: right;\n",
       "    }\n",
       "</style>\n",
       "<table border=\"1\" class=\"dataframe\">\n",
       "  <thead>\n",
       "    <tr style=\"text-align: right;\">\n",
       "      <th></th>\n",
       "      <th>ID</th>\n",
       "      <th>flightNumber</th>\n",
       "      <th>craftTypeCode</th>\n",
       "      <th>departureDate</th>\n",
       "      <th>arrivalDate</th>\n",
       "      <th>cabinClass</th>\n",
       "      <th>priceClass</th>\n",
       "      <th>price</th>\n",
       "      <th>rate</th>\n",
       "      <th>createDate</th>\n",
       "      <th>...</th>\n",
       "      <th>createDate_dofweek</th>\n",
       "      <th>pricePaid</th>\n",
       "      <th>airline</th>\n",
       "      <th>arrAirport_SHA</th>\n",
       "      <th>depAirport_SHA</th>\n",
       "      <th>holiday</th>\n",
       "      <th>just_departureDate</th>\n",
       "      <th>USD</th>\n",
       "      <th>CNY</th>\n",
       "      <th>exc_rateC-U</th>\n",
       "    </tr>\n",
       "  </thead>\n",
       "  <tbody>\n",
       "    <tr>\n",
       "      <th>0</th>\n",
       "      <td>14393</td>\n",
       "      <td>HO1252</td>\n",
       "      <td>320</td>\n",
       "      <td>2019-01-04 06:35:00</td>\n",
       "      <td>2019-01-04 08:55:00</td>\n",
       "      <td>1</td>\n",
       "      <td>C</td>\n",
       "      <td>1860</td>\n",
       "      <td>1.00</td>\n",
       "      <td>2019-01-03 14:26:15</td>\n",
       "      <td>...</td>\n",
       "      <td>3</td>\n",
       "      <td>1860.00</td>\n",
       "      <td>Juneyao Airlines</td>\n",
       "      <td>1</td>\n",
       "      <td>0</td>\n",
       "      <td>1</td>\n",
       "      <td>2019-01-04</td>\n",
       "      <td>1</td>\n",
       "      <td>6.8649</td>\n",
       "      <td>0.145669</td>\n",
       "    </tr>\n",
       "    <tr>\n",
       "      <th>1</th>\n",
       "      <td>14409</td>\n",
       "      <td>MU5138</td>\n",
       "      <td>33L</td>\n",
       "      <td>2019-01-04 07:00:00</td>\n",
       "      <td>2019-01-04 09:15:00</td>\n",
       "      <td>1</td>\n",
       "      <td>I</td>\n",
       "      <td>1640</td>\n",
       "      <td>0.31</td>\n",
       "      <td>2019-01-03 14:26:15</td>\n",
       "      <td>...</td>\n",
       "      <td>3</td>\n",
       "      <td>508.40</td>\n",
       "      <td>China Eastern Airlines</td>\n",
       "      <td>1</td>\n",
       "      <td>0</td>\n",
       "      <td>1</td>\n",
       "      <td>2019-01-04</td>\n",
       "      <td>1</td>\n",
       "      <td>6.8649</td>\n",
       "      <td>0.145669</td>\n",
       "    </tr>\n",
       "    <tr>\n",
       "      <th>2</th>\n",
       "      <td>14415</td>\n",
       "      <td>MU5138</td>\n",
       "      <td>33L</td>\n",
       "      <td>2019-01-04 07:00:00</td>\n",
       "      <td>2019-01-04 09:15:00</td>\n",
       "      <td>1</td>\n",
       "      <td>J</td>\n",
       "      <td>5360</td>\n",
       "      <td>1.00</td>\n",
       "      <td>2019-01-03 14:26:15</td>\n",
       "      <td>...</td>\n",
       "      <td>3</td>\n",
       "      <td>5360.00</td>\n",
       "      <td>China Eastern Airlines</td>\n",
       "      <td>1</td>\n",
       "      <td>0</td>\n",
       "      <td>1</td>\n",
       "      <td>2019-01-04</td>\n",
       "      <td>1</td>\n",
       "      <td>6.8649</td>\n",
       "      <td>0.145669</td>\n",
       "    </tr>\n",
       "    <tr>\n",
       "      <th>3</th>\n",
       "      <td>14429</td>\n",
       "      <td>HU7605</td>\n",
       "      <td>350</td>\n",
       "      <td>2019-01-04 07:20:00</td>\n",
       "      <td>2019-01-04 09:35:00</td>\n",
       "      <td>1</td>\n",
       "      <td>I</td>\n",
       "      <td>1635</td>\n",
       "      <td>0.29</td>\n",
       "      <td>2019-01-03 14:26:15</td>\n",
       "      <td>...</td>\n",
       "      <td>3</td>\n",
       "      <td>474.15</td>\n",
       "      <td>Hainan Airlines</td>\n",
       "      <td>1</td>\n",
       "      <td>0</td>\n",
       "      <td>1</td>\n",
       "      <td>2019-01-04</td>\n",
       "      <td>1</td>\n",
       "      <td>6.8649</td>\n",
       "      <td>0.145669</td>\n",
       "    </tr>\n",
       "    <tr>\n",
       "      <th>4</th>\n",
       "      <td>14431</td>\n",
       "      <td>HU7605</td>\n",
       "      <td>350</td>\n",
       "      <td>2019-01-04 07:20:00</td>\n",
       "      <td>2019-01-04 09:35:00</td>\n",
       "      <td>1</td>\n",
       "      <td>I</td>\n",
       "      <td>1640</td>\n",
       "      <td>0.29</td>\n",
       "      <td>2019-01-03 14:26:15</td>\n",
       "      <td>...</td>\n",
       "      <td>3</td>\n",
       "      <td>475.60</td>\n",
       "      <td>Hainan Airlines</td>\n",
       "      <td>1</td>\n",
       "      <td>0</td>\n",
       "      <td>1</td>\n",
       "      <td>2019-01-04</td>\n",
       "      <td>1</td>\n",
       "      <td>6.8649</td>\n",
       "      <td>0.145669</td>\n",
       "    </tr>\n",
       "  </tbody>\n",
       "</table>\n",
       "<p>5 rows × 23 columns</p>\n",
       "</div>"
      ],
      "text/plain": [
       "      ID flightNumber craftTypeCode       departureDate         arrivalDate  \\\n",
       "0  14393       HO1252           320 2019-01-04 06:35:00 2019-01-04 08:55:00   \n",
       "1  14409       MU5138           33L 2019-01-04 07:00:00 2019-01-04 09:15:00   \n",
       "2  14415       MU5138           33L 2019-01-04 07:00:00 2019-01-04 09:15:00   \n",
       "3  14429       HU7605           350 2019-01-04 07:20:00 2019-01-04 09:35:00   \n",
       "4  14431       HU7605           350 2019-01-04 07:20:00 2019-01-04 09:35:00   \n",
       "\n",
       "   cabinClass priceClass  price  rate          createDate  ...  \\\n",
       "0           1          C   1860  1.00 2019-01-03 14:26:15  ...   \n",
       "1           1          I   1640  0.31 2019-01-03 14:26:15  ...   \n",
       "2           1          J   5360  1.00 2019-01-03 14:26:15  ...   \n",
       "3           1          I   1635  0.29 2019-01-03 14:26:15  ...   \n",
       "4           1          I   1640  0.29 2019-01-03 14:26:15  ...   \n",
       "\n",
       "   createDate_dofweek  pricePaid                 airline  arrAirport_SHA  \\\n",
       "0                   3    1860.00        Juneyao Airlines               1   \n",
       "1                   3     508.40  China Eastern Airlines               1   \n",
       "2                   3    5360.00  China Eastern Airlines               1   \n",
       "3                   3     474.15         Hainan Airlines               1   \n",
       "4                   3     475.60         Hainan Airlines               1   \n",
       "\n",
       "   depAirport_SHA holiday  just_departureDate  USD     CNY exc_rateC-U  \n",
       "0               0       1          2019-01-04    1  6.8649    0.145669  \n",
       "1               0       1          2019-01-04    1  6.8649    0.145669  \n",
       "2               0       1          2019-01-04    1  6.8649    0.145669  \n",
       "3               0       1          2019-01-04    1  6.8649    0.145669  \n",
       "4               0       1          2019-01-04    1  6.8649    0.145669  \n",
       "\n",
       "[5 rows x 23 columns]"
      ]
     },
     "execution_count": 165,
     "metadata": {},
     "output_type": "execute_result"
    }
   ],
   "source": [
    "df.head()"
   ]
  },
  {
   "cell_type": "code",
   "execution_count": 166,
   "metadata": {},
   "outputs": [
    {
     "data": {
      "text/html": [
       "<div>\n",
       "<style scoped>\n",
       "    .dataframe tbody tr th:only-of-type {\n",
       "        vertical-align: middle;\n",
       "    }\n",
       "\n",
       "    .dataframe tbody tr th {\n",
       "        vertical-align: top;\n",
       "    }\n",
       "\n",
       "    .dataframe thead th {\n",
       "        text-align: right;\n",
       "    }\n",
       "</style>\n",
       "<table border=\"1\" class=\"dataframe\">\n",
       "  <thead>\n",
       "    <tr style=\"text-align: right;\">\n",
       "      <th></th>\n",
       "      <th>ID</th>\n",
       "      <th>flightNumber</th>\n",
       "      <th>craftTypeCode</th>\n",
       "      <th>departureDate</th>\n",
       "      <th>arrivalDate</th>\n",
       "      <th>cabinClass</th>\n",
       "      <th>priceClass</th>\n",
       "      <th>price</th>\n",
       "      <th>rate</th>\n",
       "      <th>createDate</th>\n",
       "      <th>...</th>\n",
       "      <th>createDate_dofweek</th>\n",
       "      <th>pricePaid</th>\n",
       "      <th>airline</th>\n",
       "      <th>arrAirport_SHA</th>\n",
       "      <th>depAirport_SHA</th>\n",
       "      <th>holiday</th>\n",
       "      <th>just_departureDate</th>\n",
       "      <th>USD</th>\n",
       "      <th>CNY</th>\n",
       "      <th>exc_rateC-U</th>\n",
       "    </tr>\n",
       "  </thead>\n",
       "  <tbody>\n",
       "    <tr>\n",
       "      <th>0</th>\n",
       "      <td>14393</td>\n",
       "      <td>HO1252</td>\n",
       "      <td>320</td>\n",
       "      <td>2019-01-04 06:35:00</td>\n",
       "      <td>2019-01-04 08:55:00</td>\n",
       "      <td>1</td>\n",
       "      <td>C</td>\n",
       "      <td>1860</td>\n",
       "      <td>1.00</td>\n",
       "      <td>2019-01-03 14:26:15</td>\n",
       "      <td>...</td>\n",
       "      <td>3</td>\n",
       "      <td>1860.00</td>\n",
       "      <td>Juneyao Airlines</td>\n",
       "      <td>1</td>\n",
       "      <td>0</td>\n",
       "      <td>1</td>\n",
       "      <td>2019-01-04</td>\n",
       "      <td>1</td>\n",
       "      <td>6.8649</td>\n",
       "      <td>0.145669</td>\n",
       "    </tr>\n",
       "    <tr>\n",
       "      <th>1</th>\n",
       "      <td>14409</td>\n",
       "      <td>MU5138</td>\n",
       "      <td>33L</td>\n",
       "      <td>2019-01-04 07:00:00</td>\n",
       "      <td>2019-01-04 09:15:00</td>\n",
       "      <td>1</td>\n",
       "      <td>I</td>\n",
       "      <td>1640</td>\n",
       "      <td>0.31</td>\n",
       "      <td>2019-01-03 14:26:15</td>\n",
       "      <td>...</td>\n",
       "      <td>3</td>\n",
       "      <td>508.40</td>\n",
       "      <td>China Eastern Airlines</td>\n",
       "      <td>1</td>\n",
       "      <td>0</td>\n",
       "      <td>1</td>\n",
       "      <td>2019-01-04</td>\n",
       "      <td>1</td>\n",
       "      <td>6.8649</td>\n",
       "      <td>0.145669</td>\n",
       "    </tr>\n",
       "    <tr>\n",
       "      <th>2</th>\n",
       "      <td>14415</td>\n",
       "      <td>MU5138</td>\n",
       "      <td>33L</td>\n",
       "      <td>2019-01-04 07:00:00</td>\n",
       "      <td>2019-01-04 09:15:00</td>\n",
       "      <td>1</td>\n",
       "      <td>J</td>\n",
       "      <td>5360</td>\n",
       "      <td>1.00</td>\n",
       "      <td>2019-01-03 14:26:15</td>\n",
       "      <td>...</td>\n",
       "      <td>3</td>\n",
       "      <td>5360.00</td>\n",
       "      <td>China Eastern Airlines</td>\n",
       "      <td>1</td>\n",
       "      <td>0</td>\n",
       "      <td>1</td>\n",
       "      <td>2019-01-04</td>\n",
       "      <td>1</td>\n",
       "      <td>6.8649</td>\n",
       "      <td>0.145669</td>\n",
       "    </tr>\n",
       "    <tr>\n",
       "      <th>3</th>\n",
       "      <td>14429</td>\n",
       "      <td>HU7605</td>\n",
       "      <td>350</td>\n",
       "      <td>2019-01-04 07:20:00</td>\n",
       "      <td>2019-01-04 09:35:00</td>\n",
       "      <td>1</td>\n",
       "      <td>I</td>\n",
       "      <td>1635</td>\n",
       "      <td>0.29</td>\n",
       "      <td>2019-01-03 14:26:15</td>\n",
       "      <td>...</td>\n",
       "      <td>3</td>\n",
       "      <td>474.15</td>\n",
       "      <td>Hainan Airlines</td>\n",
       "      <td>1</td>\n",
       "      <td>0</td>\n",
       "      <td>1</td>\n",
       "      <td>2019-01-04</td>\n",
       "      <td>1</td>\n",
       "      <td>6.8649</td>\n",
       "      <td>0.145669</td>\n",
       "    </tr>\n",
       "    <tr>\n",
       "      <th>4</th>\n",
       "      <td>14431</td>\n",
       "      <td>HU7605</td>\n",
       "      <td>350</td>\n",
       "      <td>2019-01-04 07:20:00</td>\n",
       "      <td>2019-01-04 09:35:00</td>\n",
       "      <td>1</td>\n",
       "      <td>I</td>\n",
       "      <td>1640</td>\n",
       "      <td>0.29</td>\n",
       "      <td>2019-01-03 14:26:15</td>\n",
       "      <td>...</td>\n",
       "      <td>3</td>\n",
       "      <td>475.60</td>\n",
       "      <td>Hainan Airlines</td>\n",
       "      <td>1</td>\n",
       "      <td>0</td>\n",
       "      <td>1</td>\n",
       "      <td>2019-01-04</td>\n",
       "      <td>1</td>\n",
       "      <td>6.8649</td>\n",
       "      <td>0.145669</td>\n",
       "    </tr>\n",
       "  </tbody>\n",
       "</table>\n",
       "<p>5 rows × 23 columns</p>\n",
       "</div>"
      ],
      "text/plain": [
       "      ID flightNumber craftTypeCode       departureDate         arrivalDate  \\\n",
       "0  14393       HO1252           320 2019-01-04 06:35:00 2019-01-04 08:55:00   \n",
       "1  14409       MU5138           33L 2019-01-04 07:00:00 2019-01-04 09:15:00   \n",
       "2  14415       MU5138           33L 2019-01-04 07:00:00 2019-01-04 09:15:00   \n",
       "3  14429       HU7605           350 2019-01-04 07:20:00 2019-01-04 09:35:00   \n",
       "4  14431       HU7605           350 2019-01-04 07:20:00 2019-01-04 09:35:00   \n",
       "\n",
       "   cabinClass priceClass  price  rate          createDate  ...  \\\n",
       "0           1          C   1860  1.00 2019-01-03 14:26:15  ...   \n",
       "1           1          I   1640  0.31 2019-01-03 14:26:15  ...   \n",
       "2           1          J   5360  1.00 2019-01-03 14:26:15  ...   \n",
       "3           1          I   1635  0.29 2019-01-03 14:26:15  ...   \n",
       "4           1          I   1640  0.29 2019-01-03 14:26:15  ...   \n",
       "\n",
       "   createDate_dofweek  pricePaid                 airline  arrAirport_SHA  \\\n",
       "0                   3    1860.00        Juneyao Airlines               1   \n",
       "1                   3     508.40  China Eastern Airlines               1   \n",
       "2                   3    5360.00  China Eastern Airlines               1   \n",
       "3                   3     474.15         Hainan Airlines               1   \n",
       "4                   3     475.60         Hainan Airlines               1   \n",
       "\n",
       "   depAirport_SHA holiday  just_departureDate  USD     CNY exc_rateC-U  \n",
       "0               0       1          2019-01-04    1  6.8649    0.145669  \n",
       "1               0       1          2019-01-04    1  6.8649    0.145669  \n",
       "2               0       1          2019-01-04    1  6.8649    0.145669  \n",
       "3               0       1          2019-01-04    1  6.8649    0.145669  \n",
       "4               0       1          2019-01-04    1  6.8649    0.145669  \n",
       "\n",
       "[5 rows x 23 columns]"
      ]
     },
     "execution_count": 166,
     "metadata": {},
     "output_type": "execute_result"
    }
   ],
   "source": [
    "df.head()"
   ]
  },
  {
   "cell_type": "code",
   "execution_count": null,
   "metadata": {},
   "outputs": [],
   "source": []
  },
  {
   "cell_type": "code",
   "execution_count": 167,
   "metadata": {},
   "outputs": [],
   "source": [
    "# drop some uneeded columns\n",
    "df = df.drop(['USD','CNY'], axis=1)"
   ]
  },
  {
   "cell_type": "code",
   "execution_count": 168,
   "metadata": {},
   "outputs": [
    {
     "data": {
      "text/html": [
       "<div>\n",
       "<style scoped>\n",
       "    .dataframe tbody tr th:only-of-type {\n",
       "        vertical-align: middle;\n",
       "    }\n",
       "\n",
       "    .dataframe tbody tr th {\n",
       "        vertical-align: top;\n",
       "    }\n",
       "\n",
       "    .dataframe thead th {\n",
       "        text-align: right;\n",
       "    }\n",
       "</style>\n",
       "<table border=\"1\" class=\"dataframe\">\n",
       "  <thead>\n",
       "    <tr style=\"text-align: right;\">\n",
       "      <th></th>\n",
       "      <th>ID</th>\n",
       "      <th>flightNumber</th>\n",
       "      <th>craftTypeCode</th>\n",
       "      <th>departureDate</th>\n",
       "      <th>arrivalDate</th>\n",
       "      <th>cabinClass</th>\n",
       "      <th>priceClass</th>\n",
       "      <th>price</th>\n",
       "      <th>rate</th>\n",
       "      <th>createDate</th>\n",
       "      <th>...</th>\n",
       "      <th>departureDate_dofweek</th>\n",
       "      <th>arrivalDate_dofweek</th>\n",
       "      <th>createDate_dofweek</th>\n",
       "      <th>pricePaid</th>\n",
       "      <th>airline</th>\n",
       "      <th>arrAirport_SHA</th>\n",
       "      <th>depAirport_SHA</th>\n",
       "      <th>holiday</th>\n",
       "      <th>just_departureDate</th>\n",
       "      <th>exc_rateC-U</th>\n",
       "    </tr>\n",
       "  </thead>\n",
       "  <tbody>\n",
       "    <tr>\n",
       "      <th>0</th>\n",
       "      <td>14393</td>\n",
       "      <td>HO1252</td>\n",
       "      <td>320</td>\n",
       "      <td>2019-01-04 06:35:00</td>\n",
       "      <td>2019-01-04 08:55:00</td>\n",
       "      <td>1</td>\n",
       "      <td>C</td>\n",
       "      <td>1860</td>\n",
       "      <td>1.00</td>\n",
       "      <td>2019-01-03 14:26:15</td>\n",
       "      <td>...</td>\n",
       "      <td>4</td>\n",
       "      <td>4</td>\n",
       "      <td>3</td>\n",
       "      <td>1860.00</td>\n",
       "      <td>Juneyao Airlines</td>\n",
       "      <td>1</td>\n",
       "      <td>0</td>\n",
       "      <td>1</td>\n",
       "      <td>2019-01-04</td>\n",
       "      <td>0.145669</td>\n",
       "    </tr>\n",
       "    <tr>\n",
       "      <th>1</th>\n",
       "      <td>14409</td>\n",
       "      <td>MU5138</td>\n",
       "      <td>33L</td>\n",
       "      <td>2019-01-04 07:00:00</td>\n",
       "      <td>2019-01-04 09:15:00</td>\n",
       "      <td>1</td>\n",
       "      <td>I</td>\n",
       "      <td>1640</td>\n",
       "      <td>0.31</td>\n",
       "      <td>2019-01-03 14:26:15</td>\n",
       "      <td>...</td>\n",
       "      <td>4</td>\n",
       "      <td>4</td>\n",
       "      <td>3</td>\n",
       "      <td>508.40</td>\n",
       "      <td>China Eastern Airlines</td>\n",
       "      <td>1</td>\n",
       "      <td>0</td>\n",
       "      <td>1</td>\n",
       "      <td>2019-01-04</td>\n",
       "      <td>0.145669</td>\n",
       "    </tr>\n",
       "    <tr>\n",
       "      <th>2</th>\n",
       "      <td>14415</td>\n",
       "      <td>MU5138</td>\n",
       "      <td>33L</td>\n",
       "      <td>2019-01-04 07:00:00</td>\n",
       "      <td>2019-01-04 09:15:00</td>\n",
       "      <td>1</td>\n",
       "      <td>J</td>\n",
       "      <td>5360</td>\n",
       "      <td>1.00</td>\n",
       "      <td>2019-01-03 14:26:15</td>\n",
       "      <td>...</td>\n",
       "      <td>4</td>\n",
       "      <td>4</td>\n",
       "      <td>3</td>\n",
       "      <td>5360.00</td>\n",
       "      <td>China Eastern Airlines</td>\n",
       "      <td>1</td>\n",
       "      <td>0</td>\n",
       "      <td>1</td>\n",
       "      <td>2019-01-04</td>\n",
       "      <td>0.145669</td>\n",
       "    </tr>\n",
       "    <tr>\n",
       "      <th>3</th>\n",
       "      <td>14429</td>\n",
       "      <td>HU7605</td>\n",
       "      <td>350</td>\n",
       "      <td>2019-01-04 07:20:00</td>\n",
       "      <td>2019-01-04 09:35:00</td>\n",
       "      <td>1</td>\n",
       "      <td>I</td>\n",
       "      <td>1635</td>\n",
       "      <td>0.29</td>\n",
       "      <td>2019-01-03 14:26:15</td>\n",
       "      <td>...</td>\n",
       "      <td>4</td>\n",
       "      <td>4</td>\n",
       "      <td>3</td>\n",
       "      <td>474.15</td>\n",
       "      <td>Hainan Airlines</td>\n",
       "      <td>1</td>\n",
       "      <td>0</td>\n",
       "      <td>1</td>\n",
       "      <td>2019-01-04</td>\n",
       "      <td>0.145669</td>\n",
       "    </tr>\n",
       "    <tr>\n",
       "      <th>4</th>\n",
       "      <td>14431</td>\n",
       "      <td>HU7605</td>\n",
       "      <td>350</td>\n",
       "      <td>2019-01-04 07:20:00</td>\n",
       "      <td>2019-01-04 09:35:00</td>\n",
       "      <td>1</td>\n",
       "      <td>I</td>\n",
       "      <td>1640</td>\n",
       "      <td>0.29</td>\n",
       "      <td>2019-01-03 14:26:15</td>\n",
       "      <td>...</td>\n",
       "      <td>4</td>\n",
       "      <td>4</td>\n",
       "      <td>3</td>\n",
       "      <td>475.60</td>\n",
       "      <td>Hainan Airlines</td>\n",
       "      <td>1</td>\n",
       "      <td>0</td>\n",
       "      <td>1</td>\n",
       "      <td>2019-01-04</td>\n",
       "      <td>0.145669</td>\n",
       "    </tr>\n",
       "  </tbody>\n",
       "</table>\n",
       "<p>5 rows × 21 columns</p>\n",
       "</div>"
      ],
      "text/plain": [
       "      ID flightNumber craftTypeCode       departureDate         arrivalDate  \\\n",
       "0  14393       HO1252           320 2019-01-04 06:35:00 2019-01-04 08:55:00   \n",
       "1  14409       MU5138           33L 2019-01-04 07:00:00 2019-01-04 09:15:00   \n",
       "2  14415       MU5138           33L 2019-01-04 07:00:00 2019-01-04 09:15:00   \n",
       "3  14429       HU7605           350 2019-01-04 07:20:00 2019-01-04 09:35:00   \n",
       "4  14431       HU7605           350 2019-01-04 07:20:00 2019-01-04 09:35:00   \n",
       "\n",
       "   cabinClass priceClass  price  rate          createDate  ...  \\\n",
       "0           1          C   1860  1.00 2019-01-03 14:26:15  ...   \n",
       "1           1          I   1640  0.31 2019-01-03 14:26:15  ...   \n",
       "2           1          J   5360  1.00 2019-01-03 14:26:15  ...   \n",
       "3           1          I   1635  0.29 2019-01-03 14:26:15  ...   \n",
       "4           1          I   1640  0.29 2019-01-03 14:26:15  ...   \n",
       "\n",
       "   departureDate_dofweek  arrivalDate_dofweek  createDate_dofweek  pricePaid  \\\n",
       "0                      4                    4                   3    1860.00   \n",
       "1                      4                    4                   3     508.40   \n",
       "2                      4                    4                   3    5360.00   \n",
       "3                      4                    4                   3     474.15   \n",
       "4                      4                    4                   3     475.60   \n",
       "\n",
       "                  airline arrAirport_SHA  depAirport_SHA  holiday  \\\n",
       "0        Juneyao Airlines              1               0        1   \n",
       "1  China Eastern Airlines              1               0        1   \n",
       "2  China Eastern Airlines              1               0        1   \n",
       "3         Hainan Airlines              1               0        1   \n",
       "4         Hainan Airlines              1               0        1   \n",
       "\n",
       "   just_departureDate exc_rateC-U  \n",
       "0          2019-01-04    0.145669  \n",
       "1          2019-01-04    0.145669  \n",
       "2          2019-01-04    0.145669  \n",
       "3          2019-01-04    0.145669  \n",
       "4          2019-01-04    0.145669  \n",
       "\n",
       "[5 rows x 21 columns]"
      ]
     },
     "execution_count": 168,
     "metadata": {},
     "output_type": "execute_result"
    }
   ],
   "source": [
    "df.head()"
   ]
  },
  {
   "cell_type": "code",
   "execution_count": 169,
   "metadata": {},
   "outputs": [],
   "source": [
    "# convert the chinesse yuan to USD\n",
    "df['price'] = df['price']*df['exc_rateC-U']"
   ]
  },
  {
   "cell_type": "code",
   "execution_count": 170,
   "metadata": {},
   "outputs": [],
   "source": [
    "# make a price paid column by multiplying rate and price\n",
    "df['pricePaid'] = df['price'] * df['rate']"
   ]
  },
  {
   "cell_type": "code",
   "execution_count": 171,
   "metadata": {},
   "outputs": [
    {
     "data": {
      "text/html": [
       "<div>\n",
       "<style scoped>\n",
       "    .dataframe tbody tr th:only-of-type {\n",
       "        vertical-align: middle;\n",
       "    }\n",
       "\n",
       "    .dataframe tbody tr th {\n",
       "        vertical-align: top;\n",
       "    }\n",
       "\n",
       "    .dataframe thead th {\n",
       "        text-align: right;\n",
       "    }\n",
       "</style>\n",
       "<table border=\"1\" class=\"dataframe\">\n",
       "  <thead>\n",
       "    <tr style=\"text-align: right;\">\n",
       "      <th></th>\n",
       "      <th>ID</th>\n",
       "      <th>flightNumber</th>\n",
       "      <th>craftTypeCode</th>\n",
       "      <th>departureDate</th>\n",
       "      <th>arrivalDate</th>\n",
       "      <th>cabinClass</th>\n",
       "      <th>priceClass</th>\n",
       "      <th>price</th>\n",
       "      <th>rate</th>\n",
       "      <th>createDate</th>\n",
       "      <th>...</th>\n",
       "      <th>departureDate_dofweek</th>\n",
       "      <th>arrivalDate_dofweek</th>\n",
       "      <th>createDate_dofweek</th>\n",
       "      <th>pricePaid</th>\n",
       "      <th>airline</th>\n",
       "      <th>arrAirport_SHA</th>\n",
       "      <th>depAirport_SHA</th>\n",
       "      <th>holiday</th>\n",
       "      <th>just_departureDate</th>\n",
       "      <th>exc_rateC-U</th>\n",
       "    </tr>\n",
       "  </thead>\n",
       "  <tbody>\n",
       "    <tr>\n",
       "      <th>0</th>\n",
       "      <td>14393</td>\n",
       "      <td>HO1252</td>\n",
       "      <td>320</td>\n",
       "      <td>2019-01-04 06:35:00</td>\n",
       "      <td>2019-01-04 08:55:00</td>\n",
       "      <td>1</td>\n",
       "      <td>C</td>\n",
       "      <td>270.943495</td>\n",
       "      <td>1.00</td>\n",
       "      <td>2019-01-03 14:26:15</td>\n",
       "      <td>...</td>\n",
       "      <td>4</td>\n",
       "      <td>4</td>\n",
       "      <td>3</td>\n",
       "      <td>270.943495</td>\n",
       "      <td>Juneyao Airlines</td>\n",
       "      <td>1</td>\n",
       "      <td>0</td>\n",
       "      <td>1</td>\n",
       "      <td>2019-01-04</td>\n",
       "      <td>0.145669</td>\n",
       "    </tr>\n",
       "    <tr>\n",
       "      <th>1</th>\n",
       "      <td>14409</td>\n",
       "      <td>MU5138</td>\n",
       "      <td>33L</td>\n",
       "      <td>2019-01-04 07:00:00</td>\n",
       "      <td>2019-01-04 09:15:00</td>\n",
       "      <td>1</td>\n",
       "      <td>I</td>\n",
       "      <td>238.896415</td>\n",
       "      <td>0.31</td>\n",
       "      <td>2019-01-03 14:26:15</td>\n",
       "      <td>...</td>\n",
       "      <td>4</td>\n",
       "      <td>4</td>\n",
       "      <td>3</td>\n",
       "      <td>74.057889</td>\n",
       "      <td>China Eastern Airlines</td>\n",
       "      <td>1</td>\n",
       "      <td>0</td>\n",
       "      <td>1</td>\n",
       "      <td>2019-01-04</td>\n",
       "      <td>0.145669</td>\n",
       "    </tr>\n",
       "    <tr>\n",
       "      <th>2</th>\n",
       "      <td>14415</td>\n",
       "      <td>MU5138</td>\n",
       "      <td>33L</td>\n",
       "      <td>2019-01-04 07:00:00</td>\n",
       "      <td>2019-01-04 09:15:00</td>\n",
       "      <td>1</td>\n",
       "      <td>J</td>\n",
       "      <td>780.783405</td>\n",
       "      <td>1.00</td>\n",
       "      <td>2019-01-03 14:26:15</td>\n",
       "      <td>...</td>\n",
       "      <td>4</td>\n",
       "      <td>4</td>\n",
       "      <td>3</td>\n",
       "      <td>780.783405</td>\n",
       "      <td>China Eastern Airlines</td>\n",
       "      <td>1</td>\n",
       "      <td>0</td>\n",
       "      <td>1</td>\n",
       "      <td>2019-01-04</td>\n",
       "      <td>0.145669</td>\n",
       "    </tr>\n",
       "    <tr>\n",
       "      <th>3</th>\n",
       "      <td>14429</td>\n",
       "      <td>HU7605</td>\n",
       "      <td>350</td>\n",
       "      <td>2019-01-04 07:20:00</td>\n",
       "      <td>2019-01-04 09:35:00</td>\n",
       "      <td>1</td>\n",
       "      <td>I</td>\n",
       "      <td>238.168072</td>\n",
       "      <td>0.29</td>\n",
       "      <td>2019-01-03 14:26:15</td>\n",
       "      <td>...</td>\n",
       "      <td>4</td>\n",
       "      <td>4</td>\n",
       "      <td>3</td>\n",
       "      <td>69.068741</td>\n",
       "      <td>Hainan Airlines</td>\n",
       "      <td>1</td>\n",
       "      <td>0</td>\n",
       "      <td>1</td>\n",
       "      <td>2019-01-04</td>\n",
       "      <td>0.145669</td>\n",
       "    </tr>\n",
       "    <tr>\n",
       "      <th>4</th>\n",
       "      <td>14431</td>\n",
       "      <td>HU7605</td>\n",
       "      <td>350</td>\n",
       "      <td>2019-01-04 07:20:00</td>\n",
       "      <td>2019-01-04 09:35:00</td>\n",
       "      <td>1</td>\n",
       "      <td>I</td>\n",
       "      <td>238.896415</td>\n",
       "      <td>0.29</td>\n",
       "      <td>2019-01-03 14:26:15</td>\n",
       "      <td>...</td>\n",
       "      <td>4</td>\n",
       "      <td>4</td>\n",
       "      <td>3</td>\n",
       "      <td>69.279960</td>\n",
       "      <td>Hainan Airlines</td>\n",
       "      <td>1</td>\n",
       "      <td>0</td>\n",
       "      <td>1</td>\n",
       "      <td>2019-01-04</td>\n",
       "      <td>0.145669</td>\n",
       "    </tr>\n",
       "  </tbody>\n",
       "</table>\n",
       "<p>5 rows × 21 columns</p>\n",
       "</div>"
      ],
      "text/plain": [
       "      ID flightNumber craftTypeCode       departureDate         arrivalDate  \\\n",
       "0  14393       HO1252           320 2019-01-04 06:35:00 2019-01-04 08:55:00   \n",
       "1  14409       MU5138           33L 2019-01-04 07:00:00 2019-01-04 09:15:00   \n",
       "2  14415       MU5138           33L 2019-01-04 07:00:00 2019-01-04 09:15:00   \n",
       "3  14429       HU7605           350 2019-01-04 07:20:00 2019-01-04 09:35:00   \n",
       "4  14431       HU7605           350 2019-01-04 07:20:00 2019-01-04 09:35:00   \n",
       "\n",
       "   cabinClass priceClass       price  rate          createDate  ...  \\\n",
       "0           1          C  270.943495  1.00 2019-01-03 14:26:15  ...   \n",
       "1           1          I  238.896415  0.31 2019-01-03 14:26:15  ...   \n",
       "2           1          J  780.783405  1.00 2019-01-03 14:26:15  ...   \n",
       "3           1          I  238.168072  0.29 2019-01-03 14:26:15  ...   \n",
       "4           1          I  238.896415  0.29 2019-01-03 14:26:15  ...   \n",
       "\n",
       "   departureDate_dofweek  arrivalDate_dofweek  createDate_dofweek   pricePaid  \\\n",
       "0                      4                    4                   3  270.943495   \n",
       "1                      4                    4                   3   74.057889   \n",
       "2                      4                    4                   3  780.783405   \n",
       "3                      4                    4                   3   69.068741   \n",
       "4                      4                    4                   3   69.279960   \n",
       "\n",
       "                  airline arrAirport_SHA  depAirport_SHA  holiday  \\\n",
       "0        Juneyao Airlines              1               0        1   \n",
       "1  China Eastern Airlines              1               0        1   \n",
       "2  China Eastern Airlines              1               0        1   \n",
       "3         Hainan Airlines              1               0        1   \n",
       "4         Hainan Airlines              1               0        1   \n",
       "\n",
       "   just_departureDate exc_rateC-U  \n",
       "0          2019-01-04    0.145669  \n",
       "1          2019-01-04    0.145669  \n",
       "2          2019-01-04    0.145669  \n",
       "3          2019-01-04    0.145669  \n",
       "4          2019-01-04    0.145669  \n",
       "\n",
       "[5 rows x 21 columns]"
      ]
     },
     "execution_count": 171,
     "metadata": {},
     "output_type": "execute_result"
    }
   ],
   "source": [
    "df.head()"
   ]
  },
  {
   "cell_type": "code",
   "execution_count": 172,
   "metadata": {},
   "outputs": [
    {
     "data": {
      "text/plain": [
       "100"
      ]
     },
     "execution_count": 172,
     "metadata": {},
     "output_type": "execute_result"
    }
   ],
   "source": [
    "# check # of unique values in flight#\n",
    "df.flightNumber.nunique()"
   ]
  },
  {
   "cell_type": "code",
   "execution_count": 173,
   "metadata": {},
   "outputs": [],
   "source": [
    "# remove the letters in flight numbers and see how many unique values there are\n",
    "df['flightNumber'] = df['flightNumber'].str[2:]"
   ]
  },
  {
   "cell_type": "code",
   "execution_count": 174,
   "metadata": {},
   "outputs": [
    {
     "data": {
      "text/html": [
       "<div>\n",
       "<style scoped>\n",
       "    .dataframe tbody tr th:only-of-type {\n",
       "        vertical-align: middle;\n",
       "    }\n",
       "\n",
       "    .dataframe tbody tr th {\n",
       "        vertical-align: top;\n",
       "    }\n",
       "\n",
       "    .dataframe thead th {\n",
       "        text-align: right;\n",
       "    }\n",
       "</style>\n",
       "<table border=\"1\" class=\"dataframe\">\n",
       "  <thead>\n",
       "    <tr style=\"text-align: right;\">\n",
       "      <th></th>\n",
       "      <th>ID</th>\n",
       "      <th>flightNumber</th>\n",
       "      <th>craftTypeCode</th>\n",
       "      <th>departureDate</th>\n",
       "      <th>arrivalDate</th>\n",
       "      <th>cabinClass</th>\n",
       "      <th>priceClass</th>\n",
       "      <th>price</th>\n",
       "      <th>rate</th>\n",
       "      <th>createDate</th>\n",
       "      <th>...</th>\n",
       "      <th>departureDate_dofweek</th>\n",
       "      <th>arrivalDate_dofweek</th>\n",
       "      <th>createDate_dofweek</th>\n",
       "      <th>pricePaid</th>\n",
       "      <th>airline</th>\n",
       "      <th>arrAirport_SHA</th>\n",
       "      <th>depAirport_SHA</th>\n",
       "      <th>holiday</th>\n",
       "      <th>just_departureDate</th>\n",
       "      <th>exc_rateC-U</th>\n",
       "    </tr>\n",
       "  </thead>\n",
       "  <tbody>\n",
       "    <tr>\n",
       "      <th>0</th>\n",
       "      <td>14393</td>\n",
       "      <td>1252</td>\n",
       "      <td>320</td>\n",
       "      <td>2019-01-04 06:35:00</td>\n",
       "      <td>2019-01-04 08:55:00</td>\n",
       "      <td>1</td>\n",
       "      <td>C</td>\n",
       "      <td>270.943495</td>\n",
       "      <td>1.00</td>\n",
       "      <td>2019-01-03 14:26:15</td>\n",
       "      <td>...</td>\n",
       "      <td>4</td>\n",
       "      <td>4</td>\n",
       "      <td>3</td>\n",
       "      <td>270.943495</td>\n",
       "      <td>Juneyao Airlines</td>\n",
       "      <td>1</td>\n",
       "      <td>0</td>\n",
       "      <td>1</td>\n",
       "      <td>2019-01-04</td>\n",
       "      <td>0.145669</td>\n",
       "    </tr>\n",
       "    <tr>\n",
       "      <th>1</th>\n",
       "      <td>14409</td>\n",
       "      <td>5138</td>\n",
       "      <td>33L</td>\n",
       "      <td>2019-01-04 07:00:00</td>\n",
       "      <td>2019-01-04 09:15:00</td>\n",
       "      <td>1</td>\n",
       "      <td>I</td>\n",
       "      <td>238.896415</td>\n",
       "      <td>0.31</td>\n",
       "      <td>2019-01-03 14:26:15</td>\n",
       "      <td>...</td>\n",
       "      <td>4</td>\n",
       "      <td>4</td>\n",
       "      <td>3</td>\n",
       "      <td>74.057889</td>\n",
       "      <td>China Eastern Airlines</td>\n",
       "      <td>1</td>\n",
       "      <td>0</td>\n",
       "      <td>1</td>\n",
       "      <td>2019-01-04</td>\n",
       "      <td>0.145669</td>\n",
       "    </tr>\n",
       "    <tr>\n",
       "      <th>2</th>\n",
       "      <td>14415</td>\n",
       "      <td>5138</td>\n",
       "      <td>33L</td>\n",
       "      <td>2019-01-04 07:00:00</td>\n",
       "      <td>2019-01-04 09:15:00</td>\n",
       "      <td>1</td>\n",
       "      <td>J</td>\n",
       "      <td>780.783405</td>\n",
       "      <td>1.00</td>\n",
       "      <td>2019-01-03 14:26:15</td>\n",
       "      <td>...</td>\n",
       "      <td>4</td>\n",
       "      <td>4</td>\n",
       "      <td>3</td>\n",
       "      <td>780.783405</td>\n",
       "      <td>China Eastern Airlines</td>\n",
       "      <td>1</td>\n",
       "      <td>0</td>\n",
       "      <td>1</td>\n",
       "      <td>2019-01-04</td>\n",
       "      <td>0.145669</td>\n",
       "    </tr>\n",
       "    <tr>\n",
       "      <th>3</th>\n",
       "      <td>14429</td>\n",
       "      <td>7605</td>\n",
       "      <td>350</td>\n",
       "      <td>2019-01-04 07:20:00</td>\n",
       "      <td>2019-01-04 09:35:00</td>\n",
       "      <td>1</td>\n",
       "      <td>I</td>\n",
       "      <td>238.168072</td>\n",
       "      <td>0.29</td>\n",
       "      <td>2019-01-03 14:26:15</td>\n",
       "      <td>...</td>\n",
       "      <td>4</td>\n",
       "      <td>4</td>\n",
       "      <td>3</td>\n",
       "      <td>69.068741</td>\n",
       "      <td>Hainan Airlines</td>\n",
       "      <td>1</td>\n",
       "      <td>0</td>\n",
       "      <td>1</td>\n",
       "      <td>2019-01-04</td>\n",
       "      <td>0.145669</td>\n",
       "    </tr>\n",
       "    <tr>\n",
       "      <th>4</th>\n",
       "      <td>14431</td>\n",
       "      <td>7605</td>\n",
       "      <td>350</td>\n",
       "      <td>2019-01-04 07:20:00</td>\n",
       "      <td>2019-01-04 09:35:00</td>\n",
       "      <td>1</td>\n",
       "      <td>I</td>\n",
       "      <td>238.896415</td>\n",
       "      <td>0.29</td>\n",
       "      <td>2019-01-03 14:26:15</td>\n",
       "      <td>...</td>\n",
       "      <td>4</td>\n",
       "      <td>4</td>\n",
       "      <td>3</td>\n",
       "      <td>69.279960</td>\n",
       "      <td>Hainan Airlines</td>\n",
       "      <td>1</td>\n",
       "      <td>0</td>\n",
       "      <td>1</td>\n",
       "      <td>2019-01-04</td>\n",
       "      <td>0.145669</td>\n",
       "    </tr>\n",
       "  </tbody>\n",
       "</table>\n",
       "<p>5 rows × 21 columns</p>\n",
       "</div>"
      ],
      "text/plain": [
       "      ID flightNumber craftTypeCode       departureDate         arrivalDate  \\\n",
       "0  14393         1252           320 2019-01-04 06:35:00 2019-01-04 08:55:00   \n",
       "1  14409         5138           33L 2019-01-04 07:00:00 2019-01-04 09:15:00   \n",
       "2  14415         5138           33L 2019-01-04 07:00:00 2019-01-04 09:15:00   \n",
       "3  14429         7605           350 2019-01-04 07:20:00 2019-01-04 09:35:00   \n",
       "4  14431         7605           350 2019-01-04 07:20:00 2019-01-04 09:35:00   \n",
       "\n",
       "   cabinClass priceClass       price  rate          createDate  ...  \\\n",
       "0           1          C  270.943495  1.00 2019-01-03 14:26:15  ...   \n",
       "1           1          I  238.896415  0.31 2019-01-03 14:26:15  ...   \n",
       "2           1          J  780.783405  1.00 2019-01-03 14:26:15  ...   \n",
       "3           1          I  238.168072  0.29 2019-01-03 14:26:15  ...   \n",
       "4           1          I  238.896415  0.29 2019-01-03 14:26:15  ...   \n",
       "\n",
       "   departureDate_dofweek  arrivalDate_dofweek  createDate_dofweek   pricePaid  \\\n",
       "0                      4                    4                   3  270.943495   \n",
       "1                      4                    4                   3   74.057889   \n",
       "2                      4                    4                   3  780.783405   \n",
       "3                      4                    4                   3   69.068741   \n",
       "4                      4                    4                   3   69.279960   \n",
       "\n",
       "                  airline arrAirport_SHA  depAirport_SHA  holiday  \\\n",
       "0        Juneyao Airlines              1               0        1   \n",
       "1  China Eastern Airlines              1               0        1   \n",
       "2  China Eastern Airlines              1               0        1   \n",
       "3         Hainan Airlines              1               0        1   \n",
       "4         Hainan Airlines              1               0        1   \n",
       "\n",
       "   just_departureDate exc_rateC-U  \n",
       "0          2019-01-04    0.145669  \n",
       "1          2019-01-04    0.145669  \n",
       "2          2019-01-04    0.145669  \n",
       "3          2019-01-04    0.145669  \n",
       "4          2019-01-04    0.145669  \n",
       "\n",
       "[5 rows x 21 columns]"
      ]
     },
     "execution_count": 174,
     "metadata": {},
     "output_type": "execute_result"
    }
   ],
   "source": [
    "df.head()"
   ]
  },
  {
   "cell_type": "code",
   "execution_count": 175,
   "metadata": {},
   "outputs": [
    {
     "data": {
      "text/plain": [
       "array(['1252', '5138', '7605', '1831', '5102', '7607', '5156', '3951',\n",
       "       '5104', '5106', '1531', '5108', '1557', '5152', '5110', '1517',\n",
       "       '5154', '5114', '1521', '5116', '1515', '7609', '5118', '1549',\n",
       "       '5120', '7601', '1855', '5122', '9108', '5124', '1857', '5126',\n",
       "       '1589', '9106', '5128', '7603', '5158', '5160', '5693', '1501',\n",
       "       '1519', '5112', '1885', '5137', '1858', '5101', '7604', '5151',\n",
       "       '1590', '5103', '5105', '7606', '1832', '5107', '7608', '1502',\n",
       "       '5109', '3952', '1520', '5111', '9103', '1532', '5113', '5155',\n",
       "       '1558', '5115', '5117', '1518', '5119', '5157', '1522', '5121',\n",
       "       '5123', '1516', '7610', '1550', '5125', '9107', '7602', '1856',\n",
       "       '5331', '5159', '1886', '1251', '5696', '5153', '7106', '7105',\n",
       "       '7107', '3907', '8178', '9102', '5390', '8177', '3908', '5389',\n",
       "       '1583', '1584', '7032', '6412'], dtype=object)"
      ]
     },
     "execution_count": 175,
     "metadata": {},
     "output_type": "execute_result"
    }
   ],
   "source": [
    "df.flightNumber.unique()"
   ]
  },
  {
   "cell_type": "code",
   "execution_count": 176,
   "metadata": {},
   "outputs": [
    {
     "data": {
      "text/plain": [
       "ID                                int64\n",
       "flightNumber                     object\n",
       "craftTypeCode                    object\n",
       "departureDate            datetime64[ns]\n",
       "arrivalDate              datetime64[ns]\n",
       "cabinClass                        int64\n",
       "priceClass                       object\n",
       "price                           float64\n",
       "rate                            float64\n",
       "createDate               datetime64[ns]\n",
       "dateDifference                    int64\n",
       "departureDate_dofweek             int64\n",
       "arrivalDate_dofweek               int64\n",
       "createDate_dofweek                int64\n",
       "pricePaid                       float64\n",
       "airline                          object\n",
       "arrAirport_SHA                    uint8\n",
       "depAirport_SHA                    uint8\n",
       "holiday                           int64\n",
       "just_departureDate               object\n",
       "exc_rateC-U                     float64\n",
       "dtype: object"
      ]
     },
     "execution_count": 176,
     "metadata": {},
     "output_type": "execute_result"
    }
   ],
   "source": [
    "# check dtypes\n",
    "df.dtypes"
   ]
  },
  {
   "cell_type": "code",
   "execution_count": 177,
   "metadata": {},
   "outputs": [],
   "source": [
    "# change the flight number series into an integer\n",
    "df['flightNumber'] = df['flightNumber'].astype(int)"
   ]
  },
  {
   "cell_type": "code",
   "execution_count": 178,
   "metadata": {},
   "outputs": [
    {
     "data": {
      "text/plain": [
       "ID                                int64\n",
       "flightNumber                      int64\n",
       "craftTypeCode                    object\n",
       "departureDate            datetime64[ns]\n",
       "arrivalDate              datetime64[ns]\n",
       "cabinClass                        int64\n",
       "priceClass                       object\n",
       "price                           float64\n",
       "rate                            float64\n",
       "createDate               datetime64[ns]\n",
       "dateDifference                    int64\n",
       "departureDate_dofweek             int64\n",
       "arrivalDate_dofweek               int64\n",
       "createDate_dofweek                int64\n",
       "pricePaid                       float64\n",
       "airline                          object\n",
       "arrAirport_SHA                    uint8\n",
       "depAirport_SHA                    uint8\n",
       "holiday                           int64\n",
       "just_departureDate               object\n",
       "exc_rateC-U                     float64\n",
       "dtype: object"
      ]
     },
     "execution_count": 178,
     "metadata": {},
     "output_type": "execute_result"
    }
   ],
   "source": [
    "df.dtypes"
   ]
  },
  {
   "cell_type": "code",
   "execution_count": 179,
   "metadata": {},
   "outputs": [
    {
     "data": {
      "text/html": [
       "<div>\n",
       "<style scoped>\n",
       "    .dataframe tbody tr th:only-of-type {\n",
       "        vertical-align: middle;\n",
       "    }\n",
       "\n",
       "    .dataframe tbody tr th {\n",
       "        vertical-align: top;\n",
       "    }\n",
       "\n",
       "    .dataframe thead th {\n",
       "        text-align: right;\n",
       "    }\n",
       "</style>\n",
       "<table border=\"1\" class=\"dataframe\">\n",
       "  <thead>\n",
       "    <tr style=\"text-align: right;\">\n",
       "      <th></th>\n",
       "      <th>ID</th>\n",
       "      <th>flightNumber</th>\n",
       "      <th>craftTypeCode</th>\n",
       "      <th>departureDate</th>\n",
       "      <th>arrivalDate</th>\n",
       "      <th>cabinClass</th>\n",
       "      <th>priceClass</th>\n",
       "      <th>price</th>\n",
       "      <th>rate</th>\n",
       "      <th>createDate</th>\n",
       "      <th>...</th>\n",
       "      <th>departureDate_dofweek</th>\n",
       "      <th>arrivalDate_dofweek</th>\n",
       "      <th>createDate_dofweek</th>\n",
       "      <th>pricePaid</th>\n",
       "      <th>airline</th>\n",
       "      <th>arrAirport_SHA</th>\n",
       "      <th>depAirport_SHA</th>\n",
       "      <th>holiday</th>\n",
       "      <th>just_departureDate</th>\n",
       "      <th>exc_rateC-U</th>\n",
       "    </tr>\n",
       "  </thead>\n",
       "  <tbody>\n",
       "    <tr>\n",
       "      <th>0</th>\n",
       "      <td>14393</td>\n",
       "      <td>1252</td>\n",
       "      <td>320</td>\n",
       "      <td>2019-01-04 06:35:00</td>\n",
       "      <td>2019-01-04 08:55:00</td>\n",
       "      <td>1</td>\n",
       "      <td>C</td>\n",
       "      <td>270.943495</td>\n",
       "      <td>1.00</td>\n",
       "      <td>2019-01-03 14:26:15</td>\n",
       "      <td>...</td>\n",
       "      <td>4</td>\n",
       "      <td>4</td>\n",
       "      <td>3</td>\n",
       "      <td>270.943495</td>\n",
       "      <td>Juneyao Airlines</td>\n",
       "      <td>1</td>\n",
       "      <td>0</td>\n",
       "      <td>1</td>\n",
       "      <td>2019-01-04</td>\n",
       "      <td>0.145669</td>\n",
       "    </tr>\n",
       "    <tr>\n",
       "      <th>1</th>\n",
       "      <td>14409</td>\n",
       "      <td>5138</td>\n",
       "      <td>33L</td>\n",
       "      <td>2019-01-04 07:00:00</td>\n",
       "      <td>2019-01-04 09:15:00</td>\n",
       "      <td>1</td>\n",
       "      <td>I</td>\n",
       "      <td>238.896415</td>\n",
       "      <td>0.31</td>\n",
       "      <td>2019-01-03 14:26:15</td>\n",
       "      <td>...</td>\n",
       "      <td>4</td>\n",
       "      <td>4</td>\n",
       "      <td>3</td>\n",
       "      <td>74.057889</td>\n",
       "      <td>China Eastern Airlines</td>\n",
       "      <td>1</td>\n",
       "      <td>0</td>\n",
       "      <td>1</td>\n",
       "      <td>2019-01-04</td>\n",
       "      <td>0.145669</td>\n",
       "    </tr>\n",
       "    <tr>\n",
       "      <th>2</th>\n",
       "      <td>14415</td>\n",
       "      <td>5138</td>\n",
       "      <td>33L</td>\n",
       "      <td>2019-01-04 07:00:00</td>\n",
       "      <td>2019-01-04 09:15:00</td>\n",
       "      <td>1</td>\n",
       "      <td>J</td>\n",
       "      <td>780.783405</td>\n",
       "      <td>1.00</td>\n",
       "      <td>2019-01-03 14:26:15</td>\n",
       "      <td>...</td>\n",
       "      <td>4</td>\n",
       "      <td>4</td>\n",
       "      <td>3</td>\n",
       "      <td>780.783405</td>\n",
       "      <td>China Eastern Airlines</td>\n",
       "      <td>1</td>\n",
       "      <td>0</td>\n",
       "      <td>1</td>\n",
       "      <td>2019-01-04</td>\n",
       "      <td>0.145669</td>\n",
       "    </tr>\n",
       "    <tr>\n",
       "      <th>3</th>\n",
       "      <td>14429</td>\n",
       "      <td>7605</td>\n",
       "      <td>350</td>\n",
       "      <td>2019-01-04 07:20:00</td>\n",
       "      <td>2019-01-04 09:35:00</td>\n",
       "      <td>1</td>\n",
       "      <td>I</td>\n",
       "      <td>238.168072</td>\n",
       "      <td>0.29</td>\n",
       "      <td>2019-01-03 14:26:15</td>\n",
       "      <td>...</td>\n",
       "      <td>4</td>\n",
       "      <td>4</td>\n",
       "      <td>3</td>\n",
       "      <td>69.068741</td>\n",
       "      <td>Hainan Airlines</td>\n",
       "      <td>1</td>\n",
       "      <td>0</td>\n",
       "      <td>1</td>\n",
       "      <td>2019-01-04</td>\n",
       "      <td>0.145669</td>\n",
       "    </tr>\n",
       "    <tr>\n",
       "      <th>4</th>\n",
       "      <td>14431</td>\n",
       "      <td>7605</td>\n",
       "      <td>350</td>\n",
       "      <td>2019-01-04 07:20:00</td>\n",
       "      <td>2019-01-04 09:35:00</td>\n",
       "      <td>1</td>\n",
       "      <td>I</td>\n",
       "      <td>238.896415</td>\n",
       "      <td>0.29</td>\n",
       "      <td>2019-01-03 14:26:15</td>\n",
       "      <td>...</td>\n",
       "      <td>4</td>\n",
       "      <td>4</td>\n",
       "      <td>3</td>\n",
       "      <td>69.279960</td>\n",
       "      <td>Hainan Airlines</td>\n",
       "      <td>1</td>\n",
       "      <td>0</td>\n",
       "      <td>1</td>\n",
       "      <td>2019-01-04</td>\n",
       "      <td>0.145669</td>\n",
       "    </tr>\n",
       "  </tbody>\n",
       "</table>\n",
       "<p>5 rows × 21 columns</p>\n",
       "</div>"
      ],
      "text/plain": [
       "      ID  flightNumber craftTypeCode       departureDate         arrivalDate  \\\n",
       "0  14393          1252           320 2019-01-04 06:35:00 2019-01-04 08:55:00   \n",
       "1  14409          5138           33L 2019-01-04 07:00:00 2019-01-04 09:15:00   \n",
       "2  14415          5138           33L 2019-01-04 07:00:00 2019-01-04 09:15:00   \n",
       "3  14429          7605           350 2019-01-04 07:20:00 2019-01-04 09:35:00   \n",
       "4  14431          7605           350 2019-01-04 07:20:00 2019-01-04 09:35:00   \n",
       "\n",
       "   cabinClass priceClass       price  rate          createDate  ...  \\\n",
       "0           1          C  270.943495  1.00 2019-01-03 14:26:15  ...   \n",
       "1           1          I  238.896415  0.31 2019-01-03 14:26:15  ...   \n",
       "2           1          J  780.783405  1.00 2019-01-03 14:26:15  ...   \n",
       "3           1          I  238.168072  0.29 2019-01-03 14:26:15  ...   \n",
       "4           1          I  238.896415  0.29 2019-01-03 14:26:15  ...   \n",
       "\n",
       "   departureDate_dofweek  arrivalDate_dofweek  createDate_dofweek   pricePaid  \\\n",
       "0                      4                    4                   3  270.943495   \n",
       "1                      4                    4                   3   74.057889   \n",
       "2                      4                    4                   3  780.783405   \n",
       "3                      4                    4                   3   69.068741   \n",
       "4                      4                    4                   3   69.279960   \n",
       "\n",
       "                  airline arrAirport_SHA  depAirport_SHA  holiday  \\\n",
       "0        Juneyao Airlines              1               0        1   \n",
       "1  China Eastern Airlines              1               0        1   \n",
       "2  China Eastern Airlines              1               0        1   \n",
       "3         Hainan Airlines              1               0        1   \n",
       "4         Hainan Airlines              1               0        1   \n",
       "\n",
       "   just_departureDate exc_rateC-U  \n",
       "0          2019-01-04    0.145669  \n",
       "1          2019-01-04    0.145669  \n",
       "2          2019-01-04    0.145669  \n",
       "3          2019-01-04    0.145669  \n",
       "4          2019-01-04    0.145669  \n",
       "\n",
       "[5 rows x 21 columns]"
      ]
     },
     "execution_count": 179,
     "metadata": {},
     "output_type": "execute_result"
    }
   ],
   "source": [
    "df.head()"
   ]
  },
  {
   "cell_type": "code",
   "execution_count": 180,
   "metadata": {},
   "outputs": [
    {
     "data": {
      "text/plain": [
       "32"
      ]
     },
     "execution_count": 180,
     "metadata": {},
     "output_type": "execute_result"
    }
   ],
   "source": [
    "# check # of unique price class\n",
    "df['priceClass'].nunique()"
   ]
  },
  {
   "cell_type": "markdown",
   "metadata": {},
   "source": [
    "# Dummy Columns"
   ]
  },
  {
   "cell_type": "code",
   "execution_count": 181,
   "metadata": {},
   "outputs": [
    {
     "data": {
      "text/plain": [
       "Index(['ID', 'flightNumber', 'craftTypeCode', 'departureDate', 'arrivalDate',\n",
       "       'cabinClass', 'priceClass', 'price', 'rate', 'createDate',\n",
       "       'dateDifference', 'departureDate_dofweek', 'arrivalDate_dofweek',\n",
       "       'createDate_dofweek', 'pricePaid', 'airline', 'arrAirport_SHA',\n",
       "       'depAirport_SHA', 'holiday', 'just_departureDate', 'exc_rateC-U'],\n",
       "      dtype='object')"
      ]
     },
     "execution_count": 181,
     "metadata": {},
     "output_type": "execute_result"
    }
   ],
   "source": [
    "df.columns"
   ]
  },
  {
   "cell_type": "code",
   "execution_count": 182,
   "metadata": {},
   "outputs": [],
   "source": [
    "# Dummy depdayof, airline and maybe price class"
   ]
  },
  {
   "cell_type": "code",
   "execution_count": 183,
   "metadata": {},
   "outputs": [],
   "source": [
    "# pull out columns from df\n",
    "dummy_columns = df[['airline','departureDate_dofweek']]"
   ]
  },
  {
   "cell_type": "code",
   "execution_count": 184,
   "metadata": {},
   "outputs": [],
   "source": [
    "# chnage day of week from # to day\n",
    "weekdays_dict = {0:'Monday',1:'Tuesday',2:'Wednesday',3:'Thursday',4:'Friday',5:'Saturday',6:'Sunday'}"
   ]
  },
  {
   "cell_type": "code",
   "execution_count": 185,
   "metadata": {},
   "outputs": [
    {
     "name": "stderr",
     "output_type": "stream",
     "text": [
      "//anaconda3/lib/python3.7/site-packages/ipykernel_launcher.py:1: SettingWithCopyWarning: \n",
      "A value is trying to be set on a copy of a slice from a DataFrame.\n",
      "Try using .loc[row_indexer,col_indexer] = value instead\n",
      "\n",
      "See the caveats in the documentation: http://pandas.pydata.org/pandas-docs/stable/indexing.html#indexing-view-versus-copy\n",
      "  \"\"\"Entry point for launching an IPython kernel.\n"
     ]
    }
   ],
   "source": [
    "dummy_columns['departureDate_dofweek'] = [weekdays_dict[day] for day in dummy_columns.departureDate_dofweek]"
   ]
  },
  {
   "cell_type": "code",
   "execution_count": 186,
   "metadata": {},
   "outputs": [
    {
     "data": {
      "text/html": [
       "<div>\n",
       "<style scoped>\n",
       "    .dataframe tbody tr th:only-of-type {\n",
       "        vertical-align: middle;\n",
       "    }\n",
       "\n",
       "    .dataframe tbody tr th {\n",
       "        vertical-align: top;\n",
       "    }\n",
       "\n",
       "    .dataframe thead th {\n",
       "        text-align: right;\n",
       "    }\n",
       "</style>\n",
       "<table border=\"1\" class=\"dataframe\">\n",
       "  <thead>\n",
       "    <tr style=\"text-align: right;\">\n",
       "      <th></th>\n",
       "      <th>airline</th>\n",
       "      <th>departureDate_dofweek</th>\n",
       "    </tr>\n",
       "  </thead>\n",
       "  <tbody>\n",
       "    <tr>\n",
       "      <th>0</th>\n",
       "      <td>Juneyao Airlines</td>\n",
       "      <td>Friday</td>\n",
       "    </tr>\n",
       "    <tr>\n",
       "      <th>1</th>\n",
       "      <td>China Eastern Airlines</td>\n",
       "      <td>Friday</td>\n",
       "    </tr>\n",
       "    <tr>\n",
       "      <th>2</th>\n",
       "      <td>China Eastern Airlines</td>\n",
       "      <td>Friday</td>\n",
       "    </tr>\n",
       "    <tr>\n",
       "      <th>3</th>\n",
       "      <td>Hainan Airlines</td>\n",
       "      <td>Friday</td>\n",
       "    </tr>\n",
       "    <tr>\n",
       "      <th>4</th>\n",
       "      <td>Hainan Airlines</td>\n",
       "      <td>Friday</td>\n",
       "    </tr>\n",
       "  </tbody>\n",
       "</table>\n",
       "</div>"
      ],
      "text/plain": [
       "                  airline departureDate_dofweek\n",
       "0        Juneyao Airlines                Friday\n",
       "1  China Eastern Airlines                Friday\n",
       "2  China Eastern Airlines                Friday\n",
       "3         Hainan Airlines                Friday\n",
       "4         Hainan Airlines                Friday"
      ]
     },
     "execution_count": 186,
     "metadata": {},
     "output_type": "execute_result"
    }
   ],
   "source": [
    "dummy_columns.head()"
   ]
  },
  {
   "cell_type": "code",
   "execution_count": 187,
   "metadata": {},
   "outputs": [
    {
     "data": {
      "text/html": [
       "<div>\n",
       "<style scoped>\n",
       "    .dataframe tbody tr th:only-of-type {\n",
       "        vertical-align: middle;\n",
       "    }\n",
       "\n",
       "    .dataframe tbody tr th {\n",
       "        vertical-align: top;\n",
       "    }\n",
       "\n",
       "    .dataframe thead th {\n",
       "        text-align: right;\n",
       "    }\n",
       "</style>\n",
       "<table border=\"1\" class=\"dataframe\">\n",
       "  <thead>\n",
       "    <tr style=\"text-align: right;\">\n",
       "      <th></th>\n",
       "      <th>China Eastern Airlines</th>\n",
       "      <th>China Southern Airlines</th>\n",
       "      <th>Hainan Airlines</th>\n",
       "      <th>Juneyao Airlines</th>\n",
       "      <th>Shanghai Airlines</th>\n",
       "      <th>Xiamen Air</th>\n",
       "    </tr>\n",
       "  </thead>\n",
       "  <tbody>\n",
       "    <tr>\n",
       "      <th>0</th>\n",
       "      <td>0</td>\n",
       "      <td>0</td>\n",
       "      <td>0</td>\n",
       "      <td>1</td>\n",
       "      <td>0</td>\n",
       "      <td>0</td>\n",
       "    </tr>\n",
       "    <tr>\n",
       "      <th>1</th>\n",
       "      <td>1</td>\n",
       "      <td>0</td>\n",
       "      <td>0</td>\n",
       "      <td>0</td>\n",
       "      <td>0</td>\n",
       "      <td>0</td>\n",
       "    </tr>\n",
       "    <tr>\n",
       "      <th>2</th>\n",
       "      <td>1</td>\n",
       "      <td>0</td>\n",
       "      <td>0</td>\n",
       "      <td>0</td>\n",
       "      <td>0</td>\n",
       "      <td>0</td>\n",
       "    </tr>\n",
       "    <tr>\n",
       "      <th>3</th>\n",
       "      <td>0</td>\n",
       "      <td>0</td>\n",
       "      <td>1</td>\n",
       "      <td>0</td>\n",
       "      <td>0</td>\n",
       "      <td>0</td>\n",
       "    </tr>\n",
       "    <tr>\n",
       "      <th>4</th>\n",
       "      <td>0</td>\n",
       "      <td>0</td>\n",
       "      <td>1</td>\n",
       "      <td>0</td>\n",
       "      <td>0</td>\n",
       "      <td>0</td>\n",
       "    </tr>\n",
       "  </tbody>\n",
       "</table>\n",
       "</div>"
      ],
      "text/plain": [
       "   China Eastern Airlines  China Southern Airlines  Hainan Airlines  \\\n",
       "0                       0                        0                0   \n",
       "1                       1                        0                0   \n",
       "2                       1                        0                0   \n",
       "3                       0                        0                1   \n",
       "4                       0                        0                1   \n",
       "\n",
       "   Juneyao Airlines  Shanghai Airlines  Xiamen Air  \n",
       "0                 1                  0           0  \n",
       "1                 0                  0           0  \n",
       "2                 0                  0           0  \n",
       "3                 0                  0           0  \n",
       "4                 0                  0           0  "
      ]
     },
     "execution_count": 187,
     "metadata": {},
     "output_type": "execute_result"
    }
   ],
   "source": [
    "# use get dummies\n",
    "airline_dummy = pd.get_dummies(df['airline'], drop_first=True)\n",
    "\n",
    "\n",
    "dof_dummy = pd.get_dummies(dummy_columns['departureDate_dofweek'], drop_first=True)\n",
    "# drop first parameter helps us avoid the dummy trap\n",
    "\n",
    "# check to see if it worked\n",
    "airline_dummy.head()"
   ]
  },
  {
   "cell_type": "code",
   "execution_count": 188,
   "metadata": {},
   "outputs": [
    {
     "data": {
      "text/html": [
       "<div>\n",
       "<style scoped>\n",
       "    .dataframe tbody tr th:only-of-type {\n",
       "        vertical-align: middle;\n",
       "    }\n",
       "\n",
       "    .dataframe tbody tr th {\n",
       "        vertical-align: top;\n",
       "    }\n",
       "\n",
       "    .dataframe thead th {\n",
       "        text-align: right;\n",
       "    }\n",
       "</style>\n",
       "<table border=\"1\" class=\"dataframe\">\n",
       "  <thead>\n",
       "    <tr style=\"text-align: right;\">\n",
       "      <th></th>\n",
       "      <th>Monday</th>\n",
       "      <th>Saturday</th>\n",
       "      <th>Sunday</th>\n",
       "      <th>Thursday</th>\n",
       "      <th>Tuesday</th>\n",
       "      <th>Wednesday</th>\n",
       "    </tr>\n",
       "  </thead>\n",
       "  <tbody>\n",
       "    <tr>\n",
       "      <th>0</th>\n",
       "      <td>0</td>\n",
       "      <td>0</td>\n",
       "      <td>0</td>\n",
       "      <td>0</td>\n",
       "      <td>0</td>\n",
       "      <td>0</td>\n",
       "    </tr>\n",
       "    <tr>\n",
       "      <th>1</th>\n",
       "      <td>0</td>\n",
       "      <td>0</td>\n",
       "      <td>0</td>\n",
       "      <td>0</td>\n",
       "      <td>0</td>\n",
       "      <td>0</td>\n",
       "    </tr>\n",
       "    <tr>\n",
       "      <th>2</th>\n",
       "      <td>0</td>\n",
       "      <td>0</td>\n",
       "      <td>0</td>\n",
       "      <td>0</td>\n",
       "      <td>0</td>\n",
       "      <td>0</td>\n",
       "    </tr>\n",
       "    <tr>\n",
       "      <th>3</th>\n",
       "      <td>0</td>\n",
       "      <td>0</td>\n",
       "      <td>0</td>\n",
       "      <td>0</td>\n",
       "      <td>0</td>\n",
       "      <td>0</td>\n",
       "    </tr>\n",
       "    <tr>\n",
       "      <th>4</th>\n",
       "      <td>0</td>\n",
       "      <td>0</td>\n",
       "      <td>0</td>\n",
       "      <td>0</td>\n",
       "      <td>0</td>\n",
       "      <td>0</td>\n",
       "    </tr>\n",
       "  </tbody>\n",
       "</table>\n",
       "</div>"
      ],
      "text/plain": [
       "   Monday  Saturday  Sunday  Thursday  Tuesday  Wednesday\n",
       "0       0         0       0         0        0          0\n",
       "1       0         0       0         0        0          0\n",
       "2       0         0       0         0        0          0\n",
       "3       0         0       0         0        0          0\n",
       "4       0         0       0         0        0          0"
      ]
     },
     "execution_count": 188,
     "metadata": {},
     "output_type": "execute_result"
    }
   ],
   "source": [
    "dof_dummy.head()"
   ]
  },
  {
   "cell_type": "code",
   "execution_count": null,
   "metadata": {},
   "outputs": [],
   "source": []
  },
  {
   "cell_type": "markdown",
   "metadata": {},
   "source": [
    "# Start here for date stuff"
   ]
  },
  {
   "cell_type": "code",
   "execution_count": 189,
   "metadata": {},
   "outputs": [
    {
     "data": {
      "text/html": [
       "<div>\n",
       "<style scoped>\n",
       "    .dataframe tbody tr th:only-of-type {\n",
       "        vertical-align: middle;\n",
       "    }\n",
       "\n",
       "    .dataframe tbody tr th {\n",
       "        vertical-align: top;\n",
       "    }\n",
       "\n",
       "    .dataframe thead th {\n",
       "        text-align: right;\n",
       "    }\n",
       "</style>\n",
       "<table border=\"1\" class=\"dataframe\">\n",
       "  <thead>\n",
       "    <tr style=\"text-align: right;\">\n",
       "      <th></th>\n",
       "      <th>ID</th>\n",
       "      <th>flightNumber</th>\n",
       "      <th>craftTypeCode</th>\n",
       "      <th>departureDate</th>\n",
       "      <th>arrivalDate</th>\n",
       "      <th>cabinClass</th>\n",
       "      <th>priceClass</th>\n",
       "      <th>price</th>\n",
       "      <th>rate</th>\n",
       "      <th>createDate</th>\n",
       "      <th>...</th>\n",
       "      <th>departureDate_dofweek</th>\n",
       "      <th>arrivalDate_dofweek</th>\n",
       "      <th>createDate_dofweek</th>\n",
       "      <th>pricePaid</th>\n",
       "      <th>airline</th>\n",
       "      <th>arrAirport_SHA</th>\n",
       "      <th>depAirport_SHA</th>\n",
       "      <th>holiday</th>\n",
       "      <th>just_departureDate</th>\n",
       "      <th>exc_rateC-U</th>\n",
       "    </tr>\n",
       "  </thead>\n",
       "  <tbody>\n",
       "    <tr>\n",
       "      <th>0</th>\n",
       "      <td>14393</td>\n",
       "      <td>1252</td>\n",
       "      <td>320</td>\n",
       "      <td>2019-01-04 06:35:00</td>\n",
       "      <td>2019-01-04 08:55:00</td>\n",
       "      <td>1</td>\n",
       "      <td>C</td>\n",
       "      <td>270.943495</td>\n",
       "      <td>1.00</td>\n",
       "      <td>2019-01-03 14:26:15</td>\n",
       "      <td>...</td>\n",
       "      <td>4</td>\n",
       "      <td>4</td>\n",
       "      <td>3</td>\n",
       "      <td>270.943495</td>\n",
       "      <td>Juneyao Airlines</td>\n",
       "      <td>1</td>\n",
       "      <td>0</td>\n",
       "      <td>1</td>\n",
       "      <td>2019-01-04</td>\n",
       "      <td>0.145669</td>\n",
       "    </tr>\n",
       "    <tr>\n",
       "      <th>1</th>\n",
       "      <td>14409</td>\n",
       "      <td>5138</td>\n",
       "      <td>33L</td>\n",
       "      <td>2019-01-04 07:00:00</td>\n",
       "      <td>2019-01-04 09:15:00</td>\n",
       "      <td>1</td>\n",
       "      <td>I</td>\n",
       "      <td>238.896415</td>\n",
       "      <td>0.31</td>\n",
       "      <td>2019-01-03 14:26:15</td>\n",
       "      <td>...</td>\n",
       "      <td>4</td>\n",
       "      <td>4</td>\n",
       "      <td>3</td>\n",
       "      <td>74.057889</td>\n",
       "      <td>China Eastern Airlines</td>\n",
       "      <td>1</td>\n",
       "      <td>0</td>\n",
       "      <td>1</td>\n",
       "      <td>2019-01-04</td>\n",
       "      <td>0.145669</td>\n",
       "    </tr>\n",
       "    <tr>\n",
       "      <th>2</th>\n",
       "      <td>14415</td>\n",
       "      <td>5138</td>\n",
       "      <td>33L</td>\n",
       "      <td>2019-01-04 07:00:00</td>\n",
       "      <td>2019-01-04 09:15:00</td>\n",
       "      <td>1</td>\n",
       "      <td>J</td>\n",
       "      <td>780.783405</td>\n",
       "      <td>1.00</td>\n",
       "      <td>2019-01-03 14:26:15</td>\n",
       "      <td>...</td>\n",
       "      <td>4</td>\n",
       "      <td>4</td>\n",
       "      <td>3</td>\n",
       "      <td>780.783405</td>\n",
       "      <td>China Eastern Airlines</td>\n",
       "      <td>1</td>\n",
       "      <td>0</td>\n",
       "      <td>1</td>\n",
       "      <td>2019-01-04</td>\n",
       "      <td>0.145669</td>\n",
       "    </tr>\n",
       "    <tr>\n",
       "      <th>3</th>\n",
       "      <td>14429</td>\n",
       "      <td>7605</td>\n",
       "      <td>350</td>\n",
       "      <td>2019-01-04 07:20:00</td>\n",
       "      <td>2019-01-04 09:35:00</td>\n",
       "      <td>1</td>\n",
       "      <td>I</td>\n",
       "      <td>238.168072</td>\n",
       "      <td>0.29</td>\n",
       "      <td>2019-01-03 14:26:15</td>\n",
       "      <td>...</td>\n",
       "      <td>4</td>\n",
       "      <td>4</td>\n",
       "      <td>3</td>\n",
       "      <td>69.068741</td>\n",
       "      <td>Hainan Airlines</td>\n",
       "      <td>1</td>\n",
       "      <td>0</td>\n",
       "      <td>1</td>\n",
       "      <td>2019-01-04</td>\n",
       "      <td>0.145669</td>\n",
       "    </tr>\n",
       "    <tr>\n",
       "      <th>4</th>\n",
       "      <td>14431</td>\n",
       "      <td>7605</td>\n",
       "      <td>350</td>\n",
       "      <td>2019-01-04 07:20:00</td>\n",
       "      <td>2019-01-04 09:35:00</td>\n",
       "      <td>1</td>\n",
       "      <td>I</td>\n",
       "      <td>238.896415</td>\n",
       "      <td>0.29</td>\n",
       "      <td>2019-01-03 14:26:15</td>\n",
       "      <td>...</td>\n",
       "      <td>4</td>\n",
       "      <td>4</td>\n",
       "      <td>3</td>\n",
       "      <td>69.279960</td>\n",
       "      <td>Hainan Airlines</td>\n",
       "      <td>1</td>\n",
       "      <td>0</td>\n",
       "      <td>1</td>\n",
       "      <td>2019-01-04</td>\n",
       "      <td>0.145669</td>\n",
       "    </tr>\n",
       "  </tbody>\n",
       "</table>\n",
       "<p>5 rows × 21 columns</p>\n",
       "</div>"
      ],
      "text/plain": [
       "      ID  flightNumber craftTypeCode       departureDate         arrivalDate  \\\n",
       "0  14393          1252           320 2019-01-04 06:35:00 2019-01-04 08:55:00   \n",
       "1  14409          5138           33L 2019-01-04 07:00:00 2019-01-04 09:15:00   \n",
       "2  14415          5138           33L 2019-01-04 07:00:00 2019-01-04 09:15:00   \n",
       "3  14429          7605           350 2019-01-04 07:20:00 2019-01-04 09:35:00   \n",
       "4  14431          7605           350 2019-01-04 07:20:00 2019-01-04 09:35:00   \n",
       "\n",
       "   cabinClass priceClass       price  rate          createDate  ...  \\\n",
       "0           1          C  270.943495  1.00 2019-01-03 14:26:15  ...   \n",
       "1           1          I  238.896415  0.31 2019-01-03 14:26:15  ...   \n",
       "2           1          J  780.783405  1.00 2019-01-03 14:26:15  ...   \n",
       "3           1          I  238.168072  0.29 2019-01-03 14:26:15  ...   \n",
       "4           1          I  238.896415  0.29 2019-01-03 14:26:15  ...   \n",
       "\n",
       "   departureDate_dofweek  arrivalDate_dofweek  createDate_dofweek   pricePaid  \\\n",
       "0                      4                    4                   3  270.943495   \n",
       "1                      4                    4                   3   74.057889   \n",
       "2                      4                    4                   3  780.783405   \n",
       "3                      4                    4                   3   69.068741   \n",
       "4                      4                    4                   3   69.279960   \n",
       "\n",
       "                  airline arrAirport_SHA  depAirport_SHA  holiday  \\\n",
       "0        Juneyao Airlines              1               0        1   \n",
       "1  China Eastern Airlines              1               0        1   \n",
       "2  China Eastern Airlines              1               0        1   \n",
       "3         Hainan Airlines              1               0        1   \n",
       "4         Hainan Airlines              1               0        1   \n",
       "\n",
       "   just_departureDate exc_rateC-U  \n",
       "0          2019-01-04    0.145669  \n",
       "1          2019-01-04    0.145669  \n",
       "2          2019-01-04    0.145669  \n",
       "3          2019-01-04    0.145669  \n",
       "4          2019-01-04    0.145669  \n",
       "\n",
       "[5 rows x 21 columns]"
      ]
     },
     "execution_count": 189,
     "metadata": {},
     "output_type": "execute_result"
    }
   ],
   "source": [
    "df.head()"
   ]
  },
  {
   "cell_type": "code",
   "execution_count": 190,
   "metadata": {},
   "outputs": [],
   "source": [
    "# make a time of day feature (this will take a few steps)\n",
    "\n",
    "# make a column the same as departure date\n",
    "df['departureDate_tod']=df['departureDate']\n",
    "# turn this column into just the time of the flight\n",
    "df['departureDate_tod']=df['departureDate_tod'].dt.time\n"
   ]
  },
  {
   "cell_type": "code",
   "execution_count": 191,
   "metadata": {},
   "outputs": [],
   "source": [
    "# just get the start of each hour from the time EX/ 7am & 10am\n",
    "df['departureDate_hod']= [i.hour for i in df['departureDate_tod']]"
   ]
  },
  {
   "cell_type": "code",
   "execution_count": 192,
   "metadata": {},
   "outputs": [],
   "source": [
    "# make a function that give part of day\n",
    "def part_of_day(x):\n",
    "    if (x > 4) and (x <= 8):\n",
    "        return 'Early Morning'\n",
    "    elif (x > 8) and (x <= 12 ):\n",
    "        return 'Morning'\n",
    "    elif (x > 12) and (x <= 16):\n",
    "        return'Noon'\n",
    "    elif (x > 16) and (x <= 20) :\n",
    "        return 'Eve'\n",
    "    elif (x > 20) and (x <= 24):\n",
    "        return'Night'\n",
    "    elif (x <= 4):\n",
    "        return'Late Night'"
   ]
  },
  {
   "cell_type": "code",
   "execution_count": 193,
   "metadata": {},
   "outputs": [],
   "source": [
    "#apply that function to every cell in the the dataframe\n",
    "df['departureDate_pod'] = [part_of_day(i) for i in df['departureDate_hod']]"
   ]
  },
  {
   "cell_type": "code",
   "execution_count": null,
   "metadata": {},
   "outputs": [],
   "source": []
  },
  {
   "cell_type": "code",
   "execution_count": 194,
   "metadata": {},
   "outputs": [
    {
     "data": {
      "text/html": [
       "<div>\n",
       "<style scoped>\n",
       "    .dataframe tbody tr th:only-of-type {\n",
       "        vertical-align: middle;\n",
       "    }\n",
       "\n",
       "    .dataframe tbody tr th {\n",
       "        vertical-align: top;\n",
       "    }\n",
       "\n",
       "    .dataframe thead th {\n",
       "        text-align: right;\n",
       "    }\n",
       "</style>\n",
       "<table border=\"1\" class=\"dataframe\">\n",
       "  <thead>\n",
       "    <tr style=\"text-align: right;\">\n",
       "      <th></th>\n",
       "      <th>ID</th>\n",
       "      <th>flightNumber</th>\n",
       "      <th>craftTypeCode</th>\n",
       "      <th>departureDate</th>\n",
       "      <th>arrivalDate</th>\n",
       "      <th>cabinClass</th>\n",
       "      <th>priceClass</th>\n",
       "      <th>price</th>\n",
       "      <th>rate</th>\n",
       "      <th>createDate</th>\n",
       "      <th>...</th>\n",
       "      <th>pricePaid</th>\n",
       "      <th>airline</th>\n",
       "      <th>arrAirport_SHA</th>\n",
       "      <th>depAirport_SHA</th>\n",
       "      <th>holiday</th>\n",
       "      <th>just_departureDate</th>\n",
       "      <th>exc_rateC-U</th>\n",
       "      <th>departureDate_tod</th>\n",
       "      <th>departureDate_hod</th>\n",
       "      <th>departureDate_pod</th>\n",
       "    </tr>\n",
       "  </thead>\n",
       "  <tbody>\n",
       "    <tr>\n",
       "      <th>0</th>\n",
       "      <td>14393</td>\n",
       "      <td>1252</td>\n",
       "      <td>320</td>\n",
       "      <td>2019-01-04 06:35:00</td>\n",
       "      <td>2019-01-04 08:55:00</td>\n",
       "      <td>1</td>\n",
       "      <td>C</td>\n",
       "      <td>270.943495</td>\n",
       "      <td>1.00</td>\n",
       "      <td>2019-01-03 14:26:15</td>\n",
       "      <td>...</td>\n",
       "      <td>270.943495</td>\n",
       "      <td>Juneyao Airlines</td>\n",
       "      <td>1</td>\n",
       "      <td>0</td>\n",
       "      <td>1</td>\n",
       "      <td>2019-01-04</td>\n",
       "      <td>0.145669</td>\n",
       "      <td>06:35:00</td>\n",
       "      <td>6</td>\n",
       "      <td>Early Morning</td>\n",
       "    </tr>\n",
       "    <tr>\n",
       "      <th>1</th>\n",
       "      <td>14409</td>\n",
       "      <td>5138</td>\n",
       "      <td>33L</td>\n",
       "      <td>2019-01-04 07:00:00</td>\n",
       "      <td>2019-01-04 09:15:00</td>\n",
       "      <td>1</td>\n",
       "      <td>I</td>\n",
       "      <td>238.896415</td>\n",
       "      <td>0.31</td>\n",
       "      <td>2019-01-03 14:26:15</td>\n",
       "      <td>...</td>\n",
       "      <td>74.057889</td>\n",
       "      <td>China Eastern Airlines</td>\n",
       "      <td>1</td>\n",
       "      <td>0</td>\n",
       "      <td>1</td>\n",
       "      <td>2019-01-04</td>\n",
       "      <td>0.145669</td>\n",
       "      <td>07:00:00</td>\n",
       "      <td>7</td>\n",
       "      <td>Early Morning</td>\n",
       "    </tr>\n",
       "    <tr>\n",
       "      <th>2</th>\n",
       "      <td>14415</td>\n",
       "      <td>5138</td>\n",
       "      <td>33L</td>\n",
       "      <td>2019-01-04 07:00:00</td>\n",
       "      <td>2019-01-04 09:15:00</td>\n",
       "      <td>1</td>\n",
       "      <td>J</td>\n",
       "      <td>780.783405</td>\n",
       "      <td>1.00</td>\n",
       "      <td>2019-01-03 14:26:15</td>\n",
       "      <td>...</td>\n",
       "      <td>780.783405</td>\n",
       "      <td>China Eastern Airlines</td>\n",
       "      <td>1</td>\n",
       "      <td>0</td>\n",
       "      <td>1</td>\n",
       "      <td>2019-01-04</td>\n",
       "      <td>0.145669</td>\n",
       "      <td>07:00:00</td>\n",
       "      <td>7</td>\n",
       "      <td>Early Morning</td>\n",
       "    </tr>\n",
       "    <tr>\n",
       "      <th>3</th>\n",
       "      <td>14429</td>\n",
       "      <td>7605</td>\n",
       "      <td>350</td>\n",
       "      <td>2019-01-04 07:20:00</td>\n",
       "      <td>2019-01-04 09:35:00</td>\n",
       "      <td>1</td>\n",
       "      <td>I</td>\n",
       "      <td>238.168072</td>\n",
       "      <td>0.29</td>\n",
       "      <td>2019-01-03 14:26:15</td>\n",
       "      <td>...</td>\n",
       "      <td>69.068741</td>\n",
       "      <td>Hainan Airlines</td>\n",
       "      <td>1</td>\n",
       "      <td>0</td>\n",
       "      <td>1</td>\n",
       "      <td>2019-01-04</td>\n",
       "      <td>0.145669</td>\n",
       "      <td>07:20:00</td>\n",
       "      <td>7</td>\n",
       "      <td>Early Morning</td>\n",
       "    </tr>\n",
       "    <tr>\n",
       "      <th>4</th>\n",
       "      <td>14431</td>\n",
       "      <td>7605</td>\n",
       "      <td>350</td>\n",
       "      <td>2019-01-04 07:20:00</td>\n",
       "      <td>2019-01-04 09:35:00</td>\n",
       "      <td>1</td>\n",
       "      <td>I</td>\n",
       "      <td>238.896415</td>\n",
       "      <td>0.29</td>\n",
       "      <td>2019-01-03 14:26:15</td>\n",
       "      <td>...</td>\n",
       "      <td>69.279960</td>\n",
       "      <td>Hainan Airlines</td>\n",
       "      <td>1</td>\n",
       "      <td>0</td>\n",
       "      <td>1</td>\n",
       "      <td>2019-01-04</td>\n",
       "      <td>0.145669</td>\n",
       "      <td>07:20:00</td>\n",
       "      <td>7</td>\n",
       "      <td>Early Morning</td>\n",
       "    </tr>\n",
       "  </tbody>\n",
       "</table>\n",
       "<p>5 rows × 24 columns</p>\n",
       "</div>"
      ],
      "text/plain": [
       "      ID  flightNumber craftTypeCode       departureDate         arrivalDate  \\\n",
       "0  14393          1252           320 2019-01-04 06:35:00 2019-01-04 08:55:00   \n",
       "1  14409          5138           33L 2019-01-04 07:00:00 2019-01-04 09:15:00   \n",
       "2  14415          5138           33L 2019-01-04 07:00:00 2019-01-04 09:15:00   \n",
       "3  14429          7605           350 2019-01-04 07:20:00 2019-01-04 09:35:00   \n",
       "4  14431          7605           350 2019-01-04 07:20:00 2019-01-04 09:35:00   \n",
       "\n",
       "   cabinClass priceClass       price  rate          createDate  ...  \\\n",
       "0           1          C  270.943495  1.00 2019-01-03 14:26:15  ...   \n",
       "1           1          I  238.896415  0.31 2019-01-03 14:26:15  ...   \n",
       "2           1          J  780.783405  1.00 2019-01-03 14:26:15  ...   \n",
       "3           1          I  238.168072  0.29 2019-01-03 14:26:15  ...   \n",
       "4           1          I  238.896415  0.29 2019-01-03 14:26:15  ...   \n",
       "\n",
       "    pricePaid                 airline  arrAirport_SHA  depAirport_SHA  \\\n",
       "0  270.943495        Juneyao Airlines               1               0   \n",
       "1   74.057889  China Eastern Airlines               1               0   \n",
       "2  780.783405  China Eastern Airlines               1               0   \n",
       "3   69.068741         Hainan Airlines               1               0   \n",
       "4   69.279960         Hainan Airlines               1               0   \n",
       "\n",
       "   holiday just_departureDate  exc_rateC-U  departureDate_tod  \\\n",
       "0        1         2019-01-04     0.145669           06:35:00   \n",
       "1        1         2019-01-04     0.145669           07:00:00   \n",
       "2        1         2019-01-04     0.145669           07:00:00   \n",
       "3        1         2019-01-04     0.145669           07:20:00   \n",
       "4        1         2019-01-04     0.145669           07:20:00   \n",
       "\n",
       "   departureDate_hod departureDate_pod  \n",
       "0                  6     Early Morning  \n",
       "1                  7     Early Morning  \n",
       "2                  7     Early Morning  \n",
       "3                  7     Early Morning  \n",
       "4                  7     Early Morning  \n",
       "\n",
       "[5 rows x 24 columns]"
      ]
     },
     "execution_count": 194,
     "metadata": {},
     "output_type": "execute_result"
    }
   ],
   "source": [
    "#Check to see if it work. It did!\n",
    "df.head()"
   ]
  },
  {
   "cell_type": "code",
   "execution_count": 195,
   "metadata": {},
   "outputs": [
    {
     "data": {
      "text/plain": [
       "ID                                int64\n",
       "flightNumber                      int64\n",
       "craftTypeCode                    object\n",
       "departureDate            datetime64[ns]\n",
       "arrivalDate              datetime64[ns]\n",
       "cabinClass                        int64\n",
       "priceClass                       object\n",
       "price                           float64\n",
       "rate                            float64\n",
       "createDate               datetime64[ns]\n",
       "dateDifference                    int64\n",
       "departureDate_dofweek             int64\n",
       "arrivalDate_dofweek               int64\n",
       "createDate_dofweek                int64\n",
       "pricePaid                       float64\n",
       "airline                          object\n",
       "arrAirport_SHA                    uint8\n",
       "depAirport_SHA                    uint8\n",
       "holiday                           int64\n",
       "just_departureDate               object\n",
       "exc_rateC-U                     float64\n",
       "departureDate_tod                object\n",
       "departureDate_hod                 int64\n",
       "departureDate_pod                object\n",
       "dtype: object"
      ]
     },
     "execution_count": 195,
     "metadata": {},
     "output_type": "execute_result"
    }
   ],
   "source": [
    "df.dtypes"
   ]
  },
  {
   "cell_type": "code",
   "execution_count": 196,
   "metadata": {},
   "outputs": [
    {
     "data": {
      "text/html": [
       "<div>\n",
       "<style scoped>\n",
       "    .dataframe tbody tr th:only-of-type {\n",
       "        vertical-align: middle;\n",
       "    }\n",
       "\n",
       "    .dataframe tbody tr th {\n",
       "        vertical-align: top;\n",
       "    }\n",
       "\n",
       "    .dataframe thead th {\n",
       "        text-align: right;\n",
       "    }\n",
       "</style>\n",
       "<table border=\"1\" class=\"dataframe\">\n",
       "  <thead>\n",
       "    <tr style=\"text-align: right;\">\n",
       "      <th></th>\n",
       "      <th>Eve</th>\n",
       "      <th>Morning</th>\n",
       "      <th>Night</th>\n",
       "      <th>Noon</th>\n",
       "    </tr>\n",
       "  </thead>\n",
       "  <tbody>\n",
       "    <tr>\n",
       "      <th>0</th>\n",
       "      <td>0</td>\n",
       "      <td>0</td>\n",
       "      <td>0</td>\n",
       "      <td>0</td>\n",
       "    </tr>\n",
       "    <tr>\n",
       "      <th>1</th>\n",
       "      <td>0</td>\n",
       "      <td>0</td>\n",
       "      <td>0</td>\n",
       "      <td>0</td>\n",
       "    </tr>\n",
       "    <tr>\n",
       "      <th>2</th>\n",
       "      <td>0</td>\n",
       "      <td>0</td>\n",
       "      <td>0</td>\n",
       "      <td>0</td>\n",
       "    </tr>\n",
       "    <tr>\n",
       "      <th>3</th>\n",
       "      <td>0</td>\n",
       "      <td>0</td>\n",
       "      <td>0</td>\n",
       "      <td>0</td>\n",
       "    </tr>\n",
       "    <tr>\n",
       "      <th>4</th>\n",
       "      <td>0</td>\n",
       "      <td>0</td>\n",
       "      <td>0</td>\n",
       "      <td>0</td>\n",
       "    </tr>\n",
       "  </tbody>\n",
       "</table>\n",
       "</div>"
      ],
      "text/plain": [
       "   Eve  Morning  Night  Noon\n",
       "0    0        0      0     0\n",
       "1    0        0      0     0\n",
       "2    0        0      0     0\n",
       "3    0        0      0     0\n",
       "4    0        0      0     0"
      ]
     },
     "execution_count": 196,
     "metadata": {},
     "output_type": "execute_result"
    }
   ],
   "source": [
    "# dummy departure date pod\n",
    "pod_dummy = df[['departureDate_pod']]\n",
    "pod_dummies = pd.get_dummies(pod_dummy['departureDate_pod'], drop_first=True)\n",
    "pod_dummies.head()"
   ]
  },
  {
   "cell_type": "code",
   "execution_count": 197,
   "metadata": {},
   "outputs": [],
   "source": [
    "# remove columns before dropping outliers"
   ]
  },
  {
   "cell_type": "code",
   "execution_count": 198,
   "metadata": {},
   "outputs": [
    {
     "data": {
      "text/plain": [
       "(568917, 24)"
      ]
     },
     "execution_count": 198,
     "metadata": {},
     "output_type": "execute_result"
    }
   ],
   "source": [
    "df.shape"
   ]
  },
  {
   "cell_type": "code",
   "execution_count": null,
   "metadata": {},
   "outputs": [],
   "source": []
  },
  {
   "cell_type": "code",
   "execution_count": 199,
   "metadata": {},
   "outputs": [
    {
     "data": {
      "text/plain": [
       "Index(['ID', 'flightNumber', 'craftTypeCode', 'departureDate', 'arrivalDate',\n",
       "       'cabinClass', 'priceClass', 'price', 'rate', 'createDate',\n",
       "       'dateDifference', 'departureDate_dofweek', 'arrivalDate_dofweek',\n",
       "       'createDate_dofweek', 'pricePaid', 'airline', 'arrAirport_SHA',\n",
       "       'depAirport_SHA', 'holiday', 'just_departureDate', 'exc_rateC-U',\n",
       "       'departureDate_tod', 'departureDate_hod', 'departureDate_pod'],\n",
       "      dtype='object')"
      ]
     },
     "execution_count": 199,
     "metadata": {},
     "output_type": "execute_result"
    }
   ],
   "source": [
    "df.columns"
   ]
  },
  {
   "cell_type": "code",
   "execution_count": 200,
   "metadata": {},
   "outputs": [],
   "source": [
    "\n",
    "# make a new feature for cabin class that says economy bussiness and first class\n",
    "df['cabinClass_type'] = df['cabinClass']\n",
    "\n",
    "# make a dictionary of values and what you what to convert the values to\n",
    "cabin_key = {0:'Economy_Class',1:'Bussiness_Class', 2:'First_Class'}\n",
    "# make a list comphrehension and iterate through the series replacing all the letters with numbers\n",
    "df['cabinClass_type'] = [cabin_key[letter] for letter in df.cabinClass_type]\n",
    "\n",
    "#df = pd.get_dummies(df,columns='cabinClass_type',drop_first=True)"
   ]
  },
  {
   "cell_type": "code",
   "execution_count": 201,
   "metadata": {},
   "outputs": [
    {
     "data": {
      "text/html": [
       "<div>\n",
       "<style scoped>\n",
       "    .dataframe tbody tr th:only-of-type {\n",
       "        vertical-align: middle;\n",
       "    }\n",
       "\n",
       "    .dataframe tbody tr th {\n",
       "        vertical-align: top;\n",
       "    }\n",
       "\n",
       "    .dataframe thead th {\n",
       "        text-align: right;\n",
       "    }\n",
       "</style>\n",
       "<table border=\"1\" class=\"dataframe\">\n",
       "  <thead>\n",
       "    <tr style=\"text-align: right;\">\n",
       "      <th></th>\n",
       "      <th>ID</th>\n",
       "      <th>flightNumber</th>\n",
       "      <th>craftTypeCode</th>\n",
       "      <th>departureDate</th>\n",
       "      <th>arrivalDate</th>\n",
       "      <th>cabinClass</th>\n",
       "      <th>priceClass</th>\n",
       "      <th>price</th>\n",
       "      <th>rate</th>\n",
       "      <th>createDate</th>\n",
       "      <th>...</th>\n",
       "      <th>airline</th>\n",
       "      <th>arrAirport_SHA</th>\n",
       "      <th>depAirport_SHA</th>\n",
       "      <th>holiday</th>\n",
       "      <th>just_departureDate</th>\n",
       "      <th>exc_rateC-U</th>\n",
       "      <th>departureDate_tod</th>\n",
       "      <th>departureDate_hod</th>\n",
       "      <th>departureDate_pod</th>\n",
       "      <th>cabinClass_type</th>\n",
       "    </tr>\n",
       "  </thead>\n",
       "  <tbody>\n",
       "    <tr>\n",
       "      <th>0</th>\n",
       "      <td>14393</td>\n",
       "      <td>1252</td>\n",
       "      <td>320</td>\n",
       "      <td>2019-01-04 06:35:00</td>\n",
       "      <td>2019-01-04 08:55:00</td>\n",
       "      <td>1</td>\n",
       "      <td>C</td>\n",
       "      <td>270.943495</td>\n",
       "      <td>1.00</td>\n",
       "      <td>2019-01-03 14:26:15</td>\n",
       "      <td>...</td>\n",
       "      <td>Juneyao Airlines</td>\n",
       "      <td>1</td>\n",
       "      <td>0</td>\n",
       "      <td>1</td>\n",
       "      <td>2019-01-04</td>\n",
       "      <td>0.145669</td>\n",
       "      <td>06:35:00</td>\n",
       "      <td>6</td>\n",
       "      <td>Early Morning</td>\n",
       "      <td>Bussiness_Class</td>\n",
       "    </tr>\n",
       "    <tr>\n",
       "      <th>1</th>\n",
       "      <td>14409</td>\n",
       "      <td>5138</td>\n",
       "      <td>33L</td>\n",
       "      <td>2019-01-04 07:00:00</td>\n",
       "      <td>2019-01-04 09:15:00</td>\n",
       "      <td>1</td>\n",
       "      <td>I</td>\n",
       "      <td>238.896415</td>\n",
       "      <td>0.31</td>\n",
       "      <td>2019-01-03 14:26:15</td>\n",
       "      <td>...</td>\n",
       "      <td>China Eastern Airlines</td>\n",
       "      <td>1</td>\n",
       "      <td>0</td>\n",
       "      <td>1</td>\n",
       "      <td>2019-01-04</td>\n",
       "      <td>0.145669</td>\n",
       "      <td>07:00:00</td>\n",
       "      <td>7</td>\n",
       "      <td>Early Morning</td>\n",
       "      <td>Bussiness_Class</td>\n",
       "    </tr>\n",
       "    <tr>\n",
       "      <th>2</th>\n",
       "      <td>14415</td>\n",
       "      <td>5138</td>\n",
       "      <td>33L</td>\n",
       "      <td>2019-01-04 07:00:00</td>\n",
       "      <td>2019-01-04 09:15:00</td>\n",
       "      <td>1</td>\n",
       "      <td>J</td>\n",
       "      <td>780.783405</td>\n",
       "      <td>1.00</td>\n",
       "      <td>2019-01-03 14:26:15</td>\n",
       "      <td>...</td>\n",
       "      <td>China Eastern Airlines</td>\n",
       "      <td>1</td>\n",
       "      <td>0</td>\n",
       "      <td>1</td>\n",
       "      <td>2019-01-04</td>\n",
       "      <td>0.145669</td>\n",
       "      <td>07:00:00</td>\n",
       "      <td>7</td>\n",
       "      <td>Early Morning</td>\n",
       "      <td>Bussiness_Class</td>\n",
       "    </tr>\n",
       "    <tr>\n",
       "      <th>3</th>\n",
       "      <td>14429</td>\n",
       "      <td>7605</td>\n",
       "      <td>350</td>\n",
       "      <td>2019-01-04 07:20:00</td>\n",
       "      <td>2019-01-04 09:35:00</td>\n",
       "      <td>1</td>\n",
       "      <td>I</td>\n",
       "      <td>238.168072</td>\n",
       "      <td>0.29</td>\n",
       "      <td>2019-01-03 14:26:15</td>\n",
       "      <td>...</td>\n",
       "      <td>Hainan Airlines</td>\n",
       "      <td>1</td>\n",
       "      <td>0</td>\n",
       "      <td>1</td>\n",
       "      <td>2019-01-04</td>\n",
       "      <td>0.145669</td>\n",
       "      <td>07:20:00</td>\n",
       "      <td>7</td>\n",
       "      <td>Early Morning</td>\n",
       "      <td>Bussiness_Class</td>\n",
       "    </tr>\n",
       "    <tr>\n",
       "      <th>4</th>\n",
       "      <td>14431</td>\n",
       "      <td>7605</td>\n",
       "      <td>350</td>\n",
       "      <td>2019-01-04 07:20:00</td>\n",
       "      <td>2019-01-04 09:35:00</td>\n",
       "      <td>1</td>\n",
       "      <td>I</td>\n",
       "      <td>238.896415</td>\n",
       "      <td>0.29</td>\n",
       "      <td>2019-01-03 14:26:15</td>\n",
       "      <td>...</td>\n",
       "      <td>Hainan Airlines</td>\n",
       "      <td>1</td>\n",
       "      <td>0</td>\n",
       "      <td>1</td>\n",
       "      <td>2019-01-04</td>\n",
       "      <td>0.145669</td>\n",
       "      <td>07:20:00</td>\n",
       "      <td>7</td>\n",
       "      <td>Early Morning</td>\n",
       "      <td>Bussiness_Class</td>\n",
       "    </tr>\n",
       "  </tbody>\n",
       "</table>\n",
       "<p>5 rows × 25 columns</p>\n",
       "</div>"
      ],
      "text/plain": [
       "      ID  flightNumber craftTypeCode       departureDate         arrivalDate  \\\n",
       "0  14393          1252           320 2019-01-04 06:35:00 2019-01-04 08:55:00   \n",
       "1  14409          5138           33L 2019-01-04 07:00:00 2019-01-04 09:15:00   \n",
       "2  14415          5138           33L 2019-01-04 07:00:00 2019-01-04 09:15:00   \n",
       "3  14429          7605           350 2019-01-04 07:20:00 2019-01-04 09:35:00   \n",
       "4  14431          7605           350 2019-01-04 07:20:00 2019-01-04 09:35:00   \n",
       "\n",
       "   cabinClass priceClass       price  rate          createDate  ...  \\\n",
       "0           1          C  270.943495  1.00 2019-01-03 14:26:15  ...   \n",
       "1           1          I  238.896415  0.31 2019-01-03 14:26:15  ...   \n",
       "2           1          J  780.783405  1.00 2019-01-03 14:26:15  ...   \n",
       "3           1          I  238.168072  0.29 2019-01-03 14:26:15  ...   \n",
       "4           1          I  238.896415  0.29 2019-01-03 14:26:15  ...   \n",
       "\n",
       "                  airline  arrAirport_SHA  depAirport_SHA  holiday  \\\n",
       "0        Juneyao Airlines               1               0        1   \n",
       "1  China Eastern Airlines               1               0        1   \n",
       "2  China Eastern Airlines               1               0        1   \n",
       "3         Hainan Airlines               1               0        1   \n",
       "4         Hainan Airlines               1               0        1   \n",
       "\n",
       "   just_departureDate exc_rateC-U  departureDate_tod  departureDate_hod  \\\n",
       "0          2019-01-04    0.145669           06:35:00                  6   \n",
       "1          2019-01-04    0.145669           07:00:00                  7   \n",
       "2          2019-01-04    0.145669           07:00:00                  7   \n",
       "3          2019-01-04    0.145669           07:20:00                  7   \n",
       "4          2019-01-04    0.145669           07:20:00                  7   \n",
       "\n",
       "   departureDate_pod  cabinClass_type  \n",
       "0      Early Morning  Bussiness_Class  \n",
       "1      Early Morning  Bussiness_Class  \n",
       "2      Early Morning  Bussiness_Class  \n",
       "3      Early Morning  Bussiness_Class  \n",
       "4      Early Morning  Bussiness_Class  \n",
       "\n",
       "[5 rows x 25 columns]"
      ]
     },
     "execution_count": 201,
     "metadata": {},
     "output_type": "execute_result"
    }
   ],
   "source": [
    "df.head()"
   ]
  },
  {
   "cell_type": "code",
   "execution_count": 202,
   "metadata": {},
   "outputs": [
    {
     "data": {
      "text/html": [
       "<div>\n",
       "<style scoped>\n",
       "    .dataframe tbody tr th:only-of-type {\n",
       "        vertical-align: middle;\n",
       "    }\n",
       "\n",
       "    .dataframe tbody tr th {\n",
       "        vertical-align: top;\n",
       "    }\n",
       "\n",
       "    .dataframe thead th {\n",
       "        text-align: right;\n",
       "    }\n",
       "</style>\n",
       "<table border=\"1\" class=\"dataframe\">\n",
       "  <thead>\n",
       "    <tr style=\"text-align: right;\">\n",
       "      <th></th>\n",
       "      <th>Economy_Class</th>\n",
       "      <th>First_Class</th>\n",
       "    </tr>\n",
       "  </thead>\n",
       "  <tbody>\n",
       "    <tr>\n",
       "      <th>0</th>\n",
       "      <td>0</td>\n",
       "      <td>0</td>\n",
       "    </tr>\n",
       "    <tr>\n",
       "      <th>1</th>\n",
       "      <td>0</td>\n",
       "      <td>0</td>\n",
       "    </tr>\n",
       "    <tr>\n",
       "      <th>2</th>\n",
       "      <td>0</td>\n",
       "      <td>0</td>\n",
       "    </tr>\n",
       "    <tr>\n",
       "      <th>3</th>\n",
       "      <td>0</td>\n",
       "      <td>0</td>\n",
       "    </tr>\n",
       "    <tr>\n",
       "      <th>4</th>\n",
       "      <td>0</td>\n",
       "      <td>0</td>\n",
       "    </tr>\n",
       "  </tbody>\n",
       "</table>\n",
       "</div>"
      ],
      "text/plain": [
       "   Economy_Class  First_Class\n",
       "0              0            0\n",
       "1              0            0\n",
       "2              0            0\n",
       "3              0            0\n",
       "4              0            0"
      ]
     },
     "execution_count": 202,
     "metadata": {},
     "output_type": "execute_result"
    }
   ],
   "source": [
    "# make cabin class a dummy variable\n",
    "# make a dummie data frame of the cabin class\n",
    "dummies = pd.get_dummies(df['cabinClass_type'],drop_first=True)\n",
    "dummies.head()\n",
    "\n",
    "# combine the dummies and the df togther # uncomment line below\n",
    "#df = pd.concat([dummies,df],axis=1)\n"
   ]
  },
  {
   "cell_type": "code",
   "execution_count": 203,
   "metadata": {},
   "outputs": [],
   "source": [
    "df = pd.concat([pod_dummies,df],axis=1)"
   ]
  },
  {
   "cell_type": "code",
   "execution_count": 204,
   "metadata": {},
   "outputs": [],
   "source": [
    "df = pd.concat([airline_dummy,df],axis=1)"
   ]
  },
  {
   "cell_type": "code",
   "execution_count": 205,
   "metadata": {},
   "outputs": [],
   "source": [
    "df = pd.concat([dof_dummy,df],axis=1)"
   ]
  },
  {
   "cell_type": "code",
   "execution_count": 206,
   "metadata": {},
   "outputs": [
    {
     "data": {
      "text/html": [
       "<div>\n",
       "<style scoped>\n",
       "    .dataframe tbody tr th:only-of-type {\n",
       "        vertical-align: middle;\n",
       "    }\n",
       "\n",
       "    .dataframe tbody tr th {\n",
       "        vertical-align: top;\n",
       "    }\n",
       "\n",
       "    .dataframe thead th {\n",
       "        text-align: right;\n",
       "    }\n",
       "</style>\n",
       "<table border=\"1\" class=\"dataframe\">\n",
       "  <thead>\n",
       "    <tr style=\"text-align: right;\">\n",
       "      <th></th>\n",
       "      <th>Monday</th>\n",
       "      <th>Saturday</th>\n",
       "      <th>Sunday</th>\n",
       "      <th>Thursday</th>\n",
       "      <th>Tuesday</th>\n",
       "      <th>Wednesday</th>\n",
       "      <th>China Eastern Airlines</th>\n",
       "      <th>China Southern Airlines</th>\n",
       "      <th>Hainan Airlines</th>\n",
       "      <th>Juneyao Airlines</th>\n",
       "      <th>...</th>\n",
       "      <th>airline</th>\n",
       "      <th>arrAirport_SHA</th>\n",
       "      <th>depAirport_SHA</th>\n",
       "      <th>holiday</th>\n",
       "      <th>just_departureDate</th>\n",
       "      <th>exc_rateC-U</th>\n",
       "      <th>departureDate_tod</th>\n",
       "      <th>departureDate_hod</th>\n",
       "      <th>departureDate_pod</th>\n",
       "      <th>cabinClass_type</th>\n",
       "    </tr>\n",
       "  </thead>\n",
       "  <tbody>\n",
       "    <tr>\n",
       "      <th>0</th>\n",
       "      <td>0</td>\n",
       "      <td>0</td>\n",
       "      <td>0</td>\n",
       "      <td>0</td>\n",
       "      <td>0</td>\n",
       "      <td>0</td>\n",
       "      <td>0</td>\n",
       "      <td>0</td>\n",
       "      <td>0</td>\n",
       "      <td>1</td>\n",
       "      <td>...</td>\n",
       "      <td>Juneyao Airlines</td>\n",
       "      <td>1</td>\n",
       "      <td>0</td>\n",
       "      <td>1</td>\n",
       "      <td>2019-01-04</td>\n",
       "      <td>0.145669</td>\n",
       "      <td>06:35:00</td>\n",
       "      <td>6</td>\n",
       "      <td>Early Morning</td>\n",
       "      <td>Bussiness_Class</td>\n",
       "    </tr>\n",
       "    <tr>\n",
       "      <th>1</th>\n",
       "      <td>0</td>\n",
       "      <td>0</td>\n",
       "      <td>0</td>\n",
       "      <td>0</td>\n",
       "      <td>0</td>\n",
       "      <td>0</td>\n",
       "      <td>1</td>\n",
       "      <td>0</td>\n",
       "      <td>0</td>\n",
       "      <td>0</td>\n",
       "      <td>...</td>\n",
       "      <td>China Eastern Airlines</td>\n",
       "      <td>1</td>\n",
       "      <td>0</td>\n",
       "      <td>1</td>\n",
       "      <td>2019-01-04</td>\n",
       "      <td>0.145669</td>\n",
       "      <td>07:00:00</td>\n",
       "      <td>7</td>\n",
       "      <td>Early Morning</td>\n",
       "      <td>Bussiness_Class</td>\n",
       "    </tr>\n",
       "    <tr>\n",
       "      <th>2</th>\n",
       "      <td>0</td>\n",
       "      <td>0</td>\n",
       "      <td>0</td>\n",
       "      <td>0</td>\n",
       "      <td>0</td>\n",
       "      <td>0</td>\n",
       "      <td>1</td>\n",
       "      <td>0</td>\n",
       "      <td>0</td>\n",
       "      <td>0</td>\n",
       "      <td>...</td>\n",
       "      <td>China Eastern Airlines</td>\n",
       "      <td>1</td>\n",
       "      <td>0</td>\n",
       "      <td>1</td>\n",
       "      <td>2019-01-04</td>\n",
       "      <td>0.145669</td>\n",
       "      <td>07:00:00</td>\n",
       "      <td>7</td>\n",
       "      <td>Early Morning</td>\n",
       "      <td>Bussiness_Class</td>\n",
       "    </tr>\n",
       "    <tr>\n",
       "      <th>3</th>\n",
       "      <td>0</td>\n",
       "      <td>0</td>\n",
       "      <td>0</td>\n",
       "      <td>0</td>\n",
       "      <td>0</td>\n",
       "      <td>0</td>\n",
       "      <td>0</td>\n",
       "      <td>0</td>\n",
       "      <td>1</td>\n",
       "      <td>0</td>\n",
       "      <td>...</td>\n",
       "      <td>Hainan Airlines</td>\n",
       "      <td>1</td>\n",
       "      <td>0</td>\n",
       "      <td>1</td>\n",
       "      <td>2019-01-04</td>\n",
       "      <td>0.145669</td>\n",
       "      <td>07:20:00</td>\n",
       "      <td>7</td>\n",
       "      <td>Early Morning</td>\n",
       "      <td>Bussiness_Class</td>\n",
       "    </tr>\n",
       "    <tr>\n",
       "      <th>4</th>\n",
       "      <td>0</td>\n",
       "      <td>0</td>\n",
       "      <td>0</td>\n",
       "      <td>0</td>\n",
       "      <td>0</td>\n",
       "      <td>0</td>\n",
       "      <td>0</td>\n",
       "      <td>0</td>\n",
       "      <td>1</td>\n",
       "      <td>0</td>\n",
       "      <td>...</td>\n",
       "      <td>Hainan Airlines</td>\n",
       "      <td>1</td>\n",
       "      <td>0</td>\n",
       "      <td>1</td>\n",
       "      <td>2019-01-04</td>\n",
       "      <td>0.145669</td>\n",
       "      <td>07:20:00</td>\n",
       "      <td>7</td>\n",
       "      <td>Early Morning</td>\n",
       "      <td>Bussiness_Class</td>\n",
       "    </tr>\n",
       "  </tbody>\n",
       "</table>\n",
       "<p>5 rows × 41 columns</p>\n",
       "</div>"
      ],
      "text/plain": [
       "   Monday  Saturday  Sunday  Thursday  Tuesday  Wednesday  \\\n",
       "0       0         0       0         0        0          0   \n",
       "1       0         0       0         0        0          0   \n",
       "2       0         0       0         0        0          0   \n",
       "3       0         0       0         0        0          0   \n",
       "4       0         0       0         0        0          0   \n",
       "\n",
       "   China Eastern Airlines  China Southern Airlines  Hainan Airlines  \\\n",
       "0                       0                        0                0   \n",
       "1                       1                        0                0   \n",
       "2                       1                        0                0   \n",
       "3                       0                        0                1   \n",
       "4                       0                        0                1   \n",
       "\n",
       "   Juneyao Airlines  ...                 airline  arrAirport_SHA  \\\n",
       "0                 1  ...        Juneyao Airlines               1   \n",
       "1                 0  ...  China Eastern Airlines               1   \n",
       "2                 0  ...  China Eastern Airlines               1   \n",
       "3                 0  ...         Hainan Airlines               1   \n",
       "4                 0  ...         Hainan Airlines               1   \n",
       "\n",
       "   depAirport_SHA  holiday  just_departureDate  exc_rateC-U  \\\n",
       "0               0        1          2019-01-04     0.145669   \n",
       "1               0        1          2019-01-04     0.145669   \n",
       "2               0        1          2019-01-04     0.145669   \n",
       "3               0        1          2019-01-04     0.145669   \n",
       "4               0        1          2019-01-04     0.145669   \n",
       "\n",
       "   departureDate_tod  departureDate_hod departureDate_pod  cabinClass_type  \n",
       "0           06:35:00                  6     Early Morning  Bussiness_Class  \n",
       "1           07:00:00                  7     Early Morning  Bussiness_Class  \n",
       "2           07:00:00                  7     Early Morning  Bussiness_Class  \n",
       "3           07:20:00                  7     Early Morning  Bussiness_Class  \n",
       "4           07:20:00                  7     Early Morning  Bussiness_Class  \n",
       "\n",
       "[5 rows x 41 columns]"
      ]
     },
     "execution_count": 206,
     "metadata": {},
     "output_type": "execute_result"
    }
   ],
   "source": [
    "df.head()"
   ]
  },
  {
   "cell_type": "code",
   "execution_count": null,
   "metadata": {},
   "outputs": [],
   "source": []
  },
  {
   "cell_type": "code",
   "execution_count": 207,
   "metadata": {},
   "outputs": [
    {
     "data": {
      "text/html": [
       "<div>\n",
       "<style scoped>\n",
       "    .dataframe tbody tr th:only-of-type {\n",
       "        vertical-align: middle;\n",
       "    }\n",
       "\n",
       "    .dataframe tbody tr th {\n",
       "        vertical-align: top;\n",
       "    }\n",
       "\n",
       "    .dataframe thead th {\n",
       "        text-align: right;\n",
       "    }\n",
       "</style>\n",
       "<table border=\"1\" class=\"dataframe\">\n",
       "  <thead>\n",
       "    <tr style=\"text-align: right;\">\n",
       "      <th></th>\n",
       "      <th>Economy_Class</th>\n",
       "      <th>First_Class</th>\n",
       "    </tr>\n",
       "  </thead>\n",
       "  <tbody>\n",
       "    <tr>\n",
       "      <th>0</th>\n",
       "      <td>0</td>\n",
       "      <td>0</td>\n",
       "    </tr>\n",
       "    <tr>\n",
       "      <th>1</th>\n",
       "      <td>0</td>\n",
       "      <td>0</td>\n",
       "    </tr>\n",
       "    <tr>\n",
       "      <th>2</th>\n",
       "      <td>0</td>\n",
       "      <td>0</td>\n",
       "    </tr>\n",
       "    <tr>\n",
       "      <th>3</th>\n",
       "      <td>0</td>\n",
       "      <td>0</td>\n",
       "    </tr>\n",
       "    <tr>\n",
       "      <th>4</th>\n",
       "      <td>0</td>\n",
       "      <td>0</td>\n",
       "    </tr>\n",
       "  </tbody>\n",
       "</table>\n",
       "</div>"
      ],
      "text/plain": [
       "   Economy_Class  First_Class\n",
       "0              0            0\n",
       "1              0            0\n",
       "2              0            0\n",
       "3              0            0\n",
       "4              0            0"
      ]
     },
     "execution_count": 207,
     "metadata": {},
     "output_type": "execute_result"
    }
   ],
   "source": [
    "# make a dummie data frame of the cabin class\n",
    "dummies = pd.get_dummies(df['cabinClass_type'],drop_first=True)\n",
    "dummies.head()"
   ]
  },
  {
   "cell_type": "markdown",
   "metadata": {},
   "source": [
    "# Unmark the cell below Maybe"
   ]
  },
  {
   "cell_type": "code",
   "execution_count": 208,
   "metadata": {},
   "outputs": [],
   "source": [
    "# combine the dummies and the df togther\n",
    "df = pd.concat([dummies,df],axis=1)"
   ]
  },
  {
   "cell_type": "code",
   "execution_count": null,
   "metadata": {},
   "outputs": [],
   "source": []
  },
  {
   "cell_type": "code",
   "execution_count": null,
   "metadata": {},
   "outputs": [],
   "source": []
  },
  {
   "cell_type": "code",
   "execution_count": null,
   "metadata": {},
   "outputs": [],
   "source": []
  },
  {
   "cell_type": "code",
   "execution_count": 209,
   "metadata": {},
   "outputs": [],
   "source": [
    "# make a new dataframe same as the old one\n",
    "pdf = df"
   ]
  },
  {
   "cell_type": "code",
   "execution_count": 210,
   "metadata": {},
   "outputs": [
    {
     "data": {
      "text/plain": [
       "Index(['Economy_Class', 'First_Class', 'Monday', 'Saturday', 'Sunday',\n",
       "       'Thursday', 'Tuesday', 'Wednesday', 'China Eastern Airlines',\n",
       "       'China Southern Airlines', 'Hainan Airlines', 'Juneyao Airlines',\n",
       "       'Shanghai Airlines', 'Xiamen Air', 'Eve', 'Morning', 'Night', 'Noon',\n",
       "       'ID', 'flightNumber', 'craftTypeCode', 'departureDate', 'arrivalDate',\n",
       "       'cabinClass', 'priceClass', 'price', 'rate', 'createDate',\n",
       "       'dateDifference', 'departureDate_dofweek', 'arrivalDate_dofweek',\n",
       "       'createDate_dofweek', 'pricePaid', 'airline', 'arrAirport_SHA',\n",
       "       'depAirport_SHA', 'holiday', 'just_departureDate', 'exc_rateC-U',\n",
       "       'departureDate_tod', 'departureDate_hod', 'departureDate_pod',\n",
       "       'cabinClass_type'],\n",
       "      dtype='object')"
      ]
     },
     "execution_count": 210,
     "metadata": {},
     "output_type": "execute_result"
    }
   ],
   "source": [
    "# check columns\n",
    "pdf.columns"
   ]
  },
  {
   "cell_type": "code",
   "execution_count": 211,
   "metadata": {},
   "outputs": [],
   "source": [
    "# Drop unneeded columns\n",
    "pdf = pdf.drop(['craftTypeCode','priceClass','just_departureDate','ID','airline',\n",
    "                'departureDate_pod','departureDate','arrivalDate','departureDate_tod',\n",
    "                'createDate','departureDate_pod','cabinClass_type'],axis=1)\n"
   ]
  },
  {
   "cell_type": "code",
   "execution_count": 212,
   "metadata": {},
   "outputs": [
    {
     "data": {
      "text/plain": [
       "Economy_Class                uint8\n",
       "First_Class                  uint8\n",
       "Monday                       uint8\n",
       "Saturday                     uint8\n",
       "Sunday                       uint8\n",
       "Thursday                     uint8\n",
       "Tuesday                      uint8\n",
       "Wednesday                    uint8\n",
       "China Eastern Airlines       uint8\n",
       "China Southern Airlines      uint8\n",
       "Hainan Airlines              uint8\n",
       "Juneyao Airlines             uint8\n",
       "Shanghai Airlines            uint8\n",
       "Xiamen Air                   uint8\n",
       "Eve                          uint8\n",
       "Morning                      uint8\n",
       "Night                        uint8\n",
       "Noon                         uint8\n",
       "flightNumber                 int64\n",
       "cabinClass                   int64\n",
       "price                      float64\n",
       "rate                       float64\n",
       "dateDifference               int64\n",
       "departureDate_dofweek        int64\n",
       "arrivalDate_dofweek          int64\n",
       "createDate_dofweek           int64\n",
       "pricePaid                  float64\n",
       "arrAirport_SHA               uint8\n",
       "depAirport_SHA               uint8\n",
       "holiday                      int64\n",
       "exc_rateC-U                float64\n",
       "departureDate_hod            int64\n",
       "dtype: object"
      ]
     },
     "execution_count": 212,
     "metadata": {},
     "output_type": "execute_result"
    }
   ],
   "source": [
    "# Check the data types of each columns\n",
    "pdf.dtypes"
   ]
  },
  {
   "cell_type": "code",
   "execution_count": null,
   "metadata": {},
   "outputs": [],
   "source": []
  },
  {
   "cell_type": "code",
   "execution_count": null,
   "metadata": {},
   "outputs": [],
   "source": []
  },
  {
   "cell_type": "code",
   "execution_count": 213,
   "metadata": {},
   "outputs": [
    {
     "data": {
      "text/html": [
       "<div>\n",
       "<style scoped>\n",
       "    .dataframe tbody tr th:only-of-type {\n",
       "        vertical-align: middle;\n",
       "    }\n",
       "\n",
       "    .dataframe tbody tr th {\n",
       "        vertical-align: top;\n",
       "    }\n",
       "\n",
       "    .dataframe thead th {\n",
       "        text-align: right;\n",
       "    }\n",
       "</style>\n",
       "<table border=\"1\" class=\"dataframe\">\n",
       "  <thead>\n",
       "    <tr style=\"text-align: right;\">\n",
       "      <th></th>\n",
       "      <th>Economy_Class</th>\n",
       "      <th>First_Class</th>\n",
       "      <th>Monday</th>\n",
       "      <th>Saturday</th>\n",
       "      <th>Sunday</th>\n",
       "      <th>Thursday</th>\n",
       "      <th>Tuesday</th>\n",
       "      <th>Wednesday</th>\n",
       "      <th>China Eastern Airlines</th>\n",
       "      <th>China Southern Airlines</th>\n",
       "      <th>...</th>\n",
       "      <th>dateDifference</th>\n",
       "      <th>departureDate_dofweek</th>\n",
       "      <th>arrivalDate_dofweek</th>\n",
       "      <th>createDate_dofweek</th>\n",
       "      <th>pricePaid</th>\n",
       "      <th>arrAirport_SHA</th>\n",
       "      <th>depAirport_SHA</th>\n",
       "      <th>holiday</th>\n",
       "      <th>exc_rateC-U</th>\n",
       "      <th>departureDate_hod</th>\n",
       "    </tr>\n",
       "  </thead>\n",
       "  <tbody>\n",
       "    <tr>\n",
       "      <th>0</th>\n",
       "      <td>0</td>\n",
       "      <td>0</td>\n",
       "      <td>0</td>\n",
       "      <td>0</td>\n",
       "      <td>0</td>\n",
       "      <td>0</td>\n",
       "      <td>0</td>\n",
       "      <td>0</td>\n",
       "      <td>0</td>\n",
       "      <td>0</td>\n",
       "      <td>...</td>\n",
       "      <td>1</td>\n",
       "      <td>4</td>\n",
       "      <td>4</td>\n",
       "      <td>3</td>\n",
       "      <td>270.943495</td>\n",
       "      <td>1</td>\n",
       "      <td>0</td>\n",
       "      <td>1</td>\n",
       "      <td>0.145669</td>\n",
       "      <td>6</td>\n",
       "    </tr>\n",
       "    <tr>\n",
       "      <th>1</th>\n",
       "      <td>0</td>\n",
       "      <td>0</td>\n",
       "      <td>0</td>\n",
       "      <td>0</td>\n",
       "      <td>0</td>\n",
       "      <td>0</td>\n",
       "      <td>0</td>\n",
       "      <td>0</td>\n",
       "      <td>1</td>\n",
       "      <td>0</td>\n",
       "      <td>...</td>\n",
       "      <td>1</td>\n",
       "      <td>4</td>\n",
       "      <td>4</td>\n",
       "      <td>3</td>\n",
       "      <td>74.057889</td>\n",
       "      <td>1</td>\n",
       "      <td>0</td>\n",
       "      <td>1</td>\n",
       "      <td>0.145669</td>\n",
       "      <td>7</td>\n",
       "    </tr>\n",
       "    <tr>\n",
       "      <th>2</th>\n",
       "      <td>0</td>\n",
       "      <td>0</td>\n",
       "      <td>0</td>\n",
       "      <td>0</td>\n",
       "      <td>0</td>\n",
       "      <td>0</td>\n",
       "      <td>0</td>\n",
       "      <td>0</td>\n",
       "      <td>1</td>\n",
       "      <td>0</td>\n",
       "      <td>...</td>\n",
       "      <td>1</td>\n",
       "      <td>4</td>\n",
       "      <td>4</td>\n",
       "      <td>3</td>\n",
       "      <td>780.783405</td>\n",
       "      <td>1</td>\n",
       "      <td>0</td>\n",
       "      <td>1</td>\n",
       "      <td>0.145669</td>\n",
       "      <td>7</td>\n",
       "    </tr>\n",
       "    <tr>\n",
       "      <th>3</th>\n",
       "      <td>0</td>\n",
       "      <td>0</td>\n",
       "      <td>0</td>\n",
       "      <td>0</td>\n",
       "      <td>0</td>\n",
       "      <td>0</td>\n",
       "      <td>0</td>\n",
       "      <td>0</td>\n",
       "      <td>0</td>\n",
       "      <td>0</td>\n",
       "      <td>...</td>\n",
       "      <td>1</td>\n",
       "      <td>4</td>\n",
       "      <td>4</td>\n",
       "      <td>3</td>\n",
       "      <td>69.068741</td>\n",
       "      <td>1</td>\n",
       "      <td>0</td>\n",
       "      <td>1</td>\n",
       "      <td>0.145669</td>\n",
       "      <td>7</td>\n",
       "    </tr>\n",
       "    <tr>\n",
       "      <th>4</th>\n",
       "      <td>0</td>\n",
       "      <td>0</td>\n",
       "      <td>0</td>\n",
       "      <td>0</td>\n",
       "      <td>0</td>\n",
       "      <td>0</td>\n",
       "      <td>0</td>\n",
       "      <td>0</td>\n",
       "      <td>0</td>\n",
       "      <td>0</td>\n",
       "      <td>...</td>\n",
       "      <td>1</td>\n",
       "      <td>4</td>\n",
       "      <td>4</td>\n",
       "      <td>3</td>\n",
       "      <td>69.279960</td>\n",
       "      <td>1</td>\n",
       "      <td>0</td>\n",
       "      <td>1</td>\n",
       "      <td>0.145669</td>\n",
       "      <td>7</td>\n",
       "    </tr>\n",
       "  </tbody>\n",
       "</table>\n",
       "<p>5 rows × 32 columns</p>\n",
       "</div>"
      ],
      "text/plain": [
       "   Economy_Class  First_Class  Monday  Saturday  Sunday  Thursday  Tuesday  \\\n",
       "0              0            0       0         0       0         0        0   \n",
       "1              0            0       0         0       0         0        0   \n",
       "2              0            0       0         0       0         0        0   \n",
       "3              0            0       0         0       0         0        0   \n",
       "4              0            0       0         0       0         0        0   \n",
       "\n",
       "   Wednesday  China Eastern Airlines  China Southern Airlines  ...  \\\n",
       "0          0                       0                        0  ...   \n",
       "1          0                       1                        0  ...   \n",
       "2          0                       1                        0  ...   \n",
       "3          0                       0                        0  ...   \n",
       "4          0                       0                        0  ...   \n",
       "\n",
       "   dateDifference  departureDate_dofweek  arrivalDate_dofweek  \\\n",
       "0               1                      4                    4   \n",
       "1               1                      4                    4   \n",
       "2               1                      4                    4   \n",
       "3               1                      4                    4   \n",
       "4               1                      4                    4   \n",
       "\n",
       "   createDate_dofweek   pricePaid  arrAirport_SHA  depAirport_SHA  holiday  \\\n",
       "0                   3  270.943495               1               0        1   \n",
       "1                   3   74.057889               1               0        1   \n",
       "2                   3  780.783405               1               0        1   \n",
       "3                   3   69.068741               1               0        1   \n",
       "4                   3   69.279960               1               0        1   \n",
       "\n",
       "   exc_rateC-U  departureDate_hod  \n",
       "0     0.145669                  6  \n",
       "1     0.145669                  7  \n",
       "2     0.145669                  7  \n",
       "3     0.145669                  7  \n",
       "4     0.145669                  7  \n",
       "\n",
       "[5 rows x 32 columns]"
      ]
     },
     "execution_count": 213,
     "metadata": {},
     "output_type": "execute_result"
    }
   ],
   "source": [
    "# drop the outliers with Z scores\n",
    "# use scipy to drop outliers over 2.5,  or 3\n",
    "pdf.head()"
   ]
  },
  {
   "cell_type": "code",
   "execution_count": 214,
   "metadata": {},
   "outputs": [],
   "source": [
    "# import needed library\n",
    "from scipy.stats import zscore\n"
   ]
  },
  {
   "cell_type": "code",
   "execution_count": 215,
   "metadata": {},
   "outputs": [],
   "source": [
    "# drop the outliers with standard scalar\n",
    "# use scipy to drop outliers over 2.5,  or 3\n",
    "\n",
    "# This is returning and array, but we want a dataframe\n",
    "z_scores_df =  zscore(pdf)"
   ]
  },
  {
   "cell_type": "code",
   "execution_count": 216,
   "metadata": {},
   "outputs": [],
   "source": [
    "# Turn this array into a dataframe and make the columns the same as the pdf columns\n",
    "z_scores_df = pd.DataFrame(z_scores_df, columns=pdf.columns)"
   ]
  },
  {
   "cell_type": "code",
   "execution_count": 217,
   "metadata": {},
   "outputs": [],
   "source": [
    "# Filter out any zscores over an absolute value of 3\n",
    "z_scores_df = z_scores_df[(np.abs(z_scores_df)<=3)]"
   ]
  },
  {
   "cell_type": "code",
   "execution_count": 218,
   "metadata": {},
   "outputs": [],
   "source": [
    "# take the non outliers from the z_score_df and make a no outliers df using the index of the columns\n",
    "no_out_df = pdf.iloc[z_scores_df.index]\n"
   ]
  },
  {
   "cell_type": "code",
   "execution_count": 219,
   "metadata": {},
   "outputs": [],
   "source": [
    "# order the dataframe by index\n",
    "no_out_df = no_out_df.sort_index(ascending=True)"
   ]
  },
  {
   "cell_type": "code",
   "execution_count": 220,
   "metadata": {},
   "outputs": [
    {
     "data": {
      "text/plain": [
       "(568917, 32)"
      ]
     },
     "execution_count": 220,
     "metadata": {},
     "output_type": "execute_result"
    }
   ],
   "source": [
    "# check to see if everything worked\n",
    "no_out_df.shape\n",
    "# there were no outliers in my data"
   ]
  },
  {
   "cell_type": "code",
   "execution_count": 221,
   "metadata": {},
   "outputs": [
    {
     "data": {
      "text/plain": [
       "Index(['Economy_Class', 'First_Class', 'Monday', 'Saturday', 'Sunday',\n",
       "       'Thursday', 'Tuesday', 'Wednesday', 'China Eastern Airlines',\n",
       "       'China Southern Airlines', 'Hainan Airlines', 'Juneyao Airlines',\n",
       "       'Shanghai Airlines', 'Xiamen Air', 'Eve', 'Morning', 'Night', 'Noon',\n",
       "       'flightNumber', 'cabinClass', 'price', 'rate', 'dateDifference',\n",
       "       'departureDate_dofweek', 'arrivalDate_dofweek', 'createDate_dofweek',\n",
       "       'pricePaid', 'arrAirport_SHA', 'depAirport_SHA', 'holiday',\n",
       "       'exc_rateC-U', 'departureDate_hod'],\n",
       "      dtype='object')"
      ]
     },
     "execution_count": 221,
     "metadata": {},
     "output_type": "execute_result"
    }
   ],
   "source": [
    "no_out_df.columns"
   ]
  },
  {
   "cell_type": "code",
   "execution_count": null,
   "metadata": {},
   "outputs": [],
   "source": []
  },
  {
   "cell_type": "code",
   "execution_count": null,
   "metadata": {},
   "outputs": [],
   "source": [
    "# see the avg cost of ticket by part of day"
   ]
  },
  {
   "cell_type": "code",
   "execution_count": 222,
   "metadata": {},
   "outputs": [],
   "source": [
    "# groupby part of day and get the mean price\n",
    "phases = df.groupby('departureDate_pod').agg({'price':'mean'})"
   ]
  },
  {
   "cell_type": "code",
   "execution_count": 223,
   "metadata": {},
   "outputs": [
    {
     "data": {
      "text/html": [
       "<div>\n",
       "<style scoped>\n",
       "    .dataframe tbody tr th:only-of-type {\n",
       "        vertical-align: middle;\n",
       "    }\n",
       "\n",
       "    .dataframe tbody tr th {\n",
       "        vertical-align: top;\n",
       "    }\n",
       "\n",
       "    .dataframe thead th {\n",
       "        text-align: right;\n",
       "    }\n",
       "</style>\n",
       "<table border=\"1\" class=\"dataframe\">\n",
       "  <thead>\n",
       "    <tr style=\"text-align: right;\">\n",
       "      <th></th>\n",
       "      <th>price</th>\n",
       "    </tr>\n",
       "    <tr>\n",
       "      <th>departureDate_pod</th>\n",
       "      <th></th>\n",
       "    </tr>\n",
       "  </thead>\n",
       "  <tbody>\n",
       "    <tr>\n",
       "      <th>Early Morning</th>\n",
       "      <td>303.611940</td>\n",
       "    </tr>\n",
       "    <tr>\n",
       "      <th>Eve</th>\n",
       "      <td>340.825892</td>\n",
       "    </tr>\n",
       "    <tr>\n",
       "      <th>Morning</th>\n",
       "      <td>324.480753</td>\n",
       "    </tr>\n",
       "    <tr>\n",
       "      <th>Night</th>\n",
       "      <td>270.287415</td>\n",
       "    </tr>\n",
       "    <tr>\n",
       "      <th>Noon</th>\n",
       "      <td>346.402416</td>\n",
       "    </tr>\n",
       "  </tbody>\n",
       "</table>\n",
       "</div>"
      ],
      "text/plain": [
       "                        price\n",
       "departureDate_pod            \n",
       "Early Morning      303.611940\n",
       "Eve                340.825892\n",
       "Morning            324.480753\n",
       "Night              270.287415\n",
       "Noon               346.402416"
      ]
     },
     "execution_count": 223,
     "metadata": {},
     "output_type": "execute_result"
    }
   ],
   "source": [
    "phases"
   ]
  },
  {
   "cell_type": "code",
   "execution_count": 224,
   "metadata": {},
   "outputs": [
    {
     "data": {
      "image/png": "[encoded data removed]",
      "text/plain": [
       "<Figure size 432x288 with 1 Axes>"
      ]
     },
     "metadata": {
      "needs_background": "light"
     },
     "output_type": "display_data"
    }
   ],
   "source": [
    "# plot the values \n",
    "sns.lineplot(phases.index, phases['price']);\n",
    "plt.title('Mean Ticket Price by Part of Day');\n"
   ]
  },
  {
   "cell_type": "code",
   "execution_count": 225,
   "metadata": {},
   "outputs": [],
   "source": [
    "hourly_avgs = pdf.groupby(['departureDate_hod','cabinClass']).agg({'price':'mean'}).reset_index()"
   ]
  },
  {
   "cell_type": "code",
   "execution_count": 228,
   "metadata": {},
   "outputs": [
    {
     "data": {
      "text/html": [
       "<div>\n",
       "<style scoped>\n",
       "    .dataframe tbody tr th:only-of-type {\n",
       "        vertical-align: middle;\n",
       "    }\n",
       "\n",
       "    .dataframe tbody tr th {\n",
       "        vertical-align: top;\n",
       "    }\n",
       "\n",
       "    .dataframe thead th {\n",
       "        text-align: right;\n",
       "    }\n",
       "</style>\n",
       "<table border=\"1\" class=\"dataframe\">\n",
       "  <thead>\n",
       "    <tr style=\"text-align: right;\">\n",
       "      <th></th>\n",
       "      <th>departureDate_hod</th>\n",
       "      <th>cabinClass</th>\n",
       "      <th>price</th>\n",
       "    </tr>\n",
       "  </thead>\n",
       "  <tbody>\n",
       "    <tr>\n",
       "      <th>0</th>\n",
       "      <td>6</td>\n",
       "      <td>0</td>\n",
       "      <td>108.585469</td>\n",
       "    </tr>\n",
       "    <tr>\n",
       "      <th>1</th>\n",
       "      <td>6</td>\n",
       "      <td>1</td>\n",
       "      <td>300.270596</td>\n",
       "    </tr>\n",
       "    <tr>\n",
       "      <th>2</th>\n",
       "      <td>6</td>\n",
       "      <td>2</td>\n",
       "      <td>357.111761</td>\n",
       "    </tr>\n",
       "    <tr>\n",
       "      <th>3</th>\n",
       "      <td>7</td>\n",
       "      <td>0</td>\n",
       "      <td>155.126941</td>\n",
       "    </tr>\n",
       "    <tr>\n",
       "      <th>4</th>\n",
       "      <td>7</td>\n",
       "      <td>1</td>\n",
       "      <td>559.830158</td>\n",
       "    </tr>\n",
       "  </tbody>\n",
       "</table>\n",
       "</div>"
      ],
      "text/plain": [
       "   departureDate_hod  cabinClass       price\n",
       "0                  6           0  108.585469\n",
       "1                  6           1  300.270596\n",
       "2                  6           2  357.111761\n",
       "3                  7           0  155.126941\n",
       "4                  7           1  559.830158"
      ]
     },
     "execution_count": 228,
     "metadata": {},
     "output_type": "execute_result"
    }
   ],
   "source": [
    "hourly_avgs.head()"
   ]
  },
  {
   "cell_type": "code",
   "execution_count": 378,
   "metadata": {},
   "outputs": [
    {
     "data": {
      "image/png": "[encoded data removed]",
      "text/plain": [
       "<Figure size 432x288 with 1 Axes>"
      ]
     },
     "metadata": {
      "needs_background": "light"
     },
     "output_type": "display_data"
    }
   ],
   "source": [
    "sns.barplot(x=hourly_avgs['cabinClass'],y=hourly_avgs['price']);\n",
    "plt.title('Avg Ticket Cost By Cabin Class ');\n",
    "# not correct visual"
   ]
  },
  {
   "cell_type": "code",
   "execution_count": null,
   "metadata": {},
   "outputs": [],
   "source": []
  },
  {
   "cell_type": "code",
   "execution_count": null,
   "metadata": {},
   "outputs": [],
   "source": []
  },
  {
   "cell_type": "code",
   "execution_count": null,
   "metadata": {},
   "outputs": [],
   "source": []
  },
  {
   "cell_type": "code",
   "execution_count": null,
   "metadata": {},
   "outputs": [],
   "source": []
  },
  {
   "cell_type": "code",
   "execution_count": null,
   "metadata": {},
   "outputs": [],
   "source": []
  },
  {
   "cell_type": "code",
   "execution_count": 230,
   "metadata": {},
   "outputs": [
    {
     "data": {
      "text/plain": [
       "Index(['Economy_Class', 'First_Class', 'Monday', 'Saturday', 'Sunday',\n",
       "       'Thursday', 'Tuesday', 'Wednesday', 'China Eastern Airlines',\n",
       "       'China Southern Airlines', 'Hainan Airlines', 'Juneyao Airlines',\n",
       "       'Shanghai Airlines', 'Xiamen Air', 'Eve', 'Morning', 'Night', 'Noon',\n",
       "       'flightNumber', 'cabinClass', 'price', 'rate', 'dateDifference',\n",
       "       'departureDate_dofweek', 'arrivalDate_dofweek', 'createDate_dofweek',\n",
       "       'pricePaid', 'arrAirport_SHA', 'depAirport_SHA', 'holiday',\n",
       "       'exc_rateC-U', 'departureDate_hod'],\n",
       "      dtype='object')"
      ]
     },
     "execution_count": 230,
     "metadata": {},
     "output_type": "execute_result"
    }
   ],
   "source": [
    "no_out_df.columns"
   ]
  },
  {
   "cell_type": "markdown",
   "metadata": {},
   "source": [
    "# Modeling"
   ]
  },
  {
   "cell_type": "markdown",
   "metadata": {},
   "source": [
    "### Make sure to Cross Validate All models"
   ]
  },
  {
   "cell_type": "markdown",
   "metadata": {},
   "source": [
    "### Make a train, test, and validation data set\n",
    "## change from no_out_df to df"
   ]
  },
  {
   "cell_type": "code",
   "execution_count": 245,
   "metadata": {},
   "outputs": [],
   "source": [
    "# make a target variable\n",
    "y2 = no_out_df['price']\n",
    "#make feature variables\n",
    "X2 = no_out_df.drop(['price','pricePaid','flightNumber','exc_rateC-U','cabinClass','departureDate_hod',\n",
    "                    'departureDate_dofweek', 'arrivalDate_dofweek', 'createDate_dofweek','rate'],axis=1)"
   ]
  },
  {
   "cell_type": "code",
   "execution_count": 246,
   "metadata": {},
   "outputs": [],
   "source": [
    "# get training and test data using train test split\n",
    "X_train2, X_test2, y_train2,y_test2 = train_test_split(X2,y2,test_size=.2,random_state=1)"
   ]
  },
  {
   "cell_type": "code",
   "execution_count": 247,
   "metadata": {},
   "outputs": [],
   "source": [
    "# make a validation set\n",
    "X_train2,X_val2,y_train2,y_val2 = train_test_split(X_train2,y_train2,test_size=.2,random_state=1)"
   ]
  },
  {
   "cell_type": "code",
   "execution_count": 248,
   "metadata": {},
   "outputs": [],
   "source": [
    "# make sure to cross validate all the Models"
   ]
  },
  {
   "cell_type": "code",
   "execution_count": 249,
   "metadata": {},
   "outputs": [
    {
     "data": {
      "text/plain": [
       "Economy_Class              uint8\n",
       "First_Class                uint8\n",
       "Monday                     uint8\n",
       "Saturday                   uint8\n",
       "Sunday                     uint8\n",
       "Thursday                   uint8\n",
       "Tuesday                    uint8\n",
       "Wednesday                  uint8\n",
       "China Eastern Airlines     uint8\n",
       "China Southern Airlines    uint8\n",
       "Hainan Airlines            uint8\n",
       "Juneyao Airlines           uint8\n",
       "Shanghai Airlines          uint8\n",
       "Xiamen Air                 uint8\n",
       "Eve                        uint8\n",
       "Morning                    uint8\n",
       "Night                      uint8\n",
       "Noon                       uint8\n",
       "dateDifference             int64\n",
       "arrAirport_SHA             uint8\n",
       "depAirport_SHA             uint8\n",
       "holiday                    int64\n",
       "dtype: object"
      ]
     },
     "execution_count": 249,
     "metadata": {},
     "output_type": "execute_result"
    }
   ],
   "source": [
    "X_train2.dtypes"
   ]
  },
  {
   "cell_type": "code",
   "execution_count": 250,
   "metadata": {},
   "outputs": [
    {
     "data": {
      "text/html": [
       "<div>\n",
       "<style scoped>\n",
       "    .dataframe tbody tr th:only-of-type {\n",
       "        vertical-align: middle;\n",
       "    }\n",
       "\n",
       "    .dataframe tbody tr th {\n",
       "        vertical-align: top;\n",
       "    }\n",
       "\n",
       "    .dataframe thead th {\n",
       "        text-align: right;\n",
       "    }\n",
       "</style>\n",
       "<table border=\"1\" class=\"dataframe\">\n",
       "  <thead>\n",
       "    <tr style=\"text-align: right;\">\n",
       "      <th></th>\n",
       "      <th>Economy_Class</th>\n",
       "      <th>First_Class</th>\n",
       "      <th>Monday</th>\n",
       "      <th>Saturday</th>\n",
       "      <th>Sunday</th>\n",
       "      <th>Thursday</th>\n",
       "      <th>Tuesday</th>\n",
       "      <th>Wednesday</th>\n",
       "      <th>China Eastern Airlines</th>\n",
       "      <th>China Southern Airlines</th>\n",
       "      <th>...</th>\n",
       "      <th>Shanghai Airlines</th>\n",
       "      <th>Xiamen Air</th>\n",
       "      <th>Eve</th>\n",
       "      <th>Morning</th>\n",
       "      <th>Night</th>\n",
       "      <th>Noon</th>\n",
       "      <th>dateDifference</th>\n",
       "      <th>arrAirport_SHA</th>\n",
       "      <th>depAirport_SHA</th>\n",
       "      <th>holiday</th>\n",
       "    </tr>\n",
       "  </thead>\n",
       "  <tbody>\n",
       "    <tr>\n",
       "      <th>275304</th>\n",
       "      <td>0</td>\n",
       "      <td>1</td>\n",
       "      <td>0</td>\n",
       "      <td>0</td>\n",
       "      <td>0</td>\n",
       "      <td>0</td>\n",
       "      <td>0</td>\n",
       "      <td>0</td>\n",
       "      <td>0</td>\n",
       "      <td>0</td>\n",
       "      <td>...</td>\n",
       "      <td>0</td>\n",
       "      <td>0</td>\n",
       "      <td>0</td>\n",
       "      <td>0</td>\n",
       "      <td>0</td>\n",
       "      <td>1</td>\n",
       "      <td>7</td>\n",
       "      <td>0</td>\n",
       "      <td>1</td>\n",
       "      <td>0</td>\n",
       "    </tr>\n",
       "    <tr>\n",
       "      <th>76286</th>\n",
       "      <td>1</td>\n",
       "      <td>0</td>\n",
       "      <td>0</td>\n",
       "      <td>0</td>\n",
       "      <td>0</td>\n",
       "      <td>0</td>\n",
       "      <td>1</td>\n",
       "      <td>0</td>\n",
       "      <td>0</td>\n",
       "      <td>0</td>\n",
       "      <td>...</td>\n",
       "      <td>0</td>\n",
       "      <td>0</td>\n",
       "      <td>0</td>\n",
       "      <td>0</td>\n",
       "      <td>0</td>\n",
       "      <td>0</td>\n",
       "      <td>6</td>\n",
       "      <td>1</td>\n",
       "      <td>0</td>\n",
       "      <td>0</td>\n",
       "    </tr>\n",
       "    <tr>\n",
       "      <th>514158</th>\n",
       "      <td>0</td>\n",
       "      <td>0</td>\n",
       "      <td>1</td>\n",
       "      <td>0</td>\n",
       "      <td>0</td>\n",
       "      <td>0</td>\n",
       "      <td>0</td>\n",
       "      <td>0</td>\n",
       "      <td>0</td>\n",
       "      <td>0</td>\n",
       "      <td>...</td>\n",
       "      <td>0</td>\n",
       "      <td>0</td>\n",
       "      <td>0</td>\n",
       "      <td>0</td>\n",
       "      <td>0</td>\n",
       "      <td>0</td>\n",
       "      <td>2</td>\n",
       "      <td>1</td>\n",
       "      <td>0</td>\n",
       "      <td>0</td>\n",
       "    </tr>\n",
       "    <tr>\n",
       "      <th>297430</th>\n",
       "      <td>1</td>\n",
       "      <td>0</td>\n",
       "      <td>0</td>\n",
       "      <td>0</td>\n",
       "      <td>0</td>\n",
       "      <td>1</td>\n",
       "      <td>0</td>\n",
       "      <td>0</td>\n",
       "      <td>0</td>\n",
       "      <td>0</td>\n",
       "      <td>...</td>\n",
       "      <td>1</td>\n",
       "      <td>0</td>\n",
       "      <td>0</td>\n",
       "      <td>0</td>\n",
       "      <td>0</td>\n",
       "      <td>1</td>\n",
       "      <td>3</td>\n",
       "      <td>0</td>\n",
       "      <td>1</td>\n",
       "      <td>0</td>\n",
       "    </tr>\n",
       "    <tr>\n",
       "      <th>425969</th>\n",
       "      <td>0</td>\n",
       "      <td>0</td>\n",
       "      <td>0</td>\n",
       "      <td>0</td>\n",
       "      <td>0</td>\n",
       "      <td>0</td>\n",
       "      <td>0</td>\n",
       "      <td>0</td>\n",
       "      <td>1</td>\n",
       "      <td>0</td>\n",
       "      <td>...</td>\n",
       "      <td>0</td>\n",
       "      <td>0</td>\n",
       "      <td>1</td>\n",
       "      <td>0</td>\n",
       "      <td>0</td>\n",
       "      <td>0</td>\n",
       "      <td>0</td>\n",
       "      <td>0</td>\n",
       "      <td>1</td>\n",
       "      <td>0</td>\n",
       "    </tr>\n",
       "  </tbody>\n",
       "</table>\n",
       "<p>5 rows × 22 columns</p>\n",
       "</div>"
      ],
      "text/plain": [
       "        Economy_Class  First_Class  Monday  Saturday  Sunday  Thursday  \\\n",
       "275304              0            1       0         0       0         0   \n",
       "76286               1            0       0         0       0         0   \n",
       "514158              0            0       1         0       0         0   \n",
       "297430              1            0       0         0       0         1   \n",
       "425969              0            0       0         0       0         0   \n",
       "\n",
       "        Tuesday  Wednesday  China Eastern Airlines  China Southern Airlines  \\\n",
       "275304        0          0                       0                        0   \n",
       "76286         1          0                       0                        0   \n",
       "514158        0          0                       0                        0   \n",
       "297430        0          0                       0                        0   \n",
       "425969        0          0                       1                        0   \n",
       "\n",
       "        ...  Shanghai Airlines  Xiamen Air  Eve  Morning  Night  Noon  \\\n",
       "275304  ...                  0           0    0        0      0     1   \n",
       "76286   ...                  0           0    0        0      0     0   \n",
       "514158  ...                  0           0    0        0      0     0   \n",
       "297430  ...                  1           0    0        0      0     1   \n",
       "425969  ...                  0           0    1        0      0     0   \n",
       "\n",
       "        dateDifference  arrAirport_SHA  depAirport_SHA  holiday  \n",
       "275304               7               0               1        0  \n",
       "76286                6               1               0        0  \n",
       "514158               2               1               0        0  \n",
       "297430               3               0               1        0  \n",
       "425969               0               0               1        0  \n",
       "\n",
       "[5 rows x 22 columns]"
      ]
     },
     "execution_count": 250,
     "metadata": {},
     "output_type": "execute_result"
    }
   ],
   "source": [
    "X_train2.head()"
   ]
  },
  {
   "cell_type": "markdown",
   "metadata": {},
   "source": [
    "# Linear Regression No Outliers"
   ]
  },
  {
   "cell_type": "code",
   "execution_count": 251,
   "metadata": {},
   "outputs": [
    {
     "name": "stdout",
     "output_type": "stream",
     "text": [
      "The Mean Squared Error For Linear Regression Vanilla Is: 19122.63765713116\n",
      "the Root Mean Squared Error is : 138.28462552695856\n",
      "The R^2 value is : 0.7136602306163402\n"
     ]
    }
   ],
   "source": [
    "# instantiate the model\n",
    "Nlinreg = LinearRegression()\n",
    "# fit the model to the train data\n",
    "Nlinreg.fit(X_train2,y_train2)\n",
    "\n",
    "# get the prediction\n",
    "Ny_preds = Nlinreg.predict(X_val2)\n",
    "\n",
    "# calculate the mse and rmse\n",
    "Nmse_linreg = mean_squared_error(y_val2, Ny_preds)\n",
    "Nrmse_linreg = np.sqrt(mean_squared_error(y_val2, Ny_preds))\n",
    "\n",
    "print(f'the mean squared error for Linear Regression Vanilla is: {Nmse_linreg}'.title())\n",
    "print(f'the Root Mean Squared Error is : {Nrmse_linreg}')\n",
    "print(f'The R^2 value is : {r2_score(y_val2,Ny_preds)}')"
   ]
  },
  {
   "cell_type": "code",
   "execution_count": null,
   "metadata": {},
   "outputs": [],
   "source": []
  },
  {
   "cell_type": "markdown",
   "metadata": {},
   "source": [
    "# Logistic Regression No Outliers"
   ]
  },
  {
   "cell_type": "code",
   "execution_count": null,
   "metadata": {},
   "outputs": [],
   "source": []
  },
  {
   "cell_type": "code",
   "execution_count": null,
   "metadata": {},
   "outputs": [],
   "source": []
  },
  {
   "cell_type": "code",
   "execution_count": null,
   "metadata": {},
   "outputs": [],
   "source": []
  },
  {
   "cell_type": "markdown",
   "metadata": {},
   "source": [
    "# XGBoost No Outliers"
   ]
  },
  {
   "cell_type": "code",
   "execution_count": 252,
   "metadata": {},
   "outputs": [
    {
     "name": "stderr",
     "output_type": "stream",
     "text": [
      "//anaconda3/lib/python3.7/site-packages/xgboost/core.py:587: FutureWarning: Series.base is deprecated and will be removed in a future version\n",
      "  if getattr(data, 'base', None) is not None and \\\n"
     ]
    },
    {
     "name": "stdout",
     "output_type": "stream",
     "text": [
      "[11:49:56] WARNING: src/objective/regression_obj.cu:152: reg:linear is now deprecated in favor of reg:squarederror.\n",
      "the Mean Squared Error is : 18191.098622143607\n",
      "the Root Mean Squared Error is : 134.87438089623842\n",
      "The R^2 value is : 0.7276089691341534\n"
     ]
    }
   ],
   "source": [
    "# instantiate the model\n",
    "Nxgb = xgboost.XGBRegressor()\n",
    "# fit the model to training data\n",
    "Nxgb.fit(X_train2,y_train2)\n",
    "# get the prediction\n",
    "Nxgb_y_preds = Nxgb.predict(X_val2)\n",
    "# get the mse and rmse\n",
    "Nmse_xgb = mean_squared_error(y_val2,Nxgb_y_preds)\n",
    "Nrmse_xgb = np.sqrt(mean_squared_error(y_val2,Nxgb_y_preds))\n",
    "print(f'the Mean Squared Error is : {Nmse_xgb}')\n",
    "print(f'the Root Mean Squared Error is : {Nrmse_xgb}')\n",
    "print(f'The R^2 value is : {r2_score(y_val2,Nxgb_y_preds)}')"
   ]
  },
  {
   "cell_type": "code",
   "execution_count": 253,
   "metadata": {},
   "outputs": [
    {
     "data": {
      "text/html": [
       "<div>\n",
       "<style scoped>\n",
       "    .dataframe tbody tr th:only-of-type {\n",
       "        vertical-align: middle;\n",
       "    }\n",
       "\n",
       "    .dataframe tbody tr th {\n",
       "        vertical-align: top;\n",
       "    }\n",
       "\n",
       "    .dataframe thead th {\n",
       "        text-align: right;\n",
       "    }\n",
       "</style>\n",
       "<table border=\"1\" class=\"dataframe\">\n",
       "  <thead>\n",
       "    <tr style=\"text-align: right;\">\n",
       "      <th></th>\n",
       "      <th>0</th>\n",
       "    </tr>\n",
       "  </thead>\n",
       "  <tbody>\n",
       "    <tr>\n",
       "      <th>Economy_Class</th>\n",
       "      <td>0.853530</td>\n",
       "    </tr>\n",
       "    <tr>\n",
       "      <th>First_Class</th>\n",
       "      <td>0.029427</td>\n",
       "    </tr>\n",
       "    <tr>\n",
       "      <th>Monday</th>\n",
       "      <td>0.003269</td>\n",
       "    </tr>\n",
       "    <tr>\n",
       "      <th>Saturday</th>\n",
       "      <td>0.007517</td>\n",
       "    </tr>\n",
       "    <tr>\n",
       "      <th>Sunday</th>\n",
       "      <td>0.003204</td>\n",
       "    </tr>\n",
       "    <tr>\n",
       "      <th>Thursday</th>\n",
       "      <td>0.003386</td>\n",
       "    </tr>\n",
       "    <tr>\n",
       "      <th>Tuesday</th>\n",
       "      <td>0.001742</td>\n",
       "    </tr>\n",
       "    <tr>\n",
       "      <th>Wednesday</th>\n",
       "      <td>0.003882</td>\n",
       "    </tr>\n",
       "    <tr>\n",
       "      <th>China Eastern Airlines</th>\n",
       "      <td>0.013740</td>\n",
       "    </tr>\n",
       "    <tr>\n",
       "      <th>China Southern Airlines</th>\n",
       "      <td>0.013895</td>\n",
       "    </tr>\n",
       "    <tr>\n",
       "      <th>Hainan Airlines</th>\n",
       "      <td>0.003074</td>\n",
       "    </tr>\n",
       "    <tr>\n",
       "      <th>Juneyao Airlines</th>\n",
       "      <td>0.030531</td>\n",
       "    </tr>\n",
       "    <tr>\n",
       "      <th>Shanghai Airlines</th>\n",
       "      <td>0.007556</td>\n",
       "    </tr>\n",
       "    <tr>\n",
       "      <th>Xiamen Air</th>\n",
       "      <td>0.009211</td>\n",
       "    </tr>\n",
       "    <tr>\n",
       "      <th>Eve</th>\n",
       "      <td>0.002455</td>\n",
       "    </tr>\n",
       "    <tr>\n",
       "      <th>Morning</th>\n",
       "      <td>0.001613</td>\n",
       "    </tr>\n",
       "    <tr>\n",
       "      <th>Night</th>\n",
       "      <td>0.002585</td>\n",
       "    </tr>\n",
       "    <tr>\n",
       "      <th>Noon</th>\n",
       "      <td>0.004958</td>\n",
       "    </tr>\n",
       "    <tr>\n",
       "      <th>dateDifference</th>\n",
       "      <td>0.001980</td>\n",
       "    </tr>\n",
       "    <tr>\n",
       "      <th>arrAirport_SHA</th>\n",
       "      <td>0.001088</td>\n",
       "    </tr>\n",
       "    <tr>\n",
       "      <th>depAirport_SHA</th>\n",
       "      <td>0.000000</td>\n",
       "    </tr>\n",
       "    <tr>\n",
       "      <th>holiday</th>\n",
       "      <td>0.001358</td>\n",
       "    </tr>\n",
       "  </tbody>\n",
       "</table>\n",
       "</div>"
      ],
      "text/plain": [
       "                                0\n",
       "Economy_Class            0.853530\n",
       "First_Class              0.029427\n",
       "Monday                   0.003269\n",
       "Saturday                 0.007517\n",
       "Sunday                   0.003204\n",
       "Thursday                 0.003386\n",
       "Tuesday                  0.001742\n",
       "Wednesday                0.003882\n",
       "China Eastern Airlines   0.013740\n",
       "China Southern Airlines  0.013895\n",
       "Hainan Airlines          0.003074\n",
       "Juneyao Airlines         0.030531\n",
       "Shanghai Airlines        0.007556\n",
       "Xiamen Air               0.009211\n",
       "Eve                      0.002455\n",
       "Morning                  0.001613\n",
       "Night                    0.002585\n",
       "Noon                     0.004958\n",
       "dateDifference           0.001980\n",
       "arrAirport_SHA           0.001088\n",
       "depAirport_SHA           0.000000\n",
       "holiday                  0.001358"
      ]
     },
     "execution_count": 253,
     "metadata": {},
     "output_type": "execute_result"
    }
   ],
   "source": [
    "pd.DataFrame(Nxgb.feature_importances_, index=X_train2.columns)"
   ]
  },
  {
   "cell_type": "markdown",
   "metadata": {},
   "source": [
    "# Gradient Boosting No Outliers"
   ]
  },
  {
   "cell_type": "code",
   "execution_count": 254,
   "metadata": {},
   "outputs": [
    {
     "name": "stdout",
     "output_type": "stream",
     "text": [
      "the mean squared error for gradient boosting test data is 18188.223178346616\n",
      "the root mean squared error is:134.86372076413514\n",
      "The R^2 value is : 0.7276520256375747\n"
     ]
    }
   ],
   "source": [
    "# instantiate the model\n",
    "Ngdb = GradientBoostingRegressor()\n",
    "# fit the model to training data\n",
    "Ngdb.fit(X_train2,y_train2)\n",
    "\n",
    "# get predictions\n",
    "Ngdb_preds = Ngdb.predict(X_val2)\n",
    "\n",
    "#get MeanSE\n",
    "Nmse_gdb = mean_squared_error(Ngdb_preds,y_val2)\n",
    "Nrmse_gdb = np.sqrt(mean_squared_error(Ngdb_preds,y_val2))\n",
    "print(f'the mean squared error for gradient boosting test data is {Nmse_gdb}')\n",
    "print(f'the root mean squared error is:{Nrmse_gdb}')\n",
    "print(f'The R^2 value is : {r2_score(y_val2,Ngdb_preds)}')"
   ]
  },
  {
   "cell_type": "code",
   "execution_count": 255,
   "metadata": {},
   "outputs": [
    {
     "data": {
      "text/html": [
       "<div>\n",
       "<style scoped>\n",
       "    .dataframe tbody tr th:only-of-type {\n",
       "        vertical-align: middle;\n",
       "    }\n",
       "\n",
       "    .dataframe tbody tr th {\n",
       "        vertical-align: top;\n",
       "    }\n",
       "\n",
       "    .dataframe thead th {\n",
       "        text-align: right;\n",
       "    }\n",
       "</style>\n",
       "<table border=\"1\" class=\"dataframe\">\n",
       "  <thead>\n",
       "    <tr style=\"text-align: right;\">\n",
       "      <th></th>\n",
       "      <th>0</th>\n",
       "    </tr>\n",
       "  </thead>\n",
       "  <tbody>\n",
       "    <tr>\n",
       "      <th>Economy_Class</th>\n",
       "      <td>0.934428</td>\n",
       "    </tr>\n",
       "    <tr>\n",
       "      <th>First_Class</th>\n",
       "      <td>0.021907</td>\n",
       "    </tr>\n",
       "    <tr>\n",
       "      <th>Monday</th>\n",
       "      <td>0.001181</td>\n",
       "    </tr>\n",
       "    <tr>\n",
       "      <th>Saturday</th>\n",
       "      <td>0.003515</td>\n",
       "    </tr>\n",
       "    <tr>\n",
       "      <th>Sunday</th>\n",
       "      <td>0.000636</td>\n",
       "    </tr>\n",
       "    <tr>\n",
       "      <th>Thursday</th>\n",
       "      <td>0.000138</td>\n",
       "    </tr>\n",
       "    <tr>\n",
       "      <th>Tuesday</th>\n",
       "      <td>0.000207</td>\n",
       "    </tr>\n",
       "    <tr>\n",
       "      <th>Wednesday</th>\n",
       "      <td>0.000086</td>\n",
       "    </tr>\n",
       "    <tr>\n",
       "      <th>China Eastern Airlines</th>\n",
       "      <td>0.006148</td>\n",
       "    </tr>\n",
       "    <tr>\n",
       "      <th>China Southern Airlines</th>\n",
       "      <td>0.004482</td>\n",
       "    </tr>\n",
       "    <tr>\n",
       "      <th>Hainan Airlines</th>\n",
       "      <td>0.000868</td>\n",
       "    </tr>\n",
       "    <tr>\n",
       "      <th>Juneyao Airlines</th>\n",
       "      <td>0.015318</td>\n",
       "    </tr>\n",
       "    <tr>\n",
       "      <th>Shanghai Airlines</th>\n",
       "      <td>0.003124</td>\n",
       "    </tr>\n",
       "    <tr>\n",
       "      <th>Xiamen Air</th>\n",
       "      <td>0.002181</td>\n",
       "    </tr>\n",
       "    <tr>\n",
       "      <th>Eve</th>\n",
       "      <td>0.000732</td>\n",
       "    </tr>\n",
       "    <tr>\n",
       "      <th>Morning</th>\n",
       "      <td>0.000208</td>\n",
       "    </tr>\n",
       "    <tr>\n",
       "      <th>Night</th>\n",
       "      <td>0.001102</td>\n",
       "    </tr>\n",
       "    <tr>\n",
       "      <th>Noon</th>\n",
       "      <td>0.001087</td>\n",
       "    </tr>\n",
       "    <tr>\n",
       "      <th>dateDifference</th>\n",
       "      <td>0.002236</td>\n",
       "    </tr>\n",
       "    <tr>\n",
       "      <th>arrAirport_SHA</th>\n",
       "      <td>0.000156</td>\n",
       "    </tr>\n",
       "    <tr>\n",
       "      <th>depAirport_SHA</th>\n",
       "      <td>0.000191</td>\n",
       "    </tr>\n",
       "    <tr>\n",
       "      <th>holiday</th>\n",
       "      <td>0.000069</td>\n",
       "    </tr>\n",
       "  </tbody>\n",
       "</table>\n",
       "</div>"
      ],
      "text/plain": [
       "                                0\n",
       "Economy_Class            0.934428\n",
       "First_Class              0.021907\n",
       "Monday                   0.001181\n",
       "Saturday                 0.003515\n",
       "Sunday                   0.000636\n",
       "Thursday                 0.000138\n",
       "Tuesday                  0.000207\n",
       "Wednesday                0.000086\n",
       "China Eastern Airlines   0.006148\n",
       "China Southern Airlines  0.004482\n",
       "Hainan Airlines          0.000868\n",
       "Juneyao Airlines         0.015318\n",
       "Shanghai Airlines        0.003124\n",
       "Xiamen Air               0.002181\n",
       "Eve                      0.000732\n",
       "Morning                  0.000208\n",
       "Night                    0.001102\n",
       "Noon                     0.001087\n",
       "dateDifference           0.002236\n",
       "arrAirport_SHA           0.000156\n",
       "depAirport_SHA           0.000191\n",
       "holiday                  0.000069"
      ]
     },
     "execution_count": 255,
     "metadata": {},
     "output_type": "execute_result"
    }
   ],
   "source": [
    "pd.DataFrame(Ngdb.feature_importances_, index=X_train2.columns)"
   ]
  },
  {
   "cell_type": "markdown",
   "metadata": {},
   "source": [
    "# AdaBoosting No Outliers"
   ]
  },
  {
   "cell_type": "code",
   "execution_count": 256,
   "metadata": {},
   "outputs": [
    {
     "name": "stdout",
     "output_type": "stream",
     "text": [
      "The Mean squared error for the ada boost model is 19459.074022258228\n",
      "The Root Mean squared error for the ada boost model is 139.4957849623358\n",
      "The R^2 value is : 0.7086224783496262\n"
     ]
    }
   ],
   "source": [
    "# instantaite adaboost model\n",
    "Nada = AdaBoostRegressor()\n",
    "\n",
    "# fit the model to the train data\n",
    "Nada.fit(X_train2,y_train2)\n",
    "\n",
    "# get the prediction\n",
    "Nada_preds = Nada.predict(X_val2)\n",
    "# get the MSE\n",
    "Nmse_ada = mean_squared_error(y_val2, Nada_preds)\n",
    "Nrmse_ada = np.sqrt(mean_squared_error(y_val2, Nada_preds))\n",
    "\n",
    "#print the mse\n",
    "print(f'The Mean squared error for the ada boost model is {Nmse_ada}')\n",
    "print(f'The Root Mean squared error for the ada boost model is {Nrmse_ada}')\n",
    "print(f'The R^2 value is : {r2_score(y_val2,Nada_preds)}')"
   ]
  },
  {
   "cell_type": "code",
   "execution_count": 257,
   "metadata": {},
   "outputs": [
    {
     "data": {
      "text/html": [
       "<div>\n",
       "<style scoped>\n",
       "    .dataframe tbody tr th:only-of-type {\n",
       "        vertical-align: middle;\n",
       "    }\n",
       "\n",
       "    .dataframe tbody tr th {\n",
       "        vertical-align: top;\n",
       "    }\n",
       "\n",
       "    .dataframe thead th {\n",
       "        text-align: right;\n",
       "    }\n",
       "</style>\n",
       "<table border=\"1\" class=\"dataframe\">\n",
       "  <thead>\n",
       "    <tr style=\"text-align: right;\">\n",
       "      <th></th>\n",
       "      <th>0</th>\n",
       "    </tr>\n",
       "  </thead>\n",
       "  <tbody>\n",
       "    <tr>\n",
       "      <th>Economy_Class</th>\n",
       "      <td>0.958533</td>\n",
       "    </tr>\n",
       "    <tr>\n",
       "      <th>First_Class</th>\n",
       "      <td>0.015791</td>\n",
       "    </tr>\n",
       "    <tr>\n",
       "      <th>Monday</th>\n",
       "      <td>0.000016</td>\n",
       "    </tr>\n",
       "    <tr>\n",
       "      <th>Saturday</th>\n",
       "      <td>0.002643</td>\n",
       "    </tr>\n",
       "    <tr>\n",
       "      <th>Sunday</th>\n",
       "      <td>0.000000</td>\n",
       "    </tr>\n",
       "    <tr>\n",
       "      <th>Thursday</th>\n",
       "      <td>0.000000</td>\n",
       "    </tr>\n",
       "    <tr>\n",
       "      <th>Tuesday</th>\n",
       "      <td>0.000000</td>\n",
       "    </tr>\n",
       "    <tr>\n",
       "      <th>Wednesday</th>\n",
       "      <td>0.000000</td>\n",
       "    </tr>\n",
       "    <tr>\n",
       "      <th>China Eastern Airlines</th>\n",
       "      <td>0.003350</td>\n",
       "    </tr>\n",
       "    <tr>\n",
       "      <th>China Southern Airlines</th>\n",
       "      <td>0.003812</td>\n",
       "    </tr>\n",
       "    <tr>\n",
       "      <th>Hainan Airlines</th>\n",
       "      <td>0.000000</td>\n",
       "    </tr>\n",
       "    <tr>\n",
       "      <th>Juneyao Airlines</th>\n",
       "      <td>0.012048</td>\n",
       "    </tr>\n",
       "    <tr>\n",
       "      <th>Shanghai Airlines</th>\n",
       "      <td>0.000000</td>\n",
       "    </tr>\n",
       "    <tr>\n",
       "      <th>Xiamen Air</th>\n",
       "      <td>0.000000</td>\n",
       "    </tr>\n",
       "    <tr>\n",
       "      <th>Eve</th>\n",
       "      <td>0.000000</td>\n",
       "    </tr>\n",
       "    <tr>\n",
       "      <th>Morning</th>\n",
       "      <td>0.000000</td>\n",
       "    </tr>\n",
       "    <tr>\n",
       "      <th>Night</th>\n",
       "      <td>0.000128</td>\n",
       "    </tr>\n",
       "    <tr>\n",
       "      <th>Noon</th>\n",
       "      <td>0.000000</td>\n",
       "    </tr>\n",
       "    <tr>\n",
       "      <th>dateDifference</th>\n",
       "      <td>0.003593</td>\n",
       "    </tr>\n",
       "    <tr>\n",
       "      <th>arrAirport_SHA</th>\n",
       "      <td>0.000052</td>\n",
       "    </tr>\n",
       "    <tr>\n",
       "      <th>depAirport_SHA</th>\n",
       "      <td>0.000033</td>\n",
       "    </tr>\n",
       "    <tr>\n",
       "      <th>holiday</th>\n",
       "      <td>0.000000</td>\n",
       "    </tr>\n",
       "  </tbody>\n",
       "</table>\n",
       "</div>"
      ],
      "text/plain": [
       "                                0\n",
       "Economy_Class            0.958533\n",
       "First_Class              0.015791\n",
       "Monday                   0.000016\n",
       "Saturday                 0.002643\n",
       "Sunday                   0.000000\n",
       "Thursday                 0.000000\n",
       "Tuesday                  0.000000\n",
       "Wednesday                0.000000\n",
       "China Eastern Airlines   0.003350\n",
       "China Southern Airlines  0.003812\n",
       "Hainan Airlines          0.000000\n",
       "Juneyao Airlines         0.012048\n",
       "Shanghai Airlines        0.000000\n",
       "Xiamen Air               0.000000\n",
       "Eve                      0.000000\n",
       "Morning                  0.000000\n",
       "Night                    0.000128\n",
       "Noon                     0.000000\n",
       "dateDifference           0.003593\n",
       "arrAirport_SHA           0.000052\n",
       "depAirport_SHA           0.000033\n",
       "holiday                  0.000000"
      ]
     },
     "execution_count": 257,
     "metadata": {},
     "output_type": "execute_result"
    }
   ],
   "source": [
    "pd.DataFrame(Nada.feature_importances_, index=X_train2.columns)"
   ]
  },
  {
   "cell_type": "markdown",
   "metadata": {},
   "source": [
    "# Random Forrest No Outliers"
   ]
  },
  {
   "cell_type": "code",
   "execution_count": 258,
   "metadata": {},
   "outputs": [
    {
     "name": "stderr",
     "output_type": "stream",
     "text": [
      "//anaconda3/lib/python3.7/site-packages/sklearn/ensemble/forest.py:245: FutureWarning: The default value of n_estimators will change from 10 in version 0.20 to 100 in 0.22.\n",
      "  \"10 in version 0.20 to 100 in 0.22.\", FutureWarning)\n"
     ]
    },
    {
     "name": "stdout",
     "output_type": "stream",
     "text": [
      "The mean squared error for Random Forest Validation Data is: 18569.521352924145 \n",
      "The Root mean squared error for Random Forest Validation Data is: 136.27003101534888 \n",
      "The R^2 value is : 0.7219425187519373\n"
     ]
    }
   ],
   "source": [
    "# instantiate the model\n",
    "Nrfr = RandomForestRegressor()\n",
    "\n",
    "# fit the model to training data\n",
    "Nrfr.fit(X_train2, y_train2)\n",
    "\n",
    "# Get predictions\n",
    "Nrfr_preds = Nrfr.predict(X_val2)\n",
    "\n",
    "# get MSE and RMSE for model\n",
    "Nmse_rfr = mean_squared_error(y_val2, Nrfr_preds)\n",
    "Nrmse_rfr = np.sqrt(mean_squared_error(y_val2, Nrfr_preds))\n",
    "# print Mse\n",
    "print(f'The mean squared error for Random Forest Validation Data is: {Nmse_rfr} ')\n",
    "print(f'The Root mean squared error for Random Forest Validation Data is: {Nrmse_rfr} ')\n",
    "print(f'The R^2 value is : {r2_score(y_val2,Nrfr_preds)}')"
   ]
  },
  {
   "cell_type": "code",
   "execution_count": null,
   "metadata": {},
   "outputs": [],
   "source": []
  },
  {
   "cell_type": "code",
   "execution_count": 369,
   "metadata": {},
   "outputs": [],
   "source": [
    "yyyyy = df.groupby(['cabinClass']).agg({'price':'mean'}).reset_index()"
   ]
  },
  {
   "cell_type": "code",
   "execution_count": 370,
   "metadata": {},
   "outputs": [
    {
     "data": {
      "text/html": [
       "<div>\n",
       "<style scoped>\n",
       "    .dataframe tbody tr th:only-of-type {\n",
       "        vertical-align: middle;\n",
       "    }\n",
       "\n",
       "    .dataframe tbody tr th {\n",
       "        vertical-align: top;\n",
       "    }\n",
       "\n",
       "    .dataframe thead th {\n",
       "        text-align: right;\n",
       "    }\n",
       "</style>\n",
       "<table border=\"1\" class=\"dataframe\">\n",
       "  <thead>\n",
       "    <tr style=\"text-align: right;\">\n",
       "      <th></th>\n",
       "      <th>cabinClass</th>\n",
       "      <th>price</th>\n",
       "    </tr>\n",
       "  </thead>\n",
       "  <tbody>\n",
       "    <tr>\n",
       "      <th>0</th>\n",
       "      <td>0</td>\n",
       "      <td>167.255201</td>\n",
       "    </tr>\n",
       "    <tr>\n",
       "      <th>1</th>\n",
       "      <td>1</td>\n",
       "      <td>577.310468</td>\n",
       "    </tr>\n",
       "    <tr>\n",
       "      <th>2</th>\n",
       "      <td>2</td>\n",
       "      <td>688.021957</td>\n",
       "    </tr>\n",
       "  </tbody>\n",
       "</table>\n",
       "</div>"
      ],
      "text/plain": [
       "   cabinClass       price\n",
       "0           0  167.255201\n",
       "1           1  577.310468\n",
       "2           2  688.021957"
      ]
     },
     "execution_count": 370,
     "metadata": {},
     "output_type": "execute_result"
    }
   ],
   "source": [
    "yyyyy.head()"
   ]
  },
  {
   "cell_type": "code",
   "execution_count": 259,
   "metadata": {},
   "outputs": [],
   "source": [
    "# All these models are over fit: have to fix this"
   ]
  },
  {
   "cell_type": "markdown",
   "metadata": {},
   "source": [
    "# SHA-PEK models"
   ]
  },
  {
   "cell_type": "code",
   "execution_count": 260,
   "metadata": {},
   "outputs": [
    {
     "data": {
      "text/html": [
       "<div>\n",
       "<style scoped>\n",
       "    .dataframe tbody tr th:only-of-type {\n",
       "        vertical-align: middle;\n",
       "    }\n",
       "\n",
       "    .dataframe tbody tr th {\n",
       "        vertical-align: top;\n",
       "    }\n",
       "\n",
       "    .dataframe thead th {\n",
       "        text-align: right;\n",
       "    }\n",
       "</style>\n",
       "<table border=\"1\" class=\"dataframe\">\n",
       "  <thead>\n",
       "    <tr style=\"text-align: right;\">\n",
       "      <th></th>\n",
       "      <th>Economy_Class</th>\n",
       "      <th>First_Class</th>\n",
       "      <th>Monday</th>\n",
       "      <th>Saturday</th>\n",
       "      <th>Sunday</th>\n",
       "      <th>Thursday</th>\n",
       "      <th>Tuesday</th>\n",
       "      <th>Wednesday</th>\n",
       "      <th>China Eastern Airlines</th>\n",
       "      <th>China Southern Airlines</th>\n",
       "      <th>...</th>\n",
       "      <th>dateDifference</th>\n",
       "      <th>departureDate_dofweek</th>\n",
       "      <th>arrivalDate_dofweek</th>\n",
       "      <th>createDate_dofweek</th>\n",
       "      <th>pricePaid</th>\n",
       "      <th>arrAirport_SHA</th>\n",
       "      <th>depAirport_SHA</th>\n",
       "      <th>holiday</th>\n",
       "      <th>exc_rateC-U</th>\n",
       "      <th>departureDate_hod</th>\n",
       "    </tr>\n",
       "  </thead>\n",
       "  <tbody>\n",
       "    <tr>\n",
       "      <th>0</th>\n",
       "      <td>0</td>\n",
       "      <td>0</td>\n",
       "      <td>0</td>\n",
       "      <td>0</td>\n",
       "      <td>0</td>\n",
       "      <td>0</td>\n",
       "      <td>0</td>\n",
       "      <td>0</td>\n",
       "      <td>0</td>\n",
       "      <td>0</td>\n",
       "      <td>...</td>\n",
       "      <td>1</td>\n",
       "      <td>4</td>\n",
       "      <td>4</td>\n",
       "      <td>3</td>\n",
       "      <td>270.943495</td>\n",
       "      <td>1</td>\n",
       "      <td>0</td>\n",
       "      <td>1</td>\n",
       "      <td>0.145669</td>\n",
       "      <td>6</td>\n",
       "    </tr>\n",
       "    <tr>\n",
       "      <th>1</th>\n",
       "      <td>0</td>\n",
       "      <td>0</td>\n",
       "      <td>0</td>\n",
       "      <td>0</td>\n",
       "      <td>0</td>\n",
       "      <td>0</td>\n",
       "      <td>0</td>\n",
       "      <td>0</td>\n",
       "      <td>1</td>\n",
       "      <td>0</td>\n",
       "      <td>...</td>\n",
       "      <td>1</td>\n",
       "      <td>4</td>\n",
       "      <td>4</td>\n",
       "      <td>3</td>\n",
       "      <td>74.057889</td>\n",
       "      <td>1</td>\n",
       "      <td>0</td>\n",
       "      <td>1</td>\n",
       "      <td>0.145669</td>\n",
       "      <td>7</td>\n",
       "    </tr>\n",
       "    <tr>\n",
       "      <th>2</th>\n",
       "      <td>0</td>\n",
       "      <td>0</td>\n",
       "      <td>0</td>\n",
       "      <td>0</td>\n",
       "      <td>0</td>\n",
       "      <td>0</td>\n",
       "      <td>0</td>\n",
       "      <td>0</td>\n",
       "      <td>1</td>\n",
       "      <td>0</td>\n",
       "      <td>...</td>\n",
       "      <td>1</td>\n",
       "      <td>4</td>\n",
       "      <td>4</td>\n",
       "      <td>3</td>\n",
       "      <td>780.783405</td>\n",
       "      <td>1</td>\n",
       "      <td>0</td>\n",
       "      <td>1</td>\n",
       "      <td>0.145669</td>\n",
       "      <td>7</td>\n",
       "    </tr>\n",
       "    <tr>\n",
       "      <th>3</th>\n",
       "      <td>0</td>\n",
       "      <td>0</td>\n",
       "      <td>0</td>\n",
       "      <td>0</td>\n",
       "      <td>0</td>\n",
       "      <td>0</td>\n",
       "      <td>0</td>\n",
       "      <td>0</td>\n",
       "      <td>0</td>\n",
       "      <td>0</td>\n",
       "      <td>...</td>\n",
       "      <td>1</td>\n",
       "      <td>4</td>\n",
       "      <td>4</td>\n",
       "      <td>3</td>\n",
       "      <td>69.068741</td>\n",
       "      <td>1</td>\n",
       "      <td>0</td>\n",
       "      <td>1</td>\n",
       "      <td>0.145669</td>\n",
       "      <td>7</td>\n",
       "    </tr>\n",
       "    <tr>\n",
       "      <th>4</th>\n",
       "      <td>0</td>\n",
       "      <td>0</td>\n",
       "      <td>0</td>\n",
       "      <td>0</td>\n",
       "      <td>0</td>\n",
       "      <td>0</td>\n",
       "      <td>0</td>\n",
       "      <td>0</td>\n",
       "      <td>0</td>\n",
       "      <td>0</td>\n",
       "      <td>...</td>\n",
       "      <td>1</td>\n",
       "      <td>4</td>\n",
       "      <td>4</td>\n",
       "      <td>3</td>\n",
       "      <td>69.279960</td>\n",
       "      <td>1</td>\n",
       "      <td>0</td>\n",
       "      <td>1</td>\n",
       "      <td>0.145669</td>\n",
       "      <td>7</td>\n",
       "    </tr>\n",
       "  </tbody>\n",
       "</table>\n",
       "<p>5 rows × 32 columns</p>\n",
       "</div>"
      ],
      "text/plain": [
       "   Economy_Class  First_Class  Monday  Saturday  Sunday  Thursday  Tuesday  \\\n",
       "0              0            0       0         0       0         0        0   \n",
       "1              0            0       0         0       0         0        0   \n",
       "2              0            0       0         0       0         0        0   \n",
       "3              0            0       0         0       0         0        0   \n",
       "4              0            0       0         0       0         0        0   \n",
       "\n",
       "   Wednesday  China Eastern Airlines  China Southern Airlines  ...  \\\n",
       "0          0                       0                        0  ...   \n",
       "1          0                       1                        0  ...   \n",
       "2          0                       1                        0  ...   \n",
       "3          0                       0                        0  ...   \n",
       "4          0                       0                        0  ...   \n",
       "\n",
       "   dateDifference  departureDate_dofweek  arrivalDate_dofweek  \\\n",
       "0               1                      4                    4   \n",
       "1               1                      4                    4   \n",
       "2               1                      4                    4   \n",
       "3               1                      4                    4   \n",
       "4               1                      4                    4   \n",
       "\n",
       "   createDate_dofweek   pricePaid  arrAirport_SHA  depAirport_SHA  holiday  \\\n",
       "0                   3  270.943495               1               0        1   \n",
       "1                   3   74.057889               1               0        1   \n",
       "2                   3  780.783405               1               0        1   \n",
       "3                   3   69.068741               1               0        1   \n",
       "4                   3   69.279960               1               0        1   \n",
       "\n",
       "   exc_rateC-U  departureDate_hod  \n",
       "0     0.145669                  6  \n",
       "1     0.145669                  7  \n",
       "2     0.145669                  7  \n",
       "3     0.145669                  7  \n",
       "4     0.145669                  7  \n",
       "\n",
       "[5 rows x 32 columns]"
      ]
     },
     "execution_count": 260,
     "metadata": {},
     "output_type": "execute_result"
    }
   ],
   "source": [
    "pdf.head()"
   ]
  },
  {
   "cell_type": "code",
   "execution_count": 261,
   "metadata": {},
   "outputs": [],
   "source": [
    "# make 2 different data sets. One with departure form PEK the other from SHA\n",
    "sha_pdf = pdf[pdf['depAirport_SHA']!=0]\n",
    "pek_pdf = pdf[pdf['depAirport_SHA']==0]"
   ]
  },
  {
   "cell_type": "code",
   "execution_count": 262,
   "metadata": {},
   "outputs": [
    {
     "data": {
      "text/plain": [
       "Index(['Economy_Class', 'First_Class', 'Monday', 'Saturday', 'Sunday',\n",
       "       'Thursday', 'Tuesday', 'Wednesday', 'China Eastern Airlines',\n",
       "       'China Southern Airlines', 'Hainan Airlines', 'Juneyao Airlines',\n",
       "       'Shanghai Airlines', 'Xiamen Air', 'Eve', 'Morning', 'Night', 'Noon',\n",
       "       'flightNumber', 'cabinClass', 'price', 'rate', 'dateDifference',\n",
       "       'departureDate_dofweek', 'arrivalDate_dofweek', 'createDate_dofweek',\n",
       "       'pricePaid', 'arrAirport_SHA', 'depAirport_SHA', 'holiday',\n",
       "       'exc_rateC-U', 'departureDate_hod'],\n",
       "      dtype='object')"
      ]
     },
     "execution_count": 262,
     "metadata": {},
     "output_type": "execute_result"
    }
   ],
   "source": [
    "sha_pdf.columns"
   ]
  },
  {
   "cell_type": "code",
   "execution_count": 263,
   "metadata": {},
   "outputs": [],
   "source": [
    " # make variables \n",
    "X2S = sha_pdf.drop(['price','exc_rateC-U','pricePaid','rate',\n",
    "                    'cabinClass','flightNumber','departureDate_hod','departureDate_dofweek',\n",
    "                   'arrivalDate_dofweek','createDate_dofweek'],axis=1)\n",
    "y2S = sha_pdf['price']"
   ]
  },
  {
   "cell_type": "code",
   "execution_count": 264,
   "metadata": {},
   "outputs": [],
   "source": [
    "# do train test split\n",
    "X2S_train,X2S_test,y2S_train,y2S_test = train_test_split(X2S,y2S, test_size=.2,random_state=1)"
   ]
  },
  {
   "cell_type": "code",
   "execution_count": 265,
   "metadata": {},
   "outputs": [],
   "source": [
    "# make validation set\n",
    "X2S_train,X2S_val, y2S_train,y2S_val = train_test_split(X2S_train,y2S_train,test_size=.2,random_state=1)"
   ]
  },
  {
   "cell_type": "code",
   "execution_count": null,
   "metadata": {},
   "outputs": [],
   "source": []
  },
  {
   "cell_type": "markdown",
   "metadata": {},
   "source": [
    "# Linear regression SHA-PEK"
   ]
  },
  {
   "cell_type": "code",
   "execution_count": 266,
   "metadata": {},
   "outputs": [
    {
     "name": "stdout",
     "output_type": "stream",
     "text": [
      "The Mean Squared Error For Linear Regression Vanilla Is: 19066.579600269975\n",
      "the Root Mean Squared Error is : 138.08178591063333\n",
      "The R^2 value is : 0.7092890747496711\n"
     ]
    }
   ],
   "source": [
    "# instantiate the model\n",
    "Slinreg = LinearRegression()\n",
    "# fit the model to the train data\n",
    "Slinreg.fit(X2S_train,y2S_train)\n",
    "\n",
    "# get the prediction\n",
    "Sy_preds = Slinreg.predict(X2S_val)\n",
    "\n",
    "# calculate the mse and rmse\n",
    "Smse_linreg = mean_squared_error(y2S_val, Sy_preds)\n",
    "Srmse_linreg = np.sqrt(mean_squared_error(y2S_val, Sy_preds))\n",
    "\n",
    "print(f'the mean squared error for Linear Regression Vanilla is: {Smse_linreg}'.title())\n",
    "print(f'the Root Mean Squared Error is : {Srmse_linreg}')\n",
    "print(f'The R^2 value is : {r2_score(y2S_val,Sy_preds)}')"
   ]
  },
  {
   "cell_type": "markdown",
   "metadata": {},
   "source": [
    "# XG Boost "
   ]
  },
  {
   "cell_type": "code",
   "execution_count": 267,
   "metadata": {},
   "outputs": [
    {
     "name": "stderr",
     "output_type": "stream",
     "text": [
      "//anaconda3/lib/python3.7/site-packages/xgboost/core.py:587: FutureWarning: Series.base is deprecated and will be removed in a future version\n",
      "  if getattr(data, 'base', None) is not None and \\\n"
     ]
    },
    {
     "name": "stdout",
     "output_type": "stream",
     "text": [
      "[11:51:55] WARNING: src/objective/regression_obj.cu:152: reg:linear is now deprecated in favor of reg:squarederror.\n",
      "the Mean Squared Error is : 18096.505139282464\n",
      "the Root Mean Squared Error is : 134.52325129613268\n",
      "The R^2 value is : 0.724079941807515\n"
     ]
    }
   ],
   "source": [
    "# instantiate the model\n",
    "Sxgb = xgboost.XGBRegressor()\n",
    "# fit the model to training data\n",
    "Sxgb.fit(X2S_train,y2S_train)\n",
    "\n",
    "Sxgb_y_preds = Sxgb.predict(X2S_val)\n",
    "Smse_xgb = mean_squared_error(y2S_val,Sxgb_y_preds)\n",
    "Srmse_xgb = np.sqrt(mean_squared_error(y2S_val,Sxgb_y_preds))\n",
    "print(f'the Mean Squared Error is : {Smse_xgb}')\n",
    "print(f'the Root Mean Squared Error is : {Srmse_xgb}')\n",
    "print(f'The R^2 value is : {r2_score(y2S_val,Sxgb_y_preds)}')"
   ]
  },
  {
   "cell_type": "code",
   "execution_count": 268,
   "metadata": {},
   "outputs": [],
   "source": [
    "# get the feature importance of the model\n",
    "bxgb_feats = pd.DataFrame(Sxgb.feature_importances_, index=X2S_train.columns).sort_values(by=0,ascending=False)\n",
    "# turning it into a Dataframe makes it easier to work with"
   ]
  },
  {
   "cell_type": "code",
   "execution_count": 269,
   "metadata": {},
   "outputs": [
    {
     "data": {
      "image/png": "[encoded data removed]",
      "text/plain": [
       "<Figure size 504x432 with 1 Axes>"
      ]
     },
     "metadata": {
      "needs_background": "light"
     },
     "output_type": "display_data"
    }
   ],
   "source": [
    "plt.figure(figsize=[7,6])\n",
    "sns.barplot(y=bxgb_feats.index,x=bxgb_feats[0],orient='h');\n",
    "plt.title('Feature Importance');\n",
    "plt.ylabel('Importance');\n",
    "plt.xlabel('Features');"
   ]
  },
  {
   "cell_type": "markdown",
   "metadata": {},
   "source": [
    "# Gradient Boosting"
   ]
  },
  {
   "cell_type": "code",
   "execution_count": 270,
   "metadata": {},
   "outputs": [
    {
     "name": "stdout",
     "output_type": "stream",
     "text": [
      "the mean squared error for gradient boosting test data is 18095.4325582031\n",
      "the root mean squared error is:134.51926463597363\n",
      "The R^2 value is : 0.724096295607962\n"
     ]
    }
   ],
   "source": [
    "# instantiate the model\n",
    "Sgdb = GradientBoostingRegressor()\n",
    "# fit the model to training data\n",
    "Sgdb.fit(X2S_train,y2S_train)\n",
    "\n",
    "# get predictions\n",
    "Sgdb_preds = Sgdb.predict(X2S_val)\n",
    "\n",
    "#get MeanSE\n",
    "Smse_gdb = mean_squared_error(Sgdb_preds,y2S_val)\n",
    "Srmse_gdb = np.sqrt(mean_squared_error(Sgdb_preds,y2S_val))\n",
    "print(f'the mean squared error for gradient boosting test data is {Smse_gdb}')\n",
    "print(f'the root mean squared error is:{Srmse_gdb}')\n",
    "print(f'The R^2 value is : {r2_score(y2S_val,Sgdb_preds)}')"
   ]
  },
  {
   "cell_type": "code",
   "execution_count": 271,
   "metadata": {},
   "outputs": [
    {
     "data": {
      "text/html": [
       "<div>\n",
       "<style scoped>\n",
       "    .dataframe tbody tr th:only-of-type {\n",
       "        vertical-align: middle;\n",
       "    }\n",
       "\n",
       "    .dataframe tbody tr th {\n",
       "        vertical-align: top;\n",
       "    }\n",
       "\n",
       "    .dataframe thead th {\n",
       "        text-align: right;\n",
       "    }\n",
       "</style>\n",
       "<table border=\"1\" class=\"dataframe\">\n",
       "  <thead>\n",
       "    <tr style=\"text-align: right;\">\n",
       "      <th></th>\n",
       "      <th>0</th>\n",
       "    </tr>\n",
       "  </thead>\n",
       "  <tbody>\n",
       "    <tr>\n",
       "      <th>arrAirport_SHA</th>\n",
       "      <td>0.000000</td>\n",
       "    </tr>\n",
       "    <tr>\n",
       "      <th>depAirport_SHA</th>\n",
       "      <td>0.000000</td>\n",
       "    </tr>\n",
       "    <tr>\n",
       "      <th>holiday</th>\n",
       "      <td>0.000042</td>\n",
       "    </tr>\n",
       "    <tr>\n",
       "      <th>Noon</th>\n",
       "      <td>0.000185</td>\n",
       "    </tr>\n",
       "    <tr>\n",
       "      <th>Wednesday</th>\n",
       "      <td>0.000191</td>\n",
       "    </tr>\n",
       "    <tr>\n",
       "      <th>Sunday</th>\n",
       "      <td>0.000198</td>\n",
       "    </tr>\n",
       "    <tr>\n",
       "      <th>Tuesday</th>\n",
       "      <td>0.000275</td>\n",
       "    </tr>\n",
       "    <tr>\n",
       "      <th>Thursday</th>\n",
       "      <td>0.000295</td>\n",
       "    </tr>\n",
       "    <tr>\n",
       "      <th>Morning</th>\n",
       "      <td>0.000313</td>\n",
       "    </tr>\n",
       "    <tr>\n",
       "      <th>Eve</th>\n",
       "      <td>0.000339</td>\n",
       "    </tr>\n",
       "    <tr>\n",
       "      <th>Monday</th>\n",
       "      <td>0.000575</td>\n",
       "    </tr>\n",
       "    <tr>\n",
       "      <th>Hainan Airlines</th>\n",
       "      <td>0.000854</td>\n",
       "    </tr>\n",
       "    <tr>\n",
       "      <th>Saturday</th>\n",
       "      <td>0.001774</td>\n",
       "    </tr>\n",
       "    <tr>\n",
       "      <th>Xiamen Air</th>\n",
       "      <td>0.002221</td>\n",
       "    </tr>\n",
       "    <tr>\n",
       "      <th>dateDifference</th>\n",
       "      <td>0.003193</td>\n",
       "    </tr>\n",
       "    <tr>\n",
       "      <th>Night</th>\n",
       "      <td>0.003629</td>\n",
       "    </tr>\n",
       "    <tr>\n",
       "      <th>Shanghai Airlines</th>\n",
       "      <td>0.003917</td>\n",
       "    </tr>\n",
       "    <tr>\n",
       "      <th>China Southern Airlines</th>\n",
       "      <td>0.004709</td>\n",
       "    </tr>\n",
       "    <tr>\n",
       "      <th>China Eastern Airlines</th>\n",
       "      <td>0.005545</td>\n",
       "    </tr>\n",
       "    <tr>\n",
       "      <th>Juneyao Airlines</th>\n",
       "      <td>0.015650</td>\n",
       "    </tr>\n",
       "    <tr>\n",
       "      <th>First_Class</th>\n",
       "      <td>0.022601</td>\n",
       "    </tr>\n",
       "    <tr>\n",
       "      <th>Economy_Class</th>\n",
       "      <td>0.933493</td>\n",
       "    </tr>\n",
       "  </tbody>\n",
       "</table>\n",
       "</div>"
      ],
      "text/plain": [
       "                                0\n",
       "arrAirport_SHA           0.000000\n",
       "depAirport_SHA           0.000000\n",
       "holiday                  0.000042\n",
       "Noon                     0.000185\n",
       "Wednesday                0.000191\n",
       "Sunday                   0.000198\n",
       "Tuesday                  0.000275\n",
       "Thursday                 0.000295\n",
       "Morning                  0.000313\n",
       "Eve                      0.000339\n",
       "Monday                   0.000575\n",
       "Hainan Airlines          0.000854\n",
       "Saturday                 0.001774\n",
       "Xiamen Air               0.002221\n",
       "dateDifference           0.003193\n",
       "Night                    0.003629\n",
       "Shanghai Airlines        0.003917\n",
       "China Southern Airlines  0.004709\n",
       "China Eastern Airlines   0.005545\n",
       "Juneyao Airlines         0.015650\n",
       "First_Class              0.022601\n",
       "Economy_Class            0.933493"
      ]
     },
     "execution_count": 271,
     "metadata": {},
     "output_type": "execute_result"
    }
   ],
   "source": [
    "pd.DataFrame(Sgdb.feature_importances_, index=X2S_train.columns).sort_values(by=0,ascending=True)"
   ]
  },
  {
   "cell_type": "code",
   "execution_count": 272,
   "metadata": {},
   "outputs": [
    {
     "data": {
      "text/plain": [
       "Economy_Class              uint8\n",
       "First_Class                uint8\n",
       "Monday                     uint8\n",
       "Saturday                   uint8\n",
       "Sunday                     uint8\n",
       "Thursday                   uint8\n",
       "Tuesday                    uint8\n",
       "Wednesday                  uint8\n",
       "China Eastern Airlines     uint8\n",
       "China Southern Airlines    uint8\n",
       "Hainan Airlines            uint8\n",
       "Juneyao Airlines           uint8\n",
       "Shanghai Airlines          uint8\n",
       "Xiamen Air                 uint8\n",
       "Eve                        uint8\n",
       "Morning                    uint8\n",
       "Night                      uint8\n",
       "Noon                       uint8\n",
       "dateDifference             int64\n",
       "arrAirport_SHA             uint8\n",
       "depAirport_SHA             uint8\n",
       "holiday                    int64\n",
       "dtype: object"
      ]
     },
     "execution_count": 272,
     "metadata": {},
     "output_type": "execute_result"
    }
   ],
   "source": [
    "X2S_train.dtypes"
   ]
  },
  {
   "cell_type": "markdown",
   "metadata": {},
   "source": [
    "# AdaBoost"
   ]
  },
  {
   "cell_type": "code",
   "execution_count": 273,
   "metadata": {},
   "outputs": [
    {
     "name": "stdout",
     "output_type": "stream",
     "text": [
      "The Mean squared error for the ada boost model is 19257.627212985837\n",
      "The Root Mean squared error for the ada boost model is 138.77185310064084\n",
      "The R^2 value is : 0.7063761438819496\n"
     ]
    }
   ],
   "source": [
    "# instantaite adaboost model\n",
    "Sada = AdaBoostRegressor()\n",
    "\n",
    "# fit the model to the train data\n",
    "Sada.fit(X2S_train,y2S_train)\n",
    "\n",
    "# get the prediction\n",
    "Sada_preds = Sada.predict(X2S_val)\n",
    "# get the MSE\n",
    "Smse_ada = mean_squared_error(y2S_val, Sada_preds)\n",
    "Srmse_ada = np.sqrt(mean_squared_error(y2S_val, Sada_preds))\n",
    "\n",
    "#print the mse\n",
    "print(f'The Mean squared error for the ada boost model is {Smse_ada}')\n",
    "print(f'The Root Mean squared error for the ada boost model is {Srmse_ada}')\n",
    "print(f'The R^2 value is : {r2_score(y2S_val,Sada_preds)}')"
   ]
  },
  {
   "cell_type": "code",
   "execution_count": 274,
   "metadata": {},
   "outputs": [
    {
     "data": {
      "text/html": [
       "<div>\n",
       "<style scoped>\n",
       "    .dataframe tbody tr th:only-of-type {\n",
       "        vertical-align: middle;\n",
       "    }\n",
       "\n",
       "    .dataframe tbody tr th {\n",
       "        vertical-align: top;\n",
       "    }\n",
       "\n",
       "    .dataframe thead th {\n",
       "        text-align: right;\n",
       "    }\n",
       "</style>\n",
       "<table border=\"1\" class=\"dataframe\">\n",
       "  <thead>\n",
       "    <tr style=\"text-align: right;\">\n",
       "      <th></th>\n",
       "      <th>0</th>\n",
       "    </tr>\n",
       "  </thead>\n",
       "  <tbody>\n",
       "    <tr>\n",
       "      <th>Economy_Class</th>\n",
       "      <td>0.958109</td>\n",
       "    </tr>\n",
       "    <tr>\n",
       "      <th>First_Class</th>\n",
       "      <td>0.015946</td>\n",
       "    </tr>\n",
       "    <tr>\n",
       "      <th>Monday</th>\n",
       "      <td>0.000006</td>\n",
       "    </tr>\n",
       "    <tr>\n",
       "      <th>Saturday</th>\n",
       "      <td>0.000187</td>\n",
       "    </tr>\n",
       "    <tr>\n",
       "      <th>Sunday</th>\n",
       "      <td>0.000000</td>\n",
       "    </tr>\n",
       "    <tr>\n",
       "      <th>Thursday</th>\n",
       "      <td>0.000000</td>\n",
       "    </tr>\n",
       "    <tr>\n",
       "      <th>Tuesday</th>\n",
       "      <td>0.000000</td>\n",
       "    </tr>\n",
       "    <tr>\n",
       "      <th>Wednesday</th>\n",
       "      <td>0.000000</td>\n",
       "    </tr>\n",
       "    <tr>\n",
       "      <th>China Eastern Airlines</th>\n",
       "      <td>0.002741</td>\n",
       "    </tr>\n",
       "    <tr>\n",
       "      <th>China Southern Airlines</th>\n",
       "      <td>0.004754</td>\n",
       "    </tr>\n",
       "    <tr>\n",
       "      <th>Hainan Airlines</th>\n",
       "      <td>0.000024</td>\n",
       "    </tr>\n",
       "    <tr>\n",
       "      <th>Juneyao Airlines</th>\n",
       "      <td>0.011369</td>\n",
       "    </tr>\n",
       "    <tr>\n",
       "      <th>Shanghai Airlines</th>\n",
       "      <td>0.001226</td>\n",
       "    </tr>\n",
       "    <tr>\n",
       "      <th>Xiamen Air</th>\n",
       "      <td>0.000000</td>\n",
       "    </tr>\n",
       "    <tr>\n",
       "      <th>Eve</th>\n",
       "      <td>0.000000</td>\n",
       "    </tr>\n",
       "    <tr>\n",
       "      <th>Morning</th>\n",
       "      <td>0.000000</td>\n",
       "    </tr>\n",
       "    <tr>\n",
       "      <th>Night</th>\n",
       "      <td>0.001164</td>\n",
       "    </tr>\n",
       "    <tr>\n",
       "      <th>Noon</th>\n",
       "      <td>0.000000</td>\n",
       "    </tr>\n",
       "    <tr>\n",
       "      <th>dateDifference</th>\n",
       "      <td>0.004474</td>\n",
       "    </tr>\n",
       "    <tr>\n",
       "      <th>arrAirport_SHA</th>\n",
       "      <td>0.000000</td>\n",
       "    </tr>\n",
       "    <tr>\n",
       "      <th>depAirport_SHA</th>\n",
       "      <td>0.000000</td>\n",
       "    </tr>\n",
       "    <tr>\n",
       "      <th>holiday</th>\n",
       "      <td>0.000000</td>\n",
       "    </tr>\n",
       "  </tbody>\n",
       "</table>\n",
       "</div>"
      ],
      "text/plain": [
       "                                0\n",
       "Economy_Class            0.958109\n",
       "First_Class              0.015946\n",
       "Monday                   0.000006\n",
       "Saturday                 0.000187\n",
       "Sunday                   0.000000\n",
       "Thursday                 0.000000\n",
       "Tuesday                  0.000000\n",
       "Wednesday                0.000000\n",
       "China Eastern Airlines   0.002741\n",
       "China Southern Airlines  0.004754\n",
       "Hainan Airlines          0.000024\n",
       "Juneyao Airlines         0.011369\n",
       "Shanghai Airlines        0.001226\n",
       "Xiamen Air               0.000000\n",
       "Eve                      0.000000\n",
       "Morning                  0.000000\n",
       "Night                    0.001164\n",
       "Noon                     0.000000\n",
       "dateDifference           0.004474\n",
       "arrAirport_SHA           0.000000\n",
       "depAirport_SHA           0.000000\n",
       "holiday                  0.000000"
      ]
     },
     "execution_count": 274,
     "metadata": {},
     "output_type": "execute_result"
    }
   ],
   "source": [
    "pd.DataFrame(Sada.feature_importances_, index=X2S_train.columns)"
   ]
  },
  {
   "cell_type": "code",
   "execution_count": 275,
   "metadata": {},
   "outputs": [
    {
     "name": "stderr",
     "output_type": "stream",
     "text": [
      "//anaconda3/lib/python3.7/site-packages/sklearn/ensemble/forest.py:245: FutureWarning: The default value of n_estimators will change from 10 in version 0.20 to 100 in 0.22.\n",
      "  \"10 in version 0.20 to 100 in 0.22.\", FutureWarning)\n"
     ]
    },
    {
     "name": "stdout",
     "output_type": "stream",
     "text": [
      "The mean squared error for Random Forest Validation Data is: 18892.071278932333 \n",
      "The Root mean squared error for Random Forest Validation Data is: 137.44843134402203 \n",
      "The R^2 value is : 0.7119498286249613\n"
     ]
    }
   ],
   "source": [
    "# instantiate the model\n",
    "Srfr = RandomForestRegressor()\n",
    "\n",
    "# fit the model to training data\n",
    "Srfr.fit(X2S_train, y2S_train)\n",
    "\n",
    "# Get predictions\n",
    "Srfr_preds = Srfr.predict(X2S_val)\n",
    "\n",
    "# get MSE and RMSE for model\n",
    "Smse_rfr = mean_squared_error(y2S_val, Srfr_preds)\n",
    "Srmse_rfr = np.sqrt(mean_squared_error(y2S_val, Srfr_preds))\n",
    "# print Mse\n",
    "print(f'The mean squared error for Random Forest Validation Data is: {Smse_rfr} ')\n",
    "print(f'The Root mean squared error for Random Forest Validation Data is: {Srmse_rfr} ')\n",
    "print(f'The R^2 value is : {r2_score(y2S_val,Srfr_preds)}')"
   ]
  },
  {
   "cell_type": "code",
   "execution_count": 276,
   "metadata": {},
   "outputs": [
    {
     "data": {
      "text/html": [
       "<div>\n",
       "<style scoped>\n",
       "    .dataframe tbody tr th:only-of-type {\n",
       "        vertical-align: middle;\n",
       "    }\n",
       "\n",
       "    .dataframe tbody tr th {\n",
       "        vertical-align: top;\n",
       "    }\n",
       "\n",
       "    .dataframe thead th {\n",
       "        text-align: right;\n",
       "    }\n",
       "</style>\n",
       "<table border=\"1\" class=\"dataframe\">\n",
       "  <thead>\n",
       "    <tr style=\"text-align: right;\">\n",
       "      <th></th>\n",
       "      <th>0</th>\n",
       "    </tr>\n",
       "  </thead>\n",
       "  <tbody>\n",
       "    <tr>\n",
       "      <th>Economy_Class</th>\n",
       "      <td>0.900764</td>\n",
       "    </tr>\n",
       "    <tr>\n",
       "      <th>First_Class</th>\n",
       "      <td>0.019495</td>\n",
       "    </tr>\n",
       "    <tr>\n",
       "      <th>Monday</th>\n",
       "      <td>0.001699</td>\n",
       "    </tr>\n",
       "    <tr>\n",
       "      <th>Saturday</th>\n",
       "      <td>0.002771</td>\n",
       "    </tr>\n",
       "    <tr>\n",
       "      <th>Sunday</th>\n",
       "      <td>0.001713</td>\n",
       "    </tr>\n",
       "    <tr>\n",
       "      <th>Thursday</th>\n",
       "      <td>0.001749</td>\n",
       "    </tr>\n",
       "    <tr>\n",
       "      <th>Tuesday</th>\n",
       "      <td>0.001658</td>\n",
       "    </tr>\n",
       "    <tr>\n",
       "      <th>Wednesday</th>\n",
       "      <td>0.001847</td>\n",
       "    </tr>\n",
       "    <tr>\n",
       "      <th>China Eastern Airlines</th>\n",
       "      <td>0.007377</td>\n",
       "    </tr>\n",
       "    <tr>\n",
       "      <th>China Southern Airlines</th>\n",
       "      <td>0.004515</td>\n",
       "    </tr>\n",
       "    <tr>\n",
       "      <th>Hainan Airlines</th>\n",
       "      <td>0.001844</td>\n",
       "    </tr>\n",
       "    <tr>\n",
       "      <th>Juneyao Airlines</th>\n",
       "      <td>0.015188</td>\n",
       "    </tr>\n",
       "    <tr>\n",
       "      <th>Shanghai Airlines</th>\n",
       "      <td>0.005824</td>\n",
       "    </tr>\n",
       "    <tr>\n",
       "      <th>Xiamen Air</th>\n",
       "      <td>0.002289</td>\n",
       "    </tr>\n",
       "    <tr>\n",
       "      <th>Eve</th>\n",
       "      <td>0.002389</td>\n",
       "    </tr>\n",
       "    <tr>\n",
       "      <th>Morning</th>\n",
       "      <td>0.002442</td>\n",
       "    </tr>\n",
       "    <tr>\n",
       "      <th>Night</th>\n",
       "      <td>0.003889</td>\n",
       "    </tr>\n",
       "    <tr>\n",
       "      <th>Noon</th>\n",
       "      <td>0.002074</td>\n",
       "    </tr>\n",
       "    <tr>\n",
       "      <th>dateDifference</th>\n",
       "      <td>0.017744</td>\n",
       "    </tr>\n",
       "    <tr>\n",
       "      <th>arrAirport_SHA</th>\n",
       "      <td>0.000000</td>\n",
       "    </tr>\n",
       "    <tr>\n",
       "      <th>depAirport_SHA</th>\n",
       "      <td>0.000000</td>\n",
       "    </tr>\n",
       "    <tr>\n",
       "      <th>holiday</th>\n",
       "      <td>0.002728</td>\n",
       "    </tr>\n",
       "  </tbody>\n",
       "</table>\n",
       "</div>"
      ],
      "text/plain": [
       "                                0\n",
       "Economy_Class            0.900764\n",
       "First_Class              0.019495\n",
       "Monday                   0.001699\n",
       "Saturday                 0.002771\n",
       "Sunday                   0.001713\n",
       "Thursday                 0.001749\n",
       "Tuesday                  0.001658\n",
       "Wednesday                0.001847\n",
       "China Eastern Airlines   0.007377\n",
       "China Southern Airlines  0.004515\n",
       "Hainan Airlines          0.001844\n",
       "Juneyao Airlines         0.015188\n",
       "Shanghai Airlines        0.005824\n",
       "Xiamen Air               0.002289\n",
       "Eve                      0.002389\n",
       "Morning                  0.002442\n",
       "Night                    0.003889\n",
       "Noon                     0.002074\n",
       "dateDifference           0.017744\n",
       "arrAirport_SHA           0.000000\n",
       "depAirport_SHA           0.000000\n",
       "holiday                  0.002728"
      ]
     },
     "execution_count": 276,
     "metadata": {},
     "output_type": "execute_result"
    }
   ],
   "source": [
    "pd.DataFrame(Srfr.feature_importances_, index=X2S_train.columns)"
   ]
  },
  {
   "cell_type": "code",
   "execution_count": null,
   "metadata": {},
   "outputs": [],
   "source": []
  },
  {
   "cell_type": "code",
   "execution_count": 374,
   "metadata": {},
   "outputs": [
    {
     "data": {
      "text/html": [
       "<div>\n",
       "<style scoped>\n",
       "    .dataframe tbody tr th:only-of-type {\n",
       "        vertical-align: middle;\n",
       "    }\n",
       "\n",
       "    .dataframe tbody tr th {\n",
       "        vertical-align: top;\n",
       "    }\n",
       "\n",
       "    .dataframe thead th {\n",
       "        text-align: right;\n",
       "    }\n",
       "</style>\n",
       "<table border=\"1\" class=\"dataframe\">\n",
       "  <thead>\n",
       "    <tr style=\"text-align: right;\">\n",
       "      <th></th>\n",
       "      <th>cabinClass</th>\n",
       "      <th>price</th>\n",
       "    </tr>\n",
       "  </thead>\n",
       "  <tbody>\n",
       "    <tr>\n",
       "      <th>0</th>\n",
       "      <td>0</td>\n",
       "      <td>167.255201</td>\n",
       "    </tr>\n",
       "    <tr>\n",
       "      <th>1</th>\n",
       "      <td>1</td>\n",
       "      <td>577.310468</td>\n",
       "    </tr>\n",
       "    <tr>\n",
       "      <th>2</th>\n",
       "      <td>2</td>\n",
       "      <td>688.021957</td>\n",
       "    </tr>\n",
       "  </tbody>\n",
       "</table>\n",
       "</div>"
      ],
      "text/plain": [
       "   cabinClass       price\n",
       "0           0  167.255201\n",
       "1           1  577.310468\n",
       "2           2  688.021957"
      ]
     },
     "execution_count": 374,
     "metadata": {},
     "output_type": "execute_result"
    }
   ],
   "source": [
    "yyyyy"
   ]
  },
  {
   "cell_type": "code",
   "execution_count": 377,
   "metadata": {},
   "outputs": [
    {
     "ename": "KeyError",
     "evalue": "0",
     "output_type": "error",
     "traceback": [
      "\u001b[0;31m---------------------------------------------------------------------------\u001b[0m",
      "\u001b[0;31mKeyError\u001b[0m                                  Traceback (most recent call last)",
      "\u001b[0;32m<ipython-input-377-af22f8a05b1b>\u001b[0m in \u001b[0;36m<module>\u001b[0;34m\u001b[0m\n\u001b[1;32m      1\u001b[0m \u001b[0myy_key\u001b[0m \u001b[0;34m=\u001b[0m \u001b[0;34m{\u001b[0m\u001b[0;34m'Economy'\u001b[0m\u001b[0;34m:\u001b[0m\u001b[0;36m0\u001b[0m\u001b[0;34m,\u001b[0m\u001b[0;34m'Business'\u001b[0m\u001b[0;34m:\u001b[0m\u001b[0;36m1\u001b[0m\u001b[0;34m,\u001b[0m\u001b[0;34m'First Class'\u001b[0m\u001b[0;34m:\u001b[0m\u001b[0;36m2\u001b[0m\u001b[0;34m}\u001b[0m\u001b[0;34m\u001b[0m\u001b[0;34m\u001b[0m\u001b[0m\n\u001b[1;32m      2\u001b[0m \u001b[0;31m# make a list comphrehension and iterate through the series replacing all the letters with numbers\u001b[0m\u001b[0;34m\u001b[0m\u001b[0;34m\u001b[0m\u001b[0;34m\u001b[0m\u001b[0m\n\u001b[0;32m----> 3\u001b[0;31m \u001b[0;34m[\u001b[0m\u001b[0myy_key\u001b[0m\u001b[0;34m[\u001b[0m\u001b[0mletter\u001b[0m\u001b[0;34m]\u001b[0m \u001b[0;32mfor\u001b[0m \u001b[0mletter\u001b[0m \u001b[0;32min\u001b[0m \u001b[0myyyyy\u001b[0m\u001b[0;34m.\u001b[0m\u001b[0mcabinClass\u001b[0m\u001b[0;34m]\u001b[0m\u001b[0;34m\u001b[0m\u001b[0;34m\u001b[0m\u001b[0m\n\u001b[0m",
      "\u001b[0;32m<ipython-input-377-af22f8a05b1b>\u001b[0m in \u001b[0;36m<listcomp>\u001b[0;34m(.0)\u001b[0m\n\u001b[1;32m      1\u001b[0m \u001b[0myy_key\u001b[0m \u001b[0;34m=\u001b[0m \u001b[0;34m{\u001b[0m\u001b[0;34m'Economy'\u001b[0m\u001b[0;34m:\u001b[0m\u001b[0;36m0\u001b[0m\u001b[0;34m,\u001b[0m\u001b[0;34m'Business'\u001b[0m\u001b[0;34m:\u001b[0m\u001b[0;36m1\u001b[0m\u001b[0;34m,\u001b[0m\u001b[0;34m'First Class'\u001b[0m\u001b[0;34m:\u001b[0m\u001b[0;36m2\u001b[0m\u001b[0;34m}\u001b[0m\u001b[0;34m\u001b[0m\u001b[0;34m\u001b[0m\u001b[0m\n\u001b[1;32m      2\u001b[0m \u001b[0;31m# make a list comphrehension and iterate through the series replacing all the letters with numbers\u001b[0m\u001b[0;34m\u001b[0m\u001b[0;34m\u001b[0m\u001b[0;34m\u001b[0m\u001b[0m\n\u001b[0;32m----> 3\u001b[0;31m \u001b[0;34m[\u001b[0m\u001b[0myy_key\u001b[0m\u001b[0;34m[\u001b[0m\u001b[0mletter\u001b[0m\u001b[0;34m]\u001b[0m \u001b[0;32mfor\u001b[0m \u001b[0mletter\u001b[0m \u001b[0;32min\u001b[0m \u001b[0myyyyy\u001b[0m\u001b[0;34m.\u001b[0m\u001b[0mcabinClass\u001b[0m\u001b[0;34m]\u001b[0m\u001b[0;34m\u001b[0m\u001b[0;34m\u001b[0m\u001b[0m\n\u001b[0m",
      "\u001b[0;31mKeyError\u001b[0m: 0"
     ]
    }
   ],
   "source": [
    "yy_key = {'Economy':0,'Business':1,'First Class':2}\n",
    "# make a list comphrehension and iterate through the series replacing all the letters with numbers\n",
    "[yy_key[letter] for letter in yyyyy.cabinClass]"
   ]
  },
  {
   "cell_type": "markdown",
   "metadata": {},
   "source": [
    "# PEK - SHA models"
   ]
  },
  {
   "cell_type": "code",
   "execution_count": null,
   "metadata": {},
   "outputs": [],
   "source": [
    "# make variables and do train test split"
   ]
  },
  {
   "cell_type": "code",
   "execution_count": 277,
   "metadata": {},
   "outputs": [],
   "source": [
    "X2P = pek_pdf.drop(['price','exc_rateC-U','pricePaid','rate','cabinClass',\n",
    "                   'flightNumber','departureDate_hod','departureDate_dofweek',\n",
    "                   'arrivalDate_dofweek','createDate_dofweek'],axis=1)\n",
    "y2P = pek_pdf['price']"
   ]
  },
  {
   "cell_type": "code",
   "execution_count": 278,
   "metadata": {},
   "outputs": [],
   "source": [
    "# do train test split\n",
    "X2P_train,X2P_test,y2P_train,y2P_test = train_test_split(X2P,y2P, test_size=.2,random_state=1)"
   ]
  },
  {
   "cell_type": "code",
   "execution_count": 279,
   "metadata": {},
   "outputs": [],
   "source": [
    "# make validation set\n",
    "X2P_train,X2P_val, y2P_train,y2P_val = train_test_split(X2P_train,y2P_train,test_size=.2,random_state=1)"
   ]
  },
  {
   "cell_type": "code",
   "execution_count": 280,
   "metadata": {},
   "outputs": [
    {
     "data": {
      "text/plain": [
       "(192214, 22)"
      ]
     },
     "execution_count": 280,
     "metadata": {},
     "output_type": "execute_result"
    }
   ],
   "source": [
    "X2P_train.shape"
   ]
  },
  {
   "cell_type": "code",
   "execution_count": 281,
   "metadata": {},
   "outputs": [
    {
     "data": {
      "text/plain": [
       "Economy_Class              uint8\n",
       "First_Class                uint8\n",
       "Monday                     uint8\n",
       "Saturday                   uint8\n",
       "Sunday                     uint8\n",
       "Thursday                   uint8\n",
       "Tuesday                    uint8\n",
       "Wednesday                  uint8\n",
       "China Eastern Airlines     uint8\n",
       "China Southern Airlines    uint8\n",
       "Hainan Airlines            uint8\n",
       "Juneyao Airlines           uint8\n",
       "Shanghai Airlines          uint8\n",
       "Xiamen Air                 uint8\n",
       "Eve                        uint8\n",
       "Morning                    uint8\n",
       "Night                      uint8\n",
       "Noon                       uint8\n",
       "dateDifference             int64\n",
       "arrAirport_SHA             uint8\n",
       "depAirport_SHA             uint8\n",
       "holiday                    int64\n",
       "dtype: object"
      ]
     },
     "execution_count": 281,
     "metadata": {},
     "output_type": "execute_result"
    }
   ],
   "source": [
    "X2P_train.dtypes"
   ]
  },
  {
   "cell_type": "markdown",
   "metadata": {},
   "source": [
    "# Sha-Pek Models"
   ]
  },
  {
   "cell_type": "markdown",
   "metadata": {},
   "source": [
    "# Linear Regression"
   ]
  },
  {
   "cell_type": "code",
   "execution_count": 282,
   "metadata": {},
   "outputs": [
    {
     "name": "stdout",
     "output_type": "stream",
     "text": [
      "The Mean Squared Error For Linear Regression Vanilla Is: 18570.83492146593\n",
      "the Root Mean Squared Error is : 136.27485065655338\n",
      "The R^2 value is : 0.7251203470158206\n"
     ]
    }
   ],
   "source": [
    "# instantiate the model\n",
    "Plinreg = LinearRegression()\n",
    "# fit the model to the train data\n",
    "Plinreg.fit(X2P_train,y2P_train)\n",
    "\n",
    "# get the prediction\n",
    "Py_preds = Plinreg.predict(X2P_val)\n",
    "\n",
    "# calculate the mse and rmse\n",
    "Pmse_linreg = mean_squared_error(y2P_val, Py_preds)\n",
    "Prmse_linreg = np.sqrt(mean_squared_error(y2P_val, Py_preds))\n",
    "\n",
    "print(f'the mean squared error for Linear Regression Vanilla is: {Pmse_linreg}'.title())\n",
    "print(f'the Root Mean Squared Error is : {Prmse_linreg}')\n",
    "print(f'The R^2 value is : {r2_score(y2P_val,Py_preds)}')"
   ]
  },
  {
   "cell_type": "code",
   "execution_count": 283,
   "metadata": {},
   "outputs": [
    {
     "name": "stderr",
     "output_type": "stream",
     "text": [
      "//anaconda3/lib/python3.7/site-packages/xgboost/core.py:587: FutureWarning: Series.base is deprecated and will be removed in a future version\n",
      "  if getattr(data, 'base', None) is not None and \\\n"
     ]
    },
    {
     "name": "stdout",
     "output_type": "stream",
     "text": [
      "[11:52:42] WARNING: src/objective/regression_obj.cu:152: reg:linear is now deprecated in favor of reg:squarederror.\n",
      "the Mean Squared Error is : 17620.499769708702\n",
      "the Root Mean Squared Error is : 132.74223054366948\n",
      "The R^2 value is : 0.7391869087960743\n"
     ]
    }
   ],
   "source": [
    "# instantiate the model\n",
    "Pxgb = xgboost.XGBRegressor()\n",
    "# fit the model to training data\n",
    "Pxgb.fit(X2P_train,y2P_train)\n",
    "# get predictions\n",
    "Pxgb_y_preds = Pxgb.predict(X2P_val)\n",
    "# get mse and rmse\n",
    "Pmse_xgb = mean_squared_error(y2P_val,Pxgb_y_preds)\n",
    "Prmse_xgb = np.sqrt(mean_squared_error(y2P_val,Pxgb_y_preds))\n",
    "print(f'the Mean Squared Error is : {Pmse_xgb}')\n",
    "print(f'the Root Mean Squared Error is : {Prmse_xgb}')\n",
    "print(f'The R^2 value is : {r2_score(y2P_val,Pxgb_y_preds)}')"
   ]
  },
  {
   "cell_type": "code",
   "execution_count": 284,
   "metadata": {},
   "outputs": [
    {
     "name": "stdout",
     "output_type": "stream",
     "text": [
      "the mean squared error for gradient boosting test data is 17622.054138398573\n",
      "the root mean squared error is:132.74808525322908\n",
      "The R^2 value is : 0.739163901519994\n"
     ]
    }
   ],
   "source": [
    "# instantiate the model\n",
    "Pgdb = GradientBoostingRegressor()\n",
    "# fit the model to training data\n",
    "Pgdb.fit(X2P_train,y2P_train)\n",
    "\n",
    "# get predictions\n",
    "Pgdb_preds = Pgdb.predict(X2P_val)\n",
    "\n",
    "#get MeanSE\n",
    "Pmse_gdb = mean_squared_error(Pgdb_preds,y2P_val)\n",
    "Prmse_gdb = np.sqrt(mean_squared_error(Pgdb_preds,y2P_val))\n",
    "print(f'the mean squared error for gradient boosting test data is {Pmse_gdb}')\n",
    "print(f'the root mean squared error is:{Prmse_gdb}')\n",
    "print(f'The R^2 value is : {r2_score(y2P_val,Pgdb_preds)}')"
   ]
  },
  {
   "cell_type": "code",
   "execution_count": 285,
   "metadata": {},
   "outputs": [],
   "source": [
    "gdb_features = pd.DataFrame(Pgdb.feature_importances_, index=X2P_train.columns).sort_values(by=0,ascending=False)"
   ]
  },
  {
   "cell_type": "code",
   "execution_count": 286,
   "metadata": {},
   "outputs": [
    {
     "data": {
      "text/html": [
       "<div>\n",
       "<style scoped>\n",
       "    .dataframe tbody tr th:only-of-type {\n",
       "        vertical-align: middle;\n",
       "    }\n",
       "\n",
       "    .dataframe tbody tr th {\n",
       "        vertical-align: top;\n",
       "    }\n",
       "\n",
       "    .dataframe thead th {\n",
       "        text-align: right;\n",
       "    }\n",
       "</style>\n",
       "<table border=\"1\" class=\"dataframe\">\n",
       "  <thead>\n",
       "    <tr style=\"text-align: right;\">\n",
       "      <th></th>\n",
       "      <th>0</th>\n",
       "    </tr>\n",
       "  </thead>\n",
       "  <tbody>\n",
       "    <tr>\n",
       "      <th>Economy_Class</th>\n",
       "      <td>0.927954</td>\n",
       "    </tr>\n",
       "    <tr>\n",
       "      <th>First_Class</th>\n",
       "      <td>0.021323</td>\n",
       "    </tr>\n",
       "    <tr>\n",
       "      <th>Juneyao Airlines</th>\n",
       "      <td>0.014655</td>\n",
       "    </tr>\n",
       "    <tr>\n",
       "      <th>China Eastern Airlines</th>\n",
       "      <td>0.007578</td>\n",
       "    </tr>\n",
       "    <tr>\n",
       "      <th>Saturday</th>\n",
       "      <td>0.006103</td>\n",
       "    </tr>\n",
       "  </tbody>\n",
       "</table>\n",
       "</div>"
      ],
      "text/plain": [
       "                               0\n",
       "Economy_Class           0.927954\n",
       "First_Class             0.021323\n",
       "Juneyao Airlines        0.014655\n",
       "China Eastern Airlines  0.007578\n",
       "Saturday                0.006103"
      ]
     },
     "execution_count": 286,
     "metadata": {},
     "output_type": "execute_result"
    }
   ],
   "source": [
    "gdb_features.head()"
   ]
  },
  {
   "cell_type": "code",
   "execution_count": 287,
   "metadata": {},
   "outputs": [
    {
     "data": {
      "image/png": "[encoded data removed]",
      "text/plain": [
       "<Figure size 432x288 with 1 Axes>"
      ]
     },
     "metadata": {
      "needs_background": "light"
     },
     "output_type": "display_data"
    }
   ],
   "source": [
    "sns.barplot(x=gdb_features.index,y=gdb_features[0]);\n",
    "plt.xticks(rotation=90);"
   ]
  },
  {
   "cell_type": "code",
   "execution_count": null,
   "metadata": {},
   "outputs": [],
   "source": []
  },
  {
   "cell_type": "code",
   "execution_count": null,
   "metadata": {},
   "outputs": [],
   "source": []
  },
  {
   "cell_type": "code",
   "execution_count": 288,
   "metadata": {},
   "outputs": [
    {
     "name": "stdout",
     "output_type": "stream",
     "text": [
      "The Mean squared error for the ada boost model is 19358.32779749347\n",
      "The Root Mean squared error for the ada boost model is 139.1342078623854\n",
      "The R^2 value is : 0.7134641253432155\n"
     ]
    }
   ],
   "source": [
    "# instantaite adaboost model\n",
    "Pada = AdaBoostRegressor()\n",
    "\n",
    "# fit the model to the train data\n",
    "Pada.fit(X2P_train,y2P_train)\n",
    "\n",
    "# get the prediction\n",
    "Pada_preds = Pada.predict(X2P_val)\n",
    "# get the MSE\n",
    "Pmse_ada = mean_squared_error(y2P_val, Pada_preds)\n",
    "Prmse_ada = np.sqrt(mean_squared_error(y2P_val, Pada_preds))\n",
    "\n",
    "#print the mse\n",
    "print(f'The Mean squared error for the ada boost model is {Pmse_ada}')\n",
    "print(f'The Root Mean squared error for the ada boost model is {Prmse_ada}')\n",
    "print(f'The R^2 value is : {r2_score(y2P_val,Pada_preds)}')"
   ]
  },
  {
   "cell_type": "code",
   "execution_count": 289,
   "metadata": {},
   "outputs": [
    {
     "name": "stderr",
     "output_type": "stream",
     "text": [
      "//anaconda3/lib/python3.7/site-packages/sklearn/ensemble/forest.py:245: FutureWarning: The default value of n_estimators will change from 10 in version 0.20 to 100 in 0.22.\n",
      "  \"10 in version 0.20 to 100 in 0.22.\", FutureWarning)\n"
     ]
    },
    {
     "name": "stdout",
     "output_type": "stream",
     "text": [
      "The mean squared error for Random Forest Validation Data is: 17965.165821963958 \n",
      "The Root mean squared error for Random Forest Validation Data is: 134.0341964647976 \n",
      "The R^2 value is : 0.7340852703807847\n"
     ]
    }
   ],
   "source": [
    "# instantiate the model\n",
    "Prfr = RandomForestRegressor()\n",
    "\n",
    "# fit the model to training data\n",
    "Prfr.fit(X2P_train, y2P_train)\n",
    "\n",
    "# Get predictions\n",
    "Prfr_preds = Prfr.predict(X2P_val)\n",
    "\n",
    "# get MSE and RMSE for model\n",
    "Pmse_rfr = mean_squared_error(y2P_val, Prfr_preds)\n",
    "Prmse_rfr = np.sqrt(mean_squared_error(y2P_val, Prfr_preds))\n",
    "# print Mse\n",
    "print(f'The mean squared error for Random Forest Validation Data is: {Pmse_rfr} ')\n",
    "print(f'The Root mean squared error for Random Forest Validation Data is: {Prmse_rfr} ')\n",
    "print(f'The R^2 value is : {r2_score(y2P_val,Prfr_preds)}')"
   ]
  },
  {
   "cell_type": "code",
   "execution_count": 290,
   "metadata": {},
   "outputs": [],
   "source": [
    "from sklearn.metrics import mean_squared_error\n",
    "from math import sqrt"
   ]
  },
  {
   "cell_type": "markdown",
   "metadata": {},
   "source": [
    "# AdaBoost HyperParameter tuning"
   ]
  },
  {
   "cell_type": "code",
   "execution_count": null,
   "metadata": {},
   "outputs": [],
   "source": [
    "%%time\n",
    "#adat = AdaBoostRegressor(random_state=1,\n",
    "#                          n_estimators = 500,\n",
    " #                         learning_rate = .1\n",
    "  #                      )\n",
    "#fit the model\n",
    "\n",
    "#adat.fit(X2S_train, y2S_train)\n"
   ]
  },
  {
   "cell_type": "code",
   "execution_count": null,
   "metadata": {},
   "outputs": [],
   "source": [
    "#adat_preds = adat.predict(X2S_val)"
   ]
  },
  {
   "cell_type": "code",
   "execution_count": null,
   "metadata": {},
   "outputs": [],
   "source": [
    "#adat_preds.shape"
   ]
  },
  {
   "cell_type": "code",
   "execution_count": null,
   "metadata": {},
   "outputs": [],
   "source": [
    "# adat_mse = mean_squared_error(y2S_val,adat_preds)\n",
    "# adat_rmse = np.sqrt(adat_mse)\n",
    "# adat_rmse"
   ]
  },
  {
   "cell_type": "code",
   "execution_count": null,
   "metadata": {},
   "outputs": [],
   "source": []
  },
  {
   "cell_type": "code",
   "execution_count": 301,
   "metadata": {},
   "outputs": [
    {
     "data": {
      "text/plain": [
       "Index(['Economy_Class', 'First_Class', 'Monday', 'Saturday', 'Sunday',\n",
       "       'Thursday', 'Tuesday', 'Wednesday', 'China Eastern Airlines',\n",
       "       'China Southern Airlines', 'Hainan Airlines', 'Juneyao Airlines',\n",
       "       'Shanghai Airlines', 'Xiamen Air', 'Eve', 'Morning', 'Night', 'Noon',\n",
       "       'flightNumber', 'cabinClass', 'price', 'rate', 'dateDifference',\n",
       "       'departureDate_dofweek', 'arrivalDate_dofweek', 'createDate_dofweek',\n",
       "       'pricePaid', 'arrAirport_SHA', 'depAirport_SHA', 'holiday',\n",
       "       'exc_rateC-U', 'departureDate_hod'],\n",
       "      dtype='object')"
      ]
     },
     "execution_count": 301,
     "metadata": {},
     "output_type": "execute_result"
    }
   ],
   "source": [
    "no_out_df.columns"
   ]
  },
  {
   "cell_type": "markdown",
   "metadata": {},
   "source": [
    "# No first class or economy feature"
   ]
  },
  {
   "cell_type": "code",
   "execution_count": 330,
   "metadata": {},
   "outputs": [],
   "source": [
    " # make variables \n",
    "X2U = no_out_df.drop(['price','exc_rateC-U','pricePaid','rate','cabinClass',\n",
    "                'departureDate_hod','departureDate_dofweek','flightNumber',\n",
    "                'arrivalDate_dofweek','createDate_dofweek',\n",
    "                     'Economy_Class', 'First_Class'],axis=1)\n",
    "y2U = no_out_df['price']"
   ]
  },
  {
   "cell_type": "code",
   "execution_count": 331,
   "metadata": {},
   "outputs": [],
   "source": [
    "# do train test split\n",
    "X2U_train,X2U_test,y2U_train,y2U_test = train_test_split(X2U,y2U, test_size=.2,random_state=1)"
   ]
  },
  {
   "cell_type": "code",
   "execution_count": 332,
   "metadata": {},
   "outputs": [],
   "source": [
    "# make validation set\n",
    "X2U_train,X2U_val, y2U_train,y2U_val = train_test_split(X2U_train,y2U_train,test_size=.2,random_state=1)"
   ]
  },
  {
   "cell_type": "markdown",
   "metadata": {},
   "source": [
    "# Linear Regression UpSample"
   ]
  },
  {
   "cell_type": "code",
   "execution_count": 333,
   "metadata": {},
   "outputs": [
    {
     "name": "stdout",
     "output_type": "stream",
     "text": [
      "The Mean Squared Error For Linear Regression Vanilla Is: 62329.714299016705\n",
      "the Root Mean Squared Error is : 249.6591963037146\n",
      "The R^2 value is : 0.06668335518692325\n"
     ]
    }
   ],
   "source": [
    "# instantiate the model\n",
    "Ulinreg = LinearRegression()\n",
    "# fit the model to the train data\n",
    "Ulinreg.fit(X2U_train,y2U_train)\n",
    "\n",
    "# get the prediction\n",
    "Uy_preds = Ulinreg.predict(X2U_val)\n",
    "\n",
    "# calculate the mse and rmse\n",
    "Umse_linreg = mean_squared_error(y2U_val, Uy_preds)\n",
    "Urmse_linreg = np.sqrt(mean_squared_error(y2U_val, Uy_preds))\n",
    "\n",
    "print(f'the mean squared error for Linear Regression Vanilla is: {Umse_linreg}'.title())\n",
    "print(f'the Root Mean Squared Error is : {Urmse_linreg}')\n",
    "print(f'The R^2 value is : {r2_score(y2U_val,Uy_preds)}')"
   ]
  },
  {
   "cell_type": "code",
   "execution_count": 334,
   "metadata": {},
   "outputs": [
    {
     "data": {
      "text/plain": [
       "(364106, 20)"
      ]
     },
     "execution_count": 334,
     "metadata": {},
     "output_type": "execute_result"
    }
   ],
   "source": [
    "X2U_train.shape"
   ]
  },
  {
   "cell_type": "markdown",
   "metadata": {},
   "source": [
    "# XG Boost UpSample"
   ]
  },
  {
   "cell_type": "code",
   "execution_count": 335,
   "metadata": {},
   "outputs": [
    {
     "name": "stderr",
     "output_type": "stream",
     "text": [
      "//anaconda3/lib/python3.7/site-packages/xgboost/core.py:587: FutureWarning: Series.base is deprecated and will be removed in a future version\n",
      "  if getattr(data, 'base', None) is not None and \\\n"
     ]
    },
    {
     "name": "stdout",
     "output_type": "stream",
     "text": [
      "[12:20:37] WARNING: src/objective/regression_obj.cu:152: reg:linear is now deprecated in favor of reg:squarederror.\n",
      "the Mean Squared Error is : 61892.94089276182\n",
      "the Root Mean Squared Error is : 248.78291921424554\n",
      "The R^2 value is : 0.07322354062903447\n"
     ]
    }
   ],
   "source": [
    "# instantiate the model\n",
    "Uxgb = xgboost.XGBRegressor()\n",
    "# fit the model to training data\n",
    "Uxgb.fit(X2U_train,y2U_train)\n",
    "# get predictions\n",
    "Uxgb_y_preds = Uxgb.predict(X2U_val)\n",
    "# get mse and rmse\n",
    "Umse_xgb = mean_squared_error(y2U_val,Uxgb_y_preds)\n",
    "Urmse_xgb = np.sqrt(mean_squared_error(y2U_val,Uxgb_y_preds))\n",
    "print(f'the Mean Squared Error is : {Umse_xgb}')\n",
    "print(f'the Root Mean Squared Error is : {Urmse_xgb}')\n",
    "print(f'The R^2 value is : {r2_score(y2U_val,Uxgb_y_preds)}')"
   ]
  },
  {
   "cell_type": "code",
   "execution_count": 336,
   "metadata": {},
   "outputs": [
    {
     "data": {
      "image/png": "[encoded data removed]",
      "text/plain": [
       "<Figure size 432x288 with 1 Axes>"
      ]
     },
     "metadata": {
      "needs_background": "light"
     },
     "output_type": "display_data"
    }
   ],
   "source": [
    "# check feature importance\n",
    "xg_feats = pd.DataFrame(Uxgb.feature_importances_, index=X2U_train.columns).sort_values(by=0,ascending=False)\n",
    "sns.barplot(x=xg_feats.index,y=xg_feats[0])\n",
    "plt.xticks(rotation=90);\n",
    "plt.title(\"Feature Importance Without Cabin Class\");\n",
    "plt.xlabel('Features');\n",
    "plt.ylabel('Importance');"
   ]
  },
  {
   "cell_type": "code",
   "execution_count": 349,
   "metadata": {},
   "outputs": [
    {
     "data": {
      "text/plain": [
       "Index(['Economy_Class', 'First_Class', 'Monday', 'Saturday', 'Sunday',\n",
       "       'Thursday', 'Tuesday', 'Wednesday', 'China Eastern Airlines',\n",
       "       'China Southern Airlines', 'Hainan Airlines', 'Juneyao Airlines',\n",
       "       'Shanghai Airlines', 'Xiamen Air', 'Eve', 'Morning', 'Night', 'Noon',\n",
       "       'ID', 'flightNumber', 'craftTypeCode', 'departureDate', 'arrivalDate',\n",
       "       'cabinClass', 'priceClass', 'price', 'rate', 'createDate',\n",
       "       'dateDifference', 'departureDate_dofweek', 'arrivalDate_dofweek',\n",
       "       'createDate_dofweek', 'pricePaid', 'airline', 'arrAirport_SHA',\n",
       "       'depAirport_SHA', 'holiday', 'just_departureDate', 'exc_rateC-U',\n",
       "       'departureDate_tod', 'departureDate_hod', 'departureDate_pod',\n",
       "       'cabinClass_type'],\n",
       "      dtype='object')"
      ]
     },
     "execution_count": 349,
     "metadata": {},
     "output_type": "execute_result"
    }
   ],
   "source": [
    "df.columns"
   ]
  },
  {
   "cell_type": "code",
   "execution_count": 355,
   "metadata": {},
   "outputs": [],
   "source": [
    "econ = df[df['cabinClass']==0]\n",
    "busi = df[df['cabinClass']==1]\n",
    "first = df[df['cabinClass']==2]"
   ]
  },
  {
   "cell_type": "code",
   "execution_count": 360,
   "metadata": {},
   "outputs": [
    {
     "data": {
      "text/html": [
       "<div>\n",
       "<style scoped>\n",
       "    .dataframe tbody tr th:only-of-type {\n",
       "        vertical-align: middle;\n",
       "    }\n",
       "\n",
       "    .dataframe tbody tr th {\n",
       "        vertical-align: top;\n",
       "    }\n",
       "\n",
       "    .dataframe thead th {\n",
       "        text-align: right;\n",
       "    }\n",
       "</style>\n",
       "<table border=\"1\" class=\"dataframe\">\n",
       "  <thead>\n",
       "    <tr style=\"text-align: right;\">\n",
       "      <th></th>\n",
       "      <th>Economy_Class</th>\n",
       "      <th>First_Class</th>\n",
       "      <th>Monday</th>\n",
       "      <th>Saturday</th>\n",
       "      <th>Sunday</th>\n",
       "      <th>Thursday</th>\n",
       "      <th>Tuesday</th>\n",
       "      <th>Wednesday</th>\n",
       "      <th>China Eastern Airlines</th>\n",
       "      <th>China Southern Airlines</th>\n",
       "      <th>...</th>\n",
       "      <th>airline</th>\n",
       "      <th>arrAirport_SHA</th>\n",
       "      <th>depAirport_SHA</th>\n",
       "      <th>holiday</th>\n",
       "      <th>just_departureDate</th>\n",
       "      <th>exc_rateC-U</th>\n",
       "      <th>departureDate_tod</th>\n",
       "      <th>departureDate_hod</th>\n",
       "      <th>departureDate_pod</th>\n",
       "      <th>cabinClass_type</th>\n",
       "    </tr>\n",
       "  </thead>\n",
       "  <tbody>\n",
       "    <tr>\n",
       "      <th>162</th>\n",
       "      <td>1</td>\n",
       "      <td>0</td>\n",
       "      <td>0</td>\n",
       "      <td>0</td>\n",
       "      <td>0</td>\n",
       "      <td>0</td>\n",
       "      <td>0</td>\n",
       "      <td>0</td>\n",
       "      <td>0</td>\n",
       "      <td>0</td>\n",
       "      <td>...</td>\n",
       "      <td>Juneyao Airlines</td>\n",
       "      <td>1</td>\n",
       "      <td>0</td>\n",
       "      <td>1</td>\n",
       "      <td>2019-01-04</td>\n",
       "      <td>0.145669</td>\n",
       "      <td>06:35:00</td>\n",
       "      <td>6</td>\n",
       "      <td>Early Morning</td>\n",
       "      <td>Economy_Class</td>\n",
       "    </tr>\n",
       "    <tr>\n",
       "      <th>163</th>\n",
       "      <td>1</td>\n",
       "      <td>0</td>\n",
       "      <td>0</td>\n",
       "      <td>0</td>\n",
       "      <td>0</td>\n",
       "      <td>0</td>\n",
       "      <td>0</td>\n",
       "      <td>0</td>\n",
       "      <td>0</td>\n",
       "      <td>0</td>\n",
       "      <td>...</td>\n",
       "      <td>Juneyao Airlines</td>\n",
       "      <td>1</td>\n",
       "      <td>0</td>\n",
       "      <td>1</td>\n",
       "      <td>2019-01-04</td>\n",
       "      <td>0.145669</td>\n",
       "      <td>06:35:00</td>\n",
       "      <td>6</td>\n",
       "      <td>Early Morning</td>\n",
       "      <td>Economy_Class</td>\n",
       "    </tr>\n",
       "    <tr>\n",
       "      <th>164</th>\n",
       "      <td>1</td>\n",
       "      <td>0</td>\n",
       "      <td>0</td>\n",
       "      <td>0</td>\n",
       "      <td>0</td>\n",
       "      <td>0</td>\n",
       "      <td>0</td>\n",
       "      <td>0</td>\n",
       "      <td>0</td>\n",
       "      <td>0</td>\n",
       "      <td>...</td>\n",
       "      <td>Juneyao Airlines</td>\n",
       "      <td>1</td>\n",
       "      <td>0</td>\n",
       "      <td>1</td>\n",
       "      <td>2019-01-04</td>\n",
       "      <td>0.145669</td>\n",
       "      <td>06:35:00</td>\n",
       "      <td>6</td>\n",
       "      <td>Early Morning</td>\n",
       "      <td>Economy_Class</td>\n",
       "    </tr>\n",
       "    <tr>\n",
       "      <th>165</th>\n",
       "      <td>1</td>\n",
       "      <td>0</td>\n",
       "      <td>0</td>\n",
       "      <td>0</td>\n",
       "      <td>0</td>\n",
       "      <td>0</td>\n",
       "      <td>0</td>\n",
       "      <td>0</td>\n",
       "      <td>0</td>\n",
       "      <td>0</td>\n",
       "      <td>...</td>\n",
       "      <td>Juneyao Airlines</td>\n",
       "      <td>1</td>\n",
       "      <td>0</td>\n",
       "      <td>1</td>\n",
       "      <td>2019-01-04</td>\n",
       "      <td>0.145669</td>\n",
       "      <td>06:35:00</td>\n",
       "      <td>6</td>\n",
       "      <td>Early Morning</td>\n",
       "      <td>Economy_Class</td>\n",
       "    </tr>\n",
       "    <tr>\n",
       "      <th>166</th>\n",
       "      <td>1</td>\n",
       "      <td>0</td>\n",
       "      <td>0</td>\n",
       "      <td>0</td>\n",
       "      <td>0</td>\n",
       "      <td>0</td>\n",
       "      <td>0</td>\n",
       "      <td>0</td>\n",
       "      <td>0</td>\n",
       "      <td>0</td>\n",
       "      <td>...</td>\n",
       "      <td>Juneyao Airlines</td>\n",
       "      <td>1</td>\n",
       "      <td>0</td>\n",
       "      <td>1</td>\n",
       "      <td>2019-01-04</td>\n",
       "      <td>0.145669</td>\n",
       "      <td>06:35:00</td>\n",
       "      <td>6</td>\n",
       "      <td>Early Morning</td>\n",
       "      <td>Economy_Class</td>\n",
       "    </tr>\n",
       "  </tbody>\n",
       "</table>\n",
       "<p>5 rows × 43 columns</p>\n",
       "</div>"
      ],
      "text/plain": [
       "     Economy_Class  First_Class  Monday  Saturday  Sunday  Thursday  Tuesday  \\\n",
       "162              1            0       0         0       0         0        0   \n",
       "163              1            0       0         0       0         0        0   \n",
       "164              1            0       0         0       0         0        0   \n",
       "165              1            0       0         0       0         0        0   \n",
       "166              1            0       0         0       0         0        0   \n",
       "\n",
       "     Wednesday  China Eastern Airlines  China Southern Airlines  ...  \\\n",
       "162          0                       0                        0  ...   \n",
       "163          0                       0                        0  ...   \n",
       "164          0                       0                        0  ...   \n",
       "165          0                       0                        0  ...   \n",
       "166          0                       0                        0  ...   \n",
       "\n",
       "              airline  arrAirport_SHA  depAirport_SHA  holiday  \\\n",
       "162  Juneyao Airlines               1               0        1   \n",
       "163  Juneyao Airlines               1               0        1   \n",
       "164  Juneyao Airlines               1               0        1   \n",
       "165  Juneyao Airlines               1               0        1   \n",
       "166  Juneyao Airlines               1               0        1   \n",
       "\n",
       "     just_departureDate  exc_rateC-U  departureDate_tod  departureDate_hod  \\\n",
       "162          2019-01-04     0.145669           06:35:00                  6   \n",
       "163          2019-01-04     0.145669           06:35:00                  6   \n",
       "164          2019-01-04     0.145669           06:35:00                  6   \n",
       "165          2019-01-04     0.145669           06:35:00                  6   \n",
       "166          2019-01-04     0.145669           06:35:00                  6   \n",
       "\n",
       "     departureDate_pod  cabinClass_type  \n",
       "162      Early Morning    Economy_Class  \n",
       "163      Early Morning    Economy_Class  \n",
       "164      Early Morning    Economy_Class  \n",
       "165      Early Morning    Economy_Class  \n",
       "166      Early Morning    Economy_Class  \n",
       "\n",
       "[5 rows x 43 columns]"
      ]
     },
     "execution_count": 360,
     "metadata": {},
     "output_type": "execute_result"
    }
   ],
   "source": [
    "econ.head()"
   ]
  },
  {
   "cell_type": "code",
   "execution_count": 361,
   "metadata": {},
   "outputs": [
    {
     "ename": "SyntaxError",
     "evalue": "invalid syntax (<ipython-input-361-54fe650e0cde>, line 1)",
     "output_type": "error",
     "traceback": [
      "\u001b[0;36m  File \u001b[0;32m\"<ipython-input-361-54fe650e0cde>\"\u001b[0;36m, line \u001b[0;32m1\u001b[0m\n\u001b[0;31m    print(f'The avg ticket cost for economy class is {np.mean(econ['price'])}')\u001b[0m\n\u001b[0m                                                                        ^\u001b[0m\n\u001b[0;31mSyntaxError\u001b[0m\u001b[0;31m:\u001b[0m invalid syntax\n"
     ]
    }
   ],
   "source": [
    "print(f'The avg ticket cost for economy class is {np.mean(econ['price'])}') \n",
    "print(f'The avg ticket cost for business class is {np.mean(busi['price'])}')\n",
    "#print(f'The avg ticket cost for 1st class is {first['price'].mean()}')"
   ]
  },
  {
   "cell_type": "markdown",
   "metadata": {},
   "source": [
    "# gradient Boosting"
   ]
  },
  {
   "cell_type": "code",
   "execution_count": 337,
   "metadata": {},
   "outputs": [
    {
     "name": "stdout",
     "output_type": "stream",
     "text": [
      "the mean squared error for gradient boosting test data is 61892.146615223835\n",
      "the root mean squared error is:248.7813228826148\n",
      "The R^2 value is : 0.07323543403260846\n"
     ]
    }
   ],
   "source": [
    "# instantiate the model\n",
    "Ugdb = GradientBoostingRegressor()\n",
    "# fit the model to training data\n",
    "Ugdb.fit(X2U_train,y2U_train)\n",
    "\n",
    "# get predictions\n",
    "Ugdb_preds = Ugdb.predict(X2U_val)\n",
    "\n",
    "#get MeanSE\n",
    "Umse_gdb = mean_squared_error(Ugdb_preds,y2U_val)\n",
    "Urmse_gdb = np.sqrt(mean_squared_error(Ugdb_preds,y2U_val))\n",
    "\n",
    "print(f'the mean squared error for gradient boosting test data is {Umse_gdb}')\n",
    "print(f'the root mean squared error is:{Urmse_gdb}')\n",
    "print(f'The R^2 value is : {r2_score(y2U_val,Ugdb_preds)}')"
   ]
  },
  {
   "cell_type": "code",
   "execution_count": 338,
   "metadata": {},
   "outputs": [
    {
     "data": {
      "text/html": [
       "<div>\n",
       "<style scoped>\n",
       "    .dataframe tbody tr th:only-of-type {\n",
       "        vertical-align: middle;\n",
       "    }\n",
       "\n",
       "    .dataframe tbody tr th {\n",
       "        vertical-align: top;\n",
       "    }\n",
       "\n",
       "    .dataframe thead th {\n",
       "        text-align: right;\n",
       "    }\n",
       "</style>\n",
       "<table border=\"1\" class=\"dataframe\">\n",
       "  <thead>\n",
       "    <tr style=\"text-align: right;\">\n",
       "      <th></th>\n",
       "      <th>0</th>\n",
       "    </tr>\n",
       "  </thead>\n",
       "  <tbody>\n",
       "    <tr>\n",
       "      <th>Monday</th>\n",
       "      <td>0.019891</td>\n",
       "    </tr>\n",
       "    <tr>\n",
       "      <th>Saturday</th>\n",
       "      <td>0.065727</td>\n",
       "    </tr>\n",
       "    <tr>\n",
       "      <th>Sunday</th>\n",
       "      <td>0.014412</td>\n",
       "    </tr>\n",
       "    <tr>\n",
       "      <th>Thursday</th>\n",
       "      <td>0.002898</td>\n",
       "    </tr>\n",
       "    <tr>\n",
       "      <th>Tuesday</th>\n",
       "      <td>0.003146</td>\n",
       "    </tr>\n",
       "    <tr>\n",
       "      <th>Wednesday</th>\n",
       "      <td>0.000728</td>\n",
       "    </tr>\n",
       "    <tr>\n",
       "      <th>China Eastern Airlines</th>\n",
       "      <td>0.199945</td>\n",
       "    </tr>\n",
       "    <tr>\n",
       "      <th>China Southern Airlines</th>\n",
       "      <td>0.074707</td>\n",
       "    </tr>\n",
       "    <tr>\n",
       "      <th>Hainan Airlines</th>\n",
       "      <td>0.179607</td>\n",
       "    </tr>\n",
       "    <tr>\n",
       "      <th>Juneyao Airlines</th>\n",
       "      <td>0.152842</td>\n",
       "    </tr>\n",
       "    <tr>\n",
       "      <th>Shanghai Airlines</th>\n",
       "      <td>0.059811</td>\n",
       "    </tr>\n",
       "    <tr>\n",
       "      <th>Xiamen Air</th>\n",
       "      <td>0.042690</td>\n",
       "    </tr>\n",
       "    <tr>\n",
       "      <th>Eve</th>\n",
       "      <td>0.017251</td>\n",
       "    </tr>\n",
       "    <tr>\n",
       "      <th>Morning</th>\n",
       "      <td>0.000295</td>\n",
       "    </tr>\n",
       "    <tr>\n",
       "      <th>Night</th>\n",
       "      <td>0.028803</td>\n",
       "    </tr>\n",
       "    <tr>\n",
       "      <th>Noon</th>\n",
       "      <td>0.022985</td>\n",
       "    </tr>\n",
       "    <tr>\n",
       "      <th>dateDifference</th>\n",
       "      <td>0.098482</td>\n",
       "    </tr>\n",
       "    <tr>\n",
       "      <th>arrAirport_SHA</th>\n",
       "      <td>0.007647</td>\n",
       "    </tr>\n",
       "    <tr>\n",
       "      <th>depAirport_SHA</th>\n",
       "      <td>0.006577</td>\n",
       "    </tr>\n",
       "    <tr>\n",
       "      <th>holiday</th>\n",
       "      <td>0.001558</td>\n",
       "    </tr>\n",
       "  </tbody>\n",
       "</table>\n",
       "</div>"
      ],
      "text/plain": [
       "                                0\n",
       "Monday                   0.019891\n",
       "Saturday                 0.065727\n",
       "Sunday                   0.014412\n",
       "Thursday                 0.002898\n",
       "Tuesday                  0.003146\n",
       "Wednesday                0.000728\n",
       "China Eastern Airlines   0.199945\n",
       "China Southern Airlines  0.074707\n",
       "Hainan Airlines          0.179607\n",
       "Juneyao Airlines         0.152842\n",
       "Shanghai Airlines        0.059811\n",
       "Xiamen Air               0.042690\n",
       "Eve                      0.017251\n",
       "Morning                  0.000295\n",
       "Night                    0.028803\n",
       "Noon                     0.022985\n",
       "dateDifference           0.098482\n",
       "arrAirport_SHA           0.007647\n",
       "depAirport_SHA           0.006577\n",
       "holiday                  0.001558"
      ]
     },
     "execution_count": 338,
     "metadata": {},
     "output_type": "execute_result"
    }
   ],
   "source": [
    "pd.DataFrame(Ugdb.feature_importances_, index=X2U_train.columns)"
   ]
  },
  {
   "cell_type": "markdown",
   "metadata": {},
   "source": [
    "# AdaBoosting"
   ]
  },
  {
   "cell_type": "code",
   "execution_count": 339,
   "metadata": {},
   "outputs": [
    {
     "name": "stdout",
     "output_type": "stream",
     "text": [
      "The Mean squared error for the ada boost model is 66180.83567886094\n",
      "The Root Mean squared error for the ada boost model is 257.2563617850119\n",
      "The R^2 value is : 0.009017188649387498\n"
     ]
    }
   ],
   "source": [
    "# instantaite adaboost model\n",
    "Uada = AdaBoostRegressor()\n",
    "\n",
    "# fit the model to the train data\n",
    "Uada.fit(X2U_train,y2U_train)\n",
    "\n",
    "# get the prediction\n",
    "Uada_preds = Uada.predict(X2U_val)\n",
    "# get the MSE\n",
    "Umse_ada = mean_squared_error(y2U_val, Uada_preds)\n",
    "Urmse_ada = np.sqrt(mean_squared_error(y2U_val, Uada_preds))\n",
    "\n",
    "#print the mse\n",
    "print(f'The Mean squared error for the ada boost model is {Umse_ada}')\n",
    "print(f'The Root Mean squared error for the ada boost model is {Urmse_ada}')\n",
    "print(f'The R^2 value is : {r2_score(y2U_val,Uada_preds)}')"
   ]
  },
  {
   "cell_type": "code",
   "execution_count": 340,
   "metadata": {},
   "outputs": [
    {
     "data": {
      "text/html": [
       "<div>\n",
       "<style scoped>\n",
       "    .dataframe tbody tr th:only-of-type {\n",
       "        vertical-align: middle;\n",
       "    }\n",
       "\n",
       "    .dataframe tbody tr th {\n",
       "        vertical-align: top;\n",
       "    }\n",
       "\n",
       "    .dataframe thead th {\n",
       "        text-align: right;\n",
       "    }\n",
       "</style>\n",
       "<table border=\"1\" class=\"dataframe\">\n",
       "  <thead>\n",
       "    <tr style=\"text-align: right;\">\n",
       "      <th></th>\n",
       "      <th>0</th>\n",
       "    </tr>\n",
       "  </thead>\n",
       "  <tbody>\n",
       "    <tr>\n",
       "      <th>Monday</th>\n",
       "      <td>0.000000</td>\n",
       "    </tr>\n",
       "    <tr>\n",
       "      <th>Saturday</th>\n",
       "      <td>0.055967</td>\n",
       "    </tr>\n",
       "    <tr>\n",
       "      <th>Sunday</th>\n",
       "      <td>0.000022</td>\n",
       "    </tr>\n",
       "    <tr>\n",
       "      <th>Thursday</th>\n",
       "      <td>0.000000</td>\n",
       "    </tr>\n",
       "    <tr>\n",
       "      <th>Tuesday</th>\n",
       "      <td>0.000141</td>\n",
       "    </tr>\n",
       "    <tr>\n",
       "      <th>Wednesday</th>\n",
       "      <td>0.000000</td>\n",
       "    </tr>\n",
       "    <tr>\n",
       "      <th>China Eastern Airlines</th>\n",
       "      <td>0.196851</td>\n",
       "    </tr>\n",
       "    <tr>\n",
       "      <th>China Southern Airlines</th>\n",
       "      <td>0.131731</td>\n",
       "    </tr>\n",
       "    <tr>\n",
       "      <th>Hainan Airlines</th>\n",
       "      <td>0.181317</td>\n",
       "    </tr>\n",
       "    <tr>\n",
       "      <th>Juneyao Airlines</th>\n",
       "      <td>0.362988</td>\n",
       "    </tr>\n",
       "    <tr>\n",
       "      <th>Shanghai Airlines</th>\n",
       "      <td>0.000000</td>\n",
       "    </tr>\n",
       "    <tr>\n",
       "      <th>Xiamen Air</th>\n",
       "      <td>0.000000</td>\n",
       "    </tr>\n",
       "    <tr>\n",
       "      <th>Eve</th>\n",
       "      <td>0.000000</td>\n",
       "    </tr>\n",
       "    <tr>\n",
       "      <th>Morning</th>\n",
       "      <td>0.000000</td>\n",
       "    </tr>\n",
       "    <tr>\n",
       "      <th>Night</th>\n",
       "      <td>0.000030</td>\n",
       "    </tr>\n",
       "    <tr>\n",
       "      <th>Noon</th>\n",
       "      <td>0.000000</td>\n",
       "    </tr>\n",
       "    <tr>\n",
       "      <th>dateDifference</th>\n",
       "      <td>0.070928</td>\n",
       "    </tr>\n",
       "    <tr>\n",
       "      <th>arrAirport_SHA</th>\n",
       "      <td>0.000000</td>\n",
       "    </tr>\n",
       "    <tr>\n",
       "      <th>depAirport_SHA</th>\n",
       "      <td>0.000000</td>\n",
       "    </tr>\n",
       "    <tr>\n",
       "      <th>holiday</th>\n",
       "      <td>0.000026</td>\n",
       "    </tr>\n",
       "  </tbody>\n",
       "</table>\n",
       "</div>"
      ],
      "text/plain": [
       "                                0\n",
       "Monday                   0.000000\n",
       "Saturday                 0.055967\n",
       "Sunday                   0.000022\n",
       "Thursday                 0.000000\n",
       "Tuesday                  0.000141\n",
       "Wednesday                0.000000\n",
       "China Eastern Airlines   0.196851\n",
       "China Southern Airlines  0.131731\n",
       "Hainan Airlines          0.181317\n",
       "Juneyao Airlines         0.362988\n",
       "Shanghai Airlines        0.000000\n",
       "Xiamen Air               0.000000\n",
       "Eve                      0.000000\n",
       "Morning                  0.000000\n",
       "Night                    0.000030\n",
       "Noon                     0.000000\n",
       "dateDifference           0.070928\n",
       "arrAirport_SHA           0.000000\n",
       "depAirport_SHA           0.000000\n",
       "holiday                  0.000026"
      ]
     },
     "execution_count": 340,
     "metadata": {},
     "output_type": "execute_result"
    }
   ],
   "source": [
    "pd.DataFrame(Uada.feature_importances_, index=X2U_train.columns)"
   ]
  },
  {
   "cell_type": "code",
   "execution_count": null,
   "metadata": {},
   "outputs": [],
   "source": []
  },
  {
   "cell_type": "code",
   "execution_count": 341,
   "metadata": {},
   "outputs": [
    {
     "name": "stderr",
     "output_type": "stream",
     "text": [
      "//anaconda3/lib/python3.7/site-packages/sklearn/ensemble/forest.py:245: FutureWarning: The default value of n_estimators will change from 10 in version 0.20 to 100 in 0.22.\n",
      "  \"10 in version 0.20 to 100 in 0.22.\", FutureWarning)\n"
     ]
    },
    {
     "name": "stdout",
     "output_type": "stream",
     "text": [
      "The mean squared error for Random Forest Validation Data is: 61797.54230022787 \n",
      "The Root mean squared error for Random Forest Validation Data is: 248.59111468479293 \n",
      "The R^2 value is : 0.0746520261484217\n"
     ]
    }
   ],
   "source": [
    "# instantiate the model\n",
    "Urfr = RandomForestRegressor()\n",
    "\n",
    "# fit the model to training data\n",
    "Urfr.fit(X2U_train, y2U_train)\n",
    "\n",
    "# Get predictions\n",
    "Urfr_preds = Urfr.predict(X2U_val)\n",
    "\n",
    "# get MSE and RMSE for model\n",
    "Umse_rfr = mean_squared_error(y2U_val, Urfr_preds)\n",
    "Urmse_rfr = np.sqrt(mean_squared_error(y2U_val, Urfr_preds))\n",
    "# print Mse\n",
    "print(f'The mean squared error for Random Forest Validation Data is: {Umse_rfr} ')\n",
    "print(f'The Root mean squared error for Random Forest Validation Data is: {Urmse_rfr} ')\n",
    "print(f'The R^2 value is : {r2_score(y2U_val,Urfr_preds)}')"
   ]
  },
  {
   "cell_type": "code",
   "execution_count": 342,
   "metadata": {},
   "outputs": [
    {
     "data": {
      "text/html": [
       "<div>\n",
       "<style scoped>\n",
       "    .dataframe tbody tr th:only-of-type {\n",
       "        vertical-align: middle;\n",
       "    }\n",
       "\n",
       "    .dataframe tbody tr th {\n",
       "        vertical-align: top;\n",
       "    }\n",
       "\n",
       "    .dataframe thead th {\n",
       "        text-align: right;\n",
       "    }\n",
       "</style>\n",
       "<table border=\"1\" class=\"dataframe\">\n",
       "  <thead>\n",
       "    <tr style=\"text-align: right;\">\n",
       "      <th></th>\n",
       "      <th>0</th>\n",
       "    </tr>\n",
       "  </thead>\n",
       "  <tbody>\n",
       "    <tr>\n",
       "      <th>Monday</th>\n",
       "      <td>0.025619</td>\n",
       "    </tr>\n",
       "    <tr>\n",
       "      <th>Saturday</th>\n",
       "      <td>0.057906</td>\n",
       "    </tr>\n",
       "    <tr>\n",
       "      <th>Sunday</th>\n",
       "      <td>0.023943</td>\n",
       "    </tr>\n",
       "    <tr>\n",
       "      <th>Thursday</th>\n",
       "      <td>0.016012</td>\n",
       "    </tr>\n",
       "    <tr>\n",
       "      <th>Tuesday</th>\n",
       "      <td>0.019443</td>\n",
       "    </tr>\n",
       "    <tr>\n",
       "      <th>Wednesday</th>\n",
       "      <td>0.016627</td>\n",
       "    </tr>\n",
       "    <tr>\n",
       "      <th>China Eastern Airlines</th>\n",
       "      <td>0.076949</td>\n",
       "    </tr>\n",
       "    <tr>\n",
       "      <th>China Southern Airlines</th>\n",
       "      <td>0.078520</td>\n",
       "    </tr>\n",
       "    <tr>\n",
       "      <th>Hainan Airlines</th>\n",
       "      <td>0.134411</td>\n",
       "    </tr>\n",
       "    <tr>\n",
       "      <th>Juneyao Airlines</th>\n",
       "      <td>0.102154</td>\n",
       "    </tr>\n",
       "    <tr>\n",
       "      <th>Shanghai Airlines</th>\n",
       "      <td>0.082455</td>\n",
       "    </tr>\n",
       "    <tr>\n",
       "      <th>Xiamen Air</th>\n",
       "      <td>0.044985</td>\n",
       "    </tr>\n",
       "    <tr>\n",
       "      <th>Eve</th>\n",
       "      <td>0.025317</td>\n",
       "    </tr>\n",
       "    <tr>\n",
       "      <th>Morning</th>\n",
       "      <td>0.018408</td>\n",
       "    </tr>\n",
       "    <tr>\n",
       "      <th>Night</th>\n",
       "      <td>0.018155</td>\n",
       "    </tr>\n",
       "    <tr>\n",
       "      <th>Noon</th>\n",
       "      <td>0.025486</td>\n",
       "    </tr>\n",
       "    <tr>\n",
       "      <th>dateDifference</th>\n",
       "      <td>0.163504</td>\n",
       "    </tr>\n",
       "    <tr>\n",
       "      <th>arrAirport_SHA</th>\n",
       "      <td>0.028316</td>\n",
       "    </tr>\n",
       "    <tr>\n",
       "      <th>depAirport_SHA</th>\n",
       "      <td>0.017284</td>\n",
       "    </tr>\n",
       "    <tr>\n",
       "      <th>holiday</th>\n",
       "      <td>0.024504</td>\n",
       "    </tr>\n",
       "  </tbody>\n",
       "</table>\n",
       "</div>"
      ],
      "text/plain": [
       "                                0\n",
       "Monday                   0.025619\n",
       "Saturday                 0.057906\n",
       "Sunday                   0.023943\n",
       "Thursday                 0.016012\n",
       "Tuesday                  0.019443\n",
       "Wednesday                0.016627\n",
       "China Eastern Airlines   0.076949\n",
       "China Southern Airlines  0.078520\n",
       "Hainan Airlines          0.134411\n",
       "Juneyao Airlines         0.102154\n",
       "Shanghai Airlines        0.082455\n",
       "Xiamen Air               0.044985\n",
       "Eve                      0.025317\n",
       "Morning                  0.018408\n",
       "Night                    0.018155\n",
       "Noon                     0.025486\n",
       "dateDifference           0.163504\n",
       "arrAirport_SHA           0.028316\n",
       "depAirport_SHA           0.017284\n",
       "holiday                  0.024504"
      ]
     },
     "execution_count": 342,
     "metadata": {},
     "output_type": "execute_result"
    }
   ],
   "source": [
    "pd.DataFrame(Urfr.feature_importances_, index=X2U_train.columns)"
   ]
  },
  {
   "cell_type": "code",
   "execution_count": null,
   "metadata": {},
   "outputs": [],
   "source": []
  },
  {
   "cell_type": "code",
   "execution_count": null,
   "metadata": {},
   "outputs": [],
   "source": []
  },
  {
   "cell_type": "code",
   "execution_count": null,
   "metadata": {},
   "outputs": [],
   "source": []
  },
  {
   "cell_type": "code",
   "execution_count": null,
   "metadata": {},
   "outputs": [],
   "source": []
  },
  {
   "cell_type": "markdown",
   "metadata": {},
   "source": [
    "# More EDA"
   ]
  },
  {
   "cell_type": "code",
   "execution_count": null,
   "metadata": {},
   "outputs": [],
   "source": [
    "# Methodology slide needs more work\n",
    "# There is a lack of EDA.  Let us know how prices change based on price class, day of the week, time of day.\n",
    "# Also show us a rundown of all the features you use.\n",
    "#This will help you give more insights from the data.\n",
    "#More intro, look at distributions, tighten up your language around R^2 (variance explained), \n",
    "#talk about the feature importance other than just airlines\n"
   ]
  },
  {
   "cell_type": "code",
   "execution_count": 379,
   "metadata": {},
   "outputs": [],
   "source": [
    "# Look at the distirbutions of price across different classes"
   ]
  },
  {
   "cell_type": "code",
   "execution_count": 380,
   "metadata": {},
   "outputs": [
    {
     "data": {
      "text/html": [
       "<div>\n",
       "<style scoped>\n",
       "    .dataframe tbody tr th:only-of-type {\n",
       "        vertical-align: middle;\n",
       "    }\n",
       "\n",
       "    .dataframe tbody tr th {\n",
       "        vertical-align: top;\n",
       "    }\n",
       "\n",
       "    .dataframe thead th {\n",
       "        text-align: right;\n",
       "    }\n",
       "</style>\n",
       "<table border=\"1\" class=\"dataframe\">\n",
       "  <thead>\n",
       "    <tr style=\"text-align: right;\">\n",
       "      <th></th>\n",
       "      <th>Economy_Class</th>\n",
       "      <th>First_Class</th>\n",
       "      <th>Monday</th>\n",
       "      <th>Saturday</th>\n",
       "      <th>Sunday</th>\n",
       "      <th>Thursday</th>\n",
       "      <th>Tuesday</th>\n",
       "      <th>Wednesday</th>\n",
       "      <th>China Eastern Airlines</th>\n",
       "      <th>China Southern Airlines</th>\n",
       "      <th>...</th>\n",
       "      <th>dateDifference</th>\n",
       "      <th>departureDate_dofweek</th>\n",
       "      <th>arrivalDate_dofweek</th>\n",
       "      <th>createDate_dofweek</th>\n",
       "      <th>pricePaid</th>\n",
       "      <th>arrAirport_SHA</th>\n",
       "      <th>depAirport_SHA</th>\n",
       "      <th>holiday</th>\n",
       "      <th>exc_rateC-U</th>\n",
       "      <th>departureDate_hod</th>\n",
       "    </tr>\n",
       "  </thead>\n",
       "  <tbody>\n",
       "    <tr>\n",
       "      <th>0</th>\n",
       "      <td>0</td>\n",
       "      <td>0</td>\n",
       "      <td>0</td>\n",
       "      <td>0</td>\n",
       "      <td>0</td>\n",
       "      <td>0</td>\n",
       "      <td>0</td>\n",
       "      <td>0</td>\n",
       "      <td>0</td>\n",
       "      <td>0</td>\n",
       "      <td>...</td>\n",
       "      <td>1</td>\n",
       "      <td>4</td>\n",
       "      <td>4</td>\n",
       "      <td>3</td>\n",
       "      <td>270.943495</td>\n",
       "      <td>1</td>\n",
       "      <td>0</td>\n",
       "      <td>1</td>\n",
       "      <td>0.145669</td>\n",
       "      <td>6</td>\n",
       "    </tr>\n",
       "    <tr>\n",
       "      <th>1</th>\n",
       "      <td>0</td>\n",
       "      <td>0</td>\n",
       "      <td>0</td>\n",
       "      <td>0</td>\n",
       "      <td>0</td>\n",
       "      <td>0</td>\n",
       "      <td>0</td>\n",
       "      <td>0</td>\n",
       "      <td>1</td>\n",
       "      <td>0</td>\n",
       "      <td>...</td>\n",
       "      <td>1</td>\n",
       "      <td>4</td>\n",
       "      <td>4</td>\n",
       "      <td>3</td>\n",
       "      <td>74.057889</td>\n",
       "      <td>1</td>\n",
       "      <td>0</td>\n",
       "      <td>1</td>\n",
       "      <td>0.145669</td>\n",
       "      <td>7</td>\n",
       "    </tr>\n",
       "    <tr>\n",
       "      <th>2</th>\n",
       "      <td>0</td>\n",
       "      <td>0</td>\n",
       "      <td>0</td>\n",
       "      <td>0</td>\n",
       "      <td>0</td>\n",
       "      <td>0</td>\n",
       "      <td>0</td>\n",
       "      <td>0</td>\n",
       "      <td>1</td>\n",
       "      <td>0</td>\n",
       "      <td>...</td>\n",
       "      <td>1</td>\n",
       "      <td>4</td>\n",
       "      <td>4</td>\n",
       "      <td>3</td>\n",
       "      <td>780.783405</td>\n",
       "      <td>1</td>\n",
       "      <td>0</td>\n",
       "      <td>1</td>\n",
       "      <td>0.145669</td>\n",
       "      <td>7</td>\n",
       "    </tr>\n",
       "    <tr>\n",
       "      <th>3</th>\n",
       "      <td>0</td>\n",
       "      <td>0</td>\n",
       "      <td>0</td>\n",
       "      <td>0</td>\n",
       "      <td>0</td>\n",
       "      <td>0</td>\n",
       "      <td>0</td>\n",
       "      <td>0</td>\n",
       "      <td>0</td>\n",
       "      <td>0</td>\n",
       "      <td>...</td>\n",
       "      <td>1</td>\n",
       "      <td>4</td>\n",
       "      <td>4</td>\n",
       "      <td>3</td>\n",
       "      <td>69.068741</td>\n",
       "      <td>1</td>\n",
       "      <td>0</td>\n",
       "      <td>1</td>\n",
       "      <td>0.145669</td>\n",
       "      <td>7</td>\n",
       "    </tr>\n",
       "    <tr>\n",
       "      <th>4</th>\n",
       "      <td>0</td>\n",
       "      <td>0</td>\n",
       "      <td>0</td>\n",
       "      <td>0</td>\n",
       "      <td>0</td>\n",
       "      <td>0</td>\n",
       "      <td>0</td>\n",
       "      <td>0</td>\n",
       "      <td>0</td>\n",
       "      <td>0</td>\n",
       "      <td>...</td>\n",
       "      <td>1</td>\n",
       "      <td>4</td>\n",
       "      <td>4</td>\n",
       "      <td>3</td>\n",
       "      <td>69.279960</td>\n",
       "      <td>1</td>\n",
       "      <td>0</td>\n",
       "      <td>1</td>\n",
       "      <td>0.145669</td>\n",
       "      <td>7</td>\n",
       "    </tr>\n",
       "  </tbody>\n",
       "</table>\n",
       "<p>5 rows × 32 columns</p>\n",
       "</div>"
      ],
      "text/plain": [
       "   Economy_Class  First_Class  Monday  Saturday  Sunday  Thursday  Tuesday  \\\n",
       "0              0            0       0         0       0         0        0   \n",
       "1              0            0       0         0       0         0        0   \n",
       "2              0            0       0         0       0         0        0   \n",
       "3              0            0       0         0       0         0        0   \n",
       "4              0            0       0         0       0         0        0   \n",
       "\n",
       "   Wednesday  China Eastern Airlines  China Southern Airlines  ...  \\\n",
       "0          0                       0                        0  ...   \n",
       "1          0                       1                        0  ...   \n",
       "2          0                       1                        0  ...   \n",
       "3          0                       0                        0  ...   \n",
       "4          0                       0                        0  ...   \n",
       "\n",
       "   dateDifference  departureDate_dofweek  arrivalDate_dofweek  \\\n",
       "0               1                      4                    4   \n",
       "1               1                      4                    4   \n",
       "2               1                      4                    4   \n",
       "3               1                      4                    4   \n",
       "4               1                      4                    4   \n",
       "\n",
       "   createDate_dofweek   pricePaid  arrAirport_SHA  depAirport_SHA  holiday  \\\n",
       "0                   3  270.943495               1               0        1   \n",
       "1                   3   74.057889               1               0        1   \n",
       "2                   3  780.783405               1               0        1   \n",
       "3                   3   69.068741               1               0        1   \n",
       "4                   3   69.279960               1               0        1   \n",
       "\n",
       "   exc_rateC-U  departureDate_hod  \n",
       "0     0.145669                  6  \n",
       "1     0.145669                  7  \n",
       "2     0.145669                  7  \n",
       "3     0.145669                  7  \n",
       "4     0.145669                  7  \n",
       "\n",
       "[5 rows x 32 columns]"
      ]
     },
     "execution_count": 380,
     "metadata": {},
     "output_type": "execute_result"
    }
   ],
   "source": [
    "no_out_df.head()"
   ]
  },
  {
   "cell_type": "code",
   "execution_count": 381,
   "metadata": {},
   "outputs": [
    {
     "data": {
      "text/plain": [
       "<matplotlib.axes._subplots.AxesSubplot at 0x194a52748>"
      ]
     },
     "execution_count": 381,
     "metadata": {},
     "output_type": "execute_result"
    },
    {
     "data": {
      "image/png": "[encoded data removed]",
      "text/plain": [
       "<Figure size 432x288 with 1 Axes>"
      ]
     },
     "metadata": {
      "needs_background": "light"
     },
     "output_type": "display_data"
    }
   ],
   "source": [
    "# Look at histogram of the price of the whole dataset\n",
    "\n",
    "no_out_df['price'].hist()"
   ]
  },
  {
   "cell_type": "code",
   "execution_count": 382,
   "metadata": {},
   "outputs": [],
   "source": [
    "econ_class = no_out_df[no_out_df['cabinClass']==0]\n",
    "busi_class = no_out_df[no_out_df['cabinClass']==1]\n",
    "first_class = no_out_df[no_out_df['cabinClass']==2] "
   ]
  },
  {
   "cell_type": "code",
   "execution_count": null,
   "metadata": {},
   "outputs": [],
   "source": []
  },
  {
   "cell_type": "code",
   "execution_count": 385,
   "metadata": {},
   "outputs": [
    {
     "data": {
      "text/plain": [
       "<matplotlib.axes._subplots.AxesSubplot at 0x1a907d710>"
      ]
     },
     "execution_count": 385,
     "metadata": {},
     "output_type": "execute_result"
    },
    {
     "data": {
      "image/png": "[encoded data removed]",
      "text/plain": [
       "<Figure size 432x288 with 1 Axes>"
      ]
     },
     "metadata": {
      "needs_background": "light"
     },
     "output_type": "display_data"
    }
   ],
   "source": [
    "busi_class.price.hist()"
   ]
  },
  {
   "cell_type": "code",
   "execution_count": 402,
   "metadata": {},
   "outputs": [
    {
     "data": {
      "text/plain": [
       "<matplotlib.axes._subplots.AxesSubplot at 0x1d6685fd0>"
      ]
     },
     "execution_count": 402,
     "metadata": {},
     "output_type": "execute_result"
    },
    {
     "data": {
      "image/png": "[encoded data removed]",
      "text/plain": [
       "<Figure size 432x288 with 1 Axes>"
      ]
     },
     "metadata": {
      "needs_background": "light"
     },
     "output_type": "display_data"
    }
   ],
   "source": [
    "econ_class.price.hist(alpha=.4)"
   ]
  },
  {
   "cell_type": "code",
   "execution_count": 423,
   "metadata": {},
   "outputs": [
    {
     "data": {
      "image/png": "[encoded data removed]",
      "text/plain": [
       "<Figure size 432x288 with 1 Axes>"
      ]
     },
     "metadata": {
      "needs_background": "light"
     },
     "output_type": "display_data"
    }
   ],
   "source": [
    "sns.kdeplot(econ_class.price, shade=True, label='Economy' );\n",
    "sns.kdeplot(busi_class.price, shade=True, label = 'Business' );\n",
    "sns.kdeplot(first_class.price, shade=True, label = 'First Class' );\n",
    "plt.legend(loc='lower right', bbox_to_anchor=[1,-.35]);\n",
    "plt.title('Price Distribution By Cabin Class');\n",
    "plt.xlabel('Price in Dollars');\n",
    "plt.ylabel('Probability');"
   ]
  },
  {
   "cell_type": "code",
   "execution_count": 428,
   "metadata": {},
   "outputs": [
    {
     "data": {
      "text/plain": [
       "167.2552006789973"
      ]
     },
     "execution_count": 428,
     "metadata": {},
     "output_type": "execute_result"
    }
   ],
   "source": [
    "econ_class.price.mean()"
   ]
  },
  {
   "cell_type": "code",
   "execution_count": 424,
   "metadata": {},
   "outputs": [
    {
     "data": {
      "text/plain": [
       "577.3104680826634"
      ]
     },
     "execution_count": 424,
     "metadata": {},
     "output_type": "execute_result"
    }
   ],
   "source": [
    "busi_class.price.mean()"
   ]
  },
  {
   "cell_type": "code",
   "execution_count": 426,
   "metadata": {},
   "outputs": [
    {
     "data": {
      "text/plain": [
       "688.0219574208126"
      ]
     },
     "execution_count": 426,
     "metadata": {},
     "output_type": "execute_result"
    }
   ],
   "source": [
    "first_class.price.mean()"
   ]
  },
  {
   "cell_type": "code",
   "execution_count": 436,
   "metadata": {},
   "outputs": [
    {
     "data": {
      "text/plain": [
       "Text(0, 0.5, 'Number of Tickets Sold')"
      ]
     },
     "execution_count": 436,
     "metadata": {},
     "output_type": "execute_result"
    },
    {
     "data": {
      "image/png": "[encoded data removed]",
      "text/plain": [
       "<Figure size 432x288 with 1 Axes>"
      ]
     },
     "metadata": {
      "needs_background": "light"
     },
     "output_type": "display_data"
    }
   ],
   "source": [
    "plt.hist(econ_class.price,alpha=0.5)\n",
    "plt.hist(busi_class.price,alpha=0.9)\n",
    "plt.hist(first_class.price,alpha=0.5)\n",
    "plt.title('Price Distributions by Cabin Class')\n",
    "plt.xlabel('Price in Dollars')\n",
    "plt.ylabel('Number of Tickets Sold')\n"
   ]
  },
  {
   "cell_type": "code",
   "execution_count": 439,
   "metadata": {},
   "outputs": [],
   "source": [
    "cece = df.groupby('cabinClass').agg({'price':'mean'}).reset_index()"
   ]
  },
  {
   "cell_type": "code",
   "execution_count": 440,
   "metadata": {},
   "outputs": [
    {
     "data": {
      "text/plain": [
       "{0: 'Economy_Class', 1: 'Bussiness_Class', 2: 'First_Class'}"
      ]
     },
     "execution_count": 440,
     "metadata": {},
     "output_type": "execute_result"
    }
   ],
   "source": [
    "cabin_key"
   ]
  },
  {
   "cell_type": "code",
   "execution_count": 441,
   "metadata": {},
   "outputs": [],
   "source": [
    "cece['cabinClass'] = [cabin_key[i] for i in cece.cabinClass]"
   ]
  },
  {
   "cell_type": "code",
   "execution_count": 442,
   "metadata": {},
   "outputs": [
    {
     "data": {
      "text/html": [
       "<div>\n",
       "<style scoped>\n",
       "    .dataframe tbody tr th:only-of-type {\n",
       "        vertical-align: middle;\n",
       "    }\n",
       "\n",
       "    .dataframe tbody tr th {\n",
       "        vertical-align: top;\n",
       "    }\n",
       "\n",
       "    .dataframe thead th {\n",
       "        text-align: right;\n",
       "    }\n",
       "</style>\n",
       "<table border=\"1\" class=\"dataframe\">\n",
       "  <thead>\n",
       "    <tr style=\"text-align: right;\">\n",
       "      <th></th>\n",
       "      <th>cabinClass</th>\n",
       "      <th>price</th>\n",
       "    </tr>\n",
       "  </thead>\n",
       "  <tbody>\n",
       "    <tr>\n",
       "      <th>0</th>\n",
       "      <td>Economy_Class</td>\n",
       "      <td>167.255201</td>\n",
       "    </tr>\n",
       "    <tr>\n",
       "      <th>1</th>\n",
       "      <td>Bussiness_Class</td>\n",
       "      <td>577.310468</td>\n",
       "    </tr>\n",
       "    <tr>\n",
       "      <th>2</th>\n",
       "      <td>First_Class</td>\n",
       "      <td>688.021957</td>\n",
       "    </tr>\n",
       "  </tbody>\n",
       "</table>\n",
       "</div>"
      ],
      "text/plain": [
       "        cabinClass       price\n",
       "0    Economy_Class  167.255201\n",
       "1  Bussiness_Class  577.310468\n",
       "2      First_Class  688.021957"
      ]
     },
     "execution_count": 442,
     "metadata": {},
     "output_type": "execute_result"
    }
   ],
   "source": [
    "cece"
   ]
  },
  {
   "cell_type": "code",
   "execution_count": 450,
   "metadata": {},
   "outputs": [
    {
     "data": {
      "image/png": "[encoded data removed]",
      "text/plain": [
       "<Figure size 432x288 with 1 Axes>"
      ]
     },
     "metadata": {
      "needs_background": "light"
     },
     "output_type": "display_data"
    }
   ],
   "source": [
    "sns.barplot(x=cece['cabinClass'],y=cece['price']);\n",
    "plt.ylabel('Price');\n",
    "plt.xlabel('Cabin Class')\n",
    "plt.title('Average Ticket Price by Cabin Class');"
   ]
  },
  {
   "cell_type": "code",
   "execution_count": 455,
   "metadata": {},
   "outputs": [],
   "source": [
    "dede = df.groupby(['cabinClass','departureDate_dofweek']).agg({'price':'mean'}).reset_index()"
   ]
  },
  {
   "cell_type": "code",
   "execution_count": 454,
   "metadata": {},
   "outputs": [
    {
     "data": {
      "text/plain": [
       "{0: 'Monday',\n",
       " 1: 'Tuesday',\n",
       " 2: 'Wednesday',\n",
       " 3: 'Thursday',\n",
       " 4: 'Friday',\n",
       " 5: 'Saturday',\n",
       " 6: 'Sunday'}"
      ]
     },
     "execution_count": 454,
     "metadata": {},
     "output_type": "execute_result"
    }
   ],
   "source": [
    "weekdays_dict"
   ]
  },
  {
   "cell_type": "code",
   "execution_count": null,
   "metadata": {},
   "outputs": [],
   "source": []
  },
  {
   "cell_type": "code",
   "execution_count": 457,
   "metadata": {},
   "outputs": [],
   "source": [
    "dede['departureDate_dofweek'] = [weekdays_dict[i] for i in dede.departureDate_dofweek]"
   ]
  },
  {
   "cell_type": "code",
   "execution_count": 458,
   "metadata": {},
   "outputs": [
    {
     "data": {
      "text/html": [
       "<div>\n",
       "<style scoped>\n",
       "    .dataframe tbody tr th:only-of-type {\n",
       "        vertical-align: middle;\n",
       "    }\n",
       "\n",
       "    .dataframe tbody tr th {\n",
       "        vertical-align: top;\n",
       "    }\n",
       "\n",
       "    .dataframe thead th {\n",
       "        text-align: right;\n",
       "    }\n",
       "</style>\n",
       "<table border=\"1\" class=\"dataframe\">\n",
       "  <thead>\n",
       "    <tr style=\"text-align: right;\">\n",
       "      <th></th>\n",
       "      <th>cabinClass</th>\n",
       "      <th>departureDate_dofweek</th>\n",
       "      <th>price</th>\n",
       "    </tr>\n",
       "  </thead>\n",
       "  <tbody>\n",
       "    <tr>\n",
       "      <th>0</th>\n",
       "      <td>0</td>\n",
       "      <td>Monday</td>\n",
       "      <td>156.333617</td>\n",
       "    </tr>\n",
       "    <tr>\n",
       "      <th>1</th>\n",
       "      <td>0</td>\n",
       "      <td>Tuesday</td>\n",
       "      <td>169.557875</td>\n",
       "    </tr>\n",
       "    <tr>\n",
       "      <th>2</th>\n",
       "      <td>0</td>\n",
       "      <td>Wednesday</td>\n",
       "      <td>179.243534</td>\n",
       "    </tr>\n",
       "    <tr>\n",
       "      <th>3</th>\n",
       "      <td>0</td>\n",
       "      <td>Thursday</td>\n",
       "      <td>181.057136</td>\n",
       "    </tr>\n",
       "    <tr>\n",
       "      <th>4</th>\n",
       "      <td>0</td>\n",
       "      <td>Friday</td>\n",
       "      <td>181.520052</td>\n",
       "    </tr>\n",
       "  </tbody>\n",
       "</table>\n",
       "</div>"
      ],
      "text/plain": [
       "   cabinClass departureDate_dofweek       price\n",
       "0           0                Monday  156.333617\n",
       "1           0               Tuesday  169.557875\n",
       "2           0             Wednesday  179.243534\n",
       "3           0              Thursday  181.057136\n",
       "4           0                Friday  181.520052"
      ]
     },
     "execution_count": 458,
     "metadata": {},
     "output_type": "execute_result"
    }
   ],
   "source": [
    "dede.head()"
   ]
  },
  {
   "cell_type": "code",
   "execution_count": 484,
   "metadata": {},
   "outputs": [
    {
     "data": {
      "text/plain": [
       "{0: 'Economy_Class', 1: 'Bussiness_Class', 2: 'First_Class'}"
      ]
     },
     "execution_count": 484,
     "metadata": {},
     "output_type": "execute_result"
    }
   ],
   "source": [
    "cabin_key"
   ]
  },
  {
   "cell_type": "code",
   "execution_count": 486,
   "metadata": {},
   "outputs": [],
   "source": [
    "dede['cabinClass'] = [cabin_key[i] for i in dede.cabinClass]"
   ]
  },
  {
   "cell_type": "code",
   "execution_count": 494,
   "metadata": {},
   "outputs": [
    {
     "data": {
      "image/png": "[encoded data removed]",
      "text/plain": [
       "<Figure size 432x288 with 1 Axes>"
      ]
     },
     "metadata": {
      "needs_background": "light"
     },
     "output_type": "display_data"
    }
   ],
   "source": [
    "sns.scatterplot(x=dede['departureDate_dofweek'],y=dede['price'], hue=dede['cabinClass']);\n",
    "plt.legend(bbox_to_anchor=[-.05,-.65],loc='lower left');\n",
    "plt.xticks(rotation=45);\n",
    "plt.xlabel('Days of the Week');\n",
    "plt.ylabel('Price');\n",
    "plt.title('Average Ticket Price by Day of Week');"
   ]
  },
  {
   "cell_type": "code",
   "execution_count": null,
   "metadata": {},
   "outputs": [],
   "source": []
  }
 ],
 "metadata": {
  "kernelspec": {
   "display_name": "Python 3",
   "language": "python",
   "name": "python3"
  },
  "language_info": {
   "codemirror_mode": {
    "name": "ipython",
    "version": 3
   },
   "file_extension": ".py",
   "mimetype": "text/x-python",
   "name": "python",
   "nbconvert_exporter": "python",
   "pygments_lexer": "ipython3",
   "version": "3.7.3"
  }
 },
 "nbformat": 4,
 "nbformat_minor": 4
}
